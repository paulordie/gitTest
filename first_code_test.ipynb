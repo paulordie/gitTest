{
  "nbformat": 4,
  "nbformat_minor": 0,
  "metadata": {
    "colab": {
      "name": "first-code-test.ipynb",
      "provenance": [],
      "collapsed_sections": [],
      "authorship_tag": "ABX9TyPbJ//lPdhCdy0sUJqhMzmb",
      "include_colab_link": true
    },
    "kernelspec": {
      "name": "python3",
      "display_name": "Python 3"
    },
    "accelerator": "GPU"
  },
  "cells": [
    {
      "cell_type": "markdown",
      "metadata": {
        "id": "view-in-github",
        "colab_type": "text"
      },
      "source": [
        "<a href=\"https://colab.research.google.com/github/paulordie/gitTest/blob/main/first_code_test.ipynb\" target=\"_parent\"><img src=\"https://colab.research.google.com/assets/colab-badge.svg\" alt=\"Open In Colab\"/></a>"
      ]
    },
    {
      "cell_type": "markdown",
      "metadata": {
        "id": "ZoOX7aiYziwe"
      },
      "source": [
        "#**Inicial**\n",
        "##*inicial* **bold text**\n"
      ]
    },
    {
      "cell_type": "code",
      "metadata": {
        "id": "KIqL1CpLpHd5",
        "outputId": "1e5bb54a-db41-4a02-fbc4-0d265502aaef",
        "colab": {
          "base_uri": "https://localhost:8080/"
        }
      },
      "source": [
        "import time\n",
        "print(time.ctime())"
      ],
      "execution_count": 1,
      "outputs": [
        {
          "output_type": "stream",
          "text": [
            "Sat Nov  7 14:21:20 2020\n"
          ],
          "name": "stdout"
        }
      ]
    },
    {
      "cell_type": "code",
      "metadata": {
        "id": "AfuVDfs7qRH_",
        "outputId": "c7ed0d6b-3c4d-4941-bc80-474a0e0a415a",
        "colab": {
          "base_uri": "https://localhost:8080/"
        }
      },
      "source": [
        "print(\"test\")\n",
        "i = 0\n",
        "while (i < 5): #exemplo de rotina que vai ocorrer 5 vezes a cada 1 segundo podendo mudar no sleep(<number>)\n",
        "  print(\"Uma função executando aqui como exemplo\")\n",
        "  time.sleep(1)\n",
        "  i = i + 1\n",
        "  print(i)\n",
        "print(time.ctime())"
      ],
      "execution_count": 2,
      "outputs": [
        {
          "output_type": "stream",
          "text": [
            "test\n",
            "Uma função executando aqui como exemplo\n",
            "1\n",
            "Uma função executando aqui como exemplo\n",
            "2\n",
            "Uma função executando aqui como exemplo\n",
            "3\n",
            "Uma função executando aqui como exemplo\n",
            "4\n",
            "Uma função executando aqui como exemplo\n",
            "5\n",
            "Sat Nov  7 14:21:26 2020\n"
          ],
          "name": "stdout"
        }
      ]
    },
    {
      "cell_type": "code",
      "metadata": {
        "id": "ZBjbKRJstK7K"
      },
      "source": [
        "def func():\n",
        "  pass"
      ],
      "execution_count": 3,
      "outputs": []
    },
    {
      "cell_type": "markdown",
      "metadata": {
        "id": "EZ8UMGWF1AYp"
      },
      "source": [
        "\n",
        "$\\sqrt{3x-1}+{1+x)^2$\n",
        "```\n",
        "# This is formatted as code\n",
        "$\\sqrt{3x-1}+{1+x)^2$\n",
        "```\n",
        "\n",
        " $\\text{out}_{i} = \\cos(\\text{input}_{i})$\n",
        "\n",
        "$e^x=\\sum_{i=0}^\\infty \\frac{1}{i!}x^î$\n",
        "\n",
        "\n"
      ]
    },
    {
      "cell_type": "code",
      "metadata": {
        "id": "lkP4ZBaf0iUj"
      },
      "source": [
        "import numpy as np\n",
        "import math\n",
        "import re\n",
        "import pandas as pd\n",
        "from bs4 import BeautifulSoup\n",
        "from google.colab import drive\n",
        "import zipfile\n",
        "import seaborn as sns\n",
        "import spacy as sp\n",
        "import string\n",
        "import random\n",
        "import matplotlib.pyplot as plt"
      ],
      "execution_count": 6,
      "outputs": []
    },
    {
      "cell_type": "code",
      "metadata": {
        "id": "Wevf8WqE_JWx",
        "outputId": "1f2f48da-42b4-415b-9ebc-767e0c63a7ec",
        "colab": {
          "base_uri": "https://localhost:8080/"
        }
      },
      "source": [
        "from google.colab import drive\n",
        "drive.mount('/content/drive')"
      ],
      "execution_count": 7,
      "outputs": [
        {
          "output_type": "stream",
          "text": [
            "Drive already mounted at /content/drive; to attempt to forcibly remount, call drive.mount(\"/content/drive\", force_remount=True).\n"
          ],
          "name": "stdout"
        }
      ]
    },
    {
      "cell_type": "code",
      "metadata": {
        "id": "gIN-z9qh_Yil",
        "outputId": "f713221d-33e1-42c9-ce69-79ea5152048d",
        "colab": {
          "base_uri": "https://localhost:8080/",
          "height": 532
        }
      },
      "source": [
        "cols = ['title','reviewId', 'restaurantId','author','reviewBody','language','mobileDevice','userLocation','publicationDate','visitDate','ratingValue','itemReviewed','address','addressLocality','addressRegion','postalCode','country','website','email','phoneNumber','averageRating']\n",
        "train_data = pd.read_csv('/content/drive/My Drive/pc-dataset-v2.csv', names= cols, engine = 'python', delimiter='\",\"', skiprows=0)\n",
        "\n",
        "train_data.head()"
      ],
      "execution_count": 8,
      "outputs": [
        {
          "output_type": "execute_result",
          "data": {
            "text/html": [
              "<div>\n",
              "<style scoped>\n",
              "    .dataframe tbody tr th:only-of-type {\n",
              "        vertical-align: middle;\n",
              "    }\n",
              "\n",
              "    .dataframe tbody tr th {\n",
              "        vertical-align: top;\n",
              "    }\n",
              "\n",
              "    .dataframe thead th {\n",
              "        text-align: right;\n",
              "    }\n",
              "</style>\n",
              "<table border=\"1\" class=\"dataframe\">\n",
              "  <thead>\n",
              "    <tr style=\"text-align: right;\">\n",
              "      <th></th>\n",
              "      <th>title</th>\n",
              "      <th>reviewId</th>\n",
              "      <th>restaurantId</th>\n",
              "      <th>author</th>\n",
              "      <th>reviewBody</th>\n",
              "      <th>language</th>\n",
              "      <th>mobileDevice</th>\n",
              "      <th>userLocation</th>\n",
              "      <th>publicationDate</th>\n",
              "      <th>visitDate</th>\n",
              "      <th>ratingValue</th>\n",
              "      <th>itemReviewed</th>\n",
              "      <th>address</th>\n",
              "      <th>addressLocality</th>\n",
              "      <th>addressRegion</th>\n",
              "      <th>postalCode</th>\n",
              "      <th>country</th>\n",
              "      <th>website</th>\n",
              "      <th>email</th>\n",
              "      <th>phoneNumber</th>\n",
              "      <th>averageRating</th>\n",
              "    </tr>\n",
              "  </thead>\n",
              "  <tbody>\n",
              "    <tr>\n",
              "      <th>0</th>\n",
              "      <td>{\"title\":\"Jantar</td>\n",
              "      <td>reviewId\":\"692856288</td>\n",
              "      <td>restaurantId\":\"2344932</td>\n",
              "      <td>author\":\"larinhavercosa222</td>\n",
              "      <td>Comida maravilhosa, lugar do verdadeiro chicle...</td>\n",
              "      <td>language\":\"pt</td>\n",
              "      <td>True</td>\n",
              "      <td>userLocation\":\"São Carlos, SP</td>\n",
              "      <td>publicationDate\":\"26/07/2019</td>\n",
              "      <td>visitDate\":\"07/2019</td>\n",
              "      <td>ratingValue\":\"5</td>\n",
              "      <td>itemReviewed\":{\"name\":\"Imperador dos Camar\\u00...</td>\n",
              "      <td>address\":{\"streetAddress\":\"Avenida Doutor Ant\\...</td>\n",
              "      <td>addressLocality\":\"</td>\n",
              "      <td>addressRegion\":\"Alagoas</td>\n",
              "      <td>postalCode\":\"57030-170</td>\n",
              "      <td>country\":\"Brasil\"}</td>\n",
              "      <td>website\":\"http://www.imperadordoscamaroes.com.br</td>\n",
              "      <td>email\":\"contato@imperadordoscamaroes.com.br</td>\n",
              "      <td>phoneNumber\":\"+55 82 3231-4134</td>\n",
              "      <td>4.5</td>\n",
              "    </tr>\n",
              "    <tr>\n",
              "      <th>1</th>\n",
              "      <td>{\"title\":\"Uma boa experi\\u00EAncia.</td>\n",
              "      <td>reviewId\":\"229208487</td>\n",
              "      <td>restaurantId\":\"3720906</td>\n",
              "      <td>author\":\"Pano P</td>\n",
              "      <td>Comida boa, drinks legais e um ambiente bem ac...</td>\n",
              "      <td>language\":\"pt</td>\n",
              "      <td>True</td>\n",
              "      <td>userLocation\":\"Manaus, AM</td>\n",
              "      <td>publicationDate\":\"16/09/2014</td>\n",
              "      <td>visitDate\":\"None</td>\n",
              "      <td>ratingValue\":\"4</td>\n",
              "      <td>itemReviewed\":{\"name\":\"Guacamole Natal</td>\n",
              "      <td>address\":{\"streetAddress\":\"Avenida Praia de Po...</td>\n",
              "      <td>addressLocality\":\"</td>\n",
              "      <td>addressRegion\":\"Rio Grande do Norte</td>\n",
              "      <td>postalCode\":\"59092-100</td>\n",
              "      <td>country\":\"Brasil\"}</td>\n",
              "      <td>website\":\"http://www.facebook.com/GuacamoleNatal</td>\n",
              "      <td>email\":\"guacamolenatal@gmail.com</td>\n",
              "      <td>phoneNumber\":\"+55 84 3219-3646</td>\n",
              "      <td>4.5</td>\n",
              "    </tr>\n",
              "    <tr>\n",
              "      <th>2</th>\n",
              "      <td>{\"title\":\"Otimo self service</td>\n",
              "      <td>reviewId\":\"679002332</td>\n",
              "      <td>restaurantId\":\"2248105</td>\n",
              "      <td>author\":\"Magma100</td>\n",
              "      <td>Excelente pra ir com a fam\\u00EDlia! \\u00D3tim...</td>\n",
              "      <td>language\":\"pt</td>\n",
              "      <td>True</td>\n",
              "      <td>userLocation\":\"Goiânia, GO</td>\n",
              "      <td>publicationDate\":\"04/06/2019</td>\n",
              "      <td>visitDate\":\"07/2018</td>\n",
              "      <td>ratingValue\":\"4</td>\n",
              "      <td>itemReviewed\":{\"name\":\"Chica Pitanga</td>\n",
              "      <td>address\":{\"streetAddress\":\"Rua Petrolina 19</td>\n",
              "      <td>addressLocality\":\"Recife</td>\n",
              "      <td>addressRegion\":\"Pernambuco</td>\n",
              "      <td>postalCode\":\"51021-250</td>\n",
              "      <td>country\":\"Brasil\"}</td>\n",
              "      <td>website\":\"http://www.chicapitanga.com.br</td>\n",
              "      <td>email\":\"chicapitanga@chicapitanga.com.br</td>\n",
              "      <td>phoneNumber\":\"+55 81 3334-8260</td>\n",
              "      <td>4.5</td>\n",
              "    </tr>\n",
              "    <tr>\n",
              "      <th>3</th>\n",
              "      <td>{\"title\":\"O sorvete mais tradicional do estado</td>\n",
              "      <td>reviewId\":\"355671519</td>\n",
              "      <td>restaurantId\":\"8168302</td>\n",
              "      <td>author\":\"Yurie M</td>\n",
              "      <td>Tomo sorvete na Visabor faz mais de 30 anos. S...</td>\n",
              "      <td>language\":\"pt</td>\n",
              "      <td>False</td>\n",
              "      <td>userLocation\":\"Aracaju, SE</td>\n",
              "      <td>publicationDate\":\"15/03/2016</td>\n",
              "      <td>visitDate\":\"01/2016</td>\n",
              "      <td>ratingValue\":\"5</td>\n",
              "      <td>itemReviewed\":{\"name\":\"Sorvetes Vi Sabor</td>\n",
              "      <td>address\":{\"streetAddress\":\"Avenida Francisco P...</td>\n",
              "      <td>addressLocality\":\"Aracaju</td>\n",
              "      <td>addressRegion\":\"Sergipe</td>\n",
              "      <td>postalCode\":\"</td>\n",
              "      <td>country\":\"Brasil\"}</td>\n",
              "      <td>website\":\"None</td>\n",
              "      <td>email\":\"None</td>\n",
              "      <td>phoneNumber\":\"None</td>\n",
              "      <td>4.0</td>\n",
              "    </tr>\n",
              "    <tr>\n",
              "      <th>4</th>\n",
              "      <td>{\"title\":\"Melhor hamburger!</td>\n",
              "      <td>reviewId\":\"268741921</td>\n",
              "      <td>restaurantId\":\"5395141</td>\n",
              "      <td>author\":\"Debora_C85</td>\n",
              "      <td>O melhor hamburger que j\\u00E1 comi! Excelente...</td>\n",
              "      <td>language\":\"pt</td>\n",
              "      <td>False</td>\n",
              "      <td>userLocation\":\"Rio de Janeiro, RJ</td>\n",
              "      <td>publicationDate\":\"28/04/2015</td>\n",
              "      <td>visitDate\":\"04/2015</td>\n",
              "      <td>ratingValue\":\"5</td>\n",
              "      <td>itemReviewed\":{\"name\":\"Z Deli Sandwich Shop</td>\n",
              "      <td>address\":{\"streetAddress\":\"Rua Haddock Lobo 13...</td>\n",
              "      <td>addressLocality\":\"S\\u00E3o Paulo</td>\n",
              "      <td>addressRegion\":\"Estado de S\\u00E3o Paulo</td>\n",
              "      <td>postalCode\":\"01414-002</td>\n",
              "      <td>country\":\"Brasil\"}</td>\n",
              "      <td>website\":\"http://www.facebook.com/zdelisandwic...</td>\n",
              "      <td>email\":\"None</td>\n",
              "      <td>phoneNumber\":\"551130830021</td>\n",
              "      <td>4.5</td>\n",
              "    </tr>\n",
              "  </tbody>\n",
              "</table>\n",
              "</div>"
            ],
            "text/plain": [
              "                                            title  ... averageRating\n",
              "0                               {\"title\":\"Jantar   ...           4.5\n",
              "1             {\"title\":\"Uma boa experi\\u00EAncia.  ...           4.5\n",
              "2                    {\"title\":\"Otimo self service  ...           4.5\n",
              "3  {\"title\":\"O sorvete mais tradicional do estado  ...           4.0\n",
              "4                     {\"title\":\"Melhor hamburger!  ...           4.5\n",
              "\n",
              "[5 rows x 21 columns]"
            ]
          },
          "metadata": {
            "tags": []
          },
          "execution_count": 8
        }
      ]
    },
    {
      "cell_type": "code",
      "metadata": {
        "id": "NQx_pOShAH2Z"
      },
      "source": [
        "!pip install pandas\n",
        "import pandas as np\n",
        "#import numpy as np\n",
        "from np.random import randn\n",
        "from matplotlib import pyplot as plt\n",
        "y = np.random.randn(100)\n",
        "x = [x for x in range(len(y))]\n",
        "plt.plot(x,y, '-')\n",
        "plt.fill_between(x,y,200,where=(y>195), facecolor='g', alpha=0.6)\n",
        "plt.title('Plot')\n",
        "plt.show()"
      ],
      "execution_count": null,
      "outputs": []
    },
    {
      "cell_type": "code",
      "metadata": {
        "id": "2P6R2kFgCD6J"
      },
      "source": [
        "import torch\n",
        "Tensor = torch.cos()"
      ],
      "execution_count": null,
      "outputs": []
    },
    {
      "cell_type": "code",
      "metadata": {
        "id": "X8JFUtHhD0b7",
        "outputId": "ea7800a1-7ea6-4cc4-8c2e-e183301f65f7",
        "colab": {
          "base_uri": "https://localhost:8080/"
        }
      },
      "source": [
        "%history"
      ],
      "execution_count": 10,
      "outputs": [
        {
          "output_type": "stream",
          "text": [
            "import time\n",
            "print(time.ctime())\n",
            "print(\"test\")\n",
            "i = 0\n",
            "while (i < 5): #exemplo de rotina que vai ocorrer 5 vezes a cada 1 segundo podendo mudar no sleep(<number>)\n",
            "  print(\"Uma função executando aqui como exemplo\")\n",
            "  time.sleep(1)\n",
            "  i = i + 1\n",
            "  print(i)\n",
            "print(time.ctime())\n",
            "def func():\n",
            "  pass\n",
            "from google.colab import drive\n",
            "drive.mount('/content/drive')\n",
            "cols = ['title','reviewId', 'restaurantId','author','reviewBody','language','mobileDevice','userLocation','publicationDate','visitDate','ratingValue','itemReviewed','address','addressLocality','addressRegion','postalCode','country','website','email','phoneNumber','averageRating']\n",
            "train_data = pd.read_csv('/content/drive/My Drive/pc-dataset-v2.csv', names= cols, engine = 'python', delimiter='\",\"', skiprows=0)\n",
            "\n",
            "train_data.head()\n",
            "import numpy as np\n",
            "import math\n",
            "import re\n",
            "import pandas as pd\n",
            "from bs4 import BeautifulSoup\n",
            "from google.colab import drive\n",
            "import zipfile\n",
            "import seaborn as sns\n",
            "import spacy as sp\n",
            "import string\n",
            "import random\n",
            "import matplotlib.pyplot as plt\n",
            "from google.colab import drive\n",
            "drive.mount('/content/drive')\n",
            "cols = ['title','reviewId', 'restaurantId','author','reviewBody','language','mobileDevice','userLocation','publicationDate','visitDate','ratingValue','itemReviewed','address','addressLocality','addressRegion','postalCode','country','website','email','phoneNumber','averageRating']\n",
            "train_data = pd.read_csv('/content/drive/My Drive/pc-dataset-v2.csv', names= cols, engine = 'python', delimiter='\",\"', skiprows=0)\n",
            "\n",
            "train_data.head()\n",
            "!pip install pandas\n",
            "import pandas as np\n",
            "from matplotlib import pyplot as plt\n",
            "y = np.random.randn(100)\n",
            "x = [x for x in range(len(y))]\n",
            "plt.plot(x,y, '-')\n",
            "plt.fill_between(x,y,200,where=(y>195), facecolor='g', alpha=0.6)\n",
            "plt.title('Plot')\n",
            "plt.show()\n",
            "%history\n"
          ],
          "name": "stdout"
        }
      ]
    },
    {
      "cell_type": "code",
      "metadata": {
        "id": "y-JiS9HmFlPT",
        "outputId": "67cbbdd6-8917-44f9-8519-5c68f0456a7c",
        "colab": {
          "base_uri": "https://localhost:8080/",
          "height": 38
        }
      },
      "source": [
        "%%html\n",
        "<marquee style='width: 50%;color; Green;'><b>curso de ciencia de dados</b></marquee>"
      ],
      "execution_count": 11,
      "outputs": [
        {
          "output_type": "display_data",
          "data": {
            "text/html": [
              "<marquee style='width: 50%;color; Green;'><b>curso de ciencia de dados</b></marquee>"
            ],
            "text/plain": [
              "<IPython.core.display.HTML object>"
            ]
          },
          "metadata": {
            "tags": []
          }
        }
      ]
    },
    {
      "cell_type": "code",
      "metadata": {
        "id": "U6cmqBC5F-ju",
        "outputId": "d3c577fe-3694-4d9b-d327-e113f3392d6c",
        "colab": {
          "base_uri": "https://localhost:8080/",
          "height": 163
        }
      },
      "source": [
        "%lsmagic"
      ],
      "execution_count": 12,
      "outputs": [
        {
          "output_type": "execute_result",
          "data": {
            "application/json": {
              "cell": {
                "prun": "ExecutionMagics",
                "file": "Other",
                "!": "OSMagics",
                "capture": "ExecutionMagics",
                "timeit": "ExecutionMagics",
                "script": "ScriptMagics",
                "pypy": "Other",
                "system": "OSMagics",
                "perl": "Other",
                "html": "DisplayMagics",
                "bash": "Other",
                "shell": "Other",
                "HTML": "Other",
                "python": "Other",
                "SVG": "Other",
                "javascript": "DisplayMagics",
                "bigquery": "Other",
                "js": "DisplayMagics",
                "writefile": "OSMagics",
                "ruby": "Other",
                "python3": "Other",
                "python2": "Other",
                "latex": "DisplayMagics",
                "sx": "OSMagics",
                "svg": "DisplayMagics",
                "sh": "Other",
                "time": "ExecutionMagics",
                "debug": "ExecutionMagics"
              },
              "line": {
                "psource": "NamespaceMagics",
                "logstart": "LoggingMagics",
                "popd": "OSMagics",
                "tensorflow_version": "Other",
                "loadpy": "CodeMagics",
                "colors": "BasicMagics",
                "who_ls": "NamespaceMagics",
                "lf": "Other",
                "ll": "Other",
                "pprint": "BasicMagics",
                "lk": "Other",
                "ls": "Other",
                "save": "CodeMagics",
                "tb": "ExecutionMagics",
                "lx": "Other",
                "pylab": "PylabMagics",
                "killbgscripts": "ScriptMagics",
                "quickref": "BasicMagics",
                "magic": "BasicMagics",
                "dhist": "OSMagics",
                "edit": "KernelMagics",
                "logstop": "LoggingMagics",
                "gui": "BasicMagics",
                "prun": "ExecutionMagics",
                "debug": "ExecutionMagics",
                "page": "BasicMagics",
                "logstate": "LoggingMagics",
                "ed": "Other",
                "pushd": "OSMagics",
                "timeit": "ExecutionMagics",
                "set_env": "OSMagics",
                "rehashx": "OSMagics",
                "hist": "Other",
                "qtconsole": "KernelMagics",
                "rm": "Other",
                "dirs": "OSMagics",
                "run": "ExecutionMagics",
                "reset_selective": "NamespaceMagics",
                "pinfo2": "NamespaceMagics",
                "matplotlib": "PylabMagics",
                "unload_ext": "ExtensionMagics",
                "doctest_mode": "BasicMagics",
                "logoff": "LoggingMagics",
                "reload_ext": "ExtensionMagics",
                "pdb": "ExecutionMagics",
                "load": "CodeMagics",
                "lsmagic": "BasicMagics",
                "autosave": "KernelMagics",
                "cd": "OSMagics",
                "pastebin": "CodeMagics",
                "alias_magic": "BasicMagics",
                "cp": "Other",
                "autocall": "AutoMagics",
                "ldir": "Other",
                "bookmark": "OSMagics",
                "connect_info": "KernelMagics",
                "mkdir": "Other",
                "system": "OSMagics",
                "whos": "NamespaceMagics",
                "rmdir": "Other",
                "automagic": "AutoMagics",
                "store": "StoreMagics",
                "more": "KernelMagics",
                "shell": "Other",
                "pdef": "NamespaceMagics",
                "precision": "BasicMagics",
                "pinfo": "NamespaceMagics",
                "pwd": "OSMagics",
                "psearch": "NamespaceMagics",
                "reset": "NamespaceMagics",
                "recall": "HistoryMagics",
                "xdel": "NamespaceMagics",
                "xmode": "BasicMagics",
                "cat": "Other",
                "mv": "Other",
                "rerun": "HistoryMagics",
                "logon": "LoggingMagics",
                "history": "HistoryMagics",
                "pycat": "OSMagics",
                "pip": "Other",
                "unalias": "OSMagics",
                "env": "OSMagics",
                "load_ext": "ExtensionMagics",
                "config": "ConfigMagics",
                "profile": "BasicMagics",
                "pfile": "NamespaceMagics",
                "less": "KernelMagics",
                "who": "NamespaceMagics",
                "notebook": "BasicMagics",
                "man": "KernelMagics",
                "sx": "OSMagics",
                "macro": "ExecutionMagics",
                "clear": "KernelMagics",
                "alias": "OSMagics",
                "time": "ExecutionMagics",
                "sc": "OSMagics",
                "rep": "Other",
                "pdoc": "NamespaceMagics"
              }
            },
            "text/plain": [
              "Available line magics:\n",
              "%alias  %alias_magic  %autocall  %automagic  %autosave  %bookmark  %cat  %cd  %clear  %colors  %config  %connect_info  %cp  %debug  %dhist  %dirs  %doctest_mode  %ed  %edit  %env  %gui  %hist  %history  %killbgscripts  %ldir  %less  %lf  %lk  %ll  %load  %load_ext  %loadpy  %logoff  %logon  %logstart  %logstate  %logstop  %ls  %lsmagic  %lx  %macro  %magic  %man  %matplotlib  %mkdir  %more  %mv  %notebook  %page  %pastebin  %pdb  %pdef  %pdoc  %pfile  %pinfo  %pinfo2  %pip  %popd  %pprint  %precision  %profile  %prun  %psearch  %psource  %pushd  %pwd  %pycat  %pylab  %qtconsole  %quickref  %recall  %rehashx  %reload_ext  %rep  %rerun  %reset  %reset_selective  %rm  %rmdir  %run  %save  %sc  %set_env  %shell  %store  %sx  %system  %tb  %tensorflow_version  %time  %timeit  %unalias  %unload_ext  %who  %who_ls  %whos  %xdel  %xmode\n",
              "\n",
              "Available cell magics:\n",
              "%%!  %%HTML  %%SVG  %%bash  %%bigquery  %%capture  %%debug  %%file  %%html  %%javascript  %%js  %%latex  %%perl  %%prun  %%pypy  %%python  %%python2  %%python3  %%ruby  %%script  %%sh  %%shell  %%svg  %%sx  %%system  %%time  %%timeit  %%writefile\n",
              "\n",
              "Automagic is ON, % prefix IS NOT needed for line magics."
            ]
          },
          "metadata": {
            "tags": []
          },
          "execution_count": 12
        }
      ]
    },
    {
      "cell_type": "code",
      "metadata": {
        "id": "6uQ6pdgvGY10",
        "outputId": "1465c66e-285f-4e22-c0ac-2d03a4f7d822",
        "colab": {
          "base_uri": "https://localhost:8080/",
          "height": 35
        }
      },
      "source": [
        "%pwd"
      ],
      "execution_count": 13,
      "outputs": [
        {
          "output_type": "execute_result",
          "data": {
            "application/vnd.google.colaboratory.intrinsic+json": {
              "type": "string"
            },
            "text/plain": [
              "'/content'"
            ]
          },
          "metadata": {
            "tags": []
          },
          "execution_count": 13
        }
      ]
    },
    {
      "cell_type": "code",
      "metadata": {
        "id": "aGkexsksGdmm",
        "cellView": "both",
        "outputId": "895ed098-b791-40b7-bc7b-6175a179aa70",
        "colab": {
          "base_uri": "https://localhost:8080/"
        }
      },
      "source": [
        "#@title Default title text\n",
        "variable_test_new_form_field_string = \"Paulo C\\xE9sar da Rocha Corr\\xEAa\" #@param {type:\"string\"}\n",
        "variable_name =  10#@param {type:\"integer\"}\n",
        "Test = 1\n",
        "\n",
        "print(variable_test_new_form_field_string)\n",
        "print(variable_name)"
      ],
      "execution_count": 19,
      "outputs": [
        {
          "output_type": "stream",
          "text": [
            "Paulo César da Rocha Corrêa\n",
            "10\n"
          ],
          "name": "stdout"
        }
      ]
    },
    {
      "cell_type": "code",
      "metadata": {
        "id": "_JT4FUM0HKQR",
        "cellView": "both",
        "outputId": "9acafd0f-e1cd-477b-f15c-eb3e956777bb",
        "colab": {
          "base_uri": "https://localhost:8080/"
        }
      },
      "source": [
        "#@title Default title text\n",
        "newString = \"Bel\\\\xE9m\" #@param [\"Manaus\", \"Bel\\xE9m\", \"S\\xE3o Paulo\"] {allow-input: true}\n",
        "print(newString)"
      ],
      "execution_count": 29,
      "outputs": [
        {
          "output_type": "stream",
          "text": [
            "Bel\\xE9m\n"
          ],
          "name": "stdout"
        }
      ]
    },
    {
      "cell_type": "code",
      "metadata": {
        "id": "5rAVfpO9LLAx",
        "outputId": "2c125790-6711-46ba-94cf-5fa47692f1a1",
        "colab": {
          "base_uri": "https://localhost:8080/"
        }
      },
      "source": [
        "#@title Default title text\n",
        "data = \"2020-11-07\" #@param {type:\"date\"}\n",
        "print(data)"
      ],
      "execution_count": 30,
      "outputs": [
        {
          "output_type": "stream",
          "text": [
            "2020-11-07\n"
          ],
          "name": "stdout"
        }
      ]
    },
    {
      "cell_type": "code",
      "metadata": {
        "id": "fQ1QjaA5Nhpb"
      },
      "source": [
        "!pip3 install -q keras\n"
      ],
      "execution_count": 34,
      "outputs": []
    },
    {
      "cell_type": "code",
      "metadata": {
        "id": "5q93TnpSOPwV",
        "outputId": "27656a62-8a0f-4ebf-d59f-22f42b39c09f",
        "colab": {
          "base_uri": "https://localhost:8080/"
        }
      },
      "source": [
        "import keras\n",
        "keras"
      ],
      "execution_count": 35,
      "outputs": [
        {
          "output_type": "execute_result",
          "data": {
            "text/plain": [
              "<module 'keras' from '/usr/local/lib/python3.6/dist-packages/keras/__init__.py'>"
            ]
          },
          "metadata": {
            "tags": []
          },
          "execution_count": 35
        }
      ]
    },
    {
      "cell_type": "code",
      "metadata": {
        "id": "T8iVMunzOX_6",
        "outputId": "3a0a14aa-dcde-409b-e6ad-206f35b1112c",
        "colab": {
          "base_uri": "https://localhost:8080/"
        }
      },
      "source": [
        "!pip3 install torch torchvision"
      ],
      "execution_count": 36,
      "outputs": [
        {
          "output_type": "stream",
          "text": [
            "Requirement already satisfied: torch in /usr/local/lib/python3.6/dist-packages (1.7.0+cu101)\n",
            "Requirement already satisfied: torchvision in /usr/local/lib/python3.6/dist-packages (0.8.1+cu101)\n",
            "Requirement already satisfied: numpy in /usr/local/lib/python3.6/dist-packages (from torch) (1.18.5)\n",
            "Requirement already satisfied: future in /usr/local/lib/python3.6/dist-packages (from torch) (0.16.0)\n",
            "Requirement already satisfied: typing-extensions in /usr/local/lib/python3.6/dist-packages (from torch) (3.7.4.3)\n",
            "Requirement already satisfied: dataclasses in /usr/local/lib/python3.6/dist-packages (from torch) (0.7)\n",
            "Requirement already satisfied: pillow>=4.1.1 in /usr/local/lib/python3.6/dist-packages (from torchvision) (7.0.0)\n"
          ],
          "name": "stdout"
        }
      ]
    },
    {
      "cell_type": "code",
      "metadata": {
        "id": "ZVGClJq-Oypn"
      },
      "source": [
        "import torchvision "
      ],
      "execution_count": 2,
      "outputs": []
    },
    {
      "cell_type": "code",
      "metadata": {
        "id": "tPEWcyR3SaE1",
        "outputId": "548ffc92-916a-463b-c767-69287ff3bf5d",
        "colab": {
          "base_uri": "https://localhost:8080/"
        }
      },
      "source": [
        "!cat /proc/meminfo"
      ],
      "execution_count": 3,
      "outputs": [
        {
          "output_type": "stream",
          "text": [
            "MemTotal:       13333596 kB\n",
            "MemFree:        10457396 kB\n",
            "MemAvailable:   12465436 kB\n",
            "Buffers:           78328 kB\n",
            "Cached:          2074376 kB\n",
            "SwapCached:            0 kB\n",
            "Active:           668620 kB\n",
            "Inactive:        1925212 kB\n",
            "Active(anon):     405308 kB\n",
            "Inactive(anon):      344 kB\n",
            "Active(file):     263312 kB\n",
            "Inactive(file):  1924868 kB\n",
            "Unevictable:           0 kB\n",
            "Mlocked:               0 kB\n",
            "SwapTotal:             0 kB\n",
            "SwapFree:              0 kB\n",
            "Dirty:                36 kB\n",
            "Writeback:             0 kB\n",
            "AnonPages:        441156 kB\n",
            "Mapped:           294096 kB\n",
            "Shmem:               956 kB\n",
            "Slab:             161736 kB\n",
            "SReclaimable:     121404 kB\n",
            "SUnreclaim:        40332 kB\n",
            "KernelStack:        3792 kB\n",
            "PageTables:         5752 kB\n",
            "NFS_Unstable:          0 kB\n",
            "Bounce:                0 kB\n",
            "WritebackTmp:          0 kB\n",
            "CommitLimit:     6666796 kB\n",
            "Committed_AS:    2706336 kB\n",
            "VmallocTotal:   34359738367 kB\n",
            "VmallocUsed:           0 kB\n",
            "VmallocChunk:          0 kB\n",
            "Percpu:              952 kB\n",
            "AnonHugePages:         0 kB\n",
            "ShmemHugePages:        0 kB\n",
            "ShmemPmdMapped:        0 kB\n",
            "HugePages_Total:       0\n",
            "HugePages_Free:        0\n",
            "HugePages_Rsvd:        0\n",
            "HugePages_Surp:        0\n",
            "Hugepagesize:       2048 kB\n",
            "Hugetlb:               0 kB\n",
            "DirectMap4k:      107752 kB\n",
            "DirectMap2M:     3037184 kB\n",
            "DirectMap1G:    12582912 kB\n"
          ],
          "name": "stdout"
        }
      ]
    },
    {
      "cell_type": "code",
      "metadata": {
        "id": "sswDFZzuSgJP",
        "outputId": "b2ac31a2-e4e5-4bc9-f666-c8dfd915d09e",
        "colab": {
          "base_uri": "https://localhost:8080/"
        }
      },
      "source": [
        "!free -h"
      ],
      "execution_count": 4,
      "outputs": [
        {
          "output_type": "stream",
          "text": [
            "              total        used        free      shared  buff/cache   available\n",
            "Mem:            12G        587M          9G        956K        2.2G         11G\n",
            "Swap:            0B          0B          0B\n"
          ],
          "name": "stdout"
        }
      ]
    },
    {
      "cell_type": "code",
      "metadata": {
        "id": "kdz4qzvOTCdD"
      },
      "source": [
        ""
      ],
      "execution_count": null,
      "outputs": []
    }
  ]
}