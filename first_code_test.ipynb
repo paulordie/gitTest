{
  "nbformat": 4,
  "nbformat_minor": 0,
  "metadata": {
    "colab": {
      "name": "first-code-test.ipynb",
      "provenance": [],
      "collapsed_sections": [],
      "authorship_tag": "ABX9TyMQ01EJESh1re22s/LRKuXN",
      "include_colab_link": true
    },
    "kernelspec": {
      "name": "python3",
      "display_name": "Python 3"
    }
  },
  "cells": [
    {
      "cell_type": "markdown",
      "metadata": {
        "id": "view-in-github",
        "colab_type": "text"
      },
      "source": [
        "<a href=\"https://colab.research.google.com/github/paulordie/gitTest/blob/main/first_code_test.ipynb\" target=\"_parent\"><img src=\"https://colab.research.google.com/assets/colab-badge.svg\" alt=\"Open In Colab\"/></a>"
      ]
    },
    {
      "cell_type": "markdown",
      "metadata": {
        "id": "ZoOX7aiYziwe"
      },
      "source": [
        "#**Inicial**\n",
        "##*inicial* **bold text**\n"
      ]
    },
    {
      "cell_type": "code",
      "metadata": {
        "id": "KIqL1CpLpHd5",
        "outputId": "368c3b7d-8d48-4021-b556-65c93e49de45",
        "colab": {
          "base_uri": "https://localhost:8080/"
        }
      },
      "source": [
        "import time\n",
        "print(time.ctime())"
      ],
      "execution_count": 1,
      "outputs": [
        {
          "output_type": "stream",
          "text": [
            "Sat Nov  7 12:23:21 2020\n"
          ],
          "name": "stdout"
        }
      ]
    },
    {
      "cell_type": "code",
      "metadata": {
        "id": "AfuVDfs7qRH_",
        "outputId": "a8b50a17-6e0c-4a46-8fad-35ba2caed661",
        "colab": {
          "base_uri": "https://localhost:8080/"
        }
      },
      "source": [
        "print(\"test\")\n",
        "i = 0\n",
        "while (i < 5): #exemplo de rotina que vai ocorrer 5 vezes a cada 1 segundo podendo mudar no sleep(<number>)\n",
        "  print(\"Uma função executando aqui como exemplo\")\n",
        "  time.sleep(1)\n",
        "  i = i + 1\n",
        "  print(i)\n",
        "print(time.ctime())"
      ],
      "execution_count": 18,
      "outputs": [
        {
          "output_type": "stream",
          "text": [
            "test\n",
            "Uma função executando aqui como exemplo\n",
            "1\n",
            "Uma função executando aqui como exemplo\n",
            "2\n",
            "Uma função executando aqui como exemplo\n",
            "3\n",
            "Uma função executando aqui como exemplo\n",
            "4\n",
            "Uma função executando aqui como exemplo\n",
            "5\n",
            "Sat Nov  7 12:51:08 2020\n"
          ],
          "name": "stdout"
        }
      ]
    },
    {
      "cell_type": "code",
      "metadata": {
        "id": "ZBjbKRJstK7K"
      },
      "source": [
        ""
      ],
      "execution_count": 14,
      "outputs": []
    }
  ]
}