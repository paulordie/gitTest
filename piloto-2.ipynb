{
 "cells": [
  {
   "cell_type": "code",
   "execution_count": null,
   "metadata": {},
   "outputs": [],
   "source": [
    "# -*- coding: UTF-8 -*-"
   ]
  },
  {
   "cell_type": "code",
   "execution_count": 84,
   "metadata": {
    "executionInfo": {
     "elapsed": 2567,
     "status": "ok",
     "timestamp": 1604774783060,
     "user": {
      "displayName": "paulo cesar da rocha correa",
      "photoUrl": "https://lh3.googleusercontent.com/a-/AOh14GhfjqjKkqi19BFvTCJLd1b2SJHjv7CE8jW8VKcHvg=s64",
      "userId": "02019520615414855207"
     },
     "user_tz": 240
    },
    "id": "IrC3D24_UvLr"
   },
   "outputs": [
    {
     "name": "stderr",
     "output_type": "stream",
     "text": [
      "[nltk_data] Downloading package punkt to /home/pcorrea/nltk_data...\n",
      "[nltk_data]   Package punkt is already up-to-date!\n"
     ]
    }
   ],
   "source": [
    "import numpy as np\n",
    "import math\n",
    "import re\n",
    "import pandas as pd\n",
    "from bs4 import BeautifulSoup\n",
    "#from google.colab import drive\n",
    "#import zipfile\n",
    "import seaborn as sns\n",
    "#import spacy as sp\n",
    "import string\n",
    "import random\n",
    "import matplotlib.pyplot as plt\n",
    "import nltk\n",
    "nltk.download('punkt')\n",
    "from textblob import TextBlob"
   ]
  },
  {
   "cell_type": "code",
   "execution_count": 2,
   "metadata": {
    "colab": {
     "base_uri": "https://localhost:8080/"
    },
    "executionInfo": {
     "elapsed": 31062,
     "status": "ok",
     "timestamp": 1604774846664,
     "user": {
      "displayName": "paulo cesar da rocha correa",
      "photoUrl": "https://lh3.googleusercontent.com/a-/AOh14GhfjqjKkqi19BFvTCJLd1b2SJHjv7CE8jW8VKcHvg=s64",
      "userId": "02019520615414855207"
     },
     "user_tz": 240
    },
    "id": "B7aqCIxWCPlN",
    "outputId": "193d27ea-9188-4201-8a12-1d505735b25a"
   },
   "outputs": [],
   "source": [
    "#.mount(\"/content/drive\")"
   ]
  },
  {
   "cell_type": "code",
   "execution_count": 80,
   "metadata": {
    "colab": {
     "base_uri": "https://localhost:8080/",
     "height": 532
    },
    "executionInfo": {
     "elapsed": 4152,
     "status": "ok",
     "timestamp": 1604774851637,
     "user": {
      "displayName": "paulo cesar da rocha correa",
      "photoUrl": "https://lh3.googleusercontent.com/a-/AOh14GhfjqjKkqi19BFvTCJLd1b2SJHjv7CE8jW8VKcHvg=s64",
      "userId": "02019520615414855207"
     },
     "user_tz": 240
    },
    "id": "dbEZUXS3UvL7",
    "outputId": "afc843e7-b7a6-4838-dcf8-4a255695b61e"
   },
   "outputs": [
    {
     "data": {
      "text/html": [
       "<div>\n",
       "<style scoped>\n",
       "    .dataframe tbody tr th:only-of-type {\n",
       "        vertical-align: middle;\n",
       "    }\n",
       "\n",
       "    .dataframe tbody tr th {\n",
       "        vertical-align: top;\n",
       "    }\n",
       "\n",
       "    .dataframe thead th {\n",
       "        text-align: right;\n",
       "    }\n",
       "</style>\n",
       "<table border=\"1\" class=\"dataframe\">\n",
       "  <thead>\n",
       "    <tr style=\"text-align: right;\">\n",
       "      <th></th>\n",
       "      <th>title</th>\n",
       "      <th>reviewId</th>\n",
       "      <th>restaurantId</th>\n",
       "      <th>author</th>\n",
       "      <th>reviewBody</th>\n",
       "      <th>language</th>\n",
       "      <th>mobileDevice</th>\n",
       "      <th>userLocation</th>\n",
       "      <th>publicationDate</th>\n",
       "      <th>visitDate</th>\n",
       "      <th>...</th>\n",
       "      <th>itemReviewed</th>\n",
       "      <th>address</th>\n",
       "      <th>addressLocality</th>\n",
       "      <th>addressRegion</th>\n",
       "      <th>postalCode</th>\n",
       "      <th>country</th>\n",
       "      <th>website</th>\n",
       "      <th>email</th>\n",
       "      <th>phoneNumber</th>\n",
       "      <th>averageRating</th>\n",
       "    </tr>\n",
       "  </thead>\n",
       "  <tbody>\n",
       "    <tr>\n",
       "      <th>0</th>\n",
       "      <td>Jantar</td>\n",
       "      <td>692856288</td>\n",
       "      <td>2344932</td>\n",
       "      <td>larinhavercosa222</td>\n",
       "      <td>Comida maravilhosa. lugar do verdadeiro chicle...</td>\n",
       "      <td>pt</td>\n",
       "      <td>True</td>\n",
       "      <td>São Carlos. SP</td>\n",
       "      <td>26/07/2019</td>\n",
       "      <td>07/2019</td>\n",
       "      <td>...</td>\n",
       "      <td>Imperador dos Camar\\u00F5es</td>\n",
       "      <td>Avenida Doutor Ant\\u00F4nio Gouveia</td>\n",
       "      <td>NaN</td>\n",
       "      <td>Alagoas</td>\n",
       "      <td>57030-170</td>\n",
       "      <td>Brasil</td>\n",
       "      <td>http://www.imperadordoscamaroes.com.br</td>\n",
       "      <td>contato@imperadordoscamaroes.com.br</td>\n",
       "      <td>+55 82 3231-4134</td>\n",
       "      <td>4.5</td>\n",
       "    </tr>\n",
       "    <tr>\n",
       "      <th>1</th>\n",
       "      <td>Uma boa experi\\u00EAncia.</td>\n",
       "      <td>229208487</td>\n",
       "      <td>3720906</td>\n",
       "      <td>Pano P</td>\n",
       "      <td>Comida boa. drinks legais e um ambiente bem ac...</td>\n",
       "      <td>pt</td>\n",
       "      <td>True</td>\n",
       "      <td>Manaus. AM</td>\n",
       "      <td>16/09/2014</td>\n",
       "      <td>None</td>\n",
       "      <td>...</td>\n",
       "      <td>Guacamole Natal</td>\n",
       "      <td>Avenida Praia de Ponta Negra 9068 Ponta Negra</td>\n",
       "      <td>NaN</td>\n",
       "      <td>Rio Grande do Norte</td>\n",
       "      <td>59092-100</td>\n",
       "      <td>Brasil</td>\n",
       "      <td>http://www.facebook.com/GuacamoleNatal</td>\n",
       "      <td>guacamolenatal@gmail.com</td>\n",
       "      <td>+55 84 3219-3646</td>\n",
       "      <td>4.5</td>\n",
       "    </tr>\n",
       "    <tr>\n",
       "      <th>2</th>\n",
       "      <td>Otimo self service</td>\n",
       "      <td>679002332</td>\n",
       "      <td>2248105</td>\n",
       "      <td>Magma100</td>\n",
       "      <td>Excelente pra ir com a fam\\u00EDlia! \\u00D3tim...</td>\n",
       "      <td>pt</td>\n",
       "      <td>True</td>\n",
       "      <td>Goiânia. GO</td>\n",
       "      <td>04/06/2019</td>\n",
       "      <td>07/2018</td>\n",
       "      <td>...</td>\n",
       "      <td>Chica Pitanga</td>\n",
       "      <td>Rua Petrolina 19</td>\n",
       "      <td>Recife</td>\n",
       "      <td>Pernambuco</td>\n",
       "      <td>51021-250</td>\n",
       "      <td>Brasil</td>\n",
       "      <td>http://www.chicapitanga.com.br</td>\n",
       "      <td>chicapitanga@chicapitanga.com.br</td>\n",
       "      <td>+55 81 3334-8260</td>\n",
       "      <td>4.5</td>\n",
       "    </tr>\n",
       "    <tr>\n",
       "      <th>3</th>\n",
       "      <td>O sorvete mais tradicional do estado</td>\n",
       "      <td>355671519</td>\n",
       "      <td>8168302</td>\n",
       "      <td>Yurie M</td>\n",
       "      <td>Tomo sorvete na Visabor faz mais de 30 anos. S...</td>\n",
       "      <td>pt</td>\n",
       "      <td>False</td>\n",
       "      <td>Aracaju. SE</td>\n",
       "      <td>15/03/2016</td>\n",
       "      <td>01/2016</td>\n",
       "      <td>...</td>\n",
       "      <td>Sorvetes Vi Sabor</td>\n",
       "      <td>Avenida Francisco Porto 59 Grageru</td>\n",
       "      <td>Aracaju</td>\n",
       "      <td>Sergipe</td>\n",
       "      <td>NaN</td>\n",
       "      <td>Brasil</td>\n",
       "      <td>None</td>\n",
       "      <td>None</td>\n",
       "      <td>None</td>\n",
       "      <td>4.0</td>\n",
       "    </tr>\n",
       "    <tr>\n",
       "      <th>4</th>\n",
       "      <td>Melhor hamburger!</td>\n",
       "      <td>268741921</td>\n",
       "      <td>5395141</td>\n",
       "      <td>Debora_C85</td>\n",
       "      <td>O melhor hamburger que j\\u00E1 comi! Excelente...</td>\n",
       "      <td>pt</td>\n",
       "      <td>False</td>\n",
       "      <td>Rio de Janeiro. RJ</td>\n",
       "      <td>28/04/2015</td>\n",
       "      <td>04/2015</td>\n",
       "      <td>...</td>\n",
       "      <td>Z Deli Sandwich Shop</td>\n",
       "      <td>Rua Haddock Lobo 1386 Jardins</td>\n",
       "      <td>S\\u00E3o Paulo</td>\n",
       "      <td>Estado de S\\u00E3o Paulo</td>\n",
       "      <td>01414-002</td>\n",
       "      <td>Brasil</td>\n",
       "      <td>http://www.facebook.com/zdelisandwichshop/</td>\n",
       "      <td>None</td>\n",
       "      <td>551130830021</td>\n",
       "      <td>4.5</td>\n",
       "    </tr>\n",
       "  </tbody>\n",
       "</table>\n",
       "<p>5 rows × 21 columns</p>\n",
       "</div>"
      ],
      "text/plain": [
       "                                  title   reviewId restaurantId  \\\n",
       "0                               Jantar   692856288      2344932   \n",
       "1             Uma boa experi\\u00EAncia.  229208487      3720906   \n",
       "2                    Otimo self service  679002332      2248105   \n",
       "3  O sorvete mais tradicional do estado  355671519      8168302   \n",
       "4                     Melhor hamburger!  268741921      5395141   \n",
       "\n",
       "              author                                         reviewBody  \\\n",
       "0  larinhavercosa222  Comida maravilhosa. lugar do verdadeiro chicle...   \n",
       "1             Pano P  Comida boa. drinks legais e um ambiente bem ac...   \n",
       "2           Magma100  Excelente pra ir com a fam\\u00EDlia! \\u00D3tim...   \n",
       "3            Yurie M  Tomo sorvete na Visabor faz mais de 30 anos. S...   \n",
       "4         Debora_C85  O melhor hamburger que j\\u00E1 comi! Excelente...   \n",
       "\n",
       "  language  mobileDevice        userLocation publicationDate visitDate  ...  \\\n",
       "0       pt          True      São Carlos. SP      26/07/2019   07/2019  ...   \n",
       "1       pt          True          Manaus. AM      16/09/2014      None  ...   \n",
       "2       pt          True         Goiânia. GO      04/06/2019   07/2018  ...   \n",
       "3       pt         False         Aracaju. SE      15/03/2016   01/2016  ...   \n",
       "4       pt         False  Rio de Janeiro. RJ      28/04/2015   04/2015  ...   \n",
       "\n",
       "                  itemReviewed                                        address  \\\n",
       "0  Imperador dos Camar\\u00F5es            Avenida Doutor Ant\\u00F4nio Gouveia   \n",
       "1              Guacamole Natal  Avenida Praia de Ponta Negra 9068 Ponta Negra   \n",
       "2                Chica Pitanga                               Rua Petrolina 19   \n",
       "3            Sorvetes Vi Sabor             Avenida Francisco Porto 59 Grageru   \n",
       "4         Z Deli Sandwich Shop                  Rua Haddock Lobo 1386 Jardins   \n",
       "\n",
       "  addressLocality             addressRegion postalCode country  \\\n",
       "0             NaN                   Alagoas  57030-170  Brasil   \n",
       "1             NaN       Rio Grande do Norte  59092-100  Brasil   \n",
       "2          Recife                Pernambuco  51021-250  Brasil   \n",
       "3         Aracaju                   Sergipe        NaN  Brasil   \n",
       "4  S\\u00E3o Paulo  Estado de S\\u00E3o Paulo  01414-002  Brasil   \n",
       "\n",
       "                                      website  \\\n",
       "0      http://www.imperadordoscamaroes.com.br   \n",
       "1      http://www.facebook.com/GuacamoleNatal   \n",
       "2              http://www.chicapitanga.com.br   \n",
       "3                                        None   \n",
       "4  http://www.facebook.com/zdelisandwichshop/   \n",
       "\n",
       "                                 email       phoneNumber averageRating  \n",
       "0  contato@imperadordoscamaroes.com.br  +55 82 3231-4134           4.5  \n",
       "1             guacamolenatal@gmail.com  +55 84 3219-3646           4.5  \n",
       "2     chicapitanga@chicapitanga.com.br  +55 81 3334-8260           4.5  \n",
       "3                                 None              None           4.0  \n",
       "4                                 None      551130830021           4.5  \n",
       "\n",
       "[5 rows x 21 columns]"
      ]
     },
     "execution_count": 80,
     "metadata": {},
     "output_type": "execute_result"
    }
   ],
   "source": [
    "cols = ['title','reviewId', 'restaurantId','author','reviewBody','language','mobileDevice','userLocation','publicationDate','visitDate','ratingValue','itemReviewed','address','addressLocality','addressRegion','postalCode','country','website','email','phoneNumber','averageRating']\n",
    "train_data = pd.read_csv('pc-dataset-v2.dat', names= cols, engine = 'python', delimiter=',', skiprows=0 )\n",
    "train_data.head()"
   ]
  },
  {
   "cell_type": "code",
   "execution_count": null,
   "metadata": {},
   "outputs": [],
   "source": [
    "train_data.describe()"
   ]
  },
  {
   "cell_type": "code",
   "execution_count": 26,
   "metadata": {},
   "outputs": [
    {
     "data": {
      "text/html": [
       "<div>\n",
       "<style scoped>\n",
       "    .dataframe tbody tr th:only-of-type {\n",
       "        vertical-align: middle;\n",
       "    }\n",
       "\n",
       "    .dataframe tbody tr th {\n",
       "        vertical-align: top;\n",
       "    }\n",
       "\n",
       "    .dataframe thead th {\n",
       "        text-align: right;\n",
       "    }\n",
       "</style>\n",
       "<table border=\"1\" class=\"dataframe\">\n",
       "  <thead>\n",
       "    <tr style=\"text-align: right;\">\n",
       "      <th></th>\n",
       "      <th>title</th>\n",
       "      <th>reviewId</th>\n",
       "      <th>restaurantId</th>\n",
       "      <th>author</th>\n",
       "      <th>reviewBody</th>\n",
       "      <th>language</th>\n",
       "      <th>mobileDevice</th>\n",
       "      <th>userLocation</th>\n",
       "      <th>publicationDate</th>\n",
       "      <th>visitDate</th>\n",
       "      <th>...</th>\n",
       "      <th>itemReviewed</th>\n",
       "      <th>address</th>\n",
       "      <th>addressLocality</th>\n",
       "      <th>addressRegion</th>\n",
       "      <th>postalCode</th>\n",
       "      <th>country</th>\n",
       "      <th>website</th>\n",
       "      <th>email</th>\n",
       "      <th>phoneNumber</th>\n",
       "      <th>averageRating</th>\n",
       "    </tr>\n",
       "  </thead>\n",
       "  <tbody>\n",
       "  </tbody>\n",
       "</table>\n",
       "<p>0 rows × 21 columns</p>\n",
       "</div>"
      ],
      "text/plain": [
       "Empty DataFrame\n",
       "Columns: [title, reviewId, restaurantId, author, reviewBody, language, mobileDevice, userLocation, publicationDate, visitDate, ratingValue, itemReviewed, address, addressLocality, addressRegion, postalCode, country, website, email, phoneNumber, averageRating]\n",
       "Index: []\n",
       "\n",
       "[0 rows x 21 columns]"
      ]
     },
     "execution_count": 26,
     "metadata": {},
     "output_type": "execute_result"
    }
   ],
   "source": [
    "train_data.loc[pd.isnull(train_data['reviewBody'])]"
   ]
  },
  {
   "cell_type": "code",
   "execution_count": 27,
   "metadata": {},
   "outputs": [
    {
     "data": {
      "text/html": [
       "<div>\n",
       "<style scoped>\n",
       "    .dataframe tbody tr th:only-of-type {\n",
       "        vertical-align: middle;\n",
       "    }\n",
       "\n",
       "    .dataframe tbody tr th {\n",
       "        vertical-align: top;\n",
       "    }\n",
       "\n",
       "    .dataframe thead th {\n",
       "        text-align: right;\n",
       "    }\n",
       "</style>\n",
       "<table border=\"1\" class=\"dataframe\">\n",
       "  <thead>\n",
       "    <tr style=\"text-align: right;\">\n",
       "      <th></th>\n",
       "      <th>title</th>\n",
       "      <th>reviewId</th>\n",
       "      <th>restaurantId</th>\n",
       "      <th>author</th>\n",
       "      <th>reviewBody</th>\n",
       "      <th>language</th>\n",
       "      <th>mobileDevice</th>\n",
       "      <th>userLocation</th>\n",
       "      <th>publicationDate</th>\n",
       "      <th>visitDate</th>\n",
       "      <th>...</th>\n",
       "      <th>itemReviewed</th>\n",
       "      <th>address</th>\n",
       "      <th>addressLocality</th>\n",
       "      <th>addressRegion</th>\n",
       "      <th>postalCode</th>\n",
       "      <th>country</th>\n",
       "      <th>website</th>\n",
       "      <th>email</th>\n",
       "      <th>phoneNumber</th>\n",
       "      <th>averageRating</th>\n",
       "    </tr>\n",
       "  </thead>\n",
       "  <tbody>\n",
       "    <tr>\n",
       "      <th>0</th>\n",
       "      <td>Jantar</td>\n",
       "      <td>692856288</td>\n",
       "      <td>2344932</td>\n",
       "      <td>larinhavercosa222</td>\n",
       "      <td>Comida maravilhosa. lugar do verdadeiro chicle...</td>\n",
       "      <td>pt</td>\n",
       "      <td>True</td>\n",
       "      <td>São Carlos. SP</td>\n",
       "      <td>26/07/2019</td>\n",
       "      <td>07/2019</td>\n",
       "      <td>...</td>\n",
       "      <td>Imperador dos Camar\\u00F5es</td>\n",
       "      <td>Avenida Doutor Ant\\u00F4nio Gouveia</td>\n",
       "      <td>NaN</td>\n",
       "      <td>Alagoas</td>\n",
       "      <td>57030-170</td>\n",
       "      <td>Brasil</td>\n",
       "      <td>http://www.imperadordoscamaroes.com.br</td>\n",
       "      <td>contato@imperadordoscamaroes.com.br</td>\n",
       "      <td>+55 82 3231-4134</td>\n",
       "      <td>4.5</td>\n",
       "    </tr>\n",
       "    <tr>\n",
       "      <th>1</th>\n",
       "      <td>Uma boa experi\\u00EAncia.</td>\n",
       "      <td>229208487</td>\n",
       "      <td>3720906</td>\n",
       "      <td>Pano P</td>\n",
       "      <td>Comida boa. drinks legais e um ambiente bem ac...</td>\n",
       "      <td>pt</td>\n",
       "      <td>True</td>\n",
       "      <td>Manaus. AM</td>\n",
       "      <td>16/09/2014</td>\n",
       "      <td>None</td>\n",
       "      <td>...</td>\n",
       "      <td>Guacamole Natal</td>\n",
       "      <td>Avenida Praia de Ponta Negra 9068 Ponta Negra</td>\n",
       "      <td>NaN</td>\n",
       "      <td>Rio Grande do Norte</td>\n",
       "      <td>59092-100</td>\n",
       "      <td>Brasil</td>\n",
       "      <td>http://www.facebook.com/GuacamoleNatal</td>\n",
       "      <td>guacamolenatal@gmail.com</td>\n",
       "      <td>+55 84 3219-3646</td>\n",
       "      <td>4.5</td>\n",
       "    </tr>\n",
       "    <tr>\n",
       "      <th>2</th>\n",
       "      <td>Otimo self service</td>\n",
       "      <td>679002332</td>\n",
       "      <td>2248105</td>\n",
       "      <td>Magma100</td>\n",
       "      <td>Excelente pra ir com a fam\\u00EDlia! \\u00D3tim...</td>\n",
       "      <td>pt</td>\n",
       "      <td>True</td>\n",
       "      <td>Goiânia. GO</td>\n",
       "      <td>04/06/2019</td>\n",
       "      <td>07/2018</td>\n",
       "      <td>...</td>\n",
       "      <td>Chica Pitanga</td>\n",
       "      <td>Rua Petrolina 19</td>\n",
       "      <td>Recife</td>\n",
       "      <td>Pernambuco</td>\n",
       "      <td>51021-250</td>\n",
       "      <td>Brasil</td>\n",
       "      <td>http://www.chicapitanga.com.br</td>\n",
       "      <td>chicapitanga@chicapitanga.com.br</td>\n",
       "      <td>+55 81 3334-8260</td>\n",
       "      <td>4.5</td>\n",
       "    </tr>\n",
       "    <tr>\n",
       "      <th>3</th>\n",
       "      <td>O sorvete mais tradicional do estado</td>\n",
       "      <td>355671519</td>\n",
       "      <td>8168302</td>\n",
       "      <td>Yurie M</td>\n",
       "      <td>Tomo sorvete na Visabor faz mais de 30 anos. S...</td>\n",
       "      <td>pt</td>\n",
       "      <td>False</td>\n",
       "      <td>Aracaju. SE</td>\n",
       "      <td>15/03/2016</td>\n",
       "      <td>01/2016</td>\n",
       "      <td>...</td>\n",
       "      <td>Sorvetes Vi Sabor</td>\n",
       "      <td>Avenida Francisco Porto 59 Grageru</td>\n",
       "      <td>Aracaju</td>\n",
       "      <td>Sergipe</td>\n",
       "      <td>NaN</td>\n",
       "      <td>Brasil</td>\n",
       "      <td>None</td>\n",
       "      <td>None</td>\n",
       "      <td>None</td>\n",
       "      <td>4.0</td>\n",
       "    </tr>\n",
       "    <tr>\n",
       "      <th>4</th>\n",
       "      <td>Melhor hamburger!</td>\n",
       "      <td>268741921</td>\n",
       "      <td>5395141</td>\n",
       "      <td>Debora_C85</td>\n",
       "      <td>O melhor hamburger que j\\u00E1 comi! Excelente...</td>\n",
       "      <td>pt</td>\n",
       "      <td>False</td>\n",
       "      <td>Rio de Janeiro. RJ</td>\n",
       "      <td>28/04/2015</td>\n",
       "      <td>04/2015</td>\n",
       "      <td>...</td>\n",
       "      <td>Z Deli Sandwich Shop</td>\n",
       "      <td>Rua Haddock Lobo 1386 Jardins</td>\n",
       "      <td>S\\u00E3o Paulo</td>\n",
       "      <td>Estado de S\\u00E3o Paulo</td>\n",
       "      <td>01414-002</td>\n",
       "      <td>Brasil</td>\n",
       "      <td>http://www.facebook.com/zdelisandwichshop/</td>\n",
       "      <td>None</td>\n",
       "      <td>551130830021</td>\n",
       "      <td>4.5</td>\n",
       "    </tr>\n",
       "  </tbody>\n",
       "</table>\n",
       "<p>5 rows × 21 columns</p>\n",
       "</div>"
      ],
      "text/plain": [
       "                                  title   reviewId restaurantId  \\\n",
       "0                               Jantar   692856288      2344932   \n",
       "1             Uma boa experi\\u00EAncia.  229208487      3720906   \n",
       "2                    Otimo self service  679002332      2248105   \n",
       "3  O sorvete mais tradicional do estado  355671519      8168302   \n",
       "4                     Melhor hamburger!  268741921      5395141   \n",
       "\n",
       "              author                                         reviewBody  \\\n",
       "0  larinhavercosa222  Comida maravilhosa. lugar do verdadeiro chicle...   \n",
       "1             Pano P  Comida boa. drinks legais e um ambiente bem ac...   \n",
       "2           Magma100  Excelente pra ir com a fam\\u00EDlia! \\u00D3tim...   \n",
       "3            Yurie M  Tomo sorvete na Visabor faz mais de 30 anos. S...   \n",
       "4         Debora_C85  O melhor hamburger que j\\u00E1 comi! Excelente...   \n",
       "\n",
       "  language  mobileDevice        userLocation publicationDate visitDate  ...  \\\n",
       "0       pt          True      São Carlos. SP      26/07/2019   07/2019  ...   \n",
       "1       pt          True          Manaus. AM      16/09/2014      None  ...   \n",
       "2       pt          True         Goiânia. GO      04/06/2019   07/2018  ...   \n",
       "3       pt         False         Aracaju. SE      15/03/2016   01/2016  ...   \n",
       "4       pt         False  Rio de Janeiro. RJ      28/04/2015   04/2015  ...   \n",
       "\n",
       "                  itemReviewed                                        address  \\\n",
       "0  Imperador dos Camar\\u00F5es            Avenida Doutor Ant\\u00F4nio Gouveia   \n",
       "1              Guacamole Natal  Avenida Praia de Ponta Negra 9068 Ponta Negra   \n",
       "2                Chica Pitanga                               Rua Petrolina 19   \n",
       "3            Sorvetes Vi Sabor             Avenida Francisco Porto 59 Grageru   \n",
       "4         Z Deli Sandwich Shop                  Rua Haddock Lobo 1386 Jardins   \n",
       "\n",
       "  addressLocality             addressRegion postalCode country  \\\n",
       "0             NaN                   Alagoas  57030-170  Brasil   \n",
       "1             NaN       Rio Grande do Norte  59092-100  Brasil   \n",
       "2          Recife                Pernambuco  51021-250  Brasil   \n",
       "3         Aracaju                   Sergipe        NaN  Brasil   \n",
       "4  S\\u00E3o Paulo  Estado de S\\u00E3o Paulo  01414-002  Brasil   \n",
       "\n",
       "                                      website  \\\n",
       "0      http://www.imperadordoscamaroes.com.br   \n",
       "1      http://www.facebook.com/GuacamoleNatal   \n",
       "2              http://www.chicapitanga.com.br   \n",
       "3                                        None   \n",
       "4  http://www.facebook.com/zdelisandwichshop/   \n",
       "\n",
       "                                 email       phoneNumber averageRating  \n",
       "0  contato@imperadordoscamaroes.com.br  +55 82 3231-4134           4.5  \n",
       "1             guacamolenatal@gmail.com  +55 84 3219-3646           4.5  \n",
       "2     chicapitanga@chicapitanga.com.br  +55 81 3334-8260           4.5  \n",
       "3                                 None              None           4.0  \n",
       "4                                 None      551130830021           4.5  \n",
       "\n",
       "[5 rows x 21 columns]"
      ]
     },
     "execution_count": 27,
     "metadata": {},
     "output_type": "execute_result"
    }
   ],
   "source": [
    "train_data.head()"
   ]
  },
  {
   "cell_type": "code",
   "execution_count": 22,
   "metadata": {
    "colab": {
     "base_uri": "https://localhost:8080/",
     "height": 429
    },
    "executionInfo": {
     "elapsed": 1219,
     "status": "ok",
     "timestamp": 1604774853692,
     "user": {
      "displayName": "paulo cesar da rocha correa",
      "photoUrl": "https://lh3.googleusercontent.com/a-/AOh14GhfjqjKkqi19BFvTCJLd1b2SJHjv7CE8jW8VKcHvg=s64",
      "userId": "02019520615414855207"
     },
     "user_tz": 240
    },
    "id": "ELZ9BfamUvMN",
    "outputId": "ca2ceb1e-a018-41af-e218-0f0413e2b0fa"
   },
   "outputs": [
    {
     "data": {
      "text/html": [
       "<div>\n",
       "<style scoped>\n",
       "    .dataframe tbody tr th:only-of-type {\n",
       "        vertical-align: middle;\n",
       "    }\n",
       "\n",
       "    .dataframe tbody tr th {\n",
       "        vertical-align: top;\n",
       "    }\n",
       "\n",
       "    .dataframe thead th {\n",
       "        text-align: right;\n",
       "    }\n",
       "</style>\n",
       "<table border=\"1\" class=\"dataframe\">\n",
       "  <thead>\n",
       "    <tr style=\"text-align: right;\">\n",
       "      <th></th>\n",
       "      <th>title</th>\n",
       "      <th>reviewId</th>\n",
       "      <th>restaurantId</th>\n",
       "      <th>author</th>\n",
       "      <th>reviewBody</th>\n",
       "      <th>language</th>\n",
       "      <th>mobileDevice</th>\n",
       "      <th>userLocation</th>\n",
       "      <th>publicationDate</th>\n",
       "      <th>visitDate</th>\n",
       "      <th>...</th>\n",
       "      <th>itemReviewed</th>\n",
       "      <th>address</th>\n",
       "      <th>addressLocality</th>\n",
       "      <th>addressRegion</th>\n",
       "      <th>postalCode</th>\n",
       "      <th>country</th>\n",
       "      <th>website</th>\n",
       "      <th>email</th>\n",
       "      <th>phoneNumber</th>\n",
       "      <th>averageRating</th>\n",
       "    </tr>\n",
       "  </thead>\n",
       "  <tbody>\n",
       "    <tr>\n",
       "      <th>99995</th>\n",
       "      <td>Nova op\\u00E7\\u00E3o no Paseo!!!</td>\n",
       "      <td>672210394</td>\n",
       "      <td>17424548</td>\n",
       "      <td>Fabiano B</td>\n",
       "      <td>Ainda n\\u00E3o inaugurado oficialmente. est\\u0...</td>\n",
       "      <td>pt</td>\n",
       "      <td>True</td>\n",
       "      <td>Porto Alegre. RS</td>\n",
       "      <td>07/05/2019</td>\n",
       "      <td>05/2019</td>\n",
       "      <td>...</td>\n",
       "      <td>Boteco Maestro</td>\n",
       "      <td>Avenida Wenceslau Escobar 1823</td>\n",
       "      <td>Porto Alegre</td>\n",
       "      <td>Rio Grande do Sul</td>\n",
       "      <td>91900-000</td>\n",
       "      <td>Brasil</td>\n",
       "      <td>http://www.facebook.com/botecomaestro</td>\n",
       "      <td>None</td>\n",
       "      <td>+55 51 99353-6602</td>\n",
       "      <td>4.0</td>\n",
       "    </tr>\n",
       "    <tr>\n",
       "      <th>99996</th>\n",
       "      <td>Bom</td>\n",
       "      <td>380904400</td>\n",
       "      <td>2440184</td>\n",
       "      <td>Chris L</td>\n",
       "      <td>Bom atendimento. lugar bonito. comida muito go...</td>\n",
       "      <td>pt</td>\n",
       "      <td>True</td>\n",
       "      <td>Cork. Irlanda</td>\n",
       "      <td>08/06/2016</td>\n",
       "      <td>01/2016</td>\n",
       "      <td>...</td>\n",
       "      <td>Casa do Marqu\\u00EAs</td>\n",
       "      <td>Rua Marques do Pombal. 1814 Higien\\u00F3polis</td>\n",
       "      <td>Porto Alegre</td>\n",
       "      <td>Rio Grande do Sul</td>\n",
       "      <td>90540-000</td>\n",
       "      <td>Brasil</td>\n",
       "      <td>http://galeteriacasadomarques.com.br/</td>\n",
       "      <td>galeteriacasadomarques@galeteriacasadomarques....</td>\n",
       "      <td>+55 51 3343-4303</td>\n",
       "      <td>4.5</td>\n",
       "    </tr>\n",
       "    <tr>\n",
       "      <th>99997</th>\n",
       "      <td>Bom bar</td>\n",
       "      <td>186111858</td>\n",
       "      <td>2392996</td>\n",
       "      <td>Guilherme P</td>\n",
       "      <td>O Rio Scenarium \\u00E9 uma das baladas mais fa...</td>\n",
       "      <td>pt</td>\n",
       "      <td>False</td>\n",
       "      <td>São Paulo. SP</td>\n",
       "      <td>27/11/2013</td>\n",
       "      <td>11/2013</td>\n",
       "      <td>...</td>\n",
       "      <td>Rio Scenarium</td>\n",
       "      <td>Rua do Lavradio 20 Centro</td>\n",
       "      <td>Rio de Janeiro</td>\n",
       "      <td>Estado do Rio de Janeiro</td>\n",
       "      <td>20230-070</td>\n",
       "      <td>Brasil</td>\n",
       "      <td>http://www.rioscenarium.art.br</td>\n",
       "      <td>None</td>\n",
       "      <td>+55 21-3147-9000</td>\n",
       "      <td>4.5</td>\n",
       "    </tr>\n",
       "    <tr>\n",
       "      <th>99998</th>\n",
       "      <td>Me senti enganada...</td>\n",
       "      <td>152745909</td>\n",
       "      <td>1062290</td>\n",
       "      <td>LisianeCohem</td>\n",
       "      <td>Fui por indica\\u00E7\\u00E3o e com boa expectat...</td>\n",
       "      <td>pt</td>\n",
       "      <td>True</td>\n",
       "      <td>Porto Alegre. RS</td>\n",
       "      <td>21/02/2013</td>\n",
       "      <td>None</td>\n",
       "      <td>...</td>\n",
       "      <td>Celeiro</td>\n",
       "      <td>Rua Dias Ferreira 199</td>\n",
       "      <td>Rio de Janeiro</td>\n",
       "      <td>Estado do Rio de Janeiro</td>\n",
       "      <td>22431-050</td>\n",
       "      <td>Brasil</td>\n",
       "      <td>http://www.celeiroculinaria.com.br</td>\n",
       "      <td>celeiro@celeiroculinaria.com.br</td>\n",
       "      <td>55 21 2274 7843</td>\n",
       "      <td>3.5</td>\n",
       "    </tr>\n",
       "    <tr>\n",
       "      <th>99999</th>\n",
       "      <td>Restaurante excelente</td>\n",
       "      <td>649755498</td>\n",
       "      <td>12433911</td>\n",
       "      <td>brunotulio</td>\n",
       "      <td>Experi\\u00EAncia fant\\u00E1stica com comida de...</td>\n",
       "      <td>pt</td>\n",
       "      <td>True</td>\n",
       "      <td>Manaus. AM</td>\n",
       "      <td>02/02/2019</td>\n",
       "      <td>02/2019</td>\n",
       "      <td>...</td>\n",
       "      <td>Coco Bambu Manaus</td>\n",
       "      <td>Avenida Coronel Teixeira. 5705 Ponta Negra. Sh...</td>\n",
       "      <td>Manaus</td>\n",
       "      <td>Rio Amazonas</td>\n",
       "      <td>69037-000</td>\n",
       "      <td>Brasil</td>\n",
       "      <td>http://www.facebook.com/cocobambumanausoficial/</td>\n",
       "      <td>rh.manaus@cocobambu.com</td>\n",
       "      <td>+55 92 3667-7430</td>\n",
       "      <td>5.0</td>\n",
       "    </tr>\n",
       "  </tbody>\n",
       "</table>\n",
       "<p>5 rows × 21 columns</p>\n",
       "</div>"
      ],
      "text/plain": [
       "                                  title   reviewId restaurantId        author  \\\n",
       "99995  Nova op\\u00E7\\u00E3o no Paseo!!!  672210394     17424548     Fabiano B   \n",
       "99996                               Bom  380904400      2440184       Chris L   \n",
       "99997                           Bom bar  186111858      2392996   Guilherme P   \n",
       "99998              Me senti enganada...  152745909      1062290  LisianeCohem   \n",
       "99999             Restaurante excelente  649755498     12433911    brunotulio   \n",
       "\n",
       "                                              reviewBody language  \\\n",
       "99995  Ainda n\\u00E3o inaugurado oficialmente. est\\u0...       pt   \n",
       "99996  Bom atendimento. lugar bonito. comida muito go...       pt   \n",
       "99997  O Rio Scenarium \\u00E9 uma das baladas mais fa...       pt   \n",
       "99998  Fui por indica\\u00E7\\u00E3o e com boa expectat...       pt   \n",
       "99999  Experi\\u00EAncia fant\\u00E1stica com comida de...       pt   \n",
       "\n",
       "       mobileDevice      userLocation publicationDate visitDate  ...  \\\n",
       "99995          True  Porto Alegre. RS      07/05/2019   05/2019  ...   \n",
       "99996          True     Cork. Irlanda      08/06/2016   01/2016  ...   \n",
       "99997         False     São Paulo. SP      27/11/2013   11/2013  ...   \n",
       "99998          True  Porto Alegre. RS      21/02/2013      None  ...   \n",
       "99999          True        Manaus. AM      02/02/2019   02/2019  ...   \n",
       "\n",
       "               itemReviewed  \\\n",
       "99995        Boteco Maestro   \n",
       "99996  Casa do Marqu\\u00EAs   \n",
       "99997         Rio Scenarium   \n",
       "99998               Celeiro   \n",
       "99999     Coco Bambu Manaus   \n",
       "\n",
       "                                                 address addressLocality  \\\n",
       "99995                     Avenida Wenceslau Escobar 1823    Porto Alegre   \n",
       "99996      Rua Marques do Pombal. 1814 Higien\\u00F3polis    Porto Alegre   \n",
       "99997                          Rua do Lavradio 20 Centro  Rio de Janeiro   \n",
       "99998                              Rua Dias Ferreira 199  Rio de Janeiro   \n",
       "99999  Avenida Coronel Teixeira. 5705 Ponta Negra. Sh...          Manaus   \n",
       "\n",
       "                  addressRegion postalCode country  \\\n",
       "99995         Rio Grande do Sul  91900-000  Brasil   \n",
       "99996         Rio Grande do Sul  90540-000  Brasil   \n",
       "99997  Estado do Rio de Janeiro  20230-070  Brasil   \n",
       "99998  Estado do Rio de Janeiro  22431-050  Brasil   \n",
       "99999              Rio Amazonas  69037-000  Brasil   \n",
       "\n",
       "                                               website  \\\n",
       "99995            http://www.facebook.com/botecomaestro   \n",
       "99996            http://galeteriacasadomarques.com.br/   \n",
       "99997                   http://www.rioscenarium.art.br   \n",
       "99998               http://www.celeiroculinaria.com.br   \n",
       "99999  http://www.facebook.com/cocobambumanausoficial/   \n",
       "\n",
       "                                                   email        phoneNumber  \\\n",
       "99995                                               None  +55 51 99353-6602   \n",
       "99996  galeteriacasadomarques@galeteriacasadomarques....   +55 51 3343-4303   \n",
       "99997                                               None   +55 21-3147-9000   \n",
       "99998                    celeiro@celeiroculinaria.com.br    55 21 2274 7843   \n",
       "99999                            rh.manaus@cocobambu.com   +55 92 3667-7430   \n",
       "\n",
       "      averageRating  \n",
       "99995           4.0  \n",
       "99996           4.5  \n",
       "99997           4.5  \n",
       "99998           3.5  \n",
       "99999           5.0  \n",
       "\n",
       "[5 rows x 21 columns]"
      ]
     },
     "execution_count": 22,
     "metadata": {},
     "output_type": "execute_result"
    }
   ],
   "source": [
    "train_data.tail()"
   ]
  },
  {
   "cell_type": "code",
   "execution_count": 10,
   "metadata": {},
   "outputs": [
    {
     "data": {
      "text/plain": [
       "0        Comida maravilhosa. lugar do verdadeiro chicle...\n",
       "1        Comida boa. drinks legais e um ambiente bem ac...\n",
       "2        Excelente pra ir com a fam\\u00EDlia! \\u00D3tim...\n",
       "3        Tomo sorvete na Visabor faz mais de 30 anos. S...\n",
       "4        O melhor hamburger que j\\u00E1 comi! Excelente...\n",
       "                               ...                        \n",
       "99995    Ainda n\\u00E3o inaugurado oficialmente. est\\u0...\n",
       "99996    Bom atendimento. lugar bonito. comida muito go...\n",
       "99997    O Rio Scenarium \\u00E9 uma das baladas mais fa...\n",
       "99998    Fui por indica\\u00E7\\u00E3o e com boa expectat...\n",
       "99999    Experi\\u00EAncia fant\\u00E1stica com comida de...\n",
       "Name: reviewBody, Length: 100000, dtype: string"
      ]
     },
     "execution_count": 10,
     "metadata": {},
     "output_type": "execute_result"
    }
   ],
   "source": [
    "_train_data = train_data.reviewBody.astype(\"string\")\n",
    "type(_train_data)\n",
    "_train_data."
   ]
  },
  {
   "cell_type": "code",
   "execution_count": null,
   "metadata": {},
   "outputs": [],
   "source": [
    "# _blob = TextBlob(_train_data))\n",
    "# print(_blob.translate(to='en'))"
   ]
  },
  {
   "cell_type": "code",
   "execution_count": 34,
   "metadata": {
    "executionInfo": {
     "elapsed": 889,
     "status": "ok",
     "timestamp": 1604775144796,
     "user": {
      "displayName": "paulo cesar da rocha correa",
      "photoUrl": "https://lh3.googleusercontent.com/a-/AOh14GhfjqjKkqi19BFvTCJLd1b2SJHjv7CE8jW8VKcHvg=s64",
      "userId": "02019520615414855207"
     },
     "user_tz": 240
    },
    "id": "4DHNLWuYUvMa"
   },
   "outputs": [],
   "source": [
    "data = train_data\n",
    "X = data.iloc[1:11,1:5].values # aqui pode ser selecionado a coluna"
   ]
  },
  {
   "cell_type": "code",
   "execution_count": 57,
   "metadata": {},
   "outputs": [
    {
     "data": {
      "text/plain": [
       "\"[['Comida maravilhosa. lugar do verdadeiro chiclete de camar\\\\\\\\u00E3o. \\\\\\\\nO gar\\\\\\\\u00E7om \\\\\\\\u00C9ric Lima nos atendeu muito bem. pretendemos voltar assim que poss\\\\\\\\u00EDvel.']\\n ['Comida boa. drinks legais e um ambiente bem aconchegante. \\\\\\\\nProvamos muitas coisas e tudo nos agradou. Principalmente um pato servido em um dos pratos da casa. sensacional!']\\n ['Excelente pra ir com a fam\\\\\\\\u00EDlia! \\\\\\\\u00D3tima Comida. ambiente agrad\\\\\\\\u00E1vel. bom atendimento e estacionamento. Vale a pena conhecer']\\n ...\\n ['O Rio Scenarium \\\\\\\\u00E9 uma das baladas mais famosas do Rio de Janeiro. \\\\\\\\u00C9 bem grande e lotada de estrangeiros. A bebida n\\\\\\\\u00E3o \\\\\\\\u00E9 t\\\\\\\\u00E3o cara como em outras cidades. por exemplo. S\\\\\\\\u00E3o Paulo. O lado negativo \\\\\\\\u00E9 com certeza a fila. Se voc\\\\\\\\u00EA n\\\\\\\\u00E3o chegar cedo. vai ficar pelo menos 30 minutos esperando para entrar.']\\n ['Fui por indica\\\\\\\\u00E7\\\\\\\\u00E3o e com boa expectativa!\\\\\\\\n116.00 o kilo de salada... Bem caro. n\\\\\\\\u00E9?\\\\\\\\nO alface tava murcho. nada de op\\\\\\\\u00E7\\\\\\\\u00F5es de tempero. buffet pequeno...\\\\\\\\n12.00 um copo peq de suco. Aff.\\\\\\\\nNao valeu. nem pelo ambiente nem pela comida.']\\n ['Experi\\\\\\\\u00EAncia fant\\\\\\\\u00E1stica com comida deliciosa e atendimento de excel\\\\\\\\u00EAncia prestado pelo Wellington. ambiente agrad\\\\\\\\u00E1vel. m\\\\\\\\u00FAsica boa ambiente']]\""
      ]
     },
     "execution_count": 57,
     "metadata": {},
     "output_type": "execute_result"
    }
   ],
   "source": [
    "data = train_data\n",
    "col_author = data.iloc[:,4:5].values\n",
    "_data = str(col_author).encode('utf-16', 'surrogatepass')\n",
    "_data.decode('utf-16')"
   ]
  },
  {
   "cell_type": "code",
   "execution_count": 50,
   "metadata": {},
   "outputs": [
    {
     "name": "stdout",
     "output_type": "stream",
     "text": [
      "Excellent to go with the family! Ótima Comida. pleasant environment. good service and parking. worth knowing\n"
     ]
    }
   ],
   "source": [
    "# test = np.array_str(X).encode('utf-16', 'surrogatepass').decode('utf-16')\n",
    "# serieTest = pd.Series(test)\n",
    "# print(serieTest)\n",
    "test = 'Excellent to go with the family! \\u00D3tima Comida. pleasant environment. good service and parking. worth knowing'.encode('utf-16').decode('utf-16')\n",
    "# print(type(test))\n",
    "print(test)"
   ]
  },
  {
   "cell_type": "code",
   "execution_count": null,
   "metadata": {
    "colab": {
     "base_uri": "https://localhost:8080/"
    },
    "executionInfo": {
     "elapsed": 942,
     "status": "ok",
     "timestamp": 1604775146564,
     "user": {
      "displayName": "paulo cesar da rocha correa",
      "photoUrl": "https://lh3.googleusercontent.com/a-/AOh14GhfjqjKkqi19BFvTCJLd1b2SJHjv7CE8jW8VKcHvg=s64",
      "userId": "02019520615414855207"
     },
     "user_tz": 240
    },
    "id": "Tr8kx3ibBuD2",
    "outputId": "6806ba96-0eaa-4381-964f-a1fa578caea9"
   },
   "outputs": [],
   "source": [
    "serie =  pd.Series(np.array_str(X))\n",
    "serie"
   ]
  },
  {
   "cell_type": "code",
   "execution_count": 72,
   "metadata": {},
   "outputs": [
    {
     "data": {
      "text/plain": [
       "array([['Adorei a comida. tudo fresquinho e um tempero maravilhoso. Rod\\\\u00EDzio bem servido. atendimento nota 10. voltarei com certeza.'],\n",
       "       ['J\\\\u00E1 conhe\\\\u00E7o bem o de Salvador. O de Manaus n\\\\u00E3o ficou atr\\\\u00E1s. prato saboroso. ambiente super agrad\\\\u00E1vel. S\\\\u00F3 n\\\\u00E3o coloquei excelente. pois um dos gar\\\\u00E7ons ao deixar o chopp foi muito est\\\\u00FApido quando informei que havia pedido sem colarinho. obtendo como resposta que o mesmo iria baixar. Triste. por\\\\u00E9m inevit\\\\u00E1vel. acontece!'],\n",
       "       ['Eu amei. o atendimento \\\\u00E9 maravilhoso.  atenciosos e legais. E o hamb\\\\u00FArguer ?! Simplesmente perfeito. o MELHOR. n\\\\u00E3o tem compara\\\\u00E7\\\\u00E3o!!! Eu amei TUDO. J\\\\u00E1 \\\\u00E9 um dos meus lugares preferidos. S\\\\u00E9rio. sem compara\\\\u00E7\\\\u00E3o \\\\uD83D\\\\uDC97\\\\uD83D\\\\uDD25... Um al\\\\u00F4 pro atendente super atencioso Valter a\\\\u00ED. obrigadaa!!!'],\n",
       "       ['lindo o restaurante \\\\u00E9 todo climatizado.muito lindo e muito sofisticado.vale muito a pena pra quem quer uma comida boa e um lugar agradavel.']],\n",
       "      dtype=object)"
      ]
     },
     "execution_count": 72,
     "metadata": {},
     "output_type": "execute_result"
    }
   ],
   "source": [
    "commentManaus = data.iloc[90901:90905,4:5].values\n",
    "commentManaus\n",
    "# blob = TextBlob(serie[0])\n",
    "# print(blob.translate(to='en'))"
   ]
  },
  {
   "cell_type": "code",
   "execution_count": 20,
   "metadata": {
    "id": "ujFzSUHkHPBr"
   },
   "outputs": [
    {
     "name": "stdout",
     "output_type": "stream",
     "text": [
      "<class 'str'>\n",
      "Comida maravilhosa. lugar do verdadeiro chiclete de camar\\u00E3o. \\nO gar\\u00E7om \\u00C9ric Lima nos atendeu muito bem. pretendemos voltar assim que poss\\u00EDvel.\n",
      "1\n",
      "<class 'textblob.blob.TextBlob'>\n",
      "Comida maravilhosa. : 1.0\n",
      "lugar do verdadeiro chiclete de camar\\u00E3o. : 0.30000000000000004\n",
      "\\nO gar\\u00E7om \\u00C9ric Lima nos atendeu muito bem. : 0.3\n",
      "pretendemos voltar assim que poss\\u00EDvel. : 1.0\n",
      "<class 'str'>\n",
      "Comida boa. drinks legais e um ambiente bem aconchegante. \\nProvamos muitas coisas e tudo nos agradou. Principalmente um pato servido em um dos pratos da casa. sensacional!\n",
      "2\n",
      "<class 'textblob.blob.TextBlob'>\n",
      "Comida boa. : 1.0\n",
      "drinks legais e um ambiente bem aconchegante. : 0.8125\n",
      "\\nProvamos muitas coisas e tudo nos agradou. : 1.0\n",
      "Principalmente um pato servido em um dos pratos da casa. : 1.0\n",
      "sensacional! : 0.6666666666666666\n",
      "<class 'str'>\n",
      "Excelente pra ir com a fam\\u00EDlia! \\u00D3tima Comida. ambiente agrad\\u00E1vel. bom atendimento e estacionamento. Vale a pena conhecer\n",
      "3\n",
      "<class 'textblob.blob.TextBlob'>\n",
      "Excelente pra ir com a fam\\u00EDlia! : 1.0\n",
      "\\u00D3tima Comida. : 0.0\n",
      "ambiente agrad\\u00E1vel. : 0.9666666666666667\n",
      "bom atendimento e estacionamento. : 0.6000000000000001\n",
      "Vale a pena conhecer : 0.1\n",
      "<class 'str'>\n",
      "Tomo sorvete na Visabor faz mais de 30 anos. Sabores de frutas ou artificiais. Casquinha crocante e ambiente simples. Pre\\u00E7os muito bons. Recomendo\n",
      "4\n",
      "<class 'textblob.blob.TextBlob'>\n",
      "Tomo sorvete na Visabor faz mais de 30 anos. : 0.0\n",
      "Sabores de frutas ou artificiais. : 1.0\n",
      "Casquinha crocante e ambiente simples. : 0.35714285714285715\n",
      "Pre\\u00E7os muito bons. : 0.7800000000000001\n",
      "Recomendo : 0.0\n",
      "<class 'str'>\n",
      "O melhor hamburger que j\\u00E1 comi! Excelente atendimento. a comida estava \\u00F3tima. O restaurante \\u00E9 bem pequeno. mas agrad\\u00E1vel e divertido.\n",
      "5\n",
      "<class 'textblob.blob.TextBlob'>\n",
      "O melhor hamburger que j\\u00E1 comi! : 0.3\n",
      "Excelente atendimento. : 1.0\n",
      "a comida estava \\u00F3tima. : 0.5\n",
      "O restaurante \\u00E9 bem pequeno. : 0.4\n",
      "mas agrad\\u00E1vel e divertido. : 0.5833333333333334\n",
      "**End**\n"
     ]
    }
   ],
   "source": [
    "dic2 = pd.DataFrame(train_data)\n",
    "dic2['reviewBody']\n",
    "count = 0\n",
    "for _x in dic2['reviewBody']:\n",
    "    count = count + 1  \n",
    "    print(type(_x))\n",
    "    x = _x.encode('utf-16', 'surrogatepass').decode('utf-16')\n",
    "    print(x)\n",
    "    \n",
    "    print(count) #vai imprimir todos os reviews= \n",
    "        \n",
    "    comentario_blob = TextBlob(x)\n",
    "    print(type(comentario_blob))\n",
    "    comentario_blob_us = comentario_blob.translate(to='us')\n",
    "\n",
    "    for sentence_br, sentence in zip(comentario_blob.sentences, comentario_blob_us.sentences):\n",
    "        print(sentence_br, ':', sentence.sentiment.subjectivity)\n",
    "    if count == 5:\n",
    "        print('**End**')\n",
    "        break"
   ]
  },
  {
   "cell_type": "code",
   "execution_count": 81,
   "metadata": {},
   "outputs": [
    {
     "name": "stdout",
     "output_type": "stream",
     "text": [
      "<class 'str'>\n",
      "text here: O melhor hamburger que já comi! Excelente atendimento. a comida estava ótima. O restaurante é bem pequeno. mas agradável e divertido.\n",
      "O melhor hamburger que já comi! : 0.3\n",
      "Excelente atendimento. : 1.0\n",
      "a comida estava ótima. : 0.75\n",
      "O restaurante é bem pequeno. : 0.4\n",
      "mas agradável e divertido. : 0.6\n"
     ]
    }
   ],
   "source": [
    "_text = 'O melhor hamburger que j\\u00E1 comi! Excelente atendimento. a comida estava \\u00F3tima. O restaurante \\u00E9 bem pequeno. mas agrad\\u00E1vel e divertido.'\n",
    "print(type(_text))\n",
    "text = _text.encode('utf-16', 'surrogatepass').decode('utf-16')\n",
    "print('text here: '+ text)\n",
    "comentario_blob = TextBlob(text)\n",
    "comentario_blob_us = comentario_blob.translate(to='us')\n",
    "\n",
    "for sentence_br, sentence in zip(comentario_blob.sentences, comentario_blob_us.sentences):\n",
    "    print(sentence_br, ':', sentence.sentiment.subjectivity)"
   ]
  },
  {
   "cell_type": "code",
   "execution_count": null,
   "metadata": {
    "id": "T4iGsx_HERz6"
   },
   "outputs": [],
   "source": [
    "result = []\n",
    "x = []\n",
    "for _data in data:\n",
    "  print(type(_data), _data)\n",
    "  if _data == 'reviewBody':    \n",
    "    for x in _data:\n",
    "      print()\n",
    "    print(result)"
   ]
  },
  {
   "cell_type": "code",
   "execution_count": null,
   "metadata": {
    "id": "DvO5nFpwD8mf"
   },
   "outputs": [],
   "source": [
    "for x in serie:\n",
    "  print(x)\n",
    "  blob = TextBlob(x)\n",
    "  print(blob.translate(to='en'))"
   ]
  },
  {
   "cell_type": "code",
   "execution_count": null,
   "metadata": {
    "colab": {
     "base_uri": "https://localhost:8080/",
     "height": 947
    },
    "executionInfo": {
     "elapsed": 3456,
     "status": "ok",
     "timestamp": 1604725865390,
     "user": {
      "displayName": "paulo cesar da rocha correa",
      "photoUrl": "https://lh3.googleusercontent.com/a-/AOh14GhfjqjKkqi19BFvTCJLd1b2SJHjv7CE8jW8VKcHvg=s64",
      "userId": "02019520615414855207"
     },
     "user_tz": 240
    },
    "id": "mEE2DveKUvMj",
    "outputId": "4966a749-bcd9-4296-ada9-18f8d95071a9"
   },
   "outputs": [],
   "source": [
    "train_data"
   ]
  },
  {
   "cell_type": "code",
   "execution_count": null,
   "metadata": {
    "id": "I6wcIM3QUvMt"
   },
   "outputs": [],
   "source": [
    "def limparDados(text):\n",
    "    text = re.sub()\n",
    "    return text"
   ]
  },
  {
   "cell_type": "code",
   "execution_count": null,
   "metadata": {
    "colab": {
     "base_uri": "https://localhost:8080/"
    },
    "executionInfo": {
     "elapsed": 3454,
     "status": "ok",
     "timestamp": 1604725865410,
     "user": {
      "displayName": "paulo cesar da rocha correa",
      "photoUrl": "https://lh3.googleusercontent.com/a-/AOh14GhfjqjKkqi19BFvTCJLd1b2SJHjv7CE8jW8VKcHvg=s64",
      "userId": "02019520615414855207"
     },
     "user_tz": 240
    },
    "id": "WKc-qdnCUvM5",
    "outputId": "e5f6b044-57c5-4c81-a2a3-485fbc83b926"
   },
   "outputs": [],
   "source": [
    "X"
   ]
  },
  {
   "cell_type": "code",
   "execution_count": null,
   "metadata": {
    "colab": {
     "base_uri": "https://localhost:8080/"
    },
    "executionInfo": {
     "elapsed": 3448,
     "status": "ok",
     "timestamp": 1604725865416,
     "user": {
      "displayName": "paulo cesar da rocha correa",
      "photoUrl": "https://lh3.googleusercontent.com/a-/AOh14GhfjqjKkqi19BFvTCJLd1b2SJHjv7CE8jW8VKcHvg=s64",
      "userId": "02019520615414855207"
     },
     "user_tz": 240
    },
    "id": "L-bk26tTUvNE",
    "outputId": "4abb7a5f-fcbd-4091-fb14-dc34d0c0760b"
   },
   "outputs": [],
   "source": [
    "_X = np.array_str(X)\n",
    "print(_X)\n",
    "#_X.decode('unicode-escape')\n",
    "X.shape #Formato "
   ]
  },
  {
   "cell_type": "code",
   "execution_count": null,
   "metadata": {
    "colab": {
     "base_uri": "https://localhost:8080/"
    },
    "executionInfo": {
     "elapsed": 3441,
     "status": "ok",
     "timestamp": 1604725865422,
     "user": {
      "displayName": "paulo cesar da rocha correa",
      "photoUrl": "https://lh3.googleusercontent.com/a-/AOh14GhfjqjKkqi19BFvTCJLd1b2SJHjv7CE8jW8VKcHvg=s64",
      "userId": "02019520615414855207"
     },
     "user_tz": 240
    },
    "id": "V_1fOLeeUvNL",
    "outputId": "e1eee096-108d-49d4-ee7c-7bd990aa56ef"
   },
   "outputs": [],
   "source": [
    "type(X) # tipo do dado"
   ]
  },
  {
   "cell_type": "code",
   "execution_count": null,
   "metadata": {
    "colab": {
     "base_uri": "https://localhost:8080/",
     "height": 54
    },
    "executionInfo": {
     "elapsed": 3800,
     "status": "ok",
     "timestamp": 1604725865796,
     "user": {
      "displayName": "paulo cesar da rocha correa",
      "photoUrl": "https://lh3.googleusercontent.com/a-/AOh14GhfjqjKkqi19BFvTCJLd1b2SJHjv7CE8jW8VKcHvg=s64",
      "userId": "02019520615414855207"
     },
     "user_tz": 240
    },
    "id": "t0F6FmvXUvNV",
    "outputId": "6a3a3f63-ab35-460f-f4b8-b7619105af2a"
   },
   "outputs": [],
   "source": [
    "data_str = _X[0:10000]\n",
    "str(data_str).encode('unicode_escape').decode('unicode_escape')"
   ]
  },
  {
   "cell_type": "code",
   "execution_count": null,
   "metadata": {
    "id": "Wb-aUJwiUvNc"
   },
   "outputs": [],
   "source": [
    "def decodeUnicodeArray(_string):\n",
    "    espacoSeq = _string.group(0)\n",
    "    digito = espacoSeq[2:]\n",
    "    ordinal = int(digito, 16)\n",
    "    char = chr(ordinal)\n",
    "    return char\n",
    "    "
   ]
  },
  {
   "cell_type": "code",
   "execution_count": null,
   "metadata": {
    "colab": {
     "base_uri": "https://localhost:8080/",
     "height": 36
    },
    "executionInfo": {
     "elapsed": 3786,
     "status": "ok",
     "timestamp": 1604725865805,
     "user": {
      "displayName": "paulo cesar da rocha correa",
      "photoUrl": "https://lh3.googleusercontent.com/a-/AOh14GhfjqjKkqi19BFvTCJLd1b2SJHjv7CE8jW8VKcHvg=s64",
      "userId": "02019520615414855207"
     },
     "user_tz": 240
    },
    "id": "GDmR8qpWUvNk",
    "outputId": "6273c20f-a60a-48cc-ba44-329f00d41042"
   },
   "outputs": [],
   "source": [
    "re.sub(r'(\\\\u[09A-Fa-f]+)', decodeUnicodeArray, \"test\")"
   ]
  },
  {
   "cell_type": "code",
   "execution_count": null,
   "metadata": {
    "colab": {
     "base_uri": "https://localhost:8080/",
     "height": 300
    },
    "executionInfo": {
     "elapsed": 3777,
     "status": "ok",
     "timestamp": 1604725865808,
     "user": {
      "displayName": "paulo cesar da rocha correa",
      "photoUrl": "https://lh3.googleusercontent.com/a-/AOh14GhfjqjKkqi19BFvTCJLd1b2SJHjv7CE8jW8VKcHvg=s64",
      "userId": "02019520615414855207"
     },
     "user_tz": 240
    },
    "id": "kgri8ju-UvNs",
    "outputId": "1b207a55-2773-446f-85a5-5befb804ece8"
   },
   "outputs": [],
   "source": [
    "train_data.describe()"
   ]
  },
  {
   "cell_type": "code",
   "execution_count": null,
   "metadata": {
    "id": "XrUG1Rj4UvN0"
   },
   "outputs": [],
   "source": [
    "#data.drop(['title', 'restaurantId','author','reviewBody','language','userLocation','publicationDate','visitDate','ratingValue','itemReviewed','address','addressLocality','addressRegion','postalCode','country','website','email','phoneNumber','averageRating'], axis = 1, inplace=True)"
   ]
  },
  {
   "cell_type": "code",
   "execution_count": 111,
   "metadata": {
    "id": "JGDh5FzFUvN9"
   },
   "outputs": [
    {
     "data": {
      "text/plain": [
       "array([ True, False])"
      ]
     },
     "execution_count": 111,
     "metadata": {},
     "output_type": "execute_result"
    }
   ],
   "source": [
    "train_data.mobileDevice.unique()"
   ]
  },
  {
   "cell_type": "code",
   "execution_count": 112,
   "metadata": {},
   "outputs": [
    {
     "data": {
      "image/png": "[encoded data removed]",
      "text/plain": [
       "<Figure size 432x288 with 1 Axes>"
      ]
     },
     "metadata": {
      "needs_background": "light"
     },
     "output_type": "display_data"
    }
   ],
   "source": [
    "sns.countplot(train_data.userLocation);"
   ]
  },
  {
   "cell_type": "code",
   "execution_count": 116,
   "metadata": {},
   "outputs": [
    {
     "data": {
      "image/png": "[encoded data removed]",
      "text/plain": [
       "<Figure size 432x288 with 1 Axes>"
      ]
     },
     "metadata": {
      "needs_background": "light"
     },
     "output_type": "display_data"
    }
   ],
   "source": [
    "sns.countplot(train_data.userLocation == 'São Paulo');"
   ]
  },
  {
   "cell_type": "code",
   "execution_count": 115,
   "metadata": {},
   "outputs": [
    {
     "data": {
      "text/html": [
       "<div>\n",
       "<style scoped>\n",
       "    .dataframe tbody tr th:only-of-type {\n",
       "        vertical-align: middle;\n",
       "    }\n",
       "\n",
       "    .dataframe tbody tr th {\n",
       "        vertical-align: top;\n",
       "    }\n",
       "\n",
       "    .dataframe thead th {\n",
       "        text-align: right;\n",
       "    }\n",
       "</style>\n",
       "<table border=\"1\" class=\"dataframe\">\n",
       "  <thead>\n",
       "    <tr style=\"text-align: right;\">\n",
       "      <th></th>\n",
       "      <th>title</th>\n",
       "      <th>reviewId</th>\n",
       "      <th>restaurantId</th>\n",
       "      <th>author</th>\n",
       "      <th>reviewBody</th>\n",
       "      <th>language</th>\n",
       "      <th>mobileDevice</th>\n",
       "      <th>userLocation</th>\n",
       "      <th>publicationDate</th>\n",
       "      <th>visitDate</th>\n",
       "      <th>...</th>\n",
       "      <th>itemReviewed</th>\n",
       "      <th>address</th>\n",
       "      <th>addressLocality</th>\n",
       "      <th>addressRegion</th>\n",
       "      <th>postalCode</th>\n",
       "      <th>country</th>\n",
       "      <th>website</th>\n",
       "      <th>email</th>\n",
       "      <th>phoneNumber</th>\n",
       "      <th>averageRating</th>\n",
       "    </tr>\n",
       "  </thead>\n",
       "  <tbody>\n",
       "    <tr>\n",
       "      <th>58</th>\n",
       "      <td>Muito bom</td>\n",
       "      <td>213209055</td>\n",
       "      <td>2344932</td>\n",
       "      <td>Ivo M</td>\n",
       "      <td>Excelente restaurante.\\nExistiam duas unidades...</td>\n",
       "      <td>pt</td>\n",
       "      <td>True</td>\n",
       "      <td>São Paulo</td>\n",
       "      <td>01/07/2014</td>\n",
       "      <td>None</td>\n",
       "      <td>...</td>\n",
       "      <td>Imperador dos Camar\\u00F5es</td>\n",
       "      <td>Avenida Doutor Ant\\u00F4nio Gouveia</td>\n",
       "      <td>NaN</td>\n",
       "      <td>Alagoas</td>\n",
       "      <td>57030-170</td>\n",
       "      <td>Brasil</td>\n",
       "      <td>http://www.imperadordoscamaroes.com.br</td>\n",
       "      <td>contato@imperadordoscamaroes.com.br</td>\n",
       "      <td>+55 82 3231-4134</td>\n",
       "      <td>4.5</td>\n",
       "    </tr>\n",
       "    <tr>\n",
       "      <th>578</th>\n",
       "      <td>Especialista em frangos</td>\n",
       "      <td>293518511</td>\n",
       "      <td>6174992</td>\n",
       "      <td>jorge m</td>\n",
       "      <td>Especialista em frangos. Oferecem v\\u00E1rios ...</td>\n",
       "      <td>pt</td>\n",
       "      <td>False</td>\n",
       "      <td>São Paulo</td>\n",
       "      <td>28/07/2015</td>\n",
       "      <td>06/2015</td>\n",
       "      <td>...</td>\n",
       "      <td>Crispy Chicken</td>\n",
       "      <td>Avenida Aricanduva 5555 Jd Sta Terezinha Zona L</td>\n",
       "      <td>S\\u00E3o Paulo</td>\n",
       "      <td>Estado de S\\u00E3o Paulo</td>\n",
       "      <td>03527-900</td>\n",
       "      <td>Brasil</td>\n",
       "      <td>None</td>\n",
       "      <td>None</td>\n",
       "      <td>None</td>\n",
       "      <td>4.0</td>\n",
       "    </tr>\n",
       "    <tr>\n",
       "      <th>612</th>\n",
       "      <td>Pizzaria no centro gastron\\u00F4mico do Tatuap...</td>\n",
       "      <td>446688522</td>\n",
       "      <td>7989504</td>\n",
       "      <td>Toshiba2009</td>\n",
       "      <td>Houve um equ\\u00EDvoco. e corrigindo minha ava...</td>\n",
       "      <td>pt</td>\n",
       "      <td>False</td>\n",
       "      <td>São Paulo</td>\n",
       "      <td>26/12/2016</td>\n",
       "      <td>12/2016</td>\n",
       "      <td>...</td>\n",
       "      <td>1900 Pizzeria</td>\n",
       "      <td>Rua Itapura 787 Vila Gomes Cardim</td>\n",
       "      <td>S\\u00E3o Paulo</td>\n",
       "      <td>Estado de S\\u00E3o Paulo</td>\n",
       "      <td>03310-000</td>\n",
       "      <td>Brasil</td>\n",
       "      <td>http://www.1900.com.br/</td>\n",
       "      <td>sac@1900.com.br</td>\n",
       "      <td>+55 11 5904-1347</td>\n",
       "      <td>4.0</td>\n",
       "    </tr>\n",
       "    <tr>\n",
       "      <th>872</th>\n",
       "      <td>Comida Arabe por quilo</td>\n",
       "      <td>326984263</td>\n",
       "      <td>5395730</td>\n",
       "      <td>Daisysa</td>\n",
       "      <td>A comida \\u00E9 muito boa. por ser por quilo v...</td>\n",
       "      <td>pt</td>\n",
       "      <td>False</td>\n",
       "      <td>São Paulo</td>\n",
       "      <td>15/11/2015</td>\n",
       "      <td>11/2015</td>\n",
       "      <td>...</td>\n",
       "      <td>Kalili Cozinha Arabe</td>\n",
       "      <td>Rua Doutor Albuquerque Lins 686 Alto</td>\n",
       "      <td>S\\u00E3o Paulo</td>\n",
       "      <td>Estado de S\\u00E3o Paulo</td>\n",
       "      <td>01230-000</td>\n",
       "      <td>Brasil</td>\n",
       "      <td>http://kalilirestaurante.com.br</td>\n",
       "      <td>None</td>\n",
       "      <td>1138038511</td>\n",
       "      <td>4.0</td>\n",
       "    </tr>\n",
       "    <tr>\n",
       "      <th>937</th>\n",
       "      <td>Refei\\u00E7\\u00E3o r\\u00E1pida e pr\\u00E1tica</td>\n",
       "      <td>178876662</td>\n",
       "      <td>3259765</td>\n",
       "      <td>Fernando R</td>\n",
       "      <td>O Subway em refer\\u00EAncia cumpre o que prop\\...</td>\n",
       "      <td>pt</td>\n",
       "      <td>False</td>\n",
       "      <td>São Paulo</td>\n",
       "      <td>27/09/2013</td>\n",
       "      <td>09/2013</td>\n",
       "      <td>...</td>\n",
       "      <td>Subway</td>\n",
       "      <td>Avenida \\u00C1lvares Cabral. 780. Loja 07. BR ...</td>\n",
       "      <td>Belo Horizonte</td>\n",
       "      <td>Minas Gerais</td>\n",
       "      <td>30140-072</td>\n",
       "      <td>Brasil</td>\n",
       "      <td>None</td>\n",
       "      <td>None</td>\n",
       "      <td>(31) 25145503</td>\n",
       "      <td>4.0</td>\n",
       "    </tr>\n",
       "    <tr>\n",
       "      <th>...</th>\n",
       "      <td>...</td>\n",
       "      <td>...</td>\n",
       "      <td>...</td>\n",
       "      <td>...</td>\n",
       "      <td>...</td>\n",
       "      <td>...</td>\n",
       "      <td>...</td>\n",
       "      <td>...</td>\n",
       "      <td>...</td>\n",
       "      <td>...</td>\n",
       "      <td>...</td>\n",
       "      <td>...</td>\n",
       "      <td>...</td>\n",
       "      <td>...</td>\n",
       "      <td>...</td>\n",
       "      <td>...</td>\n",
       "      <td>...</td>\n",
       "      <td>...</td>\n",
       "      <td>...</td>\n",
       "      <td>...</td>\n",
       "      <td>...</td>\n",
       "    </tr>\n",
       "    <tr>\n",
       "      <th>97912</th>\n",
       "      <td>Valor de acordo com o que se \\u00E9 oferecido...</td>\n",
       "      <td>464261057</td>\n",
       "      <td>5333719</td>\n",
       "      <td>rogeriovazr</td>\n",
       "      <td>Ayoma. estivemos l\\u00E1 esta semana dia 1\\u00...</td>\n",
       "      <td>pt</td>\n",
       "      <td>False</td>\n",
       "      <td>São Paulo</td>\n",
       "      <td>03/03/2017</td>\n",
       "      <td>03/2017</td>\n",
       "      <td>...</td>\n",
       "      <td>Aoyama</td>\n",
       "      <td>Rua Bandeira Paulista.520</td>\n",
       "      <td>S\\u00E3o Paulo</td>\n",
       "      <td>Estado de S\\u00E3o Paulo</td>\n",
       "      <td>04532-011</td>\n",
       "      <td>Brasil</td>\n",
       "      <td>http://www.restauranteaoyama.com.br/</td>\n",
       "      <td>contato@restauranteaoyama.com.br</td>\n",
       "      <td>+55 11 3168-8011</td>\n",
       "      <td>4.0</td>\n",
       "    </tr>\n",
       "    <tr>\n",
       "      <th>98287</th>\n",
       "      <td>recomendo</td>\n",
       "      <td>169466863</td>\n",
       "      <td>1635341</td>\n",
       "      <td>Alim J</td>\n",
       "      <td>muito bom atendimento e uma comida deliciosa. ...</td>\n",
       "      <td>pt</td>\n",
       "      <td>False</td>\n",
       "      <td>São Paulo</td>\n",
       "      <td>28/07/2013</td>\n",
       "      <td>12/2012</td>\n",
       "      <td>...</td>\n",
       "      <td>Cabana do Sol</td>\n",
       "      <td>Rua Joao Damasceno 24 A Farol de Sao Marcos</td>\n",
       "      <td>S\\u00E3o Lu\\u00EDs</td>\n",
       "      <td>Maranh\\u00E3o</td>\n",
       "      <td>65077-630</td>\n",
       "      <td>Brasil</td>\n",
       "      <td>http://www.cabanadosol.com.br/content/falecono...</td>\n",
       "      <td>None</td>\n",
       "      <td>98 3235 2586</td>\n",
       "      <td>4.5</td>\n",
       "    </tr>\n",
       "    <tr>\n",
       "      <th>98810</th>\n",
       "      <td>Melhor churrascaria de S\\u00E3o Paulo</td>\n",
       "      <td>283872155</td>\n",
       "      <td>786437</td>\n",
       "      <td>Eduardo_Barbosa66</td>\n",
       "      <td>Considero a melhor churrascaria de S\\u00E3o Pa...</td>\n",
       "      <td>pt</td>\n",
       "      <td>False</td>\n",
       "      <td>São Paulo</td>\n",
       "      <td>29/06/2015</td>\n",
       "      <td>07/2014</td>\n",
       "      <td>...</td>\n",
       "      <td>Fogo De Ch\\u00E3o</td>\n",
       "      <td>Av. Santo Amaro 6824 Santo Amaro</td>\n",
       "      <td>S\\u00E3o Paulo</td>\n",
       "      <td>Estado de S\\u00E3o Paulo</td>\n",
       "      <td>04702-002</td>\n",
       "      <td>Brasil</td>\n",
       "      <td>https://www.facebook.com/fogodechaosantoamaro/</td>\n",
       "      <td>santoamaro@fogodechao.com.br</td>\n",
       "      <td>+55 11 5524-0500</td>\n",
       "      <td>4.5</td>\n",
       "    </tr>\n",
       "    <tr>\n",
       "      <th>99479</th>\n",
       "      <td>Comida e atendimento excelentes</td>\n",
       "      <td>230010388</td>\n",
       "      <td>2360313</td>\n",
       "      <td>Gilmar S</td>\n",
       "      <td>Apesar de ficar dentro de uma vila. o ambiente...</td>\n",
       "      <td>pt</td>\n",
       "      <td>False</td>\n",
       "      <td>São Paulo</td>\n",
       "      <td>20/09/2014</td>\n",
       "      <td>09/2014</td>\n",
       "      <td>...</td>\n",
       "      <td>Remanso do Peixe</td>\n",
       "      <td>Travessa Bar\\u00E3o do Triunfo 2590 Casa 64 En...</td>\n",
       "      <td>Bel\\u00E9m</td>\n",
       "      <td>Par\\u00E1</td>\n",
       "      <td>66087-270</td>\n",
       "      <td>Brasil</td>\n",
       "      <td>http://pt-br.facebook.com/RemansoDoPeixe</td>\n",
       "      <td>contato@restauranteremanso.com.br</td>\n",
       "      <td>+55 91 32282477</td>\n",
       "      <td>4.5</td>\n",
       "    </tr>\n",
       "    <tr>\n",
       "      <th>99691</th>\n",
       "      <td>Mineir\\u00EDssimo!</td>\n",
       "      <td>575018203</td>\n",
       "      <td>3261242</td>\n",
       "      <td>Danillo S</td>\n",
       "      <td>Tanto a unidade da Rua Sergipe quanto a da Pad...</td>\n",
       "      <td>pt</td>\n",
       "      <td>False</td>\n",
       "      <td>São Paulo</td>\n",
       "      <td>22/04/2018</td>\n",
       "      <td>04/2018</td>\n",
       "      <td>...</td>\n",
       "      <td>Restaurante Dona Lucinha</td>\n",
       "      <td>Rua Padre Odorico. 38</td>\n",
       "      <td>Belo Horizonte</td>\n",
       "      <td>Minas Gerais</td>\n",
       "      <td>30330-040</td>\n",
       "      <td>Brasil</td>\n",
       "      <td>http://www.donalucinha.com.br</td>\n",
       "      <td>None</td>\n",
       "      <td>+55 31 3227-0562</td>\n",
       "      <td>4.0</td>\n",
       "    </tr>\n",
       "  </tbody>\n",
       "</table>\n",
       "<p>252 rows × 21 columns</p>\n",
       "</div>"
      ],
      "text/plain": [
       "                                                   title   reviewId  \\\n",
       "58                                             Muito bom  213209055   \n",
       "578                              Especialista em frangos  293518511   \n",
       "612    Pizzaria no centro gastron\\u00F4mico do Tatuap...  446688522   \n",
       "872                               Comida Arabe por quilo  326984263   \n",
       "937        Refei\\u00E7\\u00E3o r\\u00E1pida e pr\\u00E1tica  178876662   \n",
       "...                                                  ...        ...   \n",
       "97912   Valor de acordo com o que se \\u00E9 oferecido...  464261057   \n",
       "98287                                          recomendo  169466863   \n",
       "98810              Melhor churrascaria de S\\u00E3o Paulo  283872155   \n",
       "99479                    Comida e atendimento excelentes  230010388   \n",
       "99691                                 Mineir\\u00EDssimo!  575018203   \n",
       "\n",
       "      restaurantId             author  \\\n",
       "58         2344932              Ivo M   \n",
       "578        6174992            jorge m   \n",
       "612        7989504        Toshiba2009   \n",
       "872        5395730            Daisysa   \n",
       "937        3259765         Fernando R   \n",
       "...            ...                ...   \n",
       "97912      5333719        rogeriovazr   \n",
       "98287      1635341             Alim J   \n",
       "98810       786437  Eduardo_Barbosa66   \n",
       "99479      2360313           Gilmar S   \n",
       "99691      3261242          Danillo S   \n",
       "\n",
       "                                              reviewBody language  \\\n",
       "58     Excelente restaurante.\\nExistiam duas unidades...       pt   \n",
       "578    Especialista em frangos. Oferecem v\\u00E1rios ...       pt   \n",
       "612    Houve um equ\\u00EDvoco. e corrigindo minha ava...       pt   \n",
       "872    A comida \\u00E9 muito boa. por ser por quilo v...       pt   \n",
       "937    O Subway em refer\\u00EAncia cumpre o que prop\\...       pt   \n",
       "...                                                  ...      ...   \n",
       "97912  Ayoma. estivemos l\\u00E1 esta semana dia 1\\u00...       pt   \n",
       "98287  muito bom atendimento e uma comida deliciosa. ...       pt   \n",
       "98810  Considero a melhor churrascaria de S\\u00E3o Pa...       pt   \n",
       "99479  Apesar de ficar dentro de uma vila. o ambiente...       pt   \n",
       "99691  Tanto a unidade da Rua Sergipe quanto a da Pad...       pt   \n",
       "\n",
       "       mobileDevice userLocation publicationDate visitDate  ...  \\\n",
       "58             True    São Paulo      01/07/2014      None  ...   \n",
       "578           False    São Paulo      28/07/2015   06/2015  ...   \n",
       "612           False    São Paulo      26/12/2016   12/2016  ...   \n",
       "872           False    São Paulo      15/11/2015   11/2015  ...   \n",
       "937           False    São Paulo      27/09/2013   09/2013  ...   \n",
       "...             ...          ...             ...       ...  ...   \n",
       "97912         False    São Paulo      03/03/2017   03/2017  ...   \n",
       "98287         False    São Paulo      28/07/2013   12/2012  ...   \n",
       "98810         False    São Paulo      29/06/2015   07/2014  ...   \n",
       "99479         False    São Paulo      20/09/2014   09/2014  ...   \n",
       "99691         False    São Paulo      22/04/2018   04/2018  ...   \n",
       "\n",
       "                      itemReviewed  \\\n",
       "58     Imperador dos Camar\\u00F5es   \n",
       "578                 Crispy Chicken   \n",
       "612                  1900 Pizzeria   \n",
       "872           Kalili Cozinha Arabe   \n",
       "937                         Subway   \n",
       "...                            ...   \n",
       "97912                       Aoyama   \n",
       "98287                Cabana do Sol   \n",
       "98810            Fogo De Ch\\u00E3o   \n",
       "99479             Remanso do Peixe   \n",
       "99691     Restaurante Dona Lucinha   \n",
       "\n",
       "                                                 address     addressLocality  \\\n",
       "58                   Avenida Doutor Ant\\u00F4nio Gouveia                 NaN   \n",
       "578      Avenida Aricanduva 5555 Jd Sta Terezinha Zona L      S\\u00E3o Paulo   \n",
       "612                    Rua Itapura 787 Vila Gomes Cardim      S\\u00E3o Paulo   \n",
       "872                 Rua Doutor Albuquerque Lins 686 Alto      S\\u00E3o Paulo   \n",
       "937    Avenida \\u00C1lvares Cabral. 780. Loja 07. BR ...      Belo Horizonte   \n",
       "...                                                  ...                 ...   \n",
       "97912                          Rua Bandeira Paulista.520      S\\u00E3o Paulo   \n",
       "98287        Rua Joao Damasceno 24 A Farol de Sao Marcos  S\\u00E3o Lu\\u00EDs   \n",
       "98810                   Av. Santo Amaro 6824 Santo Amaro      S\\u00E3o Paulo   \n",
       "99479  Travessa Bar\\u00E3o do Triunfo 2590 Casa 64 En...          Bel\\u00E9m   \n",
       "99691                              Rua Padre Odorico. 38      Belo Horizonte   \n",
       "\n",
       "                  addressRegion postalCode country  \\\n",
       "58                      Alagoas  57030-170  Brasil   \n",
       "578    Estado de S\\u00E3o Paulo  03527-900  Brasil   \n",
       "612    Estado de S\\u00E3o Paulo  03310-000  Brasil   \n",
       "872    Estado de S\\u00E3o Paulo  01230-000  Brasil   \n",
       "937                Minas Gerais  30140-072  Brasil   \n",
       "...                         ...        ...     ...   \n",
       "97912  Estado de S\\u00E3o Paulo  04532-011  Brasil   \n",
       "98287             Maranh\\u00E3o  65077-630  Brasil   \n",
       "98810  Estado de S\\u00E3o Paulo  04702-002  Brasil   \n",
       "99479                 Par\\u00E1  66087-270  Brasil   \n",
       "99691              Minas Gerais  30330-040  Brasil   \n",
       "\n",
       "                                                 website  \\\n",
       "58                http://www.imperadordoscamaroes.com.br   \n",
       "578                                                 None   \n",
       "612                              http://www.1900.com.br/   \n",
       "872                      http://kalilirestaurante.com.br   \n",
       "937                                                 None   \n",
       "...                                                  ...   \n",
       "97912               http://www.restauranteaoyama.com.br/   \n",
       "98287  http://www.cabanadosol.com.br/content/falecono...   \n",
       "98810     https://www.facebook.com/fogodechaosantoamaro/   \n",
       "99479           http://pt-br.facebook.com/RemansoDoPeixe   \n",
       "99691                      http://www.donalucinha.com.br   \n",
       "\n",
       "                                     email       phoneNumber averageRating  \n",
       "58     contato@imperadordoscamaroes.com.br  +55 82 3231-4134           4.5  \n",
       "578                                   None              None           4.0  \n",
       "612                        sac@1900.com.br  +55 11 5904-1347           4.0  \n",
       "872                                   None        1138038511           4.0  \n",
       "937                                   None     (31) 25145503           4.0  \n",
       "...                                    ...               ...           ...  \n",
       "97912     contato@restauranteaoyama.com.br  +55 11 3168-8011           4.0  \n",
       "98287                                 None      98 3235 2586           4.5  \n",
       "98810         santoamaro@fogodechao.com.br  +55 11 5524-0500           4.5  \n",
       "99479    contato@restauranteremanso.com.br   +55 91 32282477           4.5  \n",
       "99691                                 None  +55 31 3227-0562           4.0  \n",
       "\n",
       "[252 rows x 21 columns]"
      ]
     },
     "execution_count": 115,
     "metadata": {},
     "output_type": "execute_result"
    }
   ],
   "source": [
    "train_data.loc[train_data.userLocation == 'São Paulo']"
   ]
  },
  {
   "cell_type": "code",
   "execution_count": 85,
   "metadata": {
    "colab": {
     "base_uri": "https://localhost:8080/",
     "height": 337
    },
    "executionInfo": {
     "elapsed": 24384,
     "status": "ok",
     "timestamp": 1604762080389,
     "user": {
      "displayName": "paulo cesar da rocha correa",
      "photoUrl": "https://lh3.googleusercontent.com/a-/AOh14GhfjqjKkqi19BFvTCJLd1b2SJHjv7CE8jW8VKcHvg=s64",
      "userId": "02019520615414855207"
     },
     "user_tz": 240
    },
    "id": "3zA_8hhkUvOE",
    "outputId": "721ee675-23b6-46fe-caa3-d02f30c58a7f",
    "scrolled": false
   },
   "outputs": [
    {
     "data": {
      "image/png": "[encoded data removed]",
      "text/plain": [
       "<Figure size 432x288 with 1 Axes>"
      ]
     },
     "metadata": {
      "needs_background": "light"
     },
     "output_type": "display_data"
    }
   ],
   "source": [
    "sns.countplot(train_data.mobileDevice);"
   ]
  },
  {
   "cell_type": "code",
   "execution_count": 88,
   "metadata": {},
   "outputs": [
    {
     "data": {
      "image/png": "[encoded data removed]",
      "text/plain": [
       "<Figure size 432x288 with 1 Axes>"
      ]
     },
     "metadata": {
      "needs_background": "light"
     },
     "output_type": "display_data"
    }
   ],
   "source": [
    "sns.countplot(train_data.averageRating);"
   ]
  },
  {
   "cell_type": "code",
   "execution_count": 105,
   "metadata": {},
   "outputs": [
    {
     "data": {
      "image/png": "[encoded data removed]",
      "text/plain": [
       "<Figure size 432x288 with 1 Axes>"
      ]
     },
     "metadata": {
      "needs_background": "light"
     },
     "output_type": "display_data"
    }
   ],
   "source": [
    "sns.countplot(train_data.ratingValue);"
   ]
  },
  {
   "cell_type": "code",
   "execution_count": 109,
   "metadata": {},
   "outputs": [
    {
     "data": {
      "image/png": "[encoded data removed]",
      "text/plain": [
       "<Figure size 432x288 with 1 Axes>"
      ]
     },
     "metadata": {
      "needs_background": "light"
     },
     "output_type": "display_data"
    }
   ],
   "source": [
    "sns.countplot(train_data.country);"
   ]
  },
  {
   "cell_type": "code",
   "execution_count": 108,
   "metadata": {},
   "outputs": [
    {
     "data": {
      "image/png": "[encoded data removed]",
      "text/plain": [
       "<Figure size 432x288 with 1 Axes>"
      ]
     },
     "metadata": {
      "needs_background": "light"
     },
     "output_type": "display_data"
    }
   ],
   "source": [
    "sns.countplot(train_data.groupby('publicationDate').averageRating.count());"
   ]
  },
  {
   "cell_type": "code",
   "execution_count": 119,
   "metadata": {},
   "outputs": [
    {
     "data": {
      "image/png": "[encoded data removed]",
      "text/plain": [
       "<Figure size 432x288 with 1 Axes>"
      ]
     },
     "metadata": {
      "needs_background": "light"
     },
     "output_type": "display_data"
    }
   ],
   "source": [
    "sns.countplot(train_data.groupby('userLocation').publicationDate.count());"
   ]
  },
  {
   "cell_type": "code",
   "execution_count": 89,
   "metadata": {
    "colab": {
     "base_uri": "https://localhost:8080/",
     "height": 401
    },
    "executionInfo": {
     "elapsed": 32689,
     "status": "ok",
     "timestamp": 1604762109263,
     "user": {
      "displayName": "paulo cesar da rocha correa",
      "photoUrl": "https://lh3.googleusercontent.com/a-/AOh14GhfjqjKkqi19BFvTCJLd1b2SJHjv7CE8jW8VKcHvg=s64",
      "userId": "02019520615414855207"
     },
     "user_tz": 240
    },
    "id": "QO4WgOMzUvOJ",
    "outputId": "038d4b6e-ebb0-41f2-a9c3-042a96e36d23"
   },
   "outputs": [
    {
     "data": {
      "text/plain": [
       "<seaborn.axisgrid.FacetGrid at 0x7f0a23d10710>"
      ]
     },
     "execution_count": 89,
     "metadata": {},
     "output_type": "execute_result"
    },
    {
     "data": {
      "image/png": "[encoded data removed]",
      "text/plain": [
       "<Figure size 360x360 with 1 Axes>"
      ]
     },
     "metadata": {
      "needs_background": "light"
     },
     "output_type": "display_data"
    }
   ],
   "source": [
    "sns.catplot(x=\"mobileDevice\", kind=\"count\", palette=\"ch:.25\", data=train_data)"
   ]
  },
  {
   "cell_type": "code",
   "execution_count": 110,
   "metadata": {},
   "outputs": [
    {
     "data": {
      "text/plain": [
       "<seaborn.axisgrid.FacetGrid at 0x7f0a24037910>"
      ]
     },
     "execution_count": 110,
     "metadata": {},
     "output_type": "execute_result"
    },
    {
     "data": {
      "image/png": "[encoded data removed]",
      "text/plain": [
       "<Figure size 360x360 with 1 Axes>"
      ]
     },
     "metadata": {
      "needs_background": "light"
     },
     "output_type": "display_data"
    }
   ],
   "source": [
    "sns.catplot(x=\"userLocation\", kind=\"count\", palette=\"ch:.25\", data=train_data)"
   ]
  },
  {
   "cell_type": "code",
   "execution_count": 90,
   "metadata": {
    "colab": {
     "base_uri": "https://localhost:8080/",
     "height": 35
    },
    "executionInfo": {
     "elapsed": 829,
     "status": "ok",
     "timestamp": 1604759209282,
     "user": {
      "displayName": "paulo cesar da rocha correa",
      "photoUrl": "https://lh3.googleusercontent.com/a-/AOh14GhfjqjKkqi19BFvTCJLd1b2SJHjv7CE8jW8VKcHvg=s64",
      "userId": "02019520615414855207"
     },
     "user_tz": 240
    },
    "id": "ThGEN0-fUvOO",
    "outputId": "de0316b4-7f7f-409c-8969-dd69260335ba"
   },
   "outputs": [
    {
     "data": {
      "text/plain": [
       "'/home/pcorrea/Documents/Ciencia-De-Dados-UEA/gitTest'"
      ]
     },
     "execution_count": 90,
     "metadata": {},
     "output_type": "execute_result"
    }
   ],
   "source": [
    "%pwd"
   ]
  },
  {
   "cell_type": "code",
   "execution_count": 91,
   "metadata": {
    "executionInfo": {
     "elapsed": 1014,
     "status": "ok",
     "timestamp": 1604781539366,
     "user": {
      "displayName": "paulo cesar da rocha correa",
      "photoUrl": "https://lh3.googleusercontent.com/a-/AOh14GhfjqjKkqi19BFvTCJLd1b2SJHjv7CE8jW8VKcHvg=s64",
      "userId": "02019520615414855207"
     },
     "user_tz": 240
    },
    "id": "1RdwUC5hGig6"
   },
   "outputs": [],
   "source": [
    "f1 = (2*66.6*66.6)/(66.6+66.6)"
   ]
  },
  {
   "cell_type": "code",
   "execution_count": 92,
   "metadata": {
    "colab": {
     "base_uri": "https://localhost:8080/"
    },
    "executionInfo": {
     "elapsed": 809,
     "status": "ok",
     "timestamp": 1604781540287,
     "user": {
      "displayName": "paulo cesar da rocha correa",
      "photoUrl": "https://lh3.googleusercontent.com/a-/AOh14GhfjqjKkqi19BFvTCJLd1b2SJHjv7CE8jW8VKcHvg=s64",
      "userId": "02019520615414855207"
     },
     "user_tz": 240
    },
    "id": "UQE1MRt0bhm-",
    "outputId": "cced780c-9849-42cb-bdc1-d0bf4add5e31"
   },
   "outputs": [
    {
     "data": {
      "text/plain": [
       "66.6"
      ]
     },
     "execution_count": 92,
     "metadata": {},
     "output_type": "execute_result"
    }
   ],
   "source": [
    "f1"
   ]
  },
  {
   "cell_type": "code",
   "execution_count": 93,
   "metadata": {
    "colab": {
     "base_uri": "https://localhost:8080/"
    },
    "executionInfo": {
     "elapsed": 819,
     "status": "ok",
     "timestamp": 1604782000978,
     "user": {
      "displayName": "paulo cesar da rocha correa",
      "photoUrl": "https://lh3.googleusercontent.com/a-/AOh14GhfjqjKkqi19BFvTCJLd1b2SJHjv7CE8jW8VKcHvg=s64",
      "userId": "02019520615414855207"
     },
     "user_tz": 240
    },
    "id": "Ku2pu49tbiW2",
    "outputId": "d46b8805-5f4d-49bd-9000-685f46409d0f"
   },
   "outputs": [
    {
     "data": {
      "text/plain": [
       "75.0"
      ]
     },
     "execution_count": 93,
     "metadata": {},
     "output_type": "execute_result"
    }
   ],
   "source": [
    "f2 = (2*60*100)/(60+100)\n",
    "f2\n"
   ]
  },
  {
   "cell_type": "code",
   "execution_count": 94,
   "metadata": {
    "colab": {
     "base_uri": "https://localhost:8080/"
    },
    "executionInfo": {
     "elapsed": 914,
     "status": "ok",
     "timestamp": 1604782282091,
     "user": {
      "displayName": "paulo cesar da rocha correa",
      "photoUrl": "https://lh3.googleusercontent.com/a-/AOh14GhfjqjKkqi19BFvTCJLd1b2SJHjv7CE8jW8VKcHvg=s64",
      "userId": "02019520615414855207"
     },
     "user_tz": 240
    },
    "id": "uU0mHKZbddUR",
    "outputId": "47a26920-558d-4ff1-f6b4-55e1c7589eda"
   },
   "outputs": [
    {
     "data": {
      "text/plain": [
       "50.0"
      ]
     },
     "execution_count": 94,
     "metadata": {},
     "output_type": "execute_result"
    }
   ],
   "source": [
    "f1p = (2*50*50)/(50+50)\n",
    "f1p"
   ]
  },
  {
   "cell_type": "code",
   "execution_count": 95,
   "metadata": {
    "colab": {
     "base_uri": "https://localhost:8080/"
    },
    "executionInfo": {
     "elapsed": 863,
     "status": "ok",
     "timestamp": 1604782533594,
     "user": {
      "displayName": "paulo cesar da rocha correa",
      "photoUrl": "https://lh3.googleusercontent.com/a-/AOh14GhfjqjKkqi19BFvTCJLd1b2SJHjv7CE8jW8VKcHvg=s64",
      "userId": "02019520615414855207"
     },
     "user_tz": 240
    },
    "id": "2XbtvPEDelEB",
    "outputId": "ebc48a8d-578a-44b7-df97-d3648dccc61c"
   },
   "outputs": [
    {
     "data": {
      "text/plain": [
       "1.0"
      ]
     },
     "execution_count": 95,
     "metadata": {},
     "output_type": "execute_result"
    }
   ],
   "source": [
    "P = 4/4\n",
    "R = 4/4\n",
    "f2p = (2*P*R)/(P+R)\n",
    "f2p"
   ]
  },
  {
   "cell_type": "code",
   "execution_count": 96,
   "metadata": {
    "id": "iTaSNLjJfify"
   },
   "outputs": [
    {
     "name": "stdout",
     "output_type": "stream",
     "text": [
      "text here: Sushiloko já foi melhor e mais barato. claro que continua bom. mas os preços dos combos já não estão mais em conta\n",
      "Sushiloko já foi melhor e mais barato. : 0.0\n",
      "claro que continua bom. : 0.0\n",
      "mas os preços dos combos já não estão mais em conta : 0.0\n"
     ]
    }
   ],
   "source": [
    "#print('Conhe\\u00E7o e aprecio comida \\u00E1rabe desde muito pequena. Minha av\\u00F3 cozinhava divinamente. \\nRaras vezes degustei fora de casa sabores t\\u00E3o marcantes e harm\\u00F4nicos! O ambiente \\u00E9 familiar e iluminado. O novo espa\\u00E7o ficou incr\\u00EDvel. Frequento e Recomendo! \\u2764\\uFE0F\\nParab\\u00E9ns.  \\uD83D\\uDC4F\\uD83C\\uDFFB\\uD83D\\uDC4F\\uD83C\\uDFFB\\uD83D\\uDC4F\\uD83C\\uDFFB'.encode('utf-16', 'surrogatepass').decode('utf-16'))\n",
    "#print(type('Conhe\\u00E7o e aprecio comida \\u00E1rabe desde muito pequena. Minha av\\u00F3 cozinhava divinamente. \\nRaras veze'))\n",
    "# import nltk\n",
    "# nltk.download('punkt')\n",
    "# from textblob import TextBlob\n",
    "#text = 'Conhe\\u00E7o e aprecio comida \\u00E1rabe desde muito pequena. Minha av\\u00F3 cozinhava divinamente. \\nRaras vezes degustei fora de casa sabores t\\u00E3o marcantes e harm\\u00F4nicos! O ambiente \\u00E9 familiar e iluminado. O novo espa\\u00E7o ficou incr\\u00EDvel. Frequento e Recomendo! \\u2764\\uFE0F\\nParab\\u00E9ns.  \\uD83D\\uDC4F\\uD83C\\uDFFB\\uD83D\\uDC4F\\uD83C\\uDFFB\\uD83D\\uDC4F\\uD83C\\uDFFB \\nFoi muito ruim demais! \\n Não irei voltar mais neste lugar'.encode('utf-16', 'surrogatepass').decode('utf-16')\n",
    "text = 'Sushiloko j\\u00E1 foi melhor e mais barato. claro que continua bom. mas os pre\\u00E7os dos combos j\\u00E1 n\\u00E3o est\\u00E3o mais em conta'.encode('utf-16', 'surrogatepass').decode('utf-16')\n",
    "\n",
    "print('text here: '+ text)\n",
    "comentario_blob = TextBlob(text)\n",
    "comentario_blob_us = comentario_blob.translate(to='fr')\n",
    "\n",
    "for sentence_br, sentence in zip(comentario_blob.sentences, comentario_blob_us.sentences):\n",
    "    print(sentence_br, ':', sentence.sentiment.subjectivity)"
   ]
  },
  {
   "cell_type": "code",
   "execution_count": 97,
   "metadata": {},
   "outputs": [],
   "source": [
    "#['title','reviewId', 'restaurantId','author','reviewBody','language','mobileDevice','userLocation','publicationDate','visitDate','ratingValue','itemReviewed','address','addressLocality','addressRegion','postalCode','country','website','email','phoneNumber','averageRating']"
   ]
  },
  {
   "cell_type": "code",
   "execution_count": 98,
   "metadata": {},
   "outputs": [
    {
     "name": "stdout",
     "output_type": "stream",
     "text": [
      "Sushiloko já foi melhor e mais barato. : 0.0\n",
      "claro que continua bom. : 0.0\n",
      "mas os preços dos combos já não estão mais em conta : 0.0\n"
     ]
    }
   ],
   "source": [
    "for sentence_br, sentence in zip(comentario_blob.sentences, comentario_blob_us.sentences):\n",
    "    print(sentence_br, ':', sentence.sentiment.polarity)"
   ]
  },
  {
   "cell_type": "code",
   "execution_count": 99,
   "metadata": {},
   "outputs": [
    {
     "data": {
      "text/plain": [
       "mobileDevice\n",
       "False    57599\n",
       "True     42401\n",
       "Name: averageRating, dtype: int64"
      ]
     },
     "execution_count": 99,
     "metadata": {},
     "output_type": "execute_result"
    }
   ],
   "source": [
    "train_data.groupby('mobileDevice').averageRating.count()"
   ]
  },
  {
   "cell_type": "code",
   "execution_count": 100,
   "metadata": {},
   "outputs": [
    {
     "data": {
      "text/plain": [
       "publicationDate\n",
       "01/01/2013     3\n",
       "01/01/2014    17\n",
       "01/01/2015    19\n",
       "01/01/2016    34\n",
       "01/01/2017    31\n",
       "              ..\n",
       "31/12/2015    52\n",
       "31/12/2016    17\n",
       "31/12/2017    24\n",
       "31/12/2018    17\n",
       "31/12/2019    18\n",
       "Name: averageRating, Length: 3106, dtype: int64"
      ]
     },
     "execution_count": 100,
     "metadata": {},
     "output_type": "execute_result"
    }
   ],
   "source": [
    "train_data.groupby('publicationDate').averageRating.count()"
   ]
  },
  {
   "cell_type": "code",
   "execution_count": 101,
   "metadata": {},
   "outputs": [
    {
     "data": {
      "text/plain": [
       "<matplotlib.axes._subplots.AxesSubplot at 0x7f0a21d7c050>"
      ]
     },
     "execution_count": 101,
     "metadata": {},
     "output_type": "execute_result"
    },
    {
     "data": {
      "image/png": "[encoded data removed]",
      "text/plain": [
       "<Figure size 432x288 with 1 Axes>"
      ]
     },
     "metadata": {
      "needs_background": "light"
     },
     "output_type": "display_data"
    }
   ],
   "source": [
    "train_data.groupby('userLocation').averageRating.count().plot()"
   ]
  },
  {
   "cell_type": "code",
   "execution_count": 102,
   "metadata": {},
   "outputs": [
    {
     "data": {
      "text/html": [
       "<div>\n",
       "<style scoped>\n",
       "    .dataframe tbody tr th:only-of-type {\n",
       "        vertical-align: middle;\n",
       "    }\n",
       "\n",
       "    .dataframe tbody tr th {\n",
       "        vertical-align: top;\n",
       "    }\n",
       "\n",
       "    .dataframe thead th {\n",
       "        text-align: right;\n",
       "    }\n",
       "</style>\n",
       "<table border=\"1\" class=\"dataframe\">\n",
       "  <thead>\n",
       "    <tr style=\"text-align: right;\">\n",
       "      <th></th>\n",
       "      <th>title</th>\n",
       "      <th>reviewId</th>\n",
       "      <th>restaurantId</th>\n",
       "      <th>author</th>\n",
       "      <th>reviewBody</th>\n",
       "      <th>language</th>\n",
       "      <th>mobileDevice</th>\n",
       "      <th>publicationDate</th>\n",
       "      <th>visitDate</th>\n",
       "      <th>ratingValue</th>\n",
       "      <th>itemReviewed</th>\n",
       "      <th>address</th>\n",
       "      <th>addressLocality</th>\n",
       "      <th>addressRegion</th>\n",
       "      <th>postalCode</th>\n",
       "      <th>country</th>\n",
       "      <th>website</th>\n",
       "      <th>email</th>\n",
       "      <th>phoneNumber</th>\n",
       "      <th>averageRating</th>\n",
       "    </tr>\n",
       "    <tr>\n",
       "      <th>userLocation</th>\n",
       "      <th></th>\n",
       "      <th></th>\n",
       "      <th></th>\n",
       "      <th></th>\n",
       "      <th></th>\n",
       "      <th></th>\n",
       "      <th></th>\n",
       "      <th></th>\n",
       "      <th></th>\n",
       "      <th></th>\n",
       "      <th></th>\n",
       "      <th></th>\n",
       "      <th></th>\n",
       "      <th></th>\n",
       "      <th></th>\n",
       "      <th></th>\n",
       "      <th></th>\n",
       "      <th></th>\n",
       "      <th></th>\n",
       "      <th></th>\n",
       "    </tr>\n",
       "  </thead>\n",
       "  <tbody>\n",
       "    <tr>\n",
       "      <th>São Carlos. SP</th>\n",
       "      <td>Jantar</td>\n",
       "      <td>692856288</td>\n",
       "      <td>2344932</td>\n",
       "      <td>larinhavercosa222</td>\n",
       "      <td>Comida maravilhosa. lugar do verdadeiro chicle...</td>\n",
       "      <td>pt</td>\n",
       "      <td>True</td>\n",
       "      <td>26/07/2019</td>\n",
       "      <td>07/2019</td>\n",
       "      <td>5</td>\n",
       "      <td>Imperador dos Camar\\u00F5es</td>\n",
       "      <td>Avenida Doutor Ant\\u00F4nio Gouveia</td>\n",
       "      <td>NaN</td>\n",
       "      <td>Alagoas</td>\n",
       "      <td>57030-170</td>\n",
       "      <td>Brasil</td>\n",
       "      <td>http://www.imperadordoscamaroes.com.br</td>\n",
       "      <td>contato@imperadordoscamaroes.com.br</td>\n",
       "      <td>+55 82 3231-4134</td>\n",
       "      <td>4.5</td>\n",
       "    </tr>\n",
       "    <tr>\n",
       "      <th>Manaus. AM</th>\n",
       "      <td>Uma boa experi\\u00EAncia.</td>\n",
       "      <td>229208487</td>\n",
       "      <td>3720906</td>\n",
       "      <td>Pano P</td>\n",
       "      <td>Comida boa. drinks legais e um ambiente bem ac...</td>\n",
       "      <td>pt</td>\n",
       "      <td>True</td>\n",
       "      <td>16/09/2014</td>\n",
       "      <td>None</td>\n",
       "      <td>4</td>\n",
       "      <td>Guacamole Natal</td>\n",
       "      <td>Avenida Praia de Ponta Negra 9068 Ponta Negra</td>\n",
       "      <td>NaN</td>\n",
       "      <td>Rio Grande do Norte</td>\n",
       "      <td>59092-100</td>\n",
       "      <td>Brasil</td>\n",
       "      <td>http://www.facebook.com/GuacamoleNatal</td>\n",
       "      <td>guacamolenatal@gmail.com</td>\n",
       "      <td>+55 84 3219-3646</td>\n",
       "      <td>4.5</td>\n",
       "    </tr>\n",
       "    <tr>\n",
       "      <th>Goiânia. GO</th>\n",
       "      <td>Otimo self service</td>\n",
       "      <td>679002332</td>\n",
       "      <td>2248105</td>\n",
       "      <td>Magma100</td>\n",
       "      <td>Excelente pra ir com a fam\\u00EDlia! \\u00D3tim...</td>\n",
       "      <td>pt</td>\n",
       "      <td>True</td>\n",
       "      <td>04/06/2019</td>\n",
       "      <td>07/2018</td>\n",
       "      <td>4</td>\n",
       "      <td>Chica Pitanga</td>\n",
       "      <td>Rua Petrolina 19</td>\n",
       "      <td>Recife</td>\n",
       "      <td>Pernambuco</td>\n",
       "      <td>51021-250</td>\n",
       "      <td>Brasil</td>\n",
       "      <td>http://www.chicapitanga.com.br</td>\n",
       "      <td>chicapitanga@chicapitanga.com.br</td>\n",
       "      <td>+55 81 3334-8260</td>\n",
       "      <td>4.5</td>\n",
       "    </tr>\n",
       "    <tr>\n",
       "      <th>Aracaju. SE</th>\n",
       "      <td>O sorvete mais tradicional do estado</td>\n",
       "      <td>355671519</td>\n",
       "      <td>8168302</td>\n",
       "      <td>Yurie M</td>\n",
       "      <td>Tomo sorvete na Visabor faz mais de 30 anos. S...</td>\n",
       "      <td>pt</td>\n",
       "      <td>False</td>\n",
       "      <td>15/03/2016</td>\n",
       "      <td>01/2016</td>\n",
       "      <td>5</td>\n",
       "      <td>Sorvetes Vi Sabor</td>\n",
       "      <td>Avenida Francisco Porto 59 Grageru</td>\n",
       "      <td>Aracaju</td>\n",
       "      <td>Sergipe</td>\n",
       "      <td>NaN</td>\n",
       "      <td>Brasil</td>\n",
       "      <td>None</td>\n",
       "      <td>None</td>\n",
       "      <td>None</td>\n",
       "      <td>4.0</td>\n",
       "    </tr>\n",
       "    <tr>\n",
       "      <th>Rio de Janeiro. RJ</th>\n",
       "      <td>Melhor hamburger!</td>\n",
       "      <td>268741921</td>\n",
       "      <td>5395141</td>\n",
       "      <td>Debora_C85</td>\n",
       "      <td>O melhor hamburger que j\\u00E1 comi! Excelente...</td>\n",
       "      <td>pt</td>\n",
       "      <td>False</td>\n",
       "      <td>28/04/2015</td>\n",
       "      <td>04/2015</td>\n",
       "      <td>5</td>\n",
       "      <td>Z Deli Sandwich Shop</td>\n",
       "      <td>Rua Haddock Lobo 1386 Jardins</td>\n",
       "      <td>S\\u00E3o Paulo</td>\n",
       "      <td>Estado de S\\u00E3o Paulo</td>\n",
       "      <td>01414-002</td>\n",
       "      <td>Brasil</td>\n",
       "      <td>http://www.facebook.com/zdelisandwichshop/</td>\n",
       "      <td>None</td>\n",
       "      <td>551130830021</td>\n",
       "      <td>4.5</td>\n",
       "    </tr>\n",
       "    <tr>\n",
       "      <th>...</th>\n",
       "      <td>...</td>\n",
       "      <td>...</td>\n",
       "      <td>...</td>\n",
       "      <td>...</td>\n",
       "      <td>...</td>\n",
       "      <td>...</td>\n",
       "      <td>...</td>\n",
       "      <td>...</td>\n",
       "      <td>...</td>\n",
       "      <td>...</td>\n",
       "      <td>...</td>\n",
       "      <td>...</td>\n",
       "      <td>...</td>\n",
       "      <td>...</td>\n",
       "      <td>...</td>\n",
       "      <td>...</td>\n",
       "      <td>...</td>\n",
       "      <td>...</td>\n",
       "      <td>...</td>\n",
       "      <td>...</td>\n",
       "    </tr>\n",
       "    <tr>\n",
       "      <th>Porto Alegre. RS</th>\n",
       "      <td>Nova op\\u00E7\\u00E3o no Paseo!!!</td>\n",
       "      <td>672210394</td>\n",
       "      <td>17424548</td>\n",
       "      <td>Fabiano B</td>\n",
       "      <td>Ainda n\\u00E3o inaugurado oficialmente. est\\u0...</td>\n",
       "      <td>pt</td>\n",
       "      <td>True</td>\n",
       "      <td>07/05/2019</td>\n",
       "      <td>05/2019</td>\n",
       "      <td>5</td>\n",
       "      <td>Boteco Maestro</td>\n",
       "      <td>Avenida Wenceslau Escobar 1823</td>\n",
       "      <td>Porto Alegre</td>\n",
       "      <td>Rio Grande do Sul</td>\n",
       "      <td>91900-000</td>\n",
       "      <td>Brasil</td>\n",
       "      <td>http://www.facebook.com/botecomaestro</td>\n",
       "      <td>None</td>\n",
       "      <td>+55 51 99353-6602</td>\n",
       "      <td>4.0</td>\n",
       "    </tr>\n",
       "    <tr>\n",
       "      <th>Cork. Irlanda</th>\n",
       "      <td>Bom</td>\n",
       "      <td>380904400</td>\n",
       "      <td>2440184</td>\n",
       "      <td>Chris L</td>\n",
       "      <td>Bom atendimento. lugar bonito. comida muito go...</td>\n",
       "      <td>pt</td>\n",
       "      <td>True</td>\n",
       "      <td>08/06/2016</td>\n",
       "      <td>01/2016</td>\n",
       "      <td>4</td>\n",
       "      <td>Casa do Marqu\\u00EAs</td>\n",
       "      <td>Rua Marques do Pombal. 1814 Higien\\u00F3polis</td>\n",
       "      <td>Porto Alegre</td>\n",
       "      <td>Rio Grande do Sul</td>\n",
       "      <td>90540-000</td>\n",
       "      <td>Brasil</td>\n",
       "      <td>http://galeteriacasadomarques.com.br/</td>\n",
       "      <td>galeteriacasadomarques@galeteriacasadomarques....</td>\n",
       "      <td>+55 51 3343-4303</td>\n",
       "      <td>4.5</td>\n",
       "    </tr>\n",
       "    <tr>\n",
       "      <th>São Paulo. SP</th>\n",
       "      <td>Bom bar</td>\n",
       "      <td>186111858</td>\n",
       "      <td>2392996</td>\n",
       "      <td>Guilherme P</td>\n",
       "      <td>O Rio Scenarium \\u00E9 uma das baladas mais fa...</td>\n",
       "      <td>pt</td>\n",
       "      <td>False</td>\n",
       "      <td>27/11/2013</td>\n",
       "      <td>11/2013</td>\n",
       "      <td>4</td>\n",
       "      <td>Rio Scenarium</td>\n",
       "      <td>Rua do Lavradio 20 Centro</td>\n",
       "      <td>Rio de Janeiro</td>\n",
       "      <td>Estado do Rio de Janeiro</td>\n",
       "      <td>20230-070</td>\n",
       "      <td>Brasil</td>\n",
       "      <td>http://www.rioscenarium.art.br</td>\n",
       "      <td>None</td>\n",
       "      <td>+55 21-3147-9000</td>\n",
       "      <td>4.5</td>\n",
       "    </tr>\n",
       "    <tr>\n",
       "      <th>Porto Alegre. RS</th>\n",
       "      <td>Me senti enganada...</td>\n",
       "      <td>152745909</td>\n",
       "      <td>1062290</td>\n",
       "      <td>LisianeCohem</td>\n",
       "      <td>Fui por indica\\u00E7\\u00E3o e com boa expectat...</td>\n",
       "      <td>pt</td>\n",
       "      <td>True</td>\n",
       "      <td>21/02/2013</td>\n",
       "      <td>None</td>\n",
       "      <td>2</td>\n",
       "      <td>Celeiro</td>\n",
       "      <td>Rua Dias Ferreira 199</td>\n",
       "      <td>Rio de Janeiro</td>\n",
       "      <td>Estado do Rio de Janeiro</td>\n",
       "      <td>22431-050</td>\n",
       "      <td>Brasil</td>\n",
       "      <td>http://www.celeiroculinaria.com.br</td>\n",
       "      <td>celeiro@celeiroculinaria.com.br</td>\n",
       "      <td>55 21 2274 7843</td>\n",
       "      <td>3.5</td>\n",
       "    </tr>\n",
       "    <tr>\n",
       "      <th>Manaus. AM</th>\n",
       "      <td>Restaurante excelente</td>\n",
       "      <td>649755498</td>\n",
       "      <td>12433911</td>\n",
       "      <td>brunotulio</td>\n",
       "      <td>Experi\\u00EAncia fant\\u00E1stica com comida de...</td>\n",
       "      <td>pt</td>\n",
       "      <td>True</td>\n",
       "      <td>02/02/2019</td>\n",
       "      <td>02/2019</td>\n",
       "      <td>5</td>\n",
       "      <td>Coco Bambu Manaus</td>\n",
       "      <td>Avenida Coronel Teixeira. 5705 Ponta Negra. Sh...</td>\n",
       "      <td>Manaus</td>\n",
       "      <td>Rio Amazonas</td>\n",
       "      <td>69037-000</td>\n",
       "      <td>Brasil</td>\n",
       "      <td>http://www.facebook.com/cocobambumanausoficial/</td>\n",
       "      <td>rh.manaus@cocobambu.com</td>\n",
       "      <td>+55 92 3667-7430</td>\n",
       "      <td>5.0</td>\n",
       "    </tr>\n",
       "  </tbody>\n",
       "</table>\n",
       "<p>100000 rows × 20 columns</p>\n",
       "</div>"
      ],
      "text/plain": [
       "                                                   title   reviewId  \\\n",
       "userLocation                                                          \n",
       "São Carlos. SP                                   Jantar   692856288   \n",
       "Manaus. AM                     Uma boa experi\\u00EAncia.  229208487   \n",
       "Goiânia. GO                           Otimo self service  679002332   \n",
       "Aracaju. SE         O sorvete mais tradicional do estado  355671519   \n",
       "Rio de Janeiro. RJ                     Melhor hamburger!  268741921   \n",
       "...                                                  ...        ...   \n",
       "Porto Alegre. RS        Nova op\\u00E7\\u00E3o no Paseo!!!  672210394   \n",
       "Cork. Irlanda                                        Bom  380904400   \n",
       "São Paulo. SP                                    Bom bar  186111858   \n",
       "Porto Alegre. RS                    Me senti enganada...  152745909   \n",
       "Manaus. AM                         Restaurante excelente  649755498   \n",
       "\n",
       "                   restaurantId             author  \\\n",
       "userLocation                                         \n",
       "São Carlos. SP          2344932  larinhavercosa222   \n",
       "Manaus. AM              3720906             Pano P   \n",
       "Goiânia. GO             2248105           Magma100   \n",
       "Aracaju. SE             8168302            Yurie M   \n",
       "Rio de Janeiro. RJ      5395141         Debora_C85   \n",
       "...                         ...                ...   \n",
       "Porto Alegre. RS       17424548          Fabiano B   \n",
       "Cork. Irlanda           2440184            Chris L   \n",
       "São Paulo. SP           2392996        Guilherme P   \n",
       "Porto Alegre. RS        1062290       LisianeCohem   \n",
       "Manaus. AM             12433911         brunotulio   \n",
       "\n",
       "                                                           reviewBody  \\\n",
       "userLocation                                                            \n",
       "São Carlos. SP      Comida maravilhosa. lugar do verdadeiro chicle...   \n",
       "Manaus. AM          Comida boa. drinks legais e um ambiente bem ac...   \n",
       "Goiânia. GO         Excelente pra ir com a fam\\u00EDlia! \\u00D3tim...   \n",
       "Aracaju. SE         Tomo sorvete na Visabor faz mais de 30 anos. S...   \n",
       "Rio de Janeiro. RJ  O melhor hamburger que j\\u00E1 comi! Excelente...   \n",
       "...                                                               ...   \n",
       "Porto Alegre. RS    Ainda n\\u00E3o inaugurado oficialmente. est\\u0...   \n",
       "Cork. Irlanda       Bom atendimento. lugar bonito. comida muito go...   \n",
       "São Paulo. SP       O Rio Scenarium \\u00E9 uma das baladas mais fa...   \n",
       "Porto Alegre. RS    Fui por indica\\u00E7\\u00E3o e com boa expectat...   \n",
       "Manaus. AM          Experi\\u00EAncia fant\\u00E1stica com comida de...   \n",
       "\n",
       "                   language  mobileDevice publicationDate visitDate  \\\n",
       "userLocation                                                          \n",
       "São Carlos. SP           pt          True      26/07/2019   07/2019   \n",
       "Manaus. AM               pt          True      16/09/2014      None   \n",
       "Goiânia. GO              pt          True      04/06/2019   07/2018   \n",
       "Aracaju. SE              pt         False      15/03/2016   01/2016   \n",
       "Rio de Janeiro. RJ       pt         False      28/04/2015   04/2015   \n",
       "...                     ...           ...             ...       ...   \n",
       "Porto Alegre. RS         pt          True      07/05/2019   05/2019   \n",
       "Cork. Irlanda            pt          True      08/06/2016   01/2016   \n",
       "São Paulo. SP            pt         False      27/11/2013   11/2013   \n",
       "Porto Alegre. RS         pt          True      21/02/2013      None   \n",
       "Manaus. AM               pt          True      02/02/2019   02/2019   \n",
       "\n",
       "                    ratingValue                 itemReviewed  \\\n",
       "userLocation                                                   \n",
       "São Carlos. SP                5  Imperador dos Camar\\u00F5es   \n",
       "Manaus. AM                    4              Guacamole Natal   \n",
       "Goiânia. GO                   4                Chica Pitanga   \n",
       "Aracaju. SE                   5            Sorvetes Vi Sabor   \n",
       "Rio de Janeiro. RJ            5         Z Deli Sandwich Shop   \n",
       "...                         ...                          ...   \n",
       "Porto Alegre. RS              5               Boteco Maestro   \n",
       "Cork. Irlanda                 4         Casa do Marqu\\u00EAs   \n",
       "São Paulo. SP                 4                Rio Scenarium   \n",
       "Porto Alegre. RS              2                      Celeiro   \n",
       "Manaus. AM                    5            Coco Bambu Manaus   \n",
       "\n",
       "                                                              address  \\\n",
       "userLocation                                                            \n",
       "São Carlos. SP                    Avenida Doutor Ant\\u00F4nio Gouveia   \n",
       "Manaus. AM              Avenida Praia de Ponta Negra 9068 Ponta Negra   \n",
       "Goiânia. GO                                          Rua Petrolina 19   \n",
       "Aracaju. SE                        Avenida Francisco Porto 59 Grageru   \n",
       "Rio de Janeiro. RJ                      Rua Haddock Lobo 1386 Jardins   \n",
       "...                                                               ...   \n",
       "Porto Alegre. RS                       Avenida Wenceslau Escobar 1823   \n",
       "Cork. Irlanda           Rua Marques do Pombal. 1814 Higien\\u00F3polis   \n",
       "São Paulo. SP                               Rua do Lavradio 20 Centro   \n",
       "Porto Alegre. RS                                Rua Dias Ferreira 199   \n",
       "Manaus. AM          Avenida Coronel Teixeira. 5705 Ponta Negra. Sh...   \n",
       "\n",
       "                   addressLocality             addressRegion postalCode  \\\n",
       "userLocation                                                              \n",
       "São Carlos. SP                 NaN                   Alagoas  57030-170   \n",
       "Manaus. AM                     NaN       Rio Grande do Norte  59092-100   \n",
       "Goiânia. GO                 Recife                Pernambuco  51021-250   \n",
       "Aracaju. SE                Aracaju                   Sergipe        NaN   \n",
       "Rio de Janeiro. RJ  S\\u00E3o Paulo  Estado de S\\u00E3o Paulo  01414-002   \n",
       "...                            ...                       ...        ...   \n",
       "Porto Alegre. RS      Porto Alegre         Rio Grande do Sul  91900-000   \n",
       "Cork. Irlanda         Porto Alegre         Rio Grande do Sul  90540-000   \n",
       "São Paulo. SP       Rio de Janeiro  Estado do Rio de Janeiro  20230-070   \n",
       "Porto Alegre. RS    Rio de Janeiro  Estado do Rio de Janeiro  22431-050   \n",
       "Manaus. AM                  Manaus              Rio Amazonas  69037-000   \n",
       "\n",
       "                   country                                          website  \\\n",
       "userLocation                                                                  \n",
       "São Carlos. SP      Brasil           http://www.imperadordoscamaroes.com.br   \n",
       "Manaus. AM          Brasil           http://www.facebook.com/GuacamoleNatal   \n",
       "Goiânia. GO         Brasil                   http://www.chicapitanga.com.br   \n",
       "Aracaju. SE         Brasil                                             None   \n",
       "Rio de Janeiro. RJ  Brasil       http://www.facebook.com/zdelisandwichshop/   \n",
       "...                    ...                                              ...   \n",
       "Porto Alegre. RS    Brasil            http://www.facebook.com/botecomaestro   \n",
       "Cork. Irlanda       Brasil            http://galeteriacasadomarques.com.br/   \n",
       "São Paulo. SP       Brasil                   http://www.rioscenarium.art.br   \n",
       "Porto Alegre. RS    Brasil               http://www.celeiroculinaria.com.br   \n",
       "Manaus. AM          Brasil  http://www.facebook.com/cocobambumanausoficial/   \n",
       "\n",
       "                                                                email  \\\n",
       "userLocation                                                            \n",
       "São Carlos. SP                    contato@imperadordoscamaroes.com.br   \n",
       "Manaus. AM                                   guacamolenatal@gmail.com   \n",
       "Goiânia. GO                          chicapitanga@chicapitanga.com.br   \n",
       "Aracaju. SE                                                      None   \n",
       "Rio de Janeiro. RJ                                               None   \n",
       "...                                                               ...   \n",
       "Porto Alegre. RS                                                 None   \n",
       "Cork. Irlanda       galeteriacasadomarques@galeteriacasadomarques....   \n",
       "São Paulo. SP                                                    None   \n",
       "Porto Alegre. RS                      celeiro@celeiroculinaria.com.br   \n",
       "Manaus. AM                                    rh.manaus@cocobambu.com   \n",
       "\n",
       "                          phoneNumber  averageRating  \n",
       "userLocation                                          \n",
       "São Carlos. SP       +55 82 3231-4134            4.5  \n",
       "Manaus. AM           +55 84 3219-3646            4.5  \n",
       "Goiânia. GO          +55 81 3334-8260            4.5  \n",
       "Aracaju. SE                      None            4.0  \n",
       "Rio de Janeiro. RJ       551130830021            4.5  \n",
       "...                               ...            ...  \n",
       "Porto Alegre. RS    +55 51 99353-6602            4.0  \n",
       "Cork. Irlanda        +55 51 3343-4303            4.5  \n",
       "São Paulo. SP        +55 21-3147-9000            4.5  \n",
       "Porto Alegre. RS      55 21 2274 7843            3.5  \n",
       "Manaus. AM           +55 92 3667-7430            5.0  \n",
       "\n",
       "[100000 rows x 20 columns]"
      ]
     },
     "execution_count": 102,
     "metadata": {},
     "output_type": "execute_result"
    }
   ],
   "source": [
    "train_data.set_index('userLocation')"
   ]
  },
  {
   "cell_type": "code",
   "execution_count": 103,
   "metadata": {},
   "outputs": [
    {
     "data": {
      "text/plain": [
       "<matplotlib.axes._subplots.AxesSubplot at 0x7f0a21d45150>"
      ]
     },
     "execution_count": 103,
     "metadata": {},
     "output_type": "execute_result"
    },
    {
     "data": {
      "image/png": "[encoded data removed]",
      "text/plain": [
       "<Figure size 432x288 with 1 Axes>"
      ]
     },
     "metadata": {
      "needs_background": "light"
     },
     "output_type": "display_data"
    }
   ],
   "source": [
    "train_data.set_index('userLocation').plot()"
   ]
  },
  {
   "cell_type": "code",
   "execution_count": 104,
   "metadata": {},
   "outputs": [
    {
     "data": {
      "text/plain": [
       "<matplotlib.axes._subplots.AxesSubplot at 0x7f0a23c34b90>"
      ]
     },
     "execution_count": 104,
     "metadata": {},
     "output_type": "execute_result"
    },
    {
     "data": {
      "image/png": "[encoded data removed]",
      "text/plain": [
       "<Figure size 432x288 with 1 Axes>"
      ]
     },
     "metadata": {
      "needs_background": "light"
     },
     "output_type": "display_data"
    }
   ],
   "source": [
    "train_data.plot()"
   ]
  },
  {
   "cell_type": "code",
   "execution_count": null,
   "metadata": {},
   "outputs": [],
   "source": []
  },
  {
   "cell_type": "code",
   "execution_count": null,
   "metadata": {},
   "outputs": [],
   "source": []
  }
 ],
 "metadata": {
  "colab": {
   "collapsed_sections": [],
   "name": "piloto-2.ipynb",
   "provenance": []
  },
  "kernelspec": {
   "display_name": "Python 3.7.6 64-bit ('base': conda)",
   "language": "python",
   "name": "python37664bitbaseconda3bccb8464e544e1caf96114d9ca87004"
  },
  "language_info": {
   "codemirror_mode": {
    "name": "ipython",
    "version": 3
   },
   "file_extension": ".py",
   "mimetype": "text/x-python",
   "name": "python",
   "nbconvert_exporter": "python",
   "pygments_lexer": "ipython3",
   "version": "3.7.6"
  }
 },
 "nbformat": 4,
 "nbformat_minor": 1
}
