{
 "cells": [
  {
   "cell_type": "code",
   "execution_count": 10,
   "metadata": {
    "executionInfo": {
     "elapsed": 2567,
     "status": "ok",
     "timestamp": 1604774783060,
     "user": {
      "displayName": "paulo cesar da rocha correa",
      "photoUrl": "https://lh3.googleusercontent.com/a-/AOh14GhfjqjKkqi19BFvTCJLd1b2SJHjv7CE8jW8VKcHvg=s64",
      "userId": "02019520615414855207"
     },
     "user_tz": 240
    },
    "id": "IrC3D24_UvLr"
   },
   "outputs": [],
   "source": [
    "import numpy as np\n",
    "import math\n",
    "import re\n",
    "import pandas as pd\n",
    "from bs4 import BeautifulSoup\n",
    "#from google.colab import drive\n",
    "#import zipfile\n",
    "#import seaborn as sns\n",
    "#import spacy as sp\n",
    "import string\n",
    "import random\n",
    "import matplotlib.pyplot as plt\n",
    "from textblob import TextBlob"
   ]
  },
  {
   "cell_type": "code",
   "execution_count": 3,
   "metadata": {
    "colab": {
     "base_uri": "https://localhost:8080/"
    },
    "executionInfo": {
     "elapsed": 31062,
     "status": "ok",
     "timestamp": 1604774846664,
     "user": {
      "displayName": "paulo cesar da rocha correa",
      "photoUrl": "https://lh3.googleusercontent.com/a-/AOh14GhfjqjKkqi19BFvTCJLd1b2SJHjv7CE8jW8VKcHvg=s64",
      "userId": "02019520615414855207"
     },
     "user_tz": 240
    },
    "id": "B7aqCIxWCPlN",
    "outputId": "193d27ea-9188-4201-8a12-1d505735b25a"
   },
   "outputs": [],
   "source": [
    "#.mount(\"/content/drive\")"
   ]
  },
  {
   "cell_type": "code",
   "execution_count": 5,
   "metadata": {
    "colab": {
     "base_uri": "https://localhost:8080/",
     "height": 532
    },
    "executionInfo": {
     "elapsed": 4152,
     "status": "ok",
     "timestamp": 1604774851637,
     "user": {
      "displayName": "paulo cesar da rocha correa",
      "photoUrl": "https://lh3.googleusercontent.com/a-/AOh14GhfjqjKkqi19BFvTCJLd1b2SJHjv7CE8jW8VKcHvg=s64",
      "userId": "02019520615414855207"
     },
     "user_tz": 240
    },
    "id": "dbEZUXS3UvL7",
    "outputId": "afc843e7-b7a6-4838-dcf8-4a255695b61e"
   },
   "outputs": [
    {
     "data": {
      "text/html": [
       "<div>\n",
       "<style scoped>\n",
       "    .dataframe tbody tr th:only-of-type {\n",
       "        vertical-align: middle;\n",
       "    }\n",
       "\n",
       "    .dataframe tbody tr th {\n",
       "        vertical-align: top;\n",
       "    }\n",
       "\n",
       "    .dataframe thead th {\n",
       "        text-align: right;\n",
       "    }\n",
       "</style>\n",
       "<table border=\"1\" class=\"dataframe\">\n",
       "  <thead>\n",
       "    <tr style=\"text-align: right;\">\n",
       "      <th></th>\n",
       "      <th>title</th>\n",
       "      <th>reviewId</th>\n",
       "      <th>restaurantId</th>\n",
       "      <th>author</th>\n",
       "      <th>reviewBody</th>\n",
       "      <th>language</th>\n",
       "      <th>mobileDevice</th>\n",
       "      <th>userLocation</th>\n",
       "      <th>publicationDate</th>\n",
       "      <th>visitDate</th>\n",
       "      <th>...</th>\n",
       "      <th>itemReviewed</th>\n",
       "      <th>address</th>\n",
       "      <th>addressLocality</th>\n",
       "      <th>addressRegion</th>\n",
       "      <th>postalCode</th>\n",
       "      <th>country</th>\n",
       "      <th>website</th>\n",
       "      <th>email</th>\n",
       "      <th>phoneNumber</th>\n",
       "      <th>averageRating</th>\n",
       "    </tr>\n",
       "  </thead>\n",
       "  <tbody>\n",
       "    <tr>\n",
       "      <th>0</th>\n",
       "      <td>{\"title\":\"Jantar</td>\n",
       "      <td>reviewId\":\"692856288</td>\n",
       "      <td>restaurantId\":\"2344932</td>\n",
       "      <td>author\":\"larinhavercosa222</td>\n",
       "      <td>Comida maravilhosa, lugar do verdadeiro chicle...</td>\n",
       "      <td>language\":\"pt</td>\n",
       "      <td>True</td>\n",
       "      <td>userLocation\":\"São Carlos, SP</td>\n",
       "      <td>publicationDate\":\"26/07/2019</td>\n",
       "      <td>visitDate\":\"07/2019</td>\n",
       "      <td>...</td>\n",
       "      <td>itemReviewed\":{\"name\":\"Imperador dos Camar\\u00...</td>\n",
       "      <td>address\":{\"streetAddress\":\"Avenida Doutor Ant\\...</td>\n",
       "      <td>addressLocality\":\"</td>\n",
       "      <td>addressRegion\":\"Alagoas</td>\n",
       "      <td>postalCode\":\"57030-170</td>\n",
       "      <td>country\":\"Brasil\"}</td>\n",
       "      <td>website\":\"http://www.imperadordoscamaroes.com.br</td>\n",
       "      <td>email\":\"contato@imperadordoscamaroes.com.br</td>\n",
       "      <td>phoneNumber\":\"+55 82 3231-4134</td>\n",
       "      <td>4.5</td>\n",
       "    </tr>\n",
       "    <tr>\n",
       "      <th>1</th>\n",
       "      <td>{\"title\":\"Uma boa experi\\u00EAncia.</td>\n",
       "      <td>reviewId\":\"229208487</td>\n",
       "      <td>restaurantId\":\"3720906</td>\n",
       "      <td>author\":\"Pano P</td>\n",
       "      <td>Comida boa, drinks legais e um ambiente bem ac...</td>\n",
       "      <td>language\":\"pt</td>\n",
       "      <td>True</td>\n",
       "      <td>userLocation\":\"Manaus, AM</td>\n",
       "      <td>publicationDate\":\"16/09/2014</td>\n",
       "      <td>visitDate\":\"None</td>\n",
       "      <td>...</td>\n",
       "      <td>itemReviewed\":{\"name\":\"Guacamole Natal</td>\n",
       "      <td>address\":{\"streetAddress\":\"Avenida Praia de Po...</td>\n",
       "      <td>addressLocality\":\"</td>\n",
       "      <td>addressRegion\":\"Rio Grande do Norte</td>\n",
       "      <td>postalCode\":\"59092-100</td>\n",
       "      <td>country\":\"Brasil\"}</td>\n",
       "      <td>website\":\"http://www.facebook.com/GuacamoleNatal</td>\n",
       "      <td>email\":\"guacamolenatal@gmail.com</td>\n",
       "      <td>phoneNumber\":\"+55 84 3219-3646</td>\n",
       "      <td>4.5</td>\n",
       "    </tr>\n",
       "    <tr>\n",
       "      <th>2</th>\n",
       "      <td>{\"title\":\"Otimo self service</td>\n",
       "      <td>reviewId\":\"679002332</td>\n",
       "      <td>restaurantId\":\"2248105</td>\n",
       "      <td>author\":\"Magma100</td>\n",
       "      <td>Excelente pra ir com a fam\\u00EDlia! \\u00D3tim...</td>\n",
       "      <td>language\":\"pt</td>\n",
       "      <td>True</td>\n",
       "      <td>userLocation\":\"Goiânia, GO</td>\n",
       "      <td>publicationDate\":\"04/06/2019</td>\n",
       "      <td>visitDate\":\"07/2018</td>\n",
       "      <td>...</td>\n",
       "      <td>itemReviewed\":{\"name\":\"Chica Pitanga</td>\n",
       "      <td>address\":{\"streetAddress\":\"Rua Petrolina 19</td>\n",
       "      <td>addressLocality\":\"Recife</td>\n",
       "      <td>addressRegion\":\"Pernambuco</td>\n",
       "      <td>postalCode\":\"51021-250</td>\n",
       "      <td>country\":\"Brasil\"}</td>\n",
       "      <td>website\":\"http://www.chicapitanga.com.br</td>\n",
       "      <td>email\":\"chicapitanga@chicapitanga.com.br</td>\n",
       "      <td>phoneNumber\":\"+55 81 3334-8260</td>\n",
       "      <td>4.5</td>\n",
       "    </tr>\n",
       "    <tr>\n",
       "      <th>3</th>\n",
       "      <td>{\"title\":\"O sorvete mais tradicional do estado</td>\n",
       "      <td>reviewId\":\"355671519</td>\n",
       "      <td>restaurantId\":\"8168302</td>\n",
       "      <td>author\":\"Yurie M</td>\n",
       "      <td>Tomo sorvete na Visabor faz mais de 30 anos. S...</td>\n",
       "      <td>language\":\"pt</td>\n",
       "      <td>False</td>\n",
       "      <td>userLocation\":\"Aracaju, SE</td>\n",
       "      <td>publicationDate\":\"15/03/2016</td>\n",
       "      <td>visitDate\":\"01/2016</td>\n",
       "      <td>...</td>\n",
       "      <td>itemReviewed\":{\"name\":\"Sorvetes Vi Sabor</td>\n",
       "      <td>address\":{\"streetAddress\":\"Avenida Francisco P...</td>\n",
       "      <td>addressLocality\":\"Aracaju</td>\n",
       "      <td>addressRegion\":\"Sergipe</td>\n",
       "      <td>postalCode\":\"</td>\n",
       "      <td>country\":\"Brasil\"}</td>\n",
       "      <td>website\":\"None</td>\n",
       "      <td>email\":\"None</td>\n",
       "      <td>phoneNumber\":\"None</td>\n",
       "      <td>4.0</td>\n",
       "    </tr>\n",
       "    <tr>\n",
       "      <th>4</th>\n",
       "      <td>{\"title\":\"Melhor hamburger!</td>\n",
       "      <td>reviewId\":\"268741921</td>\n",
       "      <td>restaurantId\":\"5395141</td>\n",
       "      <td>author\":\"Debora_C85</td>\n",
       "      <td>O melhor hamburger que j\\u00E1 comi! Excelente...</td>\n",
       "      <td>language\":\"pt</td>\n",
       "      <td>False</td>\n",
       "      <td>userLocation\":\"Rio de Janeiro, RJ</td>\n",
       "      <td>publicationDate\":\"28/04/2015</td>\n",
       "      <td>visitDate\":\"04/2015</td>\n",
       "      <td>...</td>\n",
       "      <td>itemReviewed\":{\"name\":\"Z Deli Sandwich Shop</td>\n",
       "      <td>address\":{\"streetAddress\":\"Rua Haddock Lobo 13...</td>\n",
       "      <td>addressLocality\":\"S\\u00E3o Paulo</td>\n",
       "      <td>addressRegion\":\"Estado de S\\u00E3o Paulo</td>\n",
       "      <td>postalCode\":\"01414-002</td>\n",
       "      <td>country\":\"Brasil\"}</td>\n",
       "      <td>website\":\"http://www.facebook.com/zdelisandwic...</td>\n",
       "      <td>email\":\"None</td>\n",
       "      <td>phoneNumber\":\"551130830021</td>\n",
       "      <td>4.5</td>\n",
       "    </tr>\n",
       "  </tbody>\n",
       "</table>\n",
       "<p>5 rows × 21 columns</p>\n",
       "</div>"
      ],
      "text/plain": [
       "                                            title              reviewId  \\\n",
       "0                               {\"title\":\"Jantar   reviewId\":\"692856288   \n",
       "1             {\"title\":\"Uma boa experi\\u00EAncia.  reviewId\":\"229208487   \n",
       "2                    {\"title\":\"Otimo self service  reviewId\":\"679002332   \n",
       "3  {\"title\":\"O sorvete mais tradicional do estado  reviewId\":\"355671519   \n",
       "4                     {\"title\":\"Melhor hamburger!  reviewId\":\"268741921   \n",
       "\n",
       "             restaurantId                      author  \\\n",
       "0  restaurantId\":\"2344932  author\":\"larinhavercosa222   \n",
       "1  restaurantId\":\"3720906             author\":\"Pano P   \n",
       "2  restaurantId\":\"2248105           author\":\"Magma100   \n",
       "3  restaurantId\":\"8168302            author\":\"Yurie M   \n",
       "4  restaurantId\":\"5395141         author\":\"Debora_C85   \n",
       "\n",
       "                                          reviewBody       language  \\\n",
       "0  Comida maravilhosa, lugar do verdadeiro chicle...  language\":\"pt   \n",
       "1  Comida boa, drinks legais e um ambiente bem ac...  language\":\"pt   \n",
       "2  Excelente pra ir com a fam\\u00EDlia! \\u00D3tim...  language\":\"pt   \n",
       "3  Tomo sorvete na Visabor faz mais de 30 anos. S...  language\":\"pt   \n",
       "4  O melhor hamburger que j\\u00E1 comi! Excelente...  language\":\"pt   \n",
       "\n",
       "  mobileDevice                       userLocation  \\\n",
       "0         True      userLocation\":\"São Carlos, SP   \n",
       "1         True          userLocation\":\"Manaus, AM   \n",
       "2         True         userLocation\":\"Goiânia, GO   \n",
       "3        False         userLocation\":\"Aracaju, SE   \n",
       "4        False  userLocation\":\"Rio de Janeiro, RJ   \n",
       "\n",
       "                publicationDate            visitDate  ...  \\\n",
       "0  publicationDate\":\"26/07/2019  visitDate\":\"07/2019  ...   \n",
       "1  publicationDate\":\"16/09/2014     visitDate\":\"None  ...   \n",
       "2  publicationDate\":\"04/06/2019  visitDate\":\"07/2018  ...   \n",
       "3  publicationDate\":\"15/03/2016  visitDate\":\"01/2016  ...   \n",
       "4  publicationDate\":\"28/04/2015  visitDate\":\"04/2015  ...   \n",
       "\n",
       "                                        itemReviewed  \\\n",
       "0  itemReviewed\":{\"name\":\"Imperador dos Camar\\u00...   \n",
       "1             itemReviewed\":{\"name\":\"Guacamole Natal   \n",
       "2               itemReviewed\":{\"name\":\"Chica Pitanga   \n",
       "3           itemReviewed\":{\"name\":\"Sorvetes Vi Sabor   \n",
       "4        itemReviewed\":{\"name\":\"Z Deli Sandwich Shop   \n",
       "\n",
       "                                             address  \\\n",
       "0  address\":{\"streetAddress\":\"Avenida Doutor Ant\\...   \n",
       "1  address\":{\"streetAddress\":\"Avenida Praia de Po...   \n",
       "2        address\":{\"streetAddress\":\"Rua Petrolina 19   \n",
       "3  address\":{\"streetAddress\":\"Avenida Francisco P...   \n",
       "4  address\":{\"streetAddress\":\"Rua Haddock Lobo 13...   \n",
       "\n",
       "                    addressLocality                             addressRegion  \\\n",
       "0                addressLocality\":\"                   addressRegion\":\"Alagoas   \n",
       "1                addressLocality\":\"       addressRegion\":\"Rio Grande do Norte   \n",
       "2          addressLocality\":\"Recife                addressRegion\":\"Pernambuco   \n",
       "3         addressLocality\":\"Aracaju                   addressRegion\":\"Sergipe   \n",
       "4  addressLocality\":\"S\\u00E3o Paulo  addressRegion\":\"Estado de S\\u00E3o Paulo   \n",
       "\n",
       "               postalCode             country  \\\n",
       "0  postalCode\":\"57030-170  country\":\"Brasil\"}   \n",
       "1  postalCode\":\"59092-100  country\":\"Brasil\"}   \n",
       "2  postalCode\":\"51021-250  country\":\"Brasil\"}   \n",
       "3           postalCode\":\"  country\":\"Brasil\"}   \n",
       "4  postalCode\":\"01414-002  country\":\"Brasil\"}   \n",
       "\n",
       "                                             website  \\\n",
       "0   website\":\"http://www.imperadordoscamaroes.com.br   \n",
       "1   website\":\"http://www.facebook.com/GuacamoleNatal   \n",
       "2           website\":\"http://www.chicapitanga.com.br   \n",
       "3                                     website\":\"None   \n",
       "4  website\":\"http://www.facebook.com/zdelisandwic...   \n",
       "\n",
       "                                         email  \\\n",
       "0  email\":\"contato@imperadordoscamaroes.com.br   \n",
       "1             email\":\"guacamolenatal@gmail.com   \n",
       "2     email\":\"chicapitanga@chicapitanga.com.br   \n",
       "3                                 email\":\"None   \n",
       "4                                 email\":\"None   \n",
       "\n",
       "                      phoneNumber averageRating  \n",
       "0  phoneNumber\":\"+55 82 3231-4134           4.5  \n",
       "1  phoneNumber\":\"+55 84 3219-3646           4.5  \n",
       "2  phoneNumber\":\"+55 81 3334-8260           4.5  \n",
       "3              phoneNumber\":\"None           4.0  \n",
       "4      phoneNumber\":\"551130830021           4.5  \n",
       "\n",
       "[5 rows x 21 columns]"
      ]
     },
     "execution_count": 5,
     "metadata": {},
     "output_type": "execute_result"
    }
   ],
   "source": [
    "cols = ['title','reviewId', 'restaurantId','author','reviewBody','language','mobileDevice','userLocation','publicationDate','visitDate','ratingValue','itemReviewed','address','addressLocality','addressRegion','postalCode','country','website','email','phoneNumber','averageRating']\n",
    "train_data = pd.read_csv('pc-dataset-v2.csv', names= cols, engine = 'python', delimiter='\",\"', skiprows=0)\n",
    "train_data.head()"
   ]
  },
  {
   "cell_type": "code",
   "execution_count": 6,
   "metadata": {
    "colab": {
     "base_uri": "https://localhost:8080/",
     "height": 429
    },
    "executionInfo": {
     "elapsed": 1219,
     "status": "ok",
     "timestamp": 1604774853692,
     "user": {
      "displayName": "paulo cesar da rocha correa",
      "photoUrl": "https://lh3.googleusercontent.com/a-/AOh14GhfjqjKkqi19BFvTCJLd1b2SJHjv7CE8jW8VKcHvg=s64",
      "userId": "02019520615414855207"
     },
     "user_tz": 240
    },
    "id": "ELZ9BfamUvMN",
    "outputId": "ca2ceb1e-a018-41af-e218-0f0413e2b0fa"
   },
   "outputs": [
    {
     "data": {
      "text/html": [
       "<div>\n",
       "<style scoped>\n",
       "    .dataframe tbody tr th:only-of-type {\n",
       "        vertical-align: middle;\n",
       "    }\n",
       "\n",
       "    .dataframe tbody tr th {\n",
       "        vertical-align: top;\n",
       "    }\n",
       "\n",
       "    .dataframe thead th {\n",
       "        text-align: right;\n",
       "    }\n",
       "</style>\n",
       "<table border=\"1\" class=\"dataframe\">\n",
       "  <thead>\n",
       "    <tr style=\"text-align: right;\">\n",
       "      <th></th>\n",
       "      <th>title</th>\n",
       "      <th>reviewId</th>\n",
       "      <th>restaurantId</th>\n",
       "      <th>author</th>\n",
       "      <th>reviewBody</th>\n",
       "      <th>language</th>\n",
       "      <th>mobileDevice</th>\n",
       "      <th>userLocation</th>\n",
       "      <th>publicationDate</th>\n",
       "      <th>visitDate</th>\n",
       "      <th>...</th>\n",
       "      <th>itemReviewed</th>\n",
       "      <th>address</th>\n",
       "      <th>addressLocality</th>\n",
       "      <th>addressRegion</th>\n",
       "      <th>postalCode</th>\n",
       "      <th>country</th>\n",
       "      <th>website</th>\n",
       "      <th>email</th>\n",
       "      <th>phoneNumber</th>\n",
       "      <th>averageRating</th>\n",
       "    </tr>\n",
       "  </thead>\n",
       "  <tbody>\n",
       "    <tr>\n",
       "      <th>99995</th>\n",
       "      <td>{\"title\":\"Nova op\\u00E7\\u00E3o no Paseo!!!</td>\n",
       "      <td>reviewId\":\"672210394</td>\n",
       "      <td>restaurantId\":\"17424548</td>\n",
       "      <td>author\":\"Fabiano B</td>\n",
       "      <td>Ainda n\\u00E3o inaugurado oficialmente, est\\u0...</td>\n",
       "      <td>language\":\"pt</td>\n",
       "      <td>True</td>\n",
       "      <td>userLocation\":\"Porto Alegre, RS</td>\n",
       "      <td>publicationDate\":\"07/05/2019</td>\n",
       "      <td>visitDate\":\"05/2019</td>\n",
       "      <td>...</td>\n",
       "      <td>itemReviewed\":{\"name\":\"Boteco Maestro</td>\n",
       "      <td>address\":{\"streetAddress\":\"Avenida Wenceslau E...</td>\n",
       "      <td>addressLocality\":\"Porto Alegre</td>\n",
       "      <td>addressRegion\":\"Rio Grande do Sul</td>\n",
       "      <td>postalCode\":\"91900-000</td>\n",
       "      <td>country\":\"Brasil\"}</td>\n",
       "      <td>website\":\"http://www.facebook.com/botecomaestro</td>\n",
       "      <td>email\":\"None</td>\n",
       "      <td>phoneNumber\":\"+55 51 99353-6602</td>\n",
       "      <td>4.0</td>\n",
       "    </tr>\n",
       "    <tr>\n",
       "      <th>99996</th>\n",
       "      <td>{\"title\":\"Bom</td>\n",
       "      <td>reviewId\":\"380904400</td>\n",
       "      <td>restaurantId\":\"2440184</td>\n",
       "      <td>author\":\"Chris L</td>\n",
       "      <td>Bom atendimento, lugar bonito, comida muito go...</td>\n",
       "      <td>language\":\"pt</td>\n",
       "      <td>True</td>\n",
       "      <td>userLocation\":\"Cork, Irlanda</td>\n",
       "      <td>publicationDate\":\"08/06/2016</td>\n",
       "      <td>visitDate\":\"01/2016</td>\n",
       "      <td>...</td>\n",
       "      <td>itemReviewed\":{\"name\":\"Casa do Marqu\\u00EAs</td>\n",
       "      <td>address\":{\"streetAddress\":\"Rua Marques do Pomb...</td>\n",
       "      <td>addressLocality\":\"Porto Alegre</td>\n",
       "      <td>addressRegion\":\"Rio Grande do Sul</td>\n",
       "      <td>postalCode\":\"90540-000</td>\n",
       "      <td>country\":\"Brasil\"}</td>\n",
       "      <td>website\":\"http://galeteriacasadomarques.com.br/</td>\n",
       "      <td>email\":\"galeteriacasadomarques@galeteriacasado...</td>\n",
       "      <td>phoneNumber\":\"+55 51 3343-4303</td>\n",
       "      <td>4.5</td>\n",
       "    </tr>\n",
       "    <tr>\n",
       "      <th>99997</th>\n",
       "      <td>{\"title\":\"Bom bar</td>\n",
       "      <td>reviewId\":\"186111858</td>\n",
       "      <td>restaurantId\":\"2392996</td>\n",
       "      <td>author\":\"Guilherme P</td>\n",
       "      <td>O Rio Scenarium \\u00E9 uma das baladas mais fa...</td>\n",
       "      <td>language\":\"pt</td>\n",
       "      <td>False</td>\n",
       "      <td>userLocation\":\"São Paulo, SP</td>\n",
       "      <td>publicationDate\":\"27/11/2013</td>\n",
       "      <td>visitDate\":\"11/2013</td>\n",
       "      <td>...</td>\n",
       "      <td>itemReviewed\":{\"name\":\"Rio Scenarium</td>\n",
       "      <td>address\":{\"streetAddress\":\"Rua do Lavradio 20 ...</td>\n",
       "      <td>addressLocality\":\"Rio de Janeiro</td>\n",
       "      <td>addressRegion\":\"Estado do Rio de Janeiro</td>\n",
       "      <td>postalCode\":\"20230-070</td>\n",
       "      <td>country\":\"Brasil\"}</td>\n",
       "      <td>website\":\"http://www.rioscenarium.art.br</td>\n",
       "      <td>email\":\"None</td>\n",
       "      <td>phoneNumber\":\"+55 21-3147-9000</td>\n",
       "      <td>4.5</td>\n",
       "    </tr>\n",
       "    <tr>\n",
       "      <th>99998</th>\n",
       "      <td>{\"title\":\"Me senti enganada...</td>\n",
       "      <td>reviewId\":\"152745909</td>\n",
       "      <td>restaurantId\":\"1062290</td>\n",
       "      <td>author\":\"LisianeCohem</td>\n",
       "      <td>Fui por indica\\u00E7\\u00E3o e com boa expectat...</td>\n",
       "      <td>language\":\"pt</td>\n",
       "      <td>True</td>\n",
       "      <td>userLocation\":\"Porto Alegre, RS</td>\n",
       "      <td>publicationDate\":\"21/02/2013</td>\n",
       "      <td>visitDate\":\"None</td>\n",
       "      <td>...</td>\n",
       "      <td>itemReviewed\":{\"name\":\"Celeiro</td>\n",
       "      <td>address\":{\"streetAddress\":\"Rua Dias Ferreira 199</td>\n",
       "      <td>addressLocality\":\"Rio de Janeiro</td>\n",
       "      <td>addressRegion\":\"Estado do Rio de Janeiro</td>\n",
       "      <td>postalCode\":\"22431-050</td>\n",
       "      <td>country\":\"Brasil\"}</td>\n",
       "      <td>website\":\"http://www.celeiroculinaria.com.br</td>\n",
       "      <td>email\":\"celeiro@celeiroculinaria.com.br</td>\n",
       "      <td>phoneNumber\":\"55 21 2274 7843</td>\n",
       "      <td>3.5</td>\n",
       "    </tr>\n",
       "    <tr>\n",
       "      <th>99999</th>\n",
       "      <td>{\"title\":\"Restaurante excelente</td>\n",
       "      <td>reviewId\":\"649755498</td>\n",
       "      <td>restaurantId\":\"12433911</td>\n",
       "      <td>author\":\"brunotulio</td>\n",
       "      <td>Experi\\u00EAncia fant\\u00E1stica com comida de...</td>\n",
       "      <td>language\":\"pt</td>\n",
       "      <td>True</td>\n",
       "      <td>userLocation\":\"Manaus, AM</td>\n",
       "      <td>publicationDate\":\"02/02/2019</td>\n",
       "      <td>visitDate\":\"02/2019</td>\n",
       "      <td>...</td>\n",
       "      <td>itemReviewed\":{\"name\":\"Coco Bambu Manaus</td>\n",
       "      <td>address\":{\"streetAddress\":\"Avenida Coronel Tei...</td>\n",
       "      <td>addressLocality\":\"Manaus</td>\n",
       "      <td>addressRegion\":\"Rio Amazonas</td>\n",
       "      <td>postalCode\":\"69037-000</td>\n",
       "      <td>country\":\"Brasil\"}</td>\n",
       "      <td>website\":\"http://www.facebook.com/cocobambuman...</td>\n",
       "      <td>email\":\"rh.manaus@cocobambu.com</td>\n",
       "      <td>phoneNumber\":\"+55 92 3667-7430</td>\n",
       "      <td>5.0</td>\n",
       "    </tr>\n",
       "  </tbody>\n",
       "</table>\n",
       "<p>5 rows × 21 columns</p>\n",
       "</div>"
      ],
      "text/plain": [
       "                                            title              reviewId  \\\n",
       "99995  {\"title\":\"Nova op\\u00E7\\u00E3o no Paseo!!!  reviewId\":\"672210394   \n",
       "99996                               {\"title\":\"Bom  reviewId\":\"380904400   \n",
       "99997                           {\"title\":\"Bom bar  reviewId\":\"186111858   \n",
       "99998              {\"title\":\"Me senti enganada...  reviewId\":\"152745909   \n",
       "99999             {\"title\":\"Restaurante excelente  reviewId\":\"649755498   \n",
       "\n",
       "                  restaurantId                 author  \\\n",
       "99995  restaurantId\":\"17424548     author\":\"Fabiano B   \n",
       "99996   restaurantId\":\"2440184       author\":\"Chris L   \n",
       "99997   restaurantId\":\"2392996   author\":\"Guilherme P   \n",
       "99998   restaurantId\":\"1062290  author\":\"LisianeCohem   \n",
       "99999  restaurantId\":\"12433911    author\":\"brunotulio   \n",
       "\n",
       "                                              reviewBody       language  \\\n",
       "99995  Ainda n\\u00E3o inaugurado oficialmente, est\\u0...  language\":\"pt   \n",
       "99996  Bom atendimento, lugar bonito, comida muito go...  language\":\"pt   \n",
       "99997  O Rio Scenarium \\u00E9 uma das baladas mais fa...  language\":\"pt   \n",
       "99998  Fui por indica\\u00E7\\u00E3o e com boa expectat...  language\":\"pt   \n",
       "99999  Experi\\u00EAncia fant\\u00E1stica com comida de...  language\":\"pt   \n",
       "\n",
       "      mobileDevice                     userLocation  \\\n",
       "99995         True  userLocation\":\"Porto Alegre, RS   \n",
       "99996         True     userLocation\":\"Cork, Irlanda   \n",
       "99997        False     userLocation\":\"São Paulo, SP   \n",
       "99998         True  userLocation\":\"Porto Alegre, RS   \n",
       "99999         True        userLocation\":\"Manaus, AM   \n",
       "\n",
       "                    publicationDate            visitDate  ...  \\\n",
       "99995  publicationDate\":\"07/05/2019  visitDate\":\"05/2019  ...   \n",
       "99996  publicationDate\":\"08/06/2016  visitDate\":\"01/2016  ...   \n",
       "99997  publicationDate\":\"27/11/2013  visitDate\":\"11/2013  ...   \n",
       "99998  publicationDate\":\"21/02/2013     visitDate\":\"None  ...   \n",
       "99999  publicationDate\":\"02/02/2019  visitDate\":\"02/2019  ...   \n",
       "\n",
       "                                      itemReviewed  \\\n",
       "99995        itemReviewed\":{\"name\":\"Boteco Maestro   \n",
       "99996  itemReviewed\":{\"name\":\"Casa do Marqu\\u00EAs   \n",
       "99997         itemReviewed\":{\"name\":\"Rio Scenarium   \n",
       "99998               itemReviewed\":{\"name\":\"Celeiro   \n",
       "99999     itemReviewed\":{\"name\":\"Coco Bambu Manaus   \n",
       "\n",
       "                                                 address  \\\n",
       "99995  address\":{\"streetAddress\":\"Avenida Wenceslau E...   \n",
       "99996  address\":{\"streetAddress\":\"Rua Marques do Pomb...   \n",
       "99997  address\":{\"streetAddress\":\"Rua do Lavradio 20 ...   \n",
       "99998   address\":{\"streetAddress\":\"Rua Dias Ferreira 199   \n",
       "99999  address\":{\"streetAddress\":\"Avenida Coronel Tei...   \n",
       "\n",
       "                        addressLocality  \\\n",
       "99995    addressLocality\":\"Porto Alegre   \n",
       "99996    addressLocality\":\"Porto Alegre   \n",
       "99997  addressLocality\":\"Rio de Janeiro   \n",
       "99998  addressLocality\":\"Rio de Janeiro   \n",
       "99999          addressLocality\":\"Manaus   \n",
       "\n",
       "                                  addressRegion              postalCode  \\\n",
       "99995         addressRegion\":\"Rio Grande do Sul  postalCode\":\"91900-000   \n",
       "99996         addressRegion\":\"Rio Grande do Sul  postalCode\":\"90540-000   \n",
       "99997  addressRegion\":\"Estado do Rio de Janeiro  postalCode\":\"20230-070   \n",
       "99998  addressRegion\":\"Estado do Rio de Janeiro  postalCode\":\"22431-050   \n",
       "99999              addressRegion\":\"Rio Amazonas  postalCode\":\"69037-000   \n",
       "\n",
       "                  country                                            website  \\\n",
       "99995  country\":\"Brasil\"}    website\":\"http://www.facebook.com/botecomaestro   \n",
       "99996  country\":\"Brasil\"}    website\":\"http://galeteriacasadomarques.com.br/   \n",
       "99997  country\":\"Brasil\"}           website\":\"http://www.rioscenarium.art.br   \n",
       "99998  country\":\"Brasil\"}       website\":\"http://www.celeiroculinaria.com.br   \n",
       "99999  country\":\"Brasil\"}  website\":\"http://www.facebook.com/cocobambuman...   \n",
       "\n",
       "                                                   email  \\\n",
       "99995                                       email\":\"None   \n",
       "99996  email\":\"galeteriacasadomarques@galeteriacasado...   \n",
       "99997                                       email\":\"None   \n",
       "99998            email\":\"celeiro@celeiroculinaria.com.br   \n",
       "99999                    email\":\"rh.manaus@cocobambu.com   \n",
       "\n",
       "                           phoneNumber averageRating  \n",
       "99995  phoneNumber\":\"+55 51 99353-6602           4.0  \n",
       "99996   phoneNumber\":\"+55 51 3343-4303           4.5  \n",
       "99997   phoneNumber\":\"+55 21-3147-9000           4.5  \n",
       "99998    phoneNumber\":\"55 21 2274 7843           3.5  \n",
       "99999   phoneNumber\":\"+55 92 3667-7430           5.0  \n",
       "\n",
       "[5 rows x 21 columns]"
      ]
     },
     "execution_count": 6,
     "metadata": {},
     "output_type": "execute_result"
    }
   ],
   "source": [
    "train_data.tail()"
   ]
  },
  {
   "cell_type": "code",
   "execution_count": 7,
   "metadata": {
    "executionInfo": {
     "elapsed": 889,
     "status": "ok",
     "timestamp": 1604775144796,
     "user": {
      "displayName": "paulo cesar da rocha correa",
      "photoUrl": "https://lh3.googleusercontent.com/a-/AOh14GhfjqjKkqi19BFvTCJLd1b2SJHjv7CE8jW8VKcHvg=s64",
      "userId": "02019520615414855207"
     },
     "user_tz": 240
    },
    "id": "4DHNLWuYUvMa"
   },
   "outputs": [],
   "source": [
    "data = train_data\n",
    "X = data.iloc[1:2, 4].values # aqui pode ser selecionado a coluna"
   ]
  },
  {
   "cell_type": "code",
   "execution_count": 8,
   "metadata": {
    "colab": {
     "base_uri": "https://localhost:8080/"
    },
    "executionInfo": {
     "elapsed": 942,
     "status": "ok",
     "timestamp": 1604775146564,
     "user": {
      "displayName": "paulo cesar da rocha correa",
      "photoUrl": "https://lh3.googleusercontent.com/a-/AOh14GhfjqjKkqi19BFvTCJLd1b2SJHjv7CE8jW8VKcHvg=s64",
      "userId": "02019520615414855207"
     },
     "user_tz": 240
    },
    "id": "Tr8kx3ibBuD2",
    "outputId": "6806ba96-0eaa-4381-964f-a1fa578caea9"
   },
   "outputs": [
    {
     "data": {
      "text/plain": [
       "0    ['Comida boa, drinks legais e um ambiente bem ...\n",
       "dtype: object"
      ]
     },
     "execution_count": 8,
     "metadata": {},
     "output_type": "execute_result"
    }
   ],
   "source": [
    "serie =  pd.Series(np.array_str(X))\n",
    "serie"
   ]
  },
  {
   "cell_type": "code",
   "execution_count": 13,
   "metadata": {},
   "outputs": [
    {
     "name": "stdout",
     "output_type": "stream",
     "text": [
      "['Good food, nice drinks and a very cozy atmosphere. \\\\ nWe proved a lot of things and everything pleased us. Especially a duck served in one of the house dishes, sensational! ']\n"
     ]
    }
   ],
   "source": [
    "blob = TextBlob(serie[0])\n",
    "print(blob.translate(to='en'))"
   ]
  },
  {
   "cell_type": "code",
   "execution_count": null,
   "metadata": {
    "id": "ujFzSUHkHPBr"
   },
   "outputs": [],
   "source": [
    "dic2 = pd.DataFrame(train_data)\n",
    "dic2['reviewBody']\n",
    "for x in dic2['reviewBody']:\n",
    "  print(x) #vai imprimir todos os reviews\n",
    "  blob = TextBlob(x)\n",
    "  print(blob.translate(to='en'))"
   ]
  },
  {
   "cell_type": "code",
   "execution_count": 19,
   "metadata": {
    "id": "T4iGsx_HERz6"
   },
   "outputs": [
    {
     "name": "stdout",
     "output_type": "stream",
     "text": [
      "<class 'str'> title\n",
      "<class 'str'> reviewId\n",
      "<class 'str'> restaurantId\n",
      "<class 'str'> author\n",
      "<class 'str'> reviewBody\n",
      "y\n",
      "<class 'str'> language\n",
      "<class 'str'> mobileDevice\n",
      "<class 'str'> userLocation\n",
      "<class 'str'> publicationDate\n",
      "<class 'str'> visitDate\n",
      "<class 'str'> ratingValue\n",
      "<class 'str'> itemReviewed\n",
      "<class 'str'> address\n",
      "<class 'str'> addressLocality\n",
      "<class 'str'> addressRegion\n",
      "<class 'str'> postalCode\n",
      "<class 'str'> country\n",
      "<class 'str'> website\n",
      "<class 'str'> email\n",
      "<class 'str'> phoneNumber\n",
      "<class 'str'> averageRating\n"
     ]
    }
   ],
   "source": [
    "result = []\n",
    "x = []\n",
    "for _data in data:\n",
    "  print(type(_data), _data)\n",
    "  if _data == 'reviewBody':    \n",
    "    for x in _data:\n",
    "      print()\n",
    "    print(result)"
   ]
  },
  {
   "cell_type": "code",
   "execution_count": null,
   "metadata": {
    "id": "DvO5nFpwD8mf"
   },
   "outputs": [],
   "source": [
    "for x in serie:\n",
    "  print(x)\n",
    "  blob = TextBlob(x)\n",
    "  print(blob.translate(to='en'))"
   ]
  },
  {
   "cell_type": "code",
   "execution_count": null,
   "metadata": {
    "colab": {
     "base_uri": "https://localhost:8080/",
     "height": 947
    },
    "executionInfo": {
     "elapsed": 3456,
     "status": "ok",
     "timestamp": 1604725865390,
     "user": {
      "displayName": "paulo cesar da rocha correa",
      "photoUrl": "https://lh3.googleusercontent.com/a-/AOh14GhfjqjKkqi19BFvTCJLd1b2SJHjv7CE8jW8VKcHvg=s64",
      "userId": "02019520615414855207"
     },
     "user_tz": 240
    },
    "id": "mEE2DveKUvMj",
    "outputId": "4966a749-bcd9-4296-ada9-18f8d95071a9"
   },
   "outputs": [
    {
     "data": {
      "text/html": [
       "<div>\n",
       "<style scoped>\n",
       "    .dataframe tbody tr th:only-of-type {\n",
       "        vertical-align: middle;\n",
       "    }\n",
       "\n",
       "    .dataframe tbody tr th {\n",
       "        vertical-align: top;\n",
       "    }\n",
       "\n",
       "    .dataframe thead th {\n",
       "        text-align: right;\n",
       "    }\n",
       "</style>\n",
       "<table border=\"1\" class=\"dataframe\">\n",
       "  <thead>\n",
       "    <tr style=\"text-align: right;\">\n",
       "      <th></th>\n",
       "      <th>title</th>\n",
       "      <th>reviewId</th>\n",
       "      <th>restaurantId</th>\n",
       "      <th>author</th>\n",
       "      <th>reviewBody</th>\n",
       "      <th>language</th>\n",
       "      <th>mobileDevice</th>\n",
       "      <th>userLocation</th>\n",
       "      <th>publicationDate</th>\n",
       "      <th>visitDate</th>\n",
       "      <th>ratingValue</th>\n",
       "      <th>itemReviewed</th>\n",
       "      <th>address</th>\n",
       "      <th>addressLocality</th>\n",
       "      <th>addressRegion</th>\n",
       "      <th>postalCode</th>\n",
       "      <th>country</th>\n",
       "      <th>website</th>\n",
       "      <th>email</th>\n",
       "      <th>phoneNumber</th>\n",
       "      <th>averageRating</th>\n",
       "    </tr>\n",
       "  </thead>\n",
       "  <tbody>\n",
       "    <tr>\n",
       "      <th>0</th>\n",
       "      <td>{\"title\":\"Jantar</td>\n",
       "      <td>reviewId\":\"692856288</td>\n",
       "      <td>restaurantId\":\"2344932</td>\n",
       "      <td>author\":\"larinhavercosa222</td>\n",
       "      <td>Comida maravilhosa, lugar do verdadeiro chicle...</td>\n",
       "      <td>language\":\"pt</td>\n",
       "      <td>True</td>\n",
       "      <td>userLocation\":\"São Carlos, SP</td>\n",
       "      <td>publicationDate\":\"26/07/2019</td>\n",
       "      <td>visitDate\":\"07/2019</td>\n",
       "      <td>ratingValue\":\"5</td>\n",
       "      <td>itemReviewed\":{\"name\":\"Imperador dos Camar\\u00...</td>\n",
       "      <td>address\":{\"streetAddress\":\"Avenida Doutor Ant\\...</td>\n",
       "      <td>addressLocality\":\"</td>\n",
       "      <td>addressRegion\":\"Alagoas</td>\n",
       "      <td>postalCode\":\"57030-170</td>\n",
       "      <td>country\":\"Brasil\"}</td>\n",
       "      <td>website\":\"http://www.imperadordoscamaroes.com.br</td>\n",
       "      <td>email\":\"contato@imperadordoscamaroes.com.br</td>\n",
       "      <td>phoneNumber\":\"+55 82 3231-4134</td>\n",
       "      <td>4.5</td>\n",
       "    </tr>\n",
       "    <tr>\n",
       "      <th>1</th>\n",
       "      <td>{\"title\":\"Uma boa experi\\u00EAncia.</td>\n",
       "      <td>reviewId\":\"229208487</td>\n",
       "      <td>restaurantId\":\"3720906</td>\n",
       "      <td>author\":\"Pano P</td>\n",
       "      <td>Comida boa, drinks legais e um ambiente bem ac...</td>\n",
       "      <td>language\":\"pt</td>\n",
       "      <td>True</td>\n",
       "      <td>userLocation\":\"Manaus, AM</td>\n",
       "      <td>publicationDate\":\"16/09/2014</td>\n",
       "      <td>visitDate\":\"None</td>\n",
       "      <td>ratingValue\":\"4</td>\n",
       "      <td>itemReviewed\":{\"name\":\"Guacamole Natal</td>\n",
       "      <td>address\":{\"streetAddress\":\"Avenida Praia de Po...</td>\n",
       "      <td>addressLocality\":\"</td>\n",
       "      <td>addressRegion\":\"Rio Grande do Norte</td>\n",
       "      <td>postalCode\":\"59092-100</td>\n",
       "      <td>country\":\"Brasil\"}</td>\n",
       "      <td>website\":\"http://www.facebook.com/GuacamoleNatal</td>\n",
       "      <td>email\":\"guacamolenatal@gmail.com</td>\n",
       "      <td>phoneNumber\":\"+55 84 3219-3646</td>\n",
       "      <td>4.5</td>\n",
       "    </tr>\n",
       "    <tr>\n",
       "      <th>2</th>\n",
       "      <td>{\"title\":\"Otimo self service</td>\n",
       "      <td>reviewId\":\"679002332</td>\n",
       "      <td>restaurantId\":\"2248105</td>\n",
       "      <td>author\":\"Magma100</td>\n",
       "      <td>Excelente pra ir com a fam\\u00EDlia! \\u00D3tim...</td>\n",
       "      <td>language\":\"pt</td>\n",
       "      <td>True</td>\n",
       "      <td>userLocation\":\"Goiânia, GO</td>\n",
       "      <td>publicationDate\":\"04/06/2019</td>\n",
       "      <td>visitDate\":\"07/2018</td>\n",
       "      <td>ratingValue\":\"4</td>\n",
       "      <td>itemReviewed\":{\"name\":\"Chica Pitanga</td>\n",
       "      <td>address\":{\"streetAddress\":\"Rua Petrolina 19</td>\n",
       "      <td>addressLocality\":\"Recife</td>\n",
       "      <td>addressRegion\":\"Pernambuco</td>\n",
       "      <td>postalCode\":\"51021-250</td>\n",
       "      <td>country\":\"Brasil\"}</td>\n",
       "      <td>website\":\"http://www.chicapitanga.com.br</td>\n",
       "      <td>email\":\"chicapitanga@chicapitanga.com.br</td>\n",
       "      <td>phoneNumber\":\"+55 81 3334-8260</td>\n",
       "      <td>4.5</td>\n",
       "    </tr>\n",
       "    <tr>\n",
       "      <th>3</th>\n",
       "      <td>{\"title\":\"O sorvete mais tradicional do estado</td>\n",
       "      <td>reviewId\":\"355671519</td>\n",
       "      <td>restaurantId\":\"8168302</td>\n",
       "      <td>author\":\"Yurie M</td>\n",
       "      <td>Tomo sorvete na Visabor faz mais de 30 anos. S...</td>\n",
       "      <td>language\":\"pt</td>\n",
       "      <td>False</td>\n",
       "      <td>userLocation\":\"Aracaju, SE</td>\n",
       "      <td>publicationDate\":\"15/03/2016</td>\n",
       "      <td>visitDate\":\"01/2016</td>\n",
       "      <td>ratingValue\":\"5</td>\n",
       "      <td>itemReviewed\":{\"name\":\"Sorvetes Vi Sabor</td>\n",
       "      <td>address\":{\"streetAddress\":\"Avenida Francisco P...</td>\n",
       "      <td>addressLocality\":\"Aracaju</td>\n",
       "      <td>addressRegion\":\"Sergipe</td>\n",
       "      <td>postalCode\":\"</td>\n",
       "      <td>country\":\"Brasil\"}</td>\n",
       "      <td>website\":\"None</td>\n",
       "      <td>email\":\"None</td>\n",
       "      <td>phoneNumber\":\"None</td>\n",
       "      <td>4.0</td>\n",
       "    </tr>\n",
       "    <tr>\n",
       "      <th>4</th>\n",
       "      <td>{\"title\":\"Melhor hamburger!</td>\n",
       "      <td>reviewId\":\"268741921</td>\n",
       "      <td>restaurantId\":\"5395141</td>\n",
       "      <td>author\":\"Debora_C85</td>\n",
       "      <td>O melhor hamburger que j\\u00E1 comi! Excelente...</td>\n",
       "      <td>language\":\"pt</td>\n",
       "      <td>False</td>\n",
       "      <td>userLocation\":\"Rio de Janeiro, RJ</td>\n",
       "      <td>publicationDate\":\"28/04/2015</td>\n",
       "      <td>visitDate\":\"04/2015</td>\n",
       "      <td>ratingValue\":\"5</td>\n",
       "      <td>itemReviewed\":{\"name\":\"Z Deli Sandwich Shop</td>\n",
       "      <td>address\":{\"streetAddress\":\"Rua Haddock Lobo 13...</td>\n",
       "      <td>addressLocality\":\"S\\u00E3o Paulo</td>\n",
       "      <td>addressRegion\":\"Estado de S\\u00E3o Paulo</td>\n",
       "      <td>postalCode\":\"01414-002</td>\n",
       "      <td>country\":\"Brasil\"}</td>\n",
       "      <td>website\":\"http://www.facebook.com/zdelisandwic...</td>\n",
       "      <td>email\":\"None</td>\n",
       "      <td>phoneNumber\":\"551130830021</td>\n",
       "      <td>4.5</td>\n",
       "    </tr>\n",
       "    <tr>\n",
       "      <th>...</th>\n",
       "      <td>...</td>\n",
       "      <td>...</td>\n",
       "      <td>...</td>\n",
       "      <td>...</td>\n",
       "      <td>...</td>\n",
       "      <td>...</td>\n",
       "      <td>...</td>\n",
       "      <td>...</td>\n",
       "      <td>...</td>\n",
       "      <td>...</td>\n",
       "      <td>...</td>\n",
       "      <td>...</td>\n",
       "      <td>...</td>\n",
       "      <td>...</td>\n",
       "      <td>...</td>\n",
       "      <td>...</td>\n",
       "      <td>...</td>\n",
       "      <td>...</td>\n",
       "      <td>...</td>\n",
       "      <td>...</td>\n",
       "      <td>...</td>\n",
       "    </tr>\n",
       "    <tr>\n",
       "      <th>99995</th>\n",
       "      <td>{\"title\":\"Nova op\\u00E7\\u00E3o no Paseo!!!</td>\n",
       "      <td>reviewId\":\"672210394</td>\n",
       "      <td>restaurantId\":\"17424548</td>\n",
       "      <td>author\":\"Fabiano B</td>\n",
       "      <td>Ainda n\\u00E3o inaugurado oficialmente, est\\u0...</td>\n",
       "      <td>language\":\"pt</td>\n",
       "      <td>True</td>\n",
       "      <td>userLocation\":\"Porto Alegre, RS</td>\n",
       "      <td>publicationDate\":\"07/05/2019</td>\n",
       "      <td>visitDate\":\"05/2019</td>\n",
       "      <td>ratingValue\":\"5</td>\n",
       "      <td>itemReviewed\":{\"name\":\"Boteco Maestro</td>\n",
       "      <td>address\":{\"streetAddress\":\"Avenida Wenceslau E...</td>\n",
       "      <td>addressLocality\":\"Porto Alegre</td>\n",
       "      <td>addressRegion\":\"Rio Grande do Sul</td>\n",
       "      <td>postalCode\":\"91900-000</td>\n",
       "      <td>country\":\"Brasil\"}</td>\n",
       "      <td>website\":\"http://www.facebook.com/botecomaestro</td>\n",
       "      <td>email\":\"None</td>\n",
       "      <td>phoneNumber\":\"+55 51 99353-6602</td>\n",
       "      <td>4.0</td>\n",
       "    </tr>\n",
       "    <tr>\n",
       "      <th>99996</th>\n",
       "      <td>{\"title\":\"Bom</td>\n",
       "      <td>reviewId\":\"380904400</td>\n",
       "      <td>restaurantId\":\"2440184</td>\n",
       "      <td>author\":\"Chris L</td>\n",
       "      <td>Bom atendimento, lugar bonito, comida muito go...</td>\n",
       "      <td>language\":\"pt</td>\n",
       "      <td>True</td>\n",
       "      <td>userLocation\":\"Cork, Irlanda</td>\n",
       "      <td>publicationDate\":\"08/06/2016</td>\n",
       "      <td>visitDate\":\"01/2016</td>\n",
       "      <td>ratingValue\":\"4</td>\n",
       "      <td>itemReviewed\":{\"name\":\"Casa do Marqu\\u00EAs</td>\n",
       "      <td>address\":{\"streetAddress\":\"Rua Marques do Pomb...</td>\n",
       "      <td>addressLocality\":\"Porto Alegre</td>\n",
       "      <td>addressRegion\":\"Rio Grande do Sul</td>\n",
       "      <td>postalCode\":\"90540-000</td>\n",
       "      <td>country\":\"Brasil\"}</td>\n",
       "      <td>website\":\"http://galeteriacasadomarques.com.br/</td>\n",
       "      <td>email\":\"galeteriacasadomarques@galeteriacasado...</td>\n",
       "      <td>phoneNumber\":\"+55 51 3343-4303</td>\n",
       "      <td>4.5</td>\n",
       "    </tr>\n",
       "    <tr>\n",
       "      <th>99997</th>\n",
       "      <td>{\"title\":\"Bom bar</td>\n",
       "      <td>reviewId\":\"186111858</td>\n",
       "      <td>restaurantId\":\"2392996</td>\n",
       "      <td>author\":\"Guilherme P</td>\n",
       "      <td>O Rio Scenarium \\u00E9 uma das baladas mais fa...</td>\n",
       "      <td>language\":\"pt</td>\n",
       "      <td>False</td>\n",
       "      <td>userLocation\":\"São Paulo, SP</td>\n",
       "      <td>publicationDate\":\"27/11/2013</td>\n",
       "      <td>visitDate\":\"11/2013</td>\n",
       "      <td>ratingValue\":\"4</td>\n",
       "      <td>itemReviewed\":{\"name\":\"Rio Scenarium</td>\n",
       "      <td>address\":{\"streetAddress\":\"Rua do Lavradio 20 ...</td>\n",
       "      <td>addressLocality\":\"Rio de Janeiro</td>\n",
       "      <td>addressRegion\":\"Estado do Rio de Janeiro</td>\n",
       "      <td>postalCode\":\"20230-070</td>\n",
       "      <td>country\":\"Brasil\"}</td>\n",
       "      <td>website\":\"http://www.rioscenarium.art.br</td>\n",
       "      <td>email\":\"None</td>\n",
       "      <td>phoneNumber\":\"+55 21-3147-9000</td>\n",
       "      <td>4.5</td>\n",
       "    </tr>\n",
       "    <tr>\n",
       "      <th>99998</th>\n",
       "      <td>{\"title\":\"Me senti enganada...</td>\n",
       "      <td>reviewId\":\"152745909</td>\n",
       "      <td>restaurantId\":\"1062290</td>\n",
       "      <td>author\":\"LisianeCohem</td>\n",
       "      <td>Fui por indica\\u00E7\\u00E3o e com boa expectat...</td>\n",
       "      <td>language\":\"pt</td>\n",
       "      <td>True</td>\n",
       "      <td>userLocation\":\"Porto Alegre, RS</td>\n",
       "      <td>publicationDate\":\"21/02/2013</td>\n",
       "      <td>visitDate\":\"None</td>\n",
       "      <td>ratingValue\":\"2</td>\n",
       "      <td>itemReviewed\":{\"name\":\"Celeiro</td>\n",
       "      <td>address\":{\"streetAddress\":\"Rua Dias Ferreira 199</td>\n",
       "      <td>addressLocality\":\"Rio de Janeiro</td>\n",
       "      <td>addressRegion\":\"Estado do Rio de Janeiro</td>\n",
       "      <td>postalCode\":\"22431-050</td>\n",
       "      <td>country\":\"Brasil\"}</td>\n",
       "      <td>website\":\"http://www.celeiroculinaria.com.br</td>\n",
       "      <td>email\":\"celeiro@celeiroculinaria.com.br</td>\n",
       "      <td>phoneNumber\":\"55 21 2274 7843</td>\n",
       "      <td>3.5</td>\n",
       "    </tr>\n",
       "    <tr>\n",
       "      <th>99999</th>\n",
       "      <td>{\"title\":\"Restaurante excelente</td>\n",
       "      <td>reviewId\":\"649755498</td>\n",
       "      <td>restaurantId\":\"12433911</td>\n",
       "      <td>author\":\"brunotulio</td>\n",
       "      <td>Experi\\u00EAncia fant\\u00E1stica com comida de...</td>\n",
       "      <td>language\":\"pt</td>\n",
       "      <td>True</td>\n",
       "      <td>userLocation\":\"Manaus, AM</td>\n",
       "      <td>publicationDate\":\"02/02/2019</td>\n",
       "      <td>visitDate\":\"02/2019</td>\n",
       "      <td>ratingValue\":\"5</td>\n",
       "      <td>itemReviewed\":{\"name\":\"Coco Bambu Manaus</td>\n",
       "      <td>address\":{\"streetAddress\":\"Avenida Coronel Tei...</td>\n",
       "      <td>addressLocality\":\"Manaus</td>\n",
       "      <td>addressRegion\":\"Rio Amazonas</td>\n",
       "      <td>postalCode\":\"69037-000</td>\n",
       "      <td>country\":\"Brasil\"}</td>\n",
       "      <td>website\":\"http://www.facebook.com/cocobambuman...</td>\n",
       "      <td>email\":\"rh.manaus@cocobambu.com</td>\n",
       "      <td>phoneNumber\":\"+55 92 3667-7430</td>\n",
       "      <td>5.0</td>\n",
       "    </tr>\n",
       "  </tbody>\n",
       "</table>\n",
       "<p>100000 rows × 21 columns</p>\n",
       "</div>"
      ],
      "text/plain": [
       "                                                title  ... averageRating\n",
       "0                                   {\"title\":\"Jantar   ...           4.5\n",
       "1                 {\"title\":\"Uma boa experi\\u00EAncia.  ...           4.5\n",
       "2                        {\"title\":\"Otimo self service  ...           4.5\n",
       "3      {\"title\":\"O sorvete mais tradicional do estado  ...           4.0\n",
       "4                         {\"title\":\"Melhor hamburger!  ...           4.5\n",
       "...                                               ...  ...           ...\n",
       "99995      {\"title\":\"Nova op\\u00E7\\u00E3o no Paseo!!!  ...           4.0\n",
       "99996                                   {\"title\":\"Bom  ...           4.5\n",
       "99997                               {\"title\":\"Bom bar  ...           4.5\n",
       "99998                  {\"title\":\"Me senti enganada...  ...           3.5\n",
       "99999                 {\"title\":\"Restaurante excelente  ...           5.0\n",
       "\n",
       "[100000 rows x 21 columns]"
      ]
     },
     "execution_count": 6,
     "metadata": {
      "tags": []
     },
     "output_type": "execute_result"
    }
   ],
   "source": [
    "train_data"
   ]
  },
  {
   "cell_type": "code",
   "execution_count": null,
   "metadata": {
    "id": "I6wcIM3QUvMt"
   },
   "outputs": [],
   "source": [
    "def limparDados(text):\n",
    "    text = re.sub()\n",
    "    return text"
   ]
  },
  {
   "cell_type": "code",
   "execution_count": null,
   "metadata": {
    "colab": {
     "base_uri": "https://localhost:8080/"
    },
    "executionInfo": {
     "elapsed": 3454,
     "status": "ok",
     "timestamp": 1604725865410,
     "user": {
      "displayName": "paulo cesar da rocha correa",
      "photoUrl": "https://lh3.googleusercontent.com/a-/AOh14GhfjqjKkqi19BFvTCJLd1b2SJHjv7CE8jW8VKcHvg=s64",
      "userId": "02019520615414855207"
     },
     "user_tz": 240
    },
    "id": "WKc-qdnCUvM5",
    "outputId": "e5f6b044-57c5-4c81-a2a3-485fbc83b926"
   },
   "outputs": [
    {
     "data": {
      "text/plain": [
       "array(['author\":\"larinhavercosa222', 'author\":\"Pano P',\n",
       "       'author\":\"Magma100', ..., 'author\":\"Guilherme P',\n",
       "       'author\":\"LisianeCohem', 'author\":\"brunotulio'], dtype=object)"
      ]
     },
     "execution_count": 8,
     "metadata": {
      "tags": []
     },
     "output_type": "execute_result"
    }
   ],
   "source": [
    "X"
   ]
  },
  {
   "cell_type": "code",
   "execution_count": null,
   "metadata": {
    "colab": {
     "base_uri": "https://localhost:8080/"
    },
    "executionInfo": {
     "elapsed": 3448,
     "status": "ok",
     "timestamp": 1604725865416,
     "user": {
      "displayName": "paulo cesar da rocha correa",
      "photoUrl": "https://lh3.googleusercontent.com/a-/AOh14GhfjqjKkqi19BFvTCJLd1b2SJHjv7CE8jW8VKcHvg=s64",
      "userId": "02019520615414855207"
     },
     "user_tz": 240
    },
    "id": "L-bk26tTUvNE",
    "outputId": "4abb7a5f-fcbd-4091-fb14-dc34d0c0760b"
   },
   "outputs": [
    {
     "name": "stdout",
     "output_type": "stream",
     "text": [
      "['author\":\"larinhavercosa222' 'author\":\"Pano P' 'author\":\"Magma100' ...\n",
      " 'author\":\"Guilherme P' 'author\":\"LisianeCohem' 'author\":\"brunotulio']\n"
     ]
    },
    {
     "data": {
      "text/plain": [
       "(100000,)"
      ]
     },
     "execution_count": 9,
     "metadata": {
      "tags": []
     },
     "output_type": "execute_result"
    }
   ],
   "source": [
    "_X = np.array_str(X)\n",
    "print(_X)\n",
    "#_X.decode('unicode-escape')\n",
    "X.shape #Formato "
   ]
  },
  {
   "cell_type": "code",
   "execution_count": null,
   "metadata": {
    "colab": {
     "base_uri": "https://localhost:8080/"
    },
    "executionInfo": {
     "elapsed": 3441,
     "status": "ok",
     "timestamp": 1604725865422,
     "user": {
      "displayName": "paulo cesar da rocha correa",
      "photoUrl": "https://lh3.googleusercontent.com/a-/AOh14GhfjqjKkqi19BFvTCJLd1b2SJHjv7CE8jW8VKcHvg=s64",
      "userId": "02019520615414855207"
     },
     "user_tz": 240
    },
    "id": "V_1fOLeeUvNL",
    "outputId": "e1eee096-108d-49d4-ee7c-7bd990aa56ef"
   },
   "outputs": [
    {
     "data": {
      "text/plain": [
       "numpy.ndarray"
      ]
     },
     "execution_count": 10,
     "metadata": {
      "tags": []
     },
     "output_type": "execute_result"
    }
   ],
   "source": [
    "type(X) # tipo do dado"
   ]
  },
  {
   "cell_type": "code",
   "execution_count": null,
   "metadata": {
    "colab": {
     "base_uri": "https://localhost:8080/",
     "height": 54
    },
    "executionInfo": {
     "elapsed": 3800,
     "status": "ok",
     "timestamp": 1604725865796,
     "user": {
      "displayName": "paulo cesar da rocha correa",
      "photoUrl": "https://lh3.googleusercontent.com/a-/AOh14GhfjqjKkqi19BFvTCJLd1b2SJHjv7CE8jW8VKcHvg=s64",
      "userId": "02019520615414855207"
     },
     "user_tz": 240
    },
    "id": "t0F6FmvXUvNV",
    "outputId": "6a3a3f63-ab35-460f-f4b8-b7619105af2a"
   },
   "outputs": [
    {
     "data": {
      "application/vnd.google.colaboratory.intrinsic+json": {
       "type": "string"
      },
      "text/plain": [
       "'[\\'author\":\"larinhavercosa222\\' \\'author\":\"Pano P\\' \\'author\":\"Magma100\\' ...\\n \\'author\":\"Guilherme P\\' \\'author\":\"LisianeCohem\\' \\'author\":\"brunotulio\\']'"
      ]
     },
     "execution_count": 11,
     "metadata": {
      "tags": []
     },
     "output_type": "execute_result"
    }
   ],
   "source": [
    "data_str = _X[0:10000]\n",
    "str(data_str).encode('unicode_escape').decode('unicode_escape')"
   ]
  },
  {
   "cell_type": "code",
   "execution_count": null,
   "metadata": {
    "id": "Wb-aUJwiUvNc"
   },
   "outputs": [],
   "source": [
    "def decodeUnicodeArray(_string):\n",
    "    espacoSeq = _string.group(0)\n",
    "    digito = espacoSeq[2:]\n",
    "    ordinal = int(digito, 16)\n",
    "    char = chr(ordinal)\n",
    "    return char\n",
    "    "
   ]
  },
  {
   "cell_type": "code",
   "execution_count": null,
   "metadata": {
    "colab": {
     "base_uri": "https://localhost:8080/",
     "height": 36
    },
    "executionInfo": {
     "elapsed": 3786,
     "status": "ok",
     "timestamp": 1604725865805,
     "user": {
      "displayName": "paulo cesar da rocha correa",
      "photoUrl": "https://lh3.googleusercontent.com/a-/AOh14GhfjqjKkqi19BFvTCJLd1b2SJHjv7CE8jW8VKcHvg=s64",
      "userId": "02019520615414855207"
     },
     "user_tz": 240
    },
    "id": "GDmR8qpWUvNk",
    "outputId": "6273c20f-a60a-48cc-ba44-329f00d41042"
   },
   "outputs": [
    {
     "data": {
      "application/vnd.google.colaboratory.intrinsic+json": {
       "type": "string"
      },
      "text/plain": [
       "'test'"
      ]
     },
     "execution_count": 13,
     "metadata": {
      "tags": []
     },
     "output_type": "execute_result"
    }
   ],
   "source": [
    "re.sub(r'(\\\\u[09A-Fa-f]+)', decodeUnicodeArray, \"test\")"
   ]
  },
  {
   "cell_type": "code",
   "execution_count": null,
   "metadata": {
    "colab": {
     "base_uri": "https://localhost:8080/",
     "height": 300
    },
    "executionInfo": {
     "elapsed": 3777,
     "status": "ok",
     "timestamp": 1604725865808,
     "user": {
      "displayName": "paulo cesar da rocha correa",
      "photoUrl": "https://lh3.googleusercontent.com/a-/AOh14GhfjqjKkqi19BFvTCJLd1b2SJHjv7CE8jW8VKcHvg=s64",
      "userId": "02019520615414855207"
     },
     "user_tz": 240
    },
    "id": "kgri8ju-UvNs",
    "outputId": "1b207a55-2773-446f-85a5-5befb804ece8"
   },
   "outputs": [
    {
     "data": {
      "text/html": [
       "<div>\n",
       "<style scoped>\n",
       "    .dataframe tbody tr th:only-of-type {\n",
       "        vertical-align: middle;\n",
       "    }\n",
       "\n",
       "    .dataframe tbody tr th {\n",
       "        vertical-align: top;\n",
       "    }\n",
       "\n",
       "    .dataframe thead th {\n",
       "        text-align: right;\n",
       "    }\n",
       "</style>\n",
       "<table border=\"1\" class=\"dataframe\">\n",
       "  <thead>\n",
       "    <tr style=\"text-align: right;\">\n",
       "      <th></th>\n",
       "      <th>averageRating</th>\n",
       "    </tr>\n",
       "  </thead>\n",
       "  <tbody>\n",
       "    <tr>\n",
       "      <th>count</th>\n",
       "      <td>90000.000000</td>\n",
       "    </tr>\n",
       "    <tr>\n",
       "      <th>mean</th>\n",
       "      <td>4.254278</td>\n",
       "    </tr>\n",
       "    <tr>\n",
       "      <th>std</th>\n",
       "      <td>0.401061</td>\n",
       "    </tr>\n",
       "    <tr>\n",
       "      <th>min</th>\n",
       "      <td>1.000000</td>\n",
       "    </tr>\n",
       "    <tr>\n",
       "      <th>25%</th>\n",
       "      <td>4.000000</td>\n",
       "    </tr>\n",
       "    <tr>\n",
       "      <th>50%</th>\n",
       "      <td>4.500000</td>\n",
       "    </tr>\n",
       "    <tr>\n",
       "      <th>75%</th>\n",
       "      <td>4.500000</td>\n",
       "    </tr>\n",
       "    <tr>\n",
       "      <th>max</th>\n",
       "      <td>5.000000</td>\n",
       "    </tr>\n",
       "  </tbody>\n",
       "</table>\n",
       "</div>"
      ],
      "text/plain": [
       "       averageRating\n",
       "count   90000.000000\n",
       "mean        4.254278\n",
       "std         0.401061\n",
       "min         1.000000\n",
       "25%         4.000000\n",
       "50%         4.500000\n",
       "75%         4.500000\n",
       "max         5.000000"
      ]
     },
     "execution_count": 14,
     "metadata": {
      "tags": []
     },
     "output_type": "execute_result"
    }
   ],
   "source": [
    "train_data.describe()"
   ]
  },
  {
   "cell_type": "code",
   "execution_count": null,
   "metadata": {
    "id": "XrUG1Rj4UvN0"
   },
   "outputs": [],
   "source": [
    "#data.drop(['title', 'restaurantId','author','reviewBody','language','userLocation','publicationDate','visitDate','ratingValue','itemReviewed','address','addressLocality','addressRegion','postalCode','country','website','email','phoneNumber','averageRating'], axis = 1, inplace=True)"
   ]
  },
  {
   "cell_type": "code",
   "execution_count": null,
   "metadata": {
    "id": "JGDh5FzFUvN9"
   },
   "outputs": [],
   "source": [
    "#train_data.mobileDevice.unique()"
   ]
  },
  {
   "cell_type": "code",
   "execution_count": 9,
   "metadata": {
    "colab": {
     "base_uri": "https://localhost:8080/",
     "height": 337
    },
    "executionInfo": {
     "elapsed": 24384,
     "status": "ok",
     "timestamp": 1604762080389,
     "user": {
      "displayName": "paulo cesar da rocha correa",
      "photoUrl": "https://lh3.googleusercontent.com/a-/AOh14GhfjqjKkqi19BFvTCJLd1b2SJHjv7CE8jW8VKcHvg=s64",
      "userId": "02019520615414855207"
     },
     "user_tz": 240
    },
    "id": "3zA_8hhkUvOE",
    "outputId": "721ee675-23b6-46fe-caa3-d02f30c58a7f",
    "scrolled": true
   },
   "outputs": [
    {
     "name": "stderr",
     "output_type": "stream",
     "text": [
      "/usr/local/lib/python3.6/dist-packages/seaborn/_decorators.py:43: FutureWarning: Pass the following variable as a keyword arg: x. From version 0.12, the only valid positional argument will be `data`, and passing other arguments without an explicit keyword will result in an error or misinterpretation.\n",
      "  FutureWarning\n"
     ]
    },
    {
     "data": {
      "image/png": "[encoded data removed]",
      "text/plain": [
       "<Figure size 432x288 with 1 Axes>"
      ]
     },
     "metadata": {
      "needs_background": "light",
      "tags": []
     },
     "output_type": "display_data"
    }
   ],
   "source": [
    "sns.countplot(train_data.mobileDevice);"
   ]
  },
  {
   "cell_type": "code",
   "execution_count": 10,
   "metadata": {
    "colab": {
     "base_uri": "https://localhost:8080/",
     "height": 401
    },
    "executionInfo": {
     "elapsed": 32689,
     "status": "ok",
     "timestamp": 1604762109263,
     "user": {
      "displayName": "paulo cesar da rocha correa",
      "photoUrl": "https://lh3.googleusercontent.com/a-/AOh14GhfjqjKkqi19BFvTCJLd1b2SJHjv7CE8jW8VKcHvg=s64",
      "userId": "02019520615414855207"
     },
     "user_tz": 240
    },
    "id": "QO4WgOMzUvOJ",
    "outputId": "038d4b6e-ebb0-41f2-a9c3-042a96e36d23"
   },
   "outputs": [
    {
     "data": {
      "text/plain": [
       "<seaborn.axisgrid.FacetGrid at 0x7f39de5b06d8>"
      ]
     },
     "execution_count": 10,
     "metadata": {
      "tags": []
     },
     "output_type": "execute_result"
    },
    {
     "data": {
      "image/png": "[encoded data removed]",
      "text/plain": [
       "<Figure size 360x360 with 1 Axes>"
      ]
     },
     "metadata": {
      "needs_background": "light",
      "tags": []
     },
     "output_type": "display_data"
    }
   ],
   "source": [
    "sns.catplot(x=\"mobileDevice\", kind=\"count\", palette=\"ch:.25\", data=train_data)"
   ]
  },
  {
   "cell_type": "code",
   "execution_count": 1,
   "metadata": {
    "colab": {
     "base_uri": "https://localhost:8080/",
     "height": 35
    },
    "executionInfo": {
     "elapsed": 829,
     "status": "ok",
     "timestamp": 1604759209282,
     "user": {
      "displayName": "paulo cesar da rocha correa",
      "photoUrl": "https://lh3.googleusercontent.com/a-/AOh14GhfjqjKkqi19BFvTCJLd1b2SJHjv7CE8jW8VKcHvg=s64",
      "userId": "02019520615414855207"
     },
     "user_tz": 240
    },
    "id": "ThGEN0-fUvOO",
    "outputId": "de0316b4-7f7f-409c-8969-dd69260335ba"
   },
   "outputs": [
    {
     "data": {
      "application/vnd.google.colaboratory.intrinsic+json": {
       "type": "string"
      },
      "text/plain": [
       "'/content'"
      ]
     },
     "execution_count": 1,
     "metadata": {
      "tags": []
     },
     "output_type": "execute_result"
    }
   ],
   "source": [
    "%pwd"
   ]
  },
  {
   "cell_type": "code",
   "execution_count": 40,
   "metadata": {
    "executionInfo": {
     "elapsed": 1014,
     "status": "ok",
     "timestamp": 1604781539366,
     "user": {
      "displayName": "paulo cesar da rocha correa",
      "photoUrl": "https://lh3.googleusercontent.com/a-/AOh14GhfjqjKkqi19BFvTCJLd1b2SJHjv7CE8jW8VKcHvg=s64",
      "userId": "02019520615414855207"
     },
     "user_tz": 240
    },
    "id": "1RdwUC5hGig6"
   },
   "outputs": [],
   "source": [
    "f1 = (2*66.6*66.6)/(66.6+66.6)"
   ]
  },
  {
   "cell_type": "code",
   "execution_count": 41,
   "metadata": {
    "colab": {
     "base_uri": "https://localhost:8080/"
    },
    "executionInfo": {
     "elapsed": 809,
     "status": "ok",
     "timestamp": 1604781540287,
     "user": {
      "displayName": "paulo cesar da rocha correa",
      "photoUrl": "https://lh3.googleusercontent.com/a-/AOh14GhfjqjKkqi19BFvTCJLd1b2SJHjv7CE8jW8VKcHvg=s64",
      "userId": "02019520615414855207"
     },
     "user_tz": 240
    },
    "id": "UQE1MRt0bhm-",
    "outputId": "cced780c-9849-42cb-bdc1-d0bf4add5e31"
   },
   "outputs": [
    {
     "data": {
      "text/plain": [
       "66.6"
      ]
     },
     "execution_count": 41,
     "metadata": {
      "tags": []
     },
     "output_type": "execute_result"
    }
   ],
   "source": [
    "f1"
   ]
  },
  {
   "cell_type": "code",
   "execution_count": 43,
   "metadata": {
    "colab": {
     "base_uri": "https://localhost:8080/"
    },
    "executionInfo": {
     "elapsed": 819,
     "status": "ok",
     "timestamp": 1604782000978,
     "user": {
      "displayName": "paulo cesar da rocha correa",
      "photoUrl": "https://lh3.googleusercontent.com/a-/AOh14GhfjqjKkqi19BFvTCJLd1b2SJHjv7CE8jW8VKcHvg=s64",
      "userId": "02019520615414855207"
     },
     "user_tz": 240
    },
    "id": "Ku2pu49tbiW2",
    "outputId": "d46b8805-5f4d-49bd-9000-685f46409d0f"
   },
   "outputs": [
    {
     "data": {
      "text/plain": [
       "75.0"
      ]
     },
     "execution_count": 43,
     "metadata": {
      "tags": []
     },
     "output_type": "execute_result"
    }
   ],
   "source": [
    "f2 = (2*60*100)/(60+100)\n",
    "f2\n"
   ]
  },
  {
   "cell_type": "code",
   "execution_count": 44,
   "metadata": {
    "colab": {
     "base_uri": "https://localhost:8080/"
    },
    "executionInfo": {
     "elapsed": 914,
     "status": "ok",
     "timestamp": 1604782282091,
     "user": {
      "displayName": "paulo cesar da rocha correa",
      "photoUrl": "https://lh3.googleusercontent.com/a-/AOh14GhfjqjKkqi19BFvTCJLd1b2SJHjv7CE8jW8VKcHvg=s64",
      "userId": "02019520615414855207"
     },
     "user_tz": 240
    },
    "id": "uU0mHKZbddUR",
    "outputId": "47a26920-558d-4ff1-f6b4-55e1c7589eda"
   },
   "outputs": [
    {
     "data": {
      "text/plain": [
       "50.0"
      ]
     },
     "execution_count": 44,
     "metadata": {
      "tags": []
     },
     "output_type": "execute_result"
    }
   ],
   "source": [
    "f1p = (2*50*50)/(50+50)\n",
    "f1p"
   ]
  },
  {
   "cell_type": "code",
   "execution_count": 45,
   "metadata": {
    "colab": {
     "base_uri": "https://localhost:8080/"
    },
    "executionInfo": {
     "elapsed": 863,
     "status": "ok",
     "timestamp": 1604782533594,
     "user": {
      "displayName": "paulo cesar da rocha correa",
      "photoUrl": "https://lh3.googleusercontent.com/a-/AOh14GhfjqjKkqi19BFvTCJLd1b2SJHjv7CE8jW8VKcHvg=s64",
      "userId": "02019520615414855207"
     },
     "user_tz": 240
    },
    "id": "2XbtvPEDelEB",
    "outputId": "ebc48a8d-578a-44b7-df97-d3648dccc61c"
   },
   "outputs": [
    {
     "data": {
      "text/plain": [
       "1.0"
      ]
     },
     "execution_count": 45,
     "metadata": {
      "tags": []
     },
     "output_type": "execute_result"
    }
   ],
   "source": [
    "P = 4/4\n",
    "R = 4/4\n",
    "f2p = (2*P*R)/(P+R)\n",
    "f2p"
   ]
  },
  {
   "cell_type": "code",
   "execution_count": null,
   "metadata": {
    "id": "iTaSNLjJfify"
   },
   "outputs": [],
   "source": []
  }
 ],
 "metadata": {
  "colab": {
   "collapsed_sections": [],
   "name": "piloto-2.ipynb",
   "provenance": []
  },
  "kernelspec": {
   "display_name": "Python 3.7.6 64-bit ('base': conda)",
   "language": "python",
   "name": "python37664bitbaseconda3bccb8464e544e1caf96114d9ca87004"
  },
  "language_info": {
   "codemirror_mode": {
    "name": "ipython",
    "version": 3
   },
   "file_extension": ".py",
   "mimetype": "text/x-python",
   "name": "python",
   "nbconvert_exporter": "python",
   "pygments_lexer": "ipython3",
   "version": "3.7.6"
  }
 },
 "nbformat": 4,
 "nbformat_minor": 1
}
