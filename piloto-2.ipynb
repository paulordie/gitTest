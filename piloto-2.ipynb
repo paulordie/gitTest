{
 "cells": [
  {
   "cell_type": "code",
   "execution_count": null,
   "metadata": {},
   "outputs": [],
   "source": [
    "# -*- coding: UTF-8 -*-"
   ]
  },
  {
   "cell_type": "code",
   "execution_count": 10,
   "metadata": {
    "executionInfo": {
     "elapsed": 2567,
     "status": "ok",
     "timestamp": 1604774783060,
     "user": {
      "displayName": "paulo cesar da rocha correa",
      "photoUrl": "https://lh3.googleusercontent.com/a-/AOh14GhfjqjKkqi19BFvTCJLd1b2SJHjv7CE8jW8VKcHvg=s64",
      "userId": "02019520615414855207"
     },
     "user_tz": 240
    },
    "id": "IrC3D24_UvLr"
   },
   "outputs": [
    {
     "name": "stderr",
     "output_type": "stream",
     "text": [
      "[nltk_data] Downloading package punkt to /home/pcorrea/nltk_data...\n",
      "[nltk_data]   Package punkt is already up-to-date!\n"
     ]
    }
   ],
   "source": [
    "import numpy as np\n",
    "import math\n",
    "import re\n",
    "import pandas as pd\n",
    "from bs4 import BeautifulSoup\n",
    "#from google.colab import drive\n",
    "#import zipfile\n",
    "#import seaborn as sns\n",
    "#import spacy as sp\n",
    "import string\n",
    "import random\n",
    "import matplotlib.pyplot as plt\n",
    "import nltk\n",
    "nltk.download('punkt')\n",
    "from textblob import TextBlob"
   ]
  },
  {
   "cell_type": "code",
   "execution_count": 2,
   "metadata": {
    "colab": {
     "base_uri": "https://localhost:8080/"
    },
    "executionInfo": {
     "elapsed": 31062,
     "status": "ok",
     "timestamp": 1604774846664,
     "user": {
      "displayName": "paulo cesar da rocha correa",
      "photoUrl": "https://lh3.googleusercontent.com/a-/AOh14GhfjqjKkqi19BFvTCJLd1b2SJHjv7CE8jW8VKcHvg=s64",
      "userId": "02019520615414855207"
     },
     "user_tz": 240
    },
    "id": "B7aqCIxWCPlN",
    "outputId": "193d27ea-9188-4201-8a12-1d505735b25a"
   },
   "outputs": [],
   "source": [
    "#.mount(\"/content/drive\")"
   ]
  },
  {
   "cell_type": "code",
   "execution_count": 19,
   "metadata": {
    "colab": {
     "base_uri": "https://localhost:8080/",
     "height": 532
    },
    "executionInfo": {
     "elapsed": 4152,
     "status": "ok",
     "timestamp": 1604774851637,
     "user": {
      "displayName": "paulo cesar da rocha correa",
      "photoUrl": "https://lh3.googleusercontent.com/a-/AOh14GhfjqjKkqi19BFvTCJLd1b2SJHjv7CE8jW8VKcHvg=s64",
      "userId": "02019520615414855207"
     },
     "user_tz": 240
    },
    "id": "dbEZUXS3UvL7",
    "outputId": "afc843e7-b7a6-4838-dcf8-4a255695b61e"
   },
   "outputs": [
    {
     "data": {
      "text/html": [
       "<div>\n",
       "<style scoped>\n",
       "    .dataframe tbody tr th:only-of-type {\n",
       "        vertical-align: middle;\n",
       "    }\n",
       "\n",
       "    .dataframe tbody tr th {\n",
       "        vertical-align: top;\n",
       "    }\n",
       "\n",
       "    .dataframe thead th {\n",
       "        text-align: right;\n",
       "    }\n",
       "</style>\n",
       "<table border=\"1\" class=\"dataframe\">\n",
       "  <thead>\n",
       "    <tr style=\"text-align: right;\">\n",
       "      <th></th>\n",
       "      <th>ratingValue</th>\n",
       "      <th>averageRating</th>\n",
       "    </tr>\n",
       "  </thead>\n",
       "  <tbody>\n",
       "    <tr>\n",
       "      <th>count</th>\n",
       "      <td>100000.00000</td>\n",
       "      <td>100000.000000</td>\n",
       "    </tr>\n",
       "    <tr>\n",
       "      <th>mean</th>\n",
       "      <td>4.25719</td>\n",
       "      <td>4.254855</td>\n",
       "    </tr>\n",
       "    <tr>\n",
       "      <th>std</th>\n",
       "      <td>0.96880</td>\n",
       "      <td>0.400535</td>\n",
       "    </tr>\n",
       "    <tr>\n",
       "      <th>min</th>\n",
       "      <td>1.00000</td>\n",
       "      <td>1.000000</td>\n",
       "    </tr>\n",
       "    <tr>\n",
       "      <th>25%</th>\n",
       "      <td>4.00000</td>\n",
       "      <td>4.000000</td>\n",
       "    </tr>\n",
       "    <tr>\n",
       "      <th>50%</th>\n",
       "      <td>5.00000</td>\n",
       "      <td>4.500000</td>\n",
       "    </tr>\n",
       "    <tr>\n",
       "      <th>75%</th>\n",
       "      <td>5.00000</td>\n",
       "      <td>4.500000</td>\n",
       "    </tr>\n",
       "    <tr>\n",
       "      <th>max</th>\n",
       "      <td>5.00000</td>\n",
       "      <td>5.000000</td>\n",
       "    </tr>\n",
       "  </tbody>\n",
       "</table>\n",
       "</div>"
      ],
      "text/plain": [
       "        ratingValue  averageRating\n",
       "count  100000.00000  100000.000000\n",
       "mean        4.25719       4.254855\n",
       "std         0.96880       0.400535\n",
       "min         1.00000       1.000000\n",
       "25%         4.00000       4.000000\n",
       "50%         5.00000       4.500000\n",
       "75%         5.00000       4.500000\n",
       "max         5.00000       5.000000"
      ]
     },
     "execution_count": 19,
     "metadata": {},
     "output_type": "execute_result"
    }
   ],
   "source": [
    "cols = ['title','reviewId', 'restaurantId','author','reviewBody','language','mobileDevice','userLocation','publicationDate','visitDate','ratingValue','itemReviewed','address','addressLocality','addressRegion','postalCode','country','website','email','phoneNumber','averageRating']\n",
    "train_data = pd.read_csv('pc-dataset-v2.dat', names= cols, engine = 'python', delimiter=',', skiprows=0)\n",
    "train_data.describe()"
   ]
  },
  {
   "cell_type": "code",
   "execution_count": 20,
   "metadata": {},
   "outputs": [
    {
     "data": {
      "text/html": [
       "<div>\n",
       "<style scoped>\n",
       "    .dataframe tbody tr th:only-of-type {\n",
       "        vertical-align: middle;\n",
       "    }\n",
       "\n",
       "    .dataframe tbody tr th {\n",
       "        vertical-align: top;\n",
       "    }\n",
       "\n",
       "    .dataframe thead th {\n",
       "        text-align: right;\n",
       "    }\n",
       "</style>\n",
       "<table border=\"1\" class=\"dataframe\">\n",
       "  <thead>\n",
       "    <tr style=\"text-align: right;\">\n",
       "      <th></th>\n",
       "      <th>title</th>\n",
       "      <th>reviewId</th>\n",
       "      <th>restaurantId</th>\n",
       "      <th>author</th>\n",
       "      <th>reviewBody</th>\n",
       "      <th>language</th>\n",
       "      <th>mobileDevice</th>\n",
       "      <th>userLocation</th>\n",
       "      <th>publicationDate</th>\n",
       "      <th>visitDate</th>\n",
       "      <th>...</th>\n",
       "      <th>itemReviewed</th>\n",
       "      <th>address</th>\n",
       "      <th>addressLocality</th>\n",
       "      <th>addressRegion</th>\n",
       "      <th>postalCode</th>\n",
       "      <th>country</th>\n",
       "      <th>website</th>\n",
       "      <th>email</th>\n",
       "      <th>phoneNumber</th>\n",
       "      <th>averageRating</th>\n",
       "    </tr>\n",
       "  </thead>\n",
       "  <tbody>\n",
       "  </tbody>\n",
       "</table>\n",
       "<p>0 rows × 21 columns</p>\n",
       "</div>"
      ],
      "text/plain": [
       "Empty DataFrame\n",
       "Columns: [title, reviewId, restaurantId, author, reviewBody, language, mobileDevice, userLocation, publicationDate, visitDate, ratingValue, itemReviewed, address, addressLocality, addressRegion, postalCode, country, website, email, phoneNumber, averageRating]\n",
       "Index: []\n",
       "\n",
       "[0 rows x 21 columns]"
      ]
     },
     "execution_count": 20,
     "metadata": {},
     "output_type": "execute_result"
    }
   ],
   "source": [
    "train_data.loc[pd.isnull(train_data['reviewBody'])]"
   ]
  },
  {
   "cell_type": "code",
   "execution_count": 21,
   "metadata": {},
   "outputs": [
    {
     "data": {
      "text/html": [
       "<div>\n",
       "<style scoped>\n",
       "    .dataframe tbody tr th:only-of-type {\n",
       "        vertical-align: middle;\n",
       "    }\n",
       "\n",
       "    .dataframe tbody tr th {\n",
       "        vertical-align: top;\n",
       "    }\n",
       "\n",
       "    .dataframe thead th {\n",
       "        text-align: right;\n",
       "    }\n",
       "</style>\n",
       "<table border=\"1\" class=\"dataframe\">\n",
       "  <thead>\n",
       "    <tr style=\"text-align: right;\">\n",
       "      <th></th>\n",
       "      <th>title</th>\n",
       "      <th>reviewId</th>\n",
       "      <th>restaurantId</th>\n",
       "      <th>author</th>\n",
       "      <th>reviewBody</th>\n",
       "      <th>language</th>\n",
       "      <th>mobileDevice</th>\n",
       "      <th>userLocation</th>\n",
       "      <th>publicationDate</th>\n",
       "      <th>visitDate</th>\n",
       "      <th>...</th>\n",
       "      <th>itemReviewed</th>\n",
       "      <th>address</th>\n",
       "      <th>addressLocality</th>\n",
       "      <th>addressRegion</th>\n",
       "      <th>postalCode</th>\n",
       "      <th>country</th>\n",
       "      <th>website</th>\n",
       "      <th>email</th>\n",
       "      <th>phoneNumber</th>\n",
       "      <th>averageRating</th>\n",
       "    </tr>\n",
       "  </thead>\n",
       "  <tbody>\n",
       "    <tr>\n",
       "      <th>0</th>\n",
       "      <td>Jantar</td>\n",
       "      <td>692856288</td>\n",
       "      <td>2344932</td>\n",
       "      <td>larinhavercosa222</td>\n",
       "      <td>Comida maravilhosa. lugar do verdadeiro chicle...</td>\n",
       "      <td>pt</td>\n",
       "      <td>True</td>\n",
       "      <td>São Carlos. SP</td>\n",
       "      <td>26/07/2019</td>\n",
       "      <td>07/2019</td>\n",
       "      <td>...</td>\n",
       "      <td>Imperador dos Camar\\u00F5es</td>\n",
       "      <td>Avenida Doutor Ant\\u00F4nio Gouveia</td>\n",
       "      <td>NaN</td>\n",
       "      <td>Alagoas</td>\n",
       "      <td>57030-170</td>\n",
       "      <td>Brasil</td>\n",
       "      <td>http://www.imperadordoscamaroes.com.br</td>\n",
       "      <td>contato@imperadordoscamaroes.com.br</td>\n",
       "      <td>+55 82 3231-4134</td>\n",
       "      <td>4.5</td>\n",
       "    </tr>\n",
       "    <tr>\n",
       "      <th>1</th>\n",
       "      <td>Uma boa experi\\u00EAncia.</td>\n",
       "      <td>229208487</td>\n",
       "      <td>3720906</td>\n",
       "      <td>Pano P</td>\n",
       "      <td>Comida boa. drinks legais e um ambiente bem ac...</td>\n",
       "      <td>pt</td>\n",
       "      <td>True</td>\n",
       "      <td>Manaus. AM</td>\n",
       "      <td>16/09/2014</td>\n",
       "      <td>None</td>\n",
       "      <td>...</td>\n",
       "      <td>Guacamole Natal</td>\n",
       "      <td>Avenida Praia de Ponta Negra 9068 Ponta Negra</td>\n",
       "      <td>NaN</td>\n",
       "      <td>Rio Grande do Norte</td>\n",
       "      <td>59092-100</td>\n",
       "      <td>Brasil</td>\n",
       "      <td>http://www.facebook.com/GuacamoleNatal</td>\n",
       "      <td>guacamolenatal@gmail.com</td>\n",
       "      <td>+55 84 3219-3646</td>\n",
       "      <td>4.5</td>\n",
       "    </tr>\n",
       "    <tr>\n",
       "      <th>2</th>\n",
       "      <td>Otimo self service</td>\n",
       "      <td>679002332</td>\n",
       "      <td>2248105</td>\n",
       "      <td>Magma100</td>\n",
       "      <td>Excelente pra ir com a fam\\u00EDlia! \\u00D3tim...</td>\n",
       "      <td>pt</td>\n",
       "      <td>True</td>\n",
       "      <td>Goiânia. GO</td>\n",
       "      <td>04/06/2019</td>\n",
       "      <td>07/2018</td>\n",
       "      <td>...</td>\n",
       "      <td>Chica Pitanga</td>\n",
       "      <td>Rua Petrolina 19</td>\n",
       "      <td>Recife</td>\n",
       "      <td>Pernambuco</td>\n",
       "      <td>51021-250</td>\n",
       "      <td>Brasil</td>\n",
       "      <td>http://www.chicapitanga.com.br</td>\n",
       "      <td>chicapitanga@chicapitanga.com.br</td>\n",
       "      <td>+55 81 3334-8260</td>\n",
       "      <td>4.5</td>\n",
       "    </tr>\n",
       "    <tr>\n",
       "      <th>3</th>\n",
       "      <td>O sorvete mais tradicional do estado</td>\n",
       "      <td>355671519</td>\n",
       "      <td>8168302</td>\n",
       "      <td>Yurie M</td>\n",
       "      <td>Tomo sorvete na Visabor faz mais de 30 anos. S...</td>\n",
       "      <td>pt</td>\n",
       "      <td>False</td>\n",
       "      <td>Aracaju. SE</td>\n",
       "      <td>15/03/2016</td>\n",
       "      <td>01/2016</td>\n",
       "      <td>...</td>\n",
       "      <td>Sorvetes Vi Sabor</td>\n",
       "      <td>Avenida Francisco Porto 59 Grageru</td>\n",
       "      <td>Aracaju</td>\n",
       "      <td>Sergipe</td>\n",
       "      <td>NaN</td>\n",
       "      <td>Brasil</td>\n",
       "      <td>None</td>\n",
       "      <td>None</td>\n",
       "      <td>None</td>\n",
       "      <td>4.0</td>\n",
       "    </tr>\n",
       "    <tr>\n",
       "      <th>4</th>\n",
       "      <td>Melhor hamburger!</td>\n",
       "      <td>268741921</td>\n",
       "      <td>5395141</td>\n",
       "      <td>Debora_C85</td>\n",
       "      <td>O melhor hamburger que j\\u00E1 comi! Excelente...</td>\n",
       "      <td>pt</td>\n",
       "      <td>False</td>\n",
       "      <td>Rio de Janeiro. RJ</td>\n",
       "      <td>28/04/2015</td>\n",
       "      <td>04/2015</td>\n",
       "      <td>...</td>\n",
       "      <td>Z Deli Sandwich Shop</td>\n",
       "      <td>Rua Haddock Lobo 1386 Jardins</td>\n",
       "      <td>S\\u00E3o Paulo</td>\n",
       "      <td>Estado de S\\u00E3o Paulo</td>\n",
       "      <td>01414-002</td>\n",
       "      <td>Brasil</td>\n",
       "      <td>http://www.facebook.com/zdelisandwichshop/</td>\n",
       "      <td>None</td>\n",
       "      <td>551130830021</td>\n",
       "      <td>4.5</td>\n",
       "    </tr>\n",
       "  </tbody>\n",
       "</table>\n",
       "<p>5 rows × 21 columns</p>\n",
       "</div>"
      ],
      "text/plain": [
       "                                  title   reviewId restaurantId  \\\n",
       "0                               Jantar   692856288      2344932   \n",
       "1             Uma boa experi\\u00EAncia.  229208487      3720906   \n",
       "2                    Otimo self service  679002332      2248105   \n",
       "3  O sorvete mais tradicional do estado  355671519      8168302   \n",
       "4                     Melhor hamburger!  268741921      5395141   \n",
       "\n",
       "              author                                         reviewBody  \\\n",
       "0  larinhavercosa222  Comida maravilhosa. lugar do verdadeiro chicle...   \n",
       "1             Pano P  Comida boa. drinks legais e um ambiente bem ac...   \n",
       "2           Magma100  Excelente pra ir com a fam\\u00EDlia! \\u00D3tim...   \n",
       "3            Yurie M  Tomo sorvete na Visabor faz mais de 30 anos. S...   \n",
       "4         Debora_C85  O melhor hamburger que j\\u00E1 comi! Excelente...   \n",
       "\n",
       "  language  mobileDevice        userLocation publicationDate visitDate  ...  \\\n",
       "0       pt          True      São Carlos. SP      26/07/2019   07/2019  ...   \n",
       "1       pt          True          Manaus. AM      16/09/2014      None  ...   \n",
       "2       pt          True         Goiânia. GO      04/06/2019   07/2018  ...   \n",
       "3       pt         False         Aracaju. SE      15/03/2016   01/2016  ...   \n",
       "4       pt         False  Rio de Janeiro. RJ      28/04/2015   04/2015  ...   \n",
       "\n",
       "                  itemReviewed                                        address  \\\n",
       "0  Imperador dos Camar\\u00F5es            Avenida Doutor Ant\\u00F4nio Gouveia   \n",
       "1              Guacamole Natal  Avenida Praia de Ponta Negra 9068 Ponta Negra   \n",
       "2                Chica Pitanga                               Rua Petrolina 19   \n",
       "3            Sorvetes Vi Sabor             Avenida Francisco Porto 59 Grageru   \n",
       "4         Z Deli Sandwich Shop                  Rua Haddock Lobo 1386 Jardins   \n",
       "\n",
       "  addressLocality             addressRegion postalCode country  \\\n",
       "0             NaN                   Alagoas  57030-170  Brasil   \n",
       "1             NaN       Rio Grande do Norte  59092-100  Brasil   \n",
       "2          Recife                Pernambuco  51021-250  Brasil   \n",
       "3         Aracaju                   Sergipe        NaN  Brasil   \n",
       "4  S\\u00E3o Paulo  Estado de S\\u00E3o Paulo  01414-002  Brasil   \n",
       "\n",
       "                                      website  \\\n",
       "0      http://www.imperadordoscamaroes.com.br   \n",
       "1      http://www.facebook.com/GuacamoleNatal   \n",
       "2              http://www.chicapitanga.com.br   \n",
       "3                                        None   \n",
       "4  http://www.facebook.com/zdelisandwichshop/   \n",
       "\n",
       "                                 email       phoneNumber averageRating  \n",
       "0  contato@imperadordoscamaroes.com.br  +55 82 3231-4134           4.5  \n",
       "1             guacamolenatal@gmail.com  +55 84 3219-3646           4.5  \n",
       "2     chicapitanga@chicapitanga.com.br  +55 81 3334-8260           4.5  \n",
       "3                                 None              None           4.0  \n",
       "4                                 None      551130830021           4.5  \n",
       "\n",
       "[5 rows x 21 columns]"
      ]
     },
     "execution_count": 21,
     "metadata": {},
     "output_type": "execute_result"
    }
   ],
   "source": [
    "train_data.head()"
   ]
  },
  {
   "cell_type": "code",
   "execution_count": 22,
   "metadata": {
    "colab": {
     "base_uri": "https://localhost:8080/",
     "height": 429
    },
    "executionInfo": {
     "elapsed": 1219,
     "status": "ok",
     "timestamp": 1604774853692,
     "user": {
      "displayName": "paulo cesar da rocha correa",
      "photoUrl": "https://lh3.googleusercontent.com/a-/AOh14GhfjqjKkqi19BFvTCJLd1b2SJHjv7CE8jW8VKcHvg=s64",
      "userId": "02019520615414855207"
     },
     "user_tz": 240
    },
    "id": "ELZ9BfamUvMN",
    "outputId": "ca2ceb1e-a018-41af-e218-0f0413e2b0fa"
   },
   "outputs": [
    {
     "data": {
      "text/html": [
       "<div>\n",
       "<style scoped>\n",
       "    .dataframe tbody tr th:only-of-type {\n",
       "        vertical-align: middle;\n",
       "    }\n",
       "\n",
       "    .dataframe tbody tr th {\n",
       "        vertical-align: top;\n",
       "    }\n",
       "\n",
       "    .dataframe thead th {\n",
       "        text-align: right;\n",
       "    }\n",
       "</style>\n",
       "<table border=\"1\" class=\"dataframe\">\n",
       "  <thead>\n",
       "    <tr style=\"text-align: right;\">\n",
       "      <th></th>\n",
       "      <th>title</th>\n",
       "      <th>reviewId</th>\n",
       "      <th>restaurantId</th>\n",
       "      <th>author</th>\n",
       "      <th>reviewBody</th>\n",
       "      <th>language</th>\n",
       "      <th>mobileDevice</th>\n",
       "      <th>userLocation</th>\n",
       "      <th>publicationDate</th>\n",
       "      <th>visitDate</th>\n",
       "      <th>...</th>\n",
       "      <th>itemReviewed</th>\n",
       "      <th>address</th>\n",
       "      <th>addressLocality</th>\n",
       "      <th>addressRegion</th>\n",
       "      <th>postalCode</th>\n",
       "      <th>country</th>\n",
       "      <th>website</th>\n",
       "      <th>email</th>\n",
       "      <th>phoneNumber</th>\n",
       "      <th>averageRating</th>\n",
       "    </tr>\n",
       "  </thead>\n",
       "  <tbody>\n",
       "    <tr>\n",
       "      <th>99995</th>\n",
       "      <td>Nova op\\u00E7\\u00E3o no Paseo!!!</td>\n",
       "      <td>672210394</td>\n",
       "      <td>17424548</td>\n",
       "      <td>Fabiano B</td>\n",
       "      <td>Ainda n\\u00E3o inaugurado oficialmente. est\\u0...</td>\n",
       "      <td>pt</td>\n",
       "      <td>True</td>\n",
       "      <td>Porto Alegre. RS</td>\n",
       "      <td>07/05/2019</td>\n",
       "      <td>05/2019</td>\n",
       "      <td>...</td>\n",
       "      <td>Boteco Maestro</td>\n",
       "      <td>Avenida Wenceslau Escobar 1823</td>\n",
       "      <td>Porto Alegre</td>\n",
       "      <td>Rio Grande do Sul</td>\n",
       "      <td>91900-000</td>\n",
       "      <td>Brasil</td>\n",
       "      <td>http://www.facebook.com/botecomaestro</td>\n",
       "      <td>None</td>\n",
       "      <td>+55 51 99353-6602</td>\n",
       "      <td>4.0</td>\n",
       "    </tr>\n",
       "    <tr>\n",
       "      <th>99996</th>\n",
       "      <td>Bom</td>\n",
       "      <td>380904400</td>\n",
       "      <td>2440184</td>\n",
       "      <td>Chris L</td>\n",
       "      <td>Bom atendimento. lugar bonito. comida muito go...</td>\n",
       "      <td>pt</td>\n",
       "      <td>True</td>\n",
       "      <td>Cork. Irlanda</td>\n",
       "      <td>08/06/2016</td>\n",
       "      <td>01/2016</td>\n",
       "      <td>...</td>\n",
       "      <td>Casa do Marqu\\u00EAs</td>\n",
       "      <td>Rua Marques do Pombal. 1814 Higien\\u00F3polis</td>\n",
       "      <td>Porto Alegre</td>\n",
       "      <td>Rio Grande do Sul</td>\n",
       "      <td>90540-000</td>\n",
       "      <td>Brasil</td>\n",
       "      <td>http://galeteriacasadomarques.com.br/</td>\n",
       "      <td>galeteriacasadomarques@galeteriacasadomarques....</td>\n",
       "      <td>+55 51 3343-4303</td>\n",
       "      <td>4.5</td>\n",
       "    </tr>\n",
       "    <tr>\n",
       "      <th>99997</th>\n",
       "      <td>Bom bar</td>\n",
       "      <td>186111858</td>\n",
       "      <td>2392996</td>\n",
       "      <td>Guilherme P</td>\n",
       "      <td>O Rio Scenarium \\u00E9 uma das baladas mais fa...</td>\n",
       "      <td>pt</td>\n",
       "      <td>False</td>\n",
       "      <td>São Paulo. SP</td>\n",
       "      <td>27/11/2013</td>\n",
       "      <td>11/2013</td>\n",
       "      <td>...</td>\n",
       "      <td>Rio Scenarium</td>\n",
       "      <td>Rua do Lavradio 20 Centro</td>\n",
       "      <td>Rio de Janeiro</td>\n",
       "      <td>Estado do Rio de Janeiro</td>\n",
       "      <td>20230-070</td>\n",
       "      <td>Brasil</td>\n",
       "      <td>http://www.rioscenarium.art.br</td>\n",
       "      <td>None</td>\n",
       "      <td>+55 21-3147-9000</td>\n",
       "      <td>4.5</td>\n",
       "    </tr>\n",
       "    <tr>\n",
       "      <th>99998</th>\n",
       "      <td>Me senti enganada...</td>\n",
       "      <td>152745909</td>\n",
       "      <td>1062290</td>\n",
       "      <td>LisianeCohem</td>\n",
       "      <td>Fui por indica\\u00E7\\u00E3o e com boa expectat...</td>\n",
       "      <td>pt</td>\n",
       "      <td>True</td>\n",
       "      <td>Porto Alegre. RS</td>\n",
       "      <td>21/02/2013</td>\n",
       "      <td>None</td>\n",
       "      <td>...</td>\n",
       "      <td>Celeiro</td>\n",
       "      <td>Rua Dias Ferreira 199</td>\n",
       "      <td>Rio de Janeiro</td>\n",
       "      <td>Estado do Rio de Janeiro</td>\n",
       "      <td>22431-050</td>\n",
       "      <td>Brasil</td>\n",
       "      <td>http://www.celeiroculinaria.com.br</td>\n",
       "      <td>celeiro@celeiroculinaria.com.br</td>\n",
       "      <td>55 21 2274 7843</td>\n",
       "      <td>3.5</td>\n",
       "    </tr>\n",
       "    <tr>\n",
       "      <th>99999</th>\n",
       "      <td>Restaurante excelente</td>\n",
       "      <td>649755498</td>\n",
       "      <td>12433911</td>\n",
       "      <td>brunotulio</td>\n",
       "      <td>Experi\\u00EAncia fant\\u00E1stica com comida de...</td>\n",
       "      <td>pt</td>\n",
       "      <td>True</td>\n",
       "      <td>Manaus. AM</td>\n",
       "      <td>02/02/2019</td>\n",
       "      <td>02/2019</td>\n",
       "      <td>...</td>\n",
       "      <td>Coco Bambu Manaus</td>\n",
       "      <td>Avenida Coronel Teixeira. 5705 Ponta Negra. Sh...</td>\n",
       "      <td>Manaus</td>\n",
       "      <td>Rio Amazonas</td>\n",
       "      <td>69037-000</td>\n",
       "      <td>Brasil</td>\n",
       "      <td>http://www.facebook.com/cocobambumanausoficial/</td>\n",
       "      <td>rh.manaus@cocobambu.com</td>\n",
       "      <td>+55 92 3667-7430</td>\n",
       "      <td>5.0</td>\n",
       "    </tr>\n",
       "  </tbody>\n",
       "</table>\n",
       "<p>5 rows × 21 columns</p>\n",
       "</div>"
      ],
      "text/plain": [
       "                                  title   reviewId restaurantId        author  \\\n",
       "99995  Nova op\\u00E7\\u00E3o no Paseo!!!  672210394     17424548     Fabiano B   \n",
       "99996                               Bom  380904400      2440184       Chris L   \n",
       "99997                           Bom bar  186111858      2392996   Guilherme P   \n",
       "99998              Me senti enganada...  152745909      1062290  LisianeCohem   \n",
       "99999             Restaurante excelente  649755498     12433911    brunotulio   \n",
       "\n",
       "                                              reviewBody language  \\\n",
       "99995  Ainda n\\u00E3o inaugurado oficialmente. est\\u0...       pt   \n",
       "99996  Bom atendimento. lugar bonito. comida muito go...       pt   \n",
       "99997  O Rio Scenarium \\u00E9 uma das baladas mais fa...       pt   \n",
       "99998  Fui por indica\\u00E7\\u00E3o e com boa expectat...       pt   \n",
       "99999  Experi\\u00EAncia fant\\u00E1stica com comida de...       pt   \n",
       "\n",
       "       mobileDevice      userLocation publicationDate visitDate  ...  \\\n",
       "99995          True  Porto Alegre. RS      07/05/2019   05/2019  ...   \n",
       "99996          True     Cork. Irlanda      08/06/2016   01/2016  ...   \n",
       "99997         False     São Paulo. SP      27/11/2013   11/2013  ...   \n",
       "99998          True  Porto Alegre. RS      21/02/2013      None  ...   \n",
       "99999          True        Manaus. AM      02/02/2019   02/2019  ...   \n",
       "\n",
       "               itemReviewed  \\\n",
       "99995        Boteco Maestro   \n",
       "99996  Casa do Marqu\\u00EAs   \n",
       "99997         Rio Scenarium   \n",
       "99998               Celeiro   \n",
       "99999     Coco Bambu Manaus   \n",
       "\n",
       "                                                 address addressLocality  \\\n",
       "99995                     Avenida Wenceslau Escobar 1823    Porto Alegre   \n",
       "99996      Rua Marques do Pombal. 1814 Higien\\u00F3polis    Porto Alegre   \n",
       "99997                          Rua do Lavradio 20 Centro  Rio de Janeiro   \n",
       "99998                              Rua Dias Ferreira 199  Rio de Janeiro   \n",
       "99999  Avenida Coronel Teixeira. 5705 Ponta Negra. Sh...          Manaus   \n",
       "\n",
       "                  addressRegion postalCode country  \\\n",
       "99995         Rio Grande do Sul  91900-000  Brasil   \n",
       "99996         Rio Grande do Sul  90540-000  Brasil   \n",
       "99997  Estado do Rio de Janeiro  20230-070  Brasil   \n",
       "99998  Estado do Rio de Janeiro  22431-050  Brasil   \n",
       "99999              Rio Amazonas  69037-000  Brasil   \n",
       "\n",
       "                                               website  \\\n",
       "99995            http://www.facebook.com/botecomaestro   \n",
       "99996            http://galeteriacasadomarques.com.br/   \n",
       "99997                   http://www.rioscenarium.art.br   \n",
       "99998               http://www.celeiroculinaria.com.br   \n",
       "99999  http://www.facebook.com/cocobambumanausoficial/   \n",
       "\n",
       "                                                   email        phoneNumber  \\\n",
       "99995                                               None  +55 51 99353-6602   \n",
       "99996  galeteriacasadomarques@galeteriacasadomarques....   +55 51 3343-4303   \n",
       "99997                                               None   +55 21-3147-9000   \n",
       "99998                    celeiro@celeiroculinaria.com.br    55 21 2274 7843   \n",
       "99999                            rh.manaus@cocobambu.com   +55 92 3667-7430   \n",
       "\n",
       "      averageRating  \n",
       "99995           4.0  \n",
       "99996           4.5  \n",
       "99997           4.5  \n",
       "99998           3.5  \n",
       "99999           5.0  \n",
       "\n",
       "[5 rows x 21 columns]"
      ]
     },
     "execution_count": 22,
     "metadata": {},
     "output_type": "execute_result"
    }
   ],
   "source": [
    "train_data.tail()"
   ]
  },
  {
   "cell_type": "code",
   "execution_count": 23,
   "metadata": {},
   "outputs": [
    {
     "data": {
      "text/plain": [
       "0        Comida maravilhosa. lugar do verdadeiro chicle...\n",
       "1        Comida boa. drinks legais e um ambiente bem ac...\n",
       "2        Excelente pra ir com a fam\\u00EDlia! \\u00D3tim...\n",
       "3        Tomo sorvete na Visabor faz mais de 30 anos. S...\n",
       "4        O melhor hamburger que j\\u00E1 comi! Excelente...\n",
       "                               ...                        \n",
       "99995    Ainda n\\u00E3o inaugurado oficialmente. est\\u0...\n",
       "99996    Bom atendimento. lugar bonito. comida muito go...\n",
       "99997    O Rio Scenarium \\u00E9 uma das baladas mais fa...\n",
       "99998    Fui por indica\\u00E7\\u00E3o e com boa expectat...\n",
       "99999    Experi\\u00EAncia fant\\u00E1stica com comida de...\n",
       "Name: reviewBody, Length: 100000, dtype: string"
      ]
     },
     "execution_count": 23,
     "metadata": {},
     "output_type": "execute_result"
    }
   ],
   "source": [
    "_train_data = train_data.reviewBody.astype(\"string\")\n",
    "type(_train_data)\n",
    "_train_data"
   ]
  },
  {
   "cell_type": "code",
   "execution_count": null,
   "metadata": {},
   "outputs": [],
   "source": [
    "# _blob = TextBlob(_train_data))\n",
    "# print(_blob.translate(to='en'))"
   ]
  },
  {
   "cell_type": "code",
   "execution_count": 24,
   "metadata": {
    "executionInfo": {
     "elapsed": 889,
     "status": "ok",
     "timestamp": 1604775144796,
     "user": {
      "displayName": "paulo cesar da rocha correa",
      "photoUrl": "https://lh3.googleusercontent.com/a-/AOh14GhfjqjKkqi19BFvTCJLd1b2SJHjv7CE8jW8VKcHvg=s64",
      "userId": "02019520615414855207"
     },
     "user_tz": 240
    },
    "id": "4DHNLWuYUvMa"
   },
   "outputs": [],
   "source": [
    "data = train_data\n",
    "X = data.iloc[:, 4].values # aqui pode ser selecionado a coluna"
   ]
  },
  {
   "cell_type": "code",
   "execution_count": 25,
   "metadata": {},
   "outputs": [
    {
     "name": "stdout",
     "output_type": "stream",
     "text": [
      "['Comida maravilhosa. lugar do verdadeiro chiclete de camar\\\\u00E3o. \\\\nO gar\\\\u00E7om \\\\u00C9ric Lima nos atendeu muito bem. pretendemos voltar assim que poss\\\\u00EDvel.'\n",
      " 'Comida boa. drinks legais e um ambiente bem aconchegante. \\\\nProvamos muitas coisas e tudo nos agradou. Principalmente um pato servido em um dos pratos da casa. sensacional!'\n",
      " 'Excelente pra ir com a fam\\\\u00EDlia! \\\\u00D3tima Comida. ambiente agrad\\\\u00E1vel. bom atendimento e estacionamento. Vale a pena conhecer'\n",
      " ...\n",
      " 'O Rio Scenarium \\\\u00E9 uma das baladas mais famosas do Rio de Janeiro. \\\\u00C9 bem grande e lotada de estrangeiros. A bebida n\\\\u00E3o \\\\u00E9 t\\\\u00E3o cara como em outras cidades. por exemplo. S\\\\u00E3o Paulo. O lado negativo \\\\u00E9 com certeza a fila. Se voc\\\\u00EA n\\\\u00E3o chegar cedo. vai ficar pelo menos 30 minutos esperando para entrar.'\n",
      " 'Fui por indica\\\\u00E7\\\\u00E3o e com boa expectativa!\\\\n116.00 o kilo de salada... Bem caro. n\\\\u00E9?\\\\nO alface tava murcho. nada de op\\\\u00E7\\\\u00F5es de tempero. buffet pequeno...\\\\n12.00 um copo peq de suco. Aff.\\\\nNao valeu. nem pelo ambiente nem pela comida.'\n",
      " 'Experi\\\\u00EAncia fant\\\\u00E1stica com comida deliciosa e atendimento de excel\\\\u00EAncia prestado pelo Wellington. ambiente agrad\\\\u00E1vel. m\\\\u00FAsica boa ambiente']\n"
     ]
    }
   ],
   "source": [
    "_X = X\n",
    "print(_X)"
   ]
  },
  {
   "cell_type": "code",
   "execution_count": null,
   "metadata": {},
   "outputs": [],
   "source": [
    "# test = np.array_str(X).encode('utf-16', 'surrogatepass').decode('utf-16')\n",
    "# serieTest = pd.Series(test)\n",
    "# print(serieTest)"
   ]
  },
  {
   "cell_type": "code",
   "execution_count": 27,
   "metadata": {
    "colab": {
     "base_uri": "https://localhost:8080/"
    },
    "executionInfo": {
     "elapsed": 942,
     "status": "ok",
     "timestamp": 1604775146564,
     "user": {
      "displayName": "paulo cesar da rocha correa",
      "photoUrl": "https://lh3.googleusercontent.com/a-/AOh14GhfjqjKkqi19BFvTCJLd1b2SJHjv7CE8jW8VKcHvg=s64",
      "userId": "02019520615414855207"
     },
     "user_tz": 240
    },
    "id": "Tr8kx3ibBuD2",
    "outputId": "6806ba96-0eaa-4381-964f-a1fa578caea9"
   },
   "outputs": [
    {
     "data": {
      "text/plain": [
       "0    ['Comida maravilhosa. lugar do verdadeiro chic...\n",
       "dtype: object"
      ]
     },
     "execution_count": 27,
     "metadata": {},
     "output_type": "execute_result"
    }
   ],
   "source": [
    "serie =  pd.Series(np.array_str(X))\n",
    "serie"
   ]
  },
  {
   "cell_type": "code",
   "execution_count": 28,
   "metadata": {},
   "outputs": [
    {
     "name": "stdout",
     "output_type": "stream",
     "text": [
      "['Wonderful food. place of the real gum of shrimp \\\\ u00E3o. \\\\ nThe gar \\\\ u00E7om \\\\ u00C9ric Lima served us very well. we plan to return as soon as possible. '\n",
      " 'Nice food. cool drinks and a very cozy atmosphere. \\\\ nWe proved a lot of things and everything pleased us. Especially a duck served in one of the house dishes. sensational!'\n",
      " 'Excellent to go with the family! \\\\ u00D3tima Comida. pleasant environment. good service and parking. Worth knowing'\n",
      " ...\n",
      " 'The Rio Scenarium \\\\ u00E9 one of the most famous ballads in Rio de Janeiro. \\\\ u00C9 very large and crowded with foreigners. The drink is not as expensive as in other cities. for example. S \\\\ u00E3o Paulo. The downside \\\\ u00E9 is definitely the queue. If you don't arrive early. you'll be waiting at least 30 minutes to get in. '\n",
      " 'I went by referral \\\\ u00E7 \\\\ u00E3o and with good expectations! \\\\ n116.00 the kilo of salad ... Very expensive. n \\\\ u00E9? \\\\ nThe lettuce was withered. no seasoning options \\\\ u00E7 \\\\ u00F5es. small buffet ... \\\\ n12.00 a small glass of juice. Aff. \\\\ nThank you. neither for the environment nor for the food. '\n",
      " 'Fantastic experience with delicious food and excellent service provided by Wellington. pleasant environment. good atmosphere music]\n"
     ]
    }
   ],
   "source": [
    "blob = TextBlob(serie[0])\n",
    "print(blob.translate(to='en'))"
   ]
  },
  {
   "cell_type": "code",
   "execution_count": null,
   "metadata": {
    "id": "ujFzSUHkHPBr"
   },
   "outputs": [
    {
     "name": "stdout",
     "output_type": "stream",
     "text": [
      "<class 'str'>\n",
      "1\n",
      "Wonderful food. place of the real shrimp gum. \\ nThe waiter Lima served us very well. we plan to return as soon as possible.\n",
      "<class 'str'>\n",
      "2\n",
      "Nice food. cool drinks and a very cozy atmosphere. \\ nWe proved a lot of things and everything pleased us. Especially a duck served in one of the house dishes. sensational!\n",
      "<class 'str'>\n",
      "3\n",
      "Excellent to go with the family! \\ u00D3tima Comida. pleasant environment. good service and parking. worth knowing\n",
      "<class 'str'>\n",
      "4\n",
      "I have had ice cream at Visabor for over 30 years. Fruit or artificial flavors. Crunchy cone and simple atmosphere. Very good prices. I recommend\n",
      "<class 'str'>\n",
      "5\n",
      "The best hamburger I've ever eaten! Excellent service. the food was fine. The restaurant is quite small. but pleasant and fun.\n",
      "<class 'str'>\n",
      "6\n",
      "The restaurant is new. super cozy and charming with a \\ u00F3timo service. The portions are generous. very tasty and at a fair price. Good selection of wines. I highly recommend the seafood spaghetti. Bolognese. carbonara and risotto. Tiramisu is also fantastic. \\ nAll the times I went with my boyfriend. but it is an excellent environment to take family or friends.\n",
      "<class 'str'>\n",
      "7\n",
      "We went on a Saturday. elegant environment. kind and friendly staff. We ate a very tasty curry. but the filet was not filet. The dessert (pineapple wonton with pepper and ice cream) was excellent.\n",
      "<class 'str'>\n",
      "8\n",
      "Great food and good service and a lot of good things to take your wife and girlfriend and family because the portions of food are good! \\ NThank you very much\n",
      "<class 'str'>\n",
      "9\n",
      "Pleasant environment. fully accessible price. and I love the cardio de l \\ u00E1! Not to mention the wonderful service! I will always come back \\ uD83D \\ uDE18\n",
      "<class 'str'>\n",
      "10\n",
      "The pizzeria is the most traditional in Belo Horizonte. There are several options. In addition to the pizzas there is also an exceptional Parmeggian. delicious and juicy\n",
      "<class 'str'>\n",
      "11\n",
      "I was with my family this afternoon for the first time and I came across a beautiful and cozy setting. I bought 1 kg of BIG shrimp. I looked well at the boy weighing and choosing my shrimp. The disappointment came when I sat at the stall and asked to fry (I don't want to mention the name) The shrimp arrived very tasty but the big prawns (came on top) When we went to eat the inside it had only shrimps minuscule and withered (old) As if they had exchanged a good part. So far so good. when the shrimp ended i realized i had about 20 heads without the body as if it were leftovers ... i called the clerk in disguise and he just made sure he didn’t sculpt and went to another table. I really felt like a muggle. Anyway. I ask you to pay attention. the optimal place. I loved. yes i will be back. but to eat a fish. because shrimp are only bought to take and fry at my house.\n",
      "<class 'str'>\n",
      "12\n",
      "I went to La Bocca after reading so many complimentary and excited comments. First of all I want to say that I do not understand why some people criticize the location so much. It is a quiet street. residential. whose houses are very reminiscent of the suburban Carioca. A thanks! Now I will talk about the food. I ordered the highly praised plantain gnocchi with ossobuco ragout. The first mouthful is delicious. but. slowly. it becomes nauseating given the absence of nuances. textures and layers of flavors. The ossobuco sauce sins the excess salt. In general. a correct dish. but nothing splendid. Bounce. However. that it is an oasis to eat a home-made pasta in that Rio de Janeiro populated with frozen third-party salty pastries disguised as gnocchi.\n",
      "<class 'str'>\n",
      "13\n",
      "Excellent restaurant! \\ NThe diversity of the self served as a very good taste and unique flavors! \\ NThe unique restaurant that I can eat sushi and saschimi with total food safety! \\ NI am a number one and super recommended! \\ n\n",
      "<class 'str'>\n",
      "14\n",
      "I liked both the food and the service. the price is good and the location is reasonable. I have nothing to complain about. I recommend\n",
      "<class 'str'>\n",
      "15\n",
      "One of the best restaurants with a vegetarian buffet with grill options in the center of Porto Alegre. The options are varied and very well done. Soups. desserts and refreshments included in the price. Very good cost-benefit!\n",
      "<class 'str'>\n",
      "16\n",
      "Everything is good! Chef Juarez is great and a love. \\ u00D3timo service. \\ u00D3tima presentation of the dishes. Wonderful food. Incredible desserts. Good price. Without a doubt my favorite.\n",
      "<class 'str'>\n",
      "17\n",
      "The DR LASER Family was on Saturday for an informal lunch ... A well prepared Grill and a very varied Buffet with an ok price. make the place a good option for a quick weekend lunch.\n",
      "<class 'str'>\n",
      "18\n",
      "Indescribable. I had never eaten tapioca and decided to try it in Natal-RN. ate in some places. but by far this was the best. The \\ u00FAnico place that in our stay we made a point of repeating. even knowing that we may lose another attraction. but it was worth the risk of losing a new attraction. because this place is just wonderful. V \\ u00E1 prepared. because the portions are well served and the dessert is huge! We tried some. but the best was Carne de Sol with Cream! ! !\n",
      "<class 'str'>\n",
      "19\n",
      "He had seen the reviews and really expected more. Service was great and everything was fresh. but it wasn’t the best ceviche I’ve ever eaten. Well gourmet. The portion is very small.\n",
      "<class 'str'>\n",
      "20\n",
      "This restaurant is located on Avenida Conde. easy access to those who are in the center and the immediate vicinity. It mixes contemporary dishes with a tendency to those of the Iberian peninsula. Try the starters. for example the ragout. Excellent order also the Mediterranean. Attentive waiters and warm atmosphere leaves us with a taste for more. Worth the visit.\n",
      "<class 'str'>\n",
      "21\n",
      "Located a little far from the center. \\ u00E9 a quiet place with excellent structure (very good and comfortable tables and chairs). \\ nThe menu is a little weak due to the size of the restaurant .. there is not a lot of variety by \\ u00E7 \\ n \\ u00C9 \\ u00F3that is not too full. and the sea in front is very calm. \\ nMean service.\n",
      "<class 'str'>\n",
      "22\n",
      "I had lunch with friends at this place and I really have to comment. delicious food. draft beer well taken. excelent reception. there is nothing to complain about. place for families. couples and group of friends.\n",
      "<class 'str'>\n",
      "23\n",
      "The place is very beautiful and has beers from other countries. but the prices are very salty and the service was not the best.\n",
      "<class 'str'>\n",
      "24\n",
      "The bar was packed. so far without problems. after all it was December 30th. \\ nThe biggest issue was. the very rude promoter. a total disorganization regarding the release of the tables and the air conditioning was far from working. the doors open without the wind curtain equipment. it only made it worse. \\ nTrying to order drinks at the bar didn't help either. the clusters are all located in a single place on the counter. \\ u00E9 I need to keep waving the command or be squeezed on the end they are serving. \\ nThe minimum we expect from a beachfront bar \\ u00E9 works very well in summer. \\ nThe evaluation is very compromised. I couldn't drink or eat anything.\n",
      "<class 'str'>\n",
      "25\n",
      "Loopfood is one of the best sandwiches in Curitiba. Light. tasty and well seasoned. there is no error when you are hungry. The order \\ u00E9 eat together with a juice. there is no way to say no.\n",
      "<class 'str'>\n",
      "26\n",
      "Good service fair price very good food very pleasant the place at night has a beautiful people super recommend\n",
      "<class 'str'>\n",
      "27\n",
      "Tereza's house is for me the best in Salvador! Starting with the location. in the most beautiful neighborhood in Salvador. in an old house. with rustic decor. accompanied by the sound of a grand piano. which harmonizes so well with the exquisite design of the card. \\ nGo beyond a gastronomic experience. \\ \"See. Hear. Feel \\\" ... \\ nThe Bahian cuisine under a sensitive and daring touch makes this restaurant exceptional.\n",
      "<class 'str'>\n",
      "28\n",
      "The presentation of the restaurant is a separate attraction. all decorated with northeastern themes! The tapiocas are delicious. huge. also offers couscous. salads. juices and smoothies. Very good!\n",
      "<class 'str'>\n",
      "29\n",
      "The worst thing that can happen in a restaurant is that you will be cheated. I chose the filet mignon dish in a wood sauce and when the dish arrived there was only a small slice of very hard meat. that as I understand it. it was a hard limb. It shouldn't even be 50 grams. it was a small, thin slice. Regrettable the attitude of the restaurant. that it was already good.\n",
      "<class 'str'>\n",
      "30\n"
     ]
    },
    {
     "name": "stdout",
     "output_type": "stream",
     "text": [
      "Vegetarian price restaurant with the right to repeat food and juices. but I felt full right on the first plate and juice. Accepts credit card. There is a lack of dishes with lighter seasoning. more colorful and less cloying aroma. Going without eating meat is not easy. if vegetarian dishes are not tasty it is difficult to return.\n",
      "<class 'str'>\n",
      "31\n",
      "Place with typical food and specialized in carne de sol. which is accompanied by string beans. manioc. pirirúoo de leite ..... A plate for two and left over. in our case. Fair price and excellent service. It also serves goat meat.\n",
      "<class 'str'>\n",
      "32\n",
      "I have lunch in January this year! Main course \\ u00E9 \\ u00E0 Carne do Sol \\ u00E0 Potiguar. being very tender meat and accompanies: Cooked Macaxeira. Pa \\ u00E7oca. Butter from the bottle. Crumbs. String beans .....!\n",
      "<class 'str'>\n",
      "33\n",
      "It \\ u00C9 a good restaurant that. to last. more varieties are missing. Inside the hotel is a talented singer and everyone is offered. who sings well.\n",
      "<class 'str'>\n",
      "34\n",
      "I already knew the house. as always Wonderful food. environment. everything perfect music. but the service from Francisco (Chico) ..... the best. the bestrrrrr. cold beer and sparkling wine and always tireless. Congratulations on the best garrison.\n",
      "<class 'str'>\n",
      "35\n",
      "The card has been renovated for years. giving less focus to wraps and crepes. At lunch there are good grills at a compatible price. Very tasty food. The juices are great!\n",
      "<class 'str'>\n",
      "36\n",
      "The location of the restaurant is already worth it ... It is inside the Mangal das Gar \\ u00E7as - place we love !! We were very well attended but we found it expensive for what it provides .... It presents typical dishes with peculiar flavors in the self-service scheme at a fixed price !!! \\ n\n",
      "<class 'str'>\n",
      "37\n",
      "The place is mostly delicious for a beer on a sunny day. The food is good as well as the service. But prepare the pocket. because it is easy for the account to exceed 100 reais per person.\n",
      "<class 'str'>\n",
      "38\n",
      "A perfect restaurant for those looking for regional food. A very kind place on earth. Good for you to go with family friends. Very delicious food.\n",
      "<class 'str'>\n",
      "39\n",
      "Pleasant and relatively uncluttered place. Attentive but not excellent service. Reasonable drinks menu. some good beer brands are missing. Pizza well done. but not delicious. In short. the location is good but not excellent. Rio de Janeiro is in need.\n",
      "<class 'str'>\n",
      "40\n",
      "A restaurant with unique flavors and varieties. Excellent dishes and very good service.\n",
      "<class 'str'>\n",
      "41\n",
      "Wonderful hamburger with first-rate ingredients \\ nExcellent service \\ nAnd a clean and cozy environment.\n",
      "<class 'str'>\n",
      "42\n",
      "The health of Nilo Pe \\ u00E7anha has already been better and cleaner. I ordered a natural chicken sandwich and came a pile of leaves with shredded chicken and an indecipherable yellow sauce. tasteless and falling apart. I don't think they ever cleaned glass or did maintenance on the deck. dropped. Feather.\n",
      "<class 'str'>\n",
      "43\n",
      "Quick and affordable snacks. a good choice for the weekend with friends or children. Good menu and service\n",
      "<class 'str'>\n",
      "44\n",
      "Very nice place. great food. impeccable service ... the place really surprised me ... congratulations\n",
      "<class 'str'>\n",
      "45\n",
      "Very good food at a fair price. Be sure to eat the coxinha. \\ NCome prepared for a short queue. no more than half an hour\n",
      "<class 'str'>\n",
      "46\n",
      "Very good service. Standard service. Food very well served. Optimal quality. Pleasant environment. Sound at low volume.\n",
      "<class 'str'>\n",
      "47\n",
      "Cantina di Napoli is an excellent option for Italian cuisine in Fortaleza. with a very good service. good wine list and a typical Italian menu. the contemporary kitchen. Don't forget to try the seafood spaghetti ...\n",
      "<class 'str'>\n",
      "48\n",
      "Pleasant environment. with good music and service note 10. Congratulations to the waitress Iraci. very attentive!\n",
      "<class 'str'>\n",
      "49\n",
      "Spaces and with 3 different environments. drinks are great. the appetizer and food options on the menu are factual and pleasing to everyone, and the prices are fair. but so that it is not too demanding you may not even notice the delay.\n",
      "<class 'str'>\n",
      "50\n",
      "The large hall and tables accommodate groups. At the entrance is a shelf with wines that you can choose and order at the table. The starters are excellent. for \\ u00E9m. small. The pasta with bourgnion morsel is delicious!\n",
      "<class 'str'>\n",
      "51\n",
      "I love McDonald \\ u00B4s sandwiches especially the Big Mac and today I tried the Super Big Mac at Shopping Recife. made with three hamburgers and it was even more delicious. super delicious ... loved it! I also like ice cream a lot! In short ... I am a fan! LOL\n",
      "<class 'str'>\n",
      "52\n",
      "I spread everywhere in the capital of Paraná. Restaurante Madero is a hamburger specializing in hamburgers and steaks.\n",
      "<class 'str'>\n",
      "53\n",
      "Self-service. located next to large companies. The value of the kg is very cheap and the meats are good.\n",
      "<class 'str'>\n",
      "54\n",
      "Beautiful and super cozy place! Excellent music. \\ u00D3timo service. super attentive waiters! Antipasti table with many options! Price justifies the quality!\n",
      "<class 'str'>\n",
      "55\n",
      "I found the pastry very good. A very large pastry with a lot of filling. It also offers a good variety of beers.\n",
      "<class 'str'>\n",
      "56\n",
      "The facilities of the place already call the attention: with Italian characteristics. pretty! The card has many salad options. Appetizer. own manufacturing powders. everything is very fresh! .. the coffees are excellent. not served in cups. but in ceramic bowls. I loved it! for those who like to try new things - walnut side dishes. cheeses. honey - and purposely rustic atmosphere and a good choice. Despite the price a little temperate. worth the visit !.\n",
      "<class 'str'>\n",
      "57\n",
      "Nice food. good environment. compared to Camar \\ u00F5es Natal RN. falls short. starting with the service.\n",
      "<class 'str'>\n",
      "58\n",
      "It is very good when it has promotions. because the price is not very accessible. and the food does not match normal pressure.\n",
      "<class 'str'>\n",
      "59\n",
      "Excellent restaurant. \\ NThere were two units when I went to Macei \\ u00F3: one next to the Craft Fair and the other next to the Mercure Hotel. We went with a couple of friends together. There are different environments (the card is the same): next to the Fair they have a more relaxed and young atmosphere with live music. Close to the Mercure the closed lounge is an environment with more families. I recommend the Chiclete de Camarão! You will not regret it !!!\n",
      "<class 'str'>\n",
      "60\n",
      "Big N \\ u00E9ctar \\ u00E9 that kind of place that saves your life in the middle of a busy day. that you are in a hurry. The attendance is super fast. they accept cards and have several types of snacks. sandwiches and natural juices.\n",
      "<class 'str'>\n",
      "61\n",
      "I go to Felipe a lot. for me Portuguese food is the best in the world. I start with cod or octopus with white wine and finish with lamb and red wine. Dessert. ever. French toast!\n",
      "<class 'str'>\n",
      "62\n",
      "Eric. \\ u00E9 garimo do Coco Bambu Sul. Excellent service. attentive. friendly and seeks to expedite all orders quickly.\n",
      "<class 'str'>\n",
      "63\n",
      "I was with my family at Coco Bambu next to Beira Mar in Fortaleza and ordered a dish that always like in S \\ u00E3o Paulo and without exception always comes wonderful. But on this visit the Beira Mar branch was very disappointed with the dish. First, the number of Shrimp was extremely small. and with that what came was potato straw and rice that was dry. I complained to the waiter who agreed with the criticism. and told me that the Maitre d 'would come to the table. what am i waiting for right now. Summary. very bad dish and no attitude from the house staff. Sorry. The bill was over R $ 270.00.\n",
      "<class 'str'>\n",
      "64\n",
      "Perhaps the best meat (or at least cost benefit) in Porto Alegre is served here. It is not a traditional barbecue. but from a Uruguayan grouse. The simple environment. with attentive and well-prepared waiters. invites to Uruguayan cuts of excellent quality. Don't forget to order provolone cheese. must-see!\n",
      "<class 'str'>\n",
      "65\n",
      "I expected more from the service and especially the food ... nothing stupendous ... normal. satisfactory and on average.\n",
      "<class 'str'>\n",
      "66\n",
      "I spent Friday night with family at the restaurant. and I decided to opt for a menu option other than the buffet since I wasn’t going to eat much. My boyfriend went to the buffet and brought rice. but he said he didn't want to eat until the end. So I tried only the rice from his buffet - a common practice when we go as a couple and want to try each other's food. Well, in the end the bill came as a portion of extra rice (as if I had \"taken advantage of the situation to eat rice\") and as if it had been two portions. with a value above that indicated on the card. My disappointment was extreme. for the lack of education and preparation of care.\n",
      "<class 'str'>\n",
      "67\n"
     ]
    },
    {
     "name": "stdout",
     "output_type": "stream",
     "text": [
      "The place is simple. but the food is good and reasonably priced. It is possible to order and take it home.\n",
      "<class 'str'>\n",
      "68\n",
      "I learned that it was one of the best. so I wanted to take the test! Great! I ordered cod and Pastel de Bel \\ u00E9m, which left something to be desired from what I ate in Portugal! Added to a good wine and good chat! I recommend!\n",
      "<class 'str'>\n",
      "69\n",
      "The best late afternoon snack in Porto Velho. Regional and Pará food. where you have the best crab soup. \\ nSugest: the perfect tempting cake\n",
      "<class 'str'>\n",
      "70\n",
      "A card of great natural and tasty options. well executed and with an excellent service. Every time I eat at Frutaria. I keep thinking that I have to go back to try another dish.\n",
      "<class 'str'>\n",
      "71\n",
      "The place is located in a beautiful Vilela in Petr \\ u00F3polis. and has external and internal tables. I went to the night. the service was good and fast. I ordered a divine shrimp crepe (R $ 22) and my husband ordered a filet mignon (R $ 35). The \\ u00FAnica thing that left something to be desired was rice. completely without salt. The rest. I loved it!\n",
      "<class 'str'>\n",
      "72\n",
      "The environment is very pleasant. the card is very good. with some very typical dishes. The decoration is very beautiful. with the pictures on the landscape wall and the bar with the horizontal mirror on top. For \\ u00E9m. not physically like an Italian restaurant. Typical Italian restaurants have traditional set (or semi-set) tables with traditional chairs and not the configuration of tables with American cafeteria stalls and not even drinks like iced tea. ... I worked 10 years ago in an Italian Restaurant in Italy. That is why I understand that this part was a commercial addition to the restaurant that does not exist in Italy. But in general. It is a very pleasant experience.\n",
      "<class 'str'>\n",
      "73\n",
      "The service was good and the fried fish dish with pirao was very good. I recommend this place as well as Lopanna.\n",
      "<class 'str'>\n",
      "74\n"
     ]
    }
   ],
   "source": [
    "dic2 = pd.DataFrame(train_data)\n",
    "dic2['reviewBody']\n",
    "count = 0\n",
    "for x in dic2['reviewBody']:\n",
    "    count = count + 1  \n",
    "    print(type(x))\n",
    "    print(count) #vai imprimir todos os reviews\n",
    "    blob = TextBlob(x)\n",
    "    print(blob.translate(to='en'))\n",
    "#     if count == 5:\n",
    "#         break"
   ]
  },
  {
   "cell_type": "code",
   "execution_count": null,
   "metadata": {
    "id": "T4iGsx_HERz6"
   },
   "outputs": [],
   "source": [
    "result = []\n",
    "x = []\n",
    "for _data in data:\n",
    "  print(type(_data), _data)\n",
    "  if _data == 'reviewBody':    \n",
    "    for x in _data:\n",
    "      print()\n",
    "    print(result)"
   ]
  },
  {
   "cell_type": "code",
   "execution_count": null,
   "metadata": {
    "id": "DvO5nFpwD8mf"
   },
   "outputs": [],
   "source": [
    "for x in serie:\n",
    "  print(x)\n",
    "  blob = TextBlob(x)\n",
    "  print(blob.translate(to='en'))"
   ]
  },
  {
   "cell_type": "code",
   "execution_count": null,
   "metadata": {
    "colab": {
     "base_uri": "https://localhost:8080/",
     "height": 947
    },
    "executionInfo": {
     "elapsed": 3456,
     "status": "ok",
     "timestamp": 1604725865390,
     "user": {
      "displayName": "paulo cesar da rocha correa",
      "photoUrl": "https://lh3.googleusercontent.com/a-/AOh14GhfjqjKkqi19BFvTCJLd1b2SJHjv7CE8jW8VKcHvg=s64",
      "userId": "02019520615414855207"
     },
     "user_tz": 240
    },
    "id": "mEE2DveKUvMj",
    "outputId": "4966a749-bcd9-4296-ada9-18f8d95071a9"
   },
   "outputs": [],
   "source": [
    "train_data"
   ]
  },
  {
   "cell_type": "code",
   "execution_count": null,
   "metadata": {
    "id": "I6wcIM3QUvMt"
   },
   "outputs": [],
   "source": [
    "def limparDados(text):\n",
    "    text = re.sub()\n",
    "    return text"
   ]
  },
  {
   "cell_type": "code",
   "execution_count": null,
   "metadata": {
    "colab": {
     "base_uri": "https://localhost:8080/"
    },
    "executionInfo": {
     "elapsed": 3454,
     "status": "ok",
     "timestamp": 1604725865410,
     "user": {
      "displayName": "paulo cesar da rocha correa",
      "photoUrl": "https://lh3.googleusercontent.com/a-/AOh14GhfjqjKkqi19BFvTCJLd1b2SJHjv7CE8jW8VKcHvg=s64",
      "userId": "02019520615414855207"
     },
     "user_tz": 240
    },
    "id": "WKc-qdnCUvM5",
    "outputId": "e5f6b044-57c5-4c81-a2a3-485fbc83b926"
   },
   "outputs": [],
   "source": [
    "X"
   ]
  },
  {
   "cell_type": "code",
   "execution_count": null,
   "metadata": {
    "colab": {
     "base_uri": "https://localhost:8080/"
    },
    "executionInfo": {
     "elapsed": 3448,
     "status": "ok",
     "timestamp": 1604725865416,
     "user": {
      "displayName": "paulo cesar da rocha correa",
      "photoUrl": "https://lh3.googleusercontent.com/a-/AOh14GhfjqjKkqi19BFvTCJLd1b2SJHjv7CE8jW8VKcHvg=s64",
      "userId": "02019520615414855207"
     },
     "user_tz": 240
    },
    "id": "L-bk26tTUvNE",
    "outputId": "4abb7a5f-fcbd-4091-fb14-dc34d0c0760b"
   },
   "outputs": [],
   "source": [
    "_X = np.array_str(X)\n",
    "print(_X)\n",
    "#_X.decode('unicode-escape')\n",
    "X.shape #Formato "
   ]
  },
  {
   "cell_type": "code",
   "execution_count": null,
   "metadata": {
    "colab": {
     "base_uri": "https://localhost:8080/"
    },
    "executionInfo": {
     "elapsed": 3441,
     "status": "ok",
     "timestamp": 1604725865422,
     "user": {
      "displayName": "paulo cesar da rocha correa",
      "photoUrl": "https://lh3.googleusercontent.com/a-/AOh14GhfjqjKkqi19BFvTCJLd1b2SJHjv7CE8jW8VKcHvg=s64",
      "userId": "02019520615414855207"
     },
     "user_tz": 240
    },
    "id": "V_1fOLeeUvNL",
    "outputId": "e1eee096-108d-49d4-ee7c-7bd990aa56ef"
   },
   "outputs": [],
   "source": [
    "type(X) # tipo do dado"
   ]
  },
  {
   "cell_type": "code",
   "execution_count": null,
   "metadata": {
    "colab": {
     "base_uri": "https://localhost:8080/",
     "height": 54
    },
    "executionInfo": {
     "elapsed": 3800,
     "status": "ok",
     "timestamp": 1604725865796,
     "user": {
      "displayName": "paulo cesar da rocha correa",
      "photoUrl": "https://lh3.googleusercontent.com/a-/AOh14GhfjqjKkqi19BFvTCJLd1b2SJHjv7CE8jW8VKcHvg=s64",
      "userId": "02019520615414855207"
     },
     "user_tz": 240
    },
    "id": "t0F6FmvXUvNV",
    "outputId": "6a3a3f63-ab35-460f-f4b8-b7619105af2a"
   },
   "outputs": [],
   "source": [
    "data_str = _X[0:10000]\n",
    "str(data_str).encode('unicode_escape').decode('unicode_escape')"
   ]
  },
  {
   "cell_type": "code",
   "execution_count": null,
   "metadata": {
    "id": "Wb-aUJwiUvNc"
   },
   "outputs": [],
   "source": [
    "def decodeUnicodeArray(_string):\n",
    "    espacoSeq = _string.group(0)\n",
    "    digito = espacoSeq[2:]\n",
    "    ordinal = int(digito, 16)\n",
    "    char = chr(ordinal)\n",
    "    return char\n",
    "    "
   ]
  },
  {
   "cell_type": "code",
   "execution_count": null,
   "metadata": {
    "colab": {
     "base_uri": "https://localhost:8080/",
     "height": 36
    },
    "executionInfo": {
     "elapsed": 3786,
     "status": "ok",
     "timestamp": 1604725865805,
     "user": {
      "displayName": "paulo cesar da rocha correa",
      "photoUrl": "https://lh3.googleusercontent.com/a-/AOh14GhfjqjKkqi19BFvTCJLd1b2SJHjv7CE8jW8VKcHvg=s64",
      "userId": "02019520615414855207"
     },
     "user_tz": 240
    },
    "id": "GDmR8qpWUvNk",
    "outputId": "6273c20f-a60a-48cc-ba44-329f00d41042"
   },
   "outputs": [],
   "source": [
    "re.sub(r'(\\\\u[09A-Fa-f]+)', decodeUnicodeArray, \"test\")"
   ]
  },
  {
   "cell_type": "code",
   "execution_count": null,
   "metadata": {
    "colab": {
     "base_uri": "https://localhost:8080/",
     "height": 300
    },
    "executionInfo": {
     "elapsed": 3777,
     "status": "ok",
     "timestamp": 1604725865808,
     "user": {
      "displayName": "paulo cesar da rocha correa",
      "photoUrl": "https://lh3.googleusercontent.com/a-/AOh14GhfjqjKkqi19BFvTCJLd1b2SJHjv7CE8jW8VKcHvg=s64",
      "userId": "02019520615414855207"
     },
     "user_tz": 240
    },
    "id": "kgri8ju-UvNs",
    "outputId": "1b207a55-2773-446f-85a5-5befb804ece8"
   },
   "outputs": [],
   "source": [
    "train_data.describe()"
   ]
  },
  {
   "cell_type": "code",
   "execution_count": null,
   "metadata": {
    "id": "XrUG1Rj4UvN0"
   },
   "outputs": [],
   "source": [
    "#data.drop(['title', 'restaurantId','author','reviewBody','language','userLocation','publicationDate','visitDate','ratingValue','itemReviewed','address','addressLocality','addressRegion','postalCode','country','website','email','phoneNumber','averageRating'], axis = 1, inplace=True)"
   ]
  },
  {
   "cell_type": "code",
   "execution_count": null,
   "metadata": {
    "id": "JGDh5FzFUvN9"
   },
   "outputs": [],
   "source": [
    "#train_data.mobileDevice.unique()"
   ]
  },
  {
   "cell_type": "code",
   "execution_count": null,
   "metadata": {
    "colab": {
     "base_uri": "https://localhost:8080/",
     "height": 337
    },
    "executionInfo": {
     "elapsed": 24384,
     "status": "ok",
     "timestamp": 1604762080389,
     "user": {
      "displayName": "paulo cesar da rocha correa",
      "photoUrl": "https://lh3.googleusercontent.com/a-/AOh14GhfjqjKkqi19BFvTCJLd1b2SJHjv7CE8jW8VKcHvg=s64",
      "userId": "02019520615414855207"
     },
     "user_tz": 240
    },
    "id": "3zA_8hhkUvOE",
    "outputId": "721ee675-23b6-46fe-caa3-d02f30c58a7f",
    "scrolled": true
   },
   "outputs": [],
   "source": [
    "sns.countplot(train_data.mobileDevice);"
   ]
  },
  {
   "cell_type": "code",
   "execution_count": null,
   "metadata": {
    "colab": {
     "base_uri": "https://localhost:8080/",
     "height": 401
    },
    "executionInfo": {
     "elapsed": 32689,
     "status": "ok",
     "timestamp": 1604762109263,
     "user": {
      "displayName": "paulo cesar da rocha correa",
      "photoUrl": "https://lh3.googleusercontent.com/a-/AOh14GhfjqjKkqi19BFvTCJLd1b2SJHjv7CE8jW8VKcHvg=s64",
      "userId": "02019520615414855207"
     },
     "user_tz": 240
    },
    "id": "QO4WgOMzUvOJ",
    "outputId": "038d4b6e-ebb0-41f2-a9c3-042a96e36d23"
   },
   "outputs": [],
   "source": [
    "sns.catplot(x=\"mobileDevice\", kind=\"count\", palette=\"ch:.25\", data=train_data)"
   ]
  },
  {
   "cell_type": "code",
   "execution_count": null,
   "metadata": {
    "colab": {
     "base_uri": "https://localhost:8080/",
     "height": 35
    },
    "executionInfo": {
     "elapsed": 829,
     "status": "ok",
     "timestamp": 1604759209282,
     "user": {
      "displayName": "paulo cesar da rocha correa",
      "photoUrl": "https://lh3.googleusercontent.com/a-/AOh14GhfjqjKkqi19BFvTCJLd1b2SJHjv7CE8jW8VKcHvg=s64",
      "userId": "02019520615414855207"
     },
     "user_tz": 240
    },
    "id": "ThGEN0-fUvOO",
    "outputId": "de0316b4-7f7f-409c-8969-dd69260335ba"
   },
   "outputs": [],
   "source": [
    "%pwd"
   ]
  },
  {
   "cell_type": "code",
   "execution_count": null,
   "metadata": {
    "executionInfo": {
     "elapsed": 1014,
     "status": "ok",
     "timestamp": 1604781539366,
     "user": {
      "displayName": "paulo cesar da rocha correa",
      "photoUrl": "https://lh3.googleusercontent.com/a-/AOh14GhfjqjKkqi19BFvTCJLd1b2SJHjv7CE8jW8VKcHvg=s64",
      "userId": "02019520615414855207"
     },
     "user_tz": 240
    },
    "id": "1RdwUC5hGig6"
   },
   "outputs": [],
   "source": [
    "f1 = (2*66.6*66.6)/(66.6+66.6)"
   ]
  },
  {
   "cell_type": "code",
   "execution_count": null,
   "metadata": {
    "colab": {
     "base_uri": "https://localhost:8080/"
    },
    "executionInfo": {
     "elapsed": 809,
     "status": "ok",
     "timestamp": 1604781540287,
     "user": {
      "displayName": "paulo cesar da rocha correa",
      "photoUrl": "https://lh3.googleusercontent.com/a-/AOh14GhfjqjKkqi19BFvTCJLd1b2SJHjv7CE8jW8VKcHvg=s64",
      "userId": "02019520615414855207"
     },
     "user_tz": 240
    },
    "id": "UQE1MRt0bhm-",
    "outputId": "cced780c-9849-42cb-bdc1-d0bf4add5e31"
   },
   "outputs": [],
   "source": [
    "f1"
   ]
  },
  {
   "cell_type": "code",
   "execution_count": null,
   "metadata": {
    "colab": {
     "base_uri": "https://localhost:8080/"
    },
    "executionInfo": {
     "elapsed": 819,
     "status": "ok",
     "timestamp": 1604782000978,
     "user": {
      "displayName": "paulo cesar da rocha correa",
      "photoUrl": "https://lh3.googleusercontent.com/a-/AOh14GhfjqjKkqi19BFvTCJLd1b2SJHjv7CE8jW8VKcHvg=s64",
      "userId": "02019520615414855207"
     },
     "user_tz": 240
    },
    "id": "Ku2pu49tbiW2",
    "outputId": "d46b8805-5f4d-49bd-9000-685f46409d0f"
   },
   "outputs": [],
   "source": [
    "f2 = (2*60*100)/(60+100)\n",
    "f2\n"
   ]
  },
  {
   "cell_type": "code",
   "execution_count": null,
   "metadata": {
    "colab": {
     "base_uri": "https://localhost:8080/"
    },
    "executionInfo": {
     "elapsed": 914,
     "status": "ok",
     "timestamp": 1604782282091,
     "user": {
      "displayName": "paulo cesar da rocha correa",
      "photoUrl": "https://lh3.googleusercontent.com/a-/AOh14GhfjqjKkqi19BFvTCJLd1b2SJHjv7CE8jW8VKcHvg=s64",
      "userId": "02019520615414855207"
     },
     "user_tz": 240
    },
    "id": "uU0mHKZbddUR",
    "outputId": "47a26920-558d-4ff1-f6b4-55e1c7589eda"
   },
   "outputs": [],
   "source": [
    "f1p = (2*50*50)/(50+50)\n",
    "f1p"
   ]
  },
  {
   "cell_type": "code",
   "execution_count": null,
   "metadata": {
    "colab": {
     "base_uri": "https://localhost:8080/"
    },
    "executionInfo": {
     "elapsed": 863,
     "status": "ok",
     "timestamp": 1604782533594,
     "user": {
      "displayName": "paulo cesar da rocha correa",
      "photoUrl": "https://lh3.googleusercontent.com/a-/AOh14GhfjqjKkqi19BFvTCJLd1b2SJHjv7CE8jW8VKcHvg=s64",
      "userId": "02019520615414855207"
     },
     "user_tz": 240
    },
    "id": "2XbtvPEDelEB",
    "outputId": "ebc48a8d-578a-44b7-df97-d3648dccc61c"
   },
   "outputs": [],
   "source": [
    "P = 4/4\n",
    "R = 4/4\n",
    "f2p = (2*P*R)/(P+R)\n",
    "f2p"
   ]
  },
  {
   "cell_type": "code",
   "execution_count": null,
   "metadata": {
    "id": "iTaSNLjJfify"
   },
   "outputs": [],
   "source": [
    "print('Conhe\\u00E7o e aprecio comida \\u00E1rabe desde muito pequena. Minha av\\u00F3 cozinhava divinamente. \\nRaras vezes degustei fora de casa sabores t\\u00E3o marcantes e harm\\u00F4nicos! O ambiente \\u00E9 familiar e iluminado. O novo espa\\u00E7o ficou incr\\u00EDvel. Frequento e Recomendo! \\u2764\\uFE0F\\nParab\\u00E9ns.  \\uD83D\\uDC4F\\uD83C\\uDFFB\\uD83D\\uDC4F\\uD83C\\uDFFB\\uD83D\\uDC4F\\uD83C\\uDFFB'.encode('utf-16', 'surrogatepass').decode('utf-16'))\n",
    "print(type('Conhe\\u00E7o e aprecio comida \\u00E1rabe desde muito pequena. Minha av\\u00F3 cozinhava divinamente. \\nRaras veze'))\n",
    "# import nltk\n",
    "# nltk.download('punkt')\n",
    "# from textblob import TextBlob\n",
    "#text = 'Conhe\\u00E7o e aprecio comida \\u00E1rabe desde muito pequena. Minha av\\u00F3 cozinhava divinamente. \\nRaras vezes degustei fora de casa sabores t\\u00E3o marcantes e harm\\u00F4nicos! O ambiente \\u00E9 familiar e iluminado. O novo espa\\u00E7o ficou incr\\u00EDvel. Frequento e Recomendo! \\u2764\\uFE0F\\nParab\\u00E9ns.  \\uD83D\\uDC4F\\uD83C\\uDFFB\\uD83D\\uDC4F\\uD83C\\uDFFB\\uD83D\\uDC4F\\uD83C\\uDFFB \\nFoi muito ruim demais! \\n Não irei voltar mais neste lugar'.encode('utf-16', 'surrogatepass').decode('utf-16')\n",
    "text = 'Sushiloko j\\u00E1 foi melhor e mais barato. claro que continua bom. mas os pre\\u00E7os dos combos j\\u00E1 n\\u00E3o est\\u00E3o mais em conta'.encode('utf-16', 'surrogatepass').decode('utf-16')\n",
    "comentario_blob = TextBlob(text)\n",
    "comentario_blob_us = comentario_blob.translate(to='us')\n",
    "\n",
    "for sentence_br, sentence in zip(comentario_blob.sentences, comentario_blob_us.sentences):\n",
    "    print(sentence_br, ':', sentence.sentiment.subjectivity)"
   ]
  },
  {
   "cell_type": "code",
   "execution_count": null,
   "metadata": {},
   "outputs": [],
   "source": [
    "for sentence_br, sentence in zip(comentario_blob.sentences, comentario_blob_us.sentences):\n",
    "    print(sentence_br, ':', sentence.sentiment.polarity)"
   ]
  },
  {
   "cell_type": "code",
   "execution_count": null,
   "metadata": {},
   "outputs": [],
   "source": []
  }
 ],
 "metadata": {
  "colab": {
   "collapsed_sections": [],
   "name": "piloto-2.ipynb",
   "provenance": []
  },
  "kernelspec": {
   "display_name": "Python 3.7.6 64-bit ('base': conda)",
   "language": "python",
   "name": "python37664bitbaseconda3bccb8464e544e1caf96114d9ca87004"
  },
  "language_info": {
   "codemirror_mode": {
    "name": "ipython",
    "version": 3
   },
   "file_extension": ".py",
   "mimetype": "text/x-python",
   "name": "python",
   "nbconvert_exporter": "python",
   "pygments_lexer": "ipython3",
   "version": "3.7.6"
  }
 },
 "nbformat": 4,
 "nbformat_minor": 1
}
