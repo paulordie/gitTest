{
 "cells": [
  {
   "cell_type": "code",
   "execution_count": null,
   "metadata": {},
   "outputs": [],
   "source": [
    "# -*- coding: UTF-8 -*-"
   ]
  },
  {
   "cell_type": "code",
   "execution_count": null,
   "metadata": {
    "executionInfo": {
     "elapsed": 2567,
     "status": "ok",
     "timestamp": 1604774783060,
     "user": {
      "displayName": "paulo cesar da rocha correa",
      "photoUrl": "https://lh3.googleusercontent.com/a-/AOh14GhfjqjKkqi19BFvTCJLd1b2SJHjv7CE8jW8VKcHvg=s64",
      "userId": "02019520615414855207"
     },
     "user_tz": 240
    },
    "id": "IrC3D24_UvLr"
   },
   "outputs": [],
   "source": [
    "import numpy as np\n",
    "import math\n",
    "import re\n",
    "import pandas as pd\n",
    "from bs4 import BeautifulSoup\n",
    "#from google.colab import drive\n",
    "#import zipfile\n",
    "#import seaborn as sns\n",
    "#import spacy as sp\n",
    "import string\n",
    "import random\n",
    "import matplotlib.pyplot as plt\n",
    "import nltk\n",
    "nltk.download('punkt')\n",
    "from textblob import TextBlob"
   ]
  },
  {
   "cell_type": "code",
   "execution_count": null,
   "metadata": {
    "colab": {
     "base_uri": "https://localhost:8080/"
    },
    "executionInfo": {
     "elapsed": 31062,
     "status": "ok",
     "timestamp": 1604774846664,
     "user": {
      "displayName": "paulo cesar da rocha correa",
      "photoUrl": "https://lh3.googleusercontent.com/a-/AOh14GhfjqjKkqi19BFvTCJLd1b2SJHjv7CE8jW8VKcHvg=s64",
      "userId": "02019520615414855207"
     },
     "user_tz": 240
    },
    "id": "B7aqCIxWCPlN",
    "outputId": "193d27ea-9188-4201-8a12-1d505735b25a"
   },
   "outputs": [],
   "source": [
    "#.mount(\"/content/drive\")"
   ]
  },
  {
   "cell_type": "code",
   "execution_count": null,
   "metadata": {
    "colab": {
     "base_uri": "https://localhost:8080/",
     "height": 532
    },
    "executionInfo": {
     "elapsed": 4152,
     "status": "ok",
     "timestamp": 1604774851637,
     "user": {
      "displayName": "paulo cesar da rocha correa",
      "photoUrl": "https://lh3.googleusercontent.com/a-/AOh14GhfjqjKkqi19BFvTCJLd1b2SJHjv7CE8jW8VKcHvg=s64",
      "userId": "02019520615414855207"
     },
     "user_tz": 240
    },
    "id": "dbEZUXS3UvL7",
    "outputId": "afc843e7-b7a6-4838-dcf8-4a255695b61e"
   },
   "outputs": [],
   "source": [
    "cols = ['title','reviewId', 'restaurantId','author','reviewBody','language','mobileDevice','userLocation','publicationDate','visitDate','ratingValue','itemReviewed','address','addressLocality','addressRegion','postalCode','country','website','email','phoneNumber','averageRating']\n",
    "train_data = pd.read_csv('pc-dataset-v2.csv', names= cols, engine = 'python', delimiter=',', skiprows=0, dtype=\"string\")\n",
    "train_data.describe()"
   ]
  },
  {
   "cell_type": "code",
   "execution_count": null,
   "metadata": {},
   "outputs": [],
   "source": [
    "train_data.loc[pd.isnull(train_data['email'])]"
   ]
  },
  {
   "cell_type": "code",
   "execution_count": null,
   "metadata": {},
   "outputs": [],
   "source": [
    "train_data.head()"
   ]
  },
  {
   "cell_type": "code",
   "execution_count": null,
   "metadata": {
    "colab": {
     "base_uri": "https://localhost:8080/",
     "height": 429
    },
    "executionInfo": {
     "elapsed": 1219,
     "status": "ok",
     "timestamp": 1604774853692,
     "user": {
      "displayName": "paulo cesar da rocha correa",
      "photoUrl": "https://lh3.googleusercontent.com/a-/AOh14GhfjqjKkqi19BFvTCJLd1b2SJHjv7CE8jW8VKcHvg=s64",
      "userId": "02019520615414855207"
     },
     "user_tz": 240
    },
    "id": "ELZ9BfamUvMN",
    "outputId": "ca2ceb1e-a018-41af-e218-0f0413e2b0fa"
   },
   "outputs": [],
   "source": [
    "train_data.tail()"
   ]
  },
  {
   "cell_type": "code",
   "execution_count": null,
   "metadata": {},
   "outputs": [],
   "source": [
    "_train_data = train_data.reviewBody.astype(\"string\")\n",
    "type(_train_data)\n",
    "_train_data"
   ]
  },
  {
   "cell_type": "code",
   "execution_count": null,
   "metadata": {},
   "outputs": [],
   "source": [
    "# _blob = TextBlob(_train_data))\n",
    "# print(_blob.translate(to='en'))"
   ]
  },
  {
   "cell_type": "code",
   "execution_count": null,
   "metadata": {
    "executionInfo": {
     "elapsed": 889,
     "status": "ok",
     "timestamp": 1604775144796,
     "user": {
      "displayName": "paulo cesar da rocha correa",
      "photoUrl": "https://lh3.googleusercontent.com/a-/AOh14GhfjqjKkqi19BFvTCJLd1b2SJHjv7CE8jW8VKcHvg=s64",
      "userId": "02019520615414855207"
     },
     "user_tz": 240
    },
    "id": "4DHNLWuYUvMa"
   },
   "outputs": [],
   "source": [
    "data = train_data\n",
    "X = data.iloc[:, 4].values # aqui pode ser selecionado a coluna"
   ]
  },
  {
   "cell_type": "code",
   "execution_count": null,
   "metadata": {},
   "outputs": [],
   "source": [
    "_X = X\n",
    "print(_X)"
   ]
  },
  {
   "cell_type": "code",
   "execution_count": null,
   "metadata": {},
   "outputs": [],
   "source": [
    "# test = np.array_str(X).encode('utf-16', 'surrogatepass').decode('utf-16')\n",
    "# serieTest = pd.Series(test)\n",
    "# print(serieTest)"
   ]
  },
  {
   "cell_type": "code",
   "execution_count": null,
   "metadata": {
    "colab": {
     "base_uri": "https://localhost:8080/"
    },
    "executionInfo": {
     "elapsed": 942,
     "status": "ok",
     "timestamp": 1604775146564,
     "user": {
      "displayName": "paulo cesar da rocha correa",
      "photoUrl": "https://lh3.googleusercontent.com/a-/AOh14GhfjqjKkqi19BFvTCJLd1b2SJHjv7CE8jW8VKcHvg=s64",
      "userId": "02019520615414855207"
     },
     "user_tz": 240
    },
    "id": "Tr8kx3ibBuD2",
    "outputId": "6806ba96-0eaa-4381-964f-a1fa578caea9"
   },
   "outputs": [],
   "source": [
    "serie =  pd.Series(np.array_str(X))\n",
    "serie"
   ]
  },
  {
   "cell_type": "code",
   "execution_count": null,
   "metadata": {},
   "outputs": [],
   "source": [
    "blob = TextBlob(serie[0])\n",
    "print(blob.translate(to='en'))"
   ]
  },
  {
   "cell_type": "code",
   "execution_count": null,
   "metadata": {
    "id": "ujFzSUHkHPBr"
   },
   "outputs": [],
   "source": [
    "dic2 = pd.DataFrame(train_data)\n",
    "dic2['reviewBody']\n",
    "count = 0\n",
    "for x in dic2['reviewBody']:\n",
    "    count = count + 1  \n",
    "    print(type(x))\n",
    "    print(x) #vai imprimir todos os reviews\n",
    "    blob = TextBlob(x)\n",
    "    print(blob.translate(to='en'))\n",
    "    if count == 5:\n",
    "        break"
   ]
  },
  {
   "cell_type": "code",
   "execution_count": null,
   "metadata": {
    "id": "T4iGsx_HERz6"
   },
   "outputs": [],
   "source": [
    "result = []\n",
    "x = []\n",
    "for _data in data:\n",
    "  print(type(_data), _data)\n",
    "  if _data == 'reviewBody':    \n",
    "    for x in _data:\n",
    "      print()\n",
    "    print(result)"
   ]
  },
  {
   "cell_type": "code",
   "execution_count": null,
   "metadata": {
    "id": "DvO5nFpwD8mf"
   },
   "outputs": [],
   "source": [
    "for x in serie:\n",
    "  print(x)\n",
    "  blob = TextBlob(x)\n",
    "  print(blob.translate(to='en'))"
   ]
  },
  {
   "cell_type": "code",
   "execution_count": null,
   "metadata": {
    "colab": {
     "base_uri": "https://localhost:8080/",
     "height": 947
    },
    "executionInfo": {
     "elapsed": 3456,
     "status": "ok",
     "timestamp": 1604725865390,
     "user": {
      "displayName": "paulo cesar da rocha correa",
      "photoUrl": "https://lh3.googleusercontent.com/a-/AOh14GhfjqjKkqi19BFvTCJLd1b2SJHjv7CE8jW8VKcHvg=s64",
      "userId": "02019520615414855207"
     },
     "user_tz": 240
    },
    "id": "mEE2DveKUvMj",
    "outputId": "4966a749-bcd9-4296-ada9-18f8d95071a9"
   },
   "outputs": [],
   "source": [
    "train_data"
   ]
  },
  {
   "cell_type": "code",
   "execution_count": null,
   "metadata": {
    "id": "I6wcIM3QUvMt"
   },
   "outputs": [],
   "source": [
    "def limparDados(text):\n",
    "    text = re.sub()\n",
    "    return text"
   ]
  },
  {
   "cell_type": "code",
   "execution_count": null,
   "metadata": {
    "colab": {
     "base_uri": "https://localhost:8080/"
    },
    "executionInfo": {
     "elapsed": 3454,
     "status": "ok",
     "timestamp": 1604725865410,
     "user": {
      "displayName": "paulo cesar da rocha correa",
      "photoUrl": "https://lh3.googleusercontent.com/a-/AOh14GhfjqjKkqi19BFvTCJLd1b2SJHjv7CE8jW8VKcHvg=s64",
      "userId": "02019520615414855207"
     },
     "user_tz": 240
    },
    "id": "WKc-qdnCUvM5",
    "outputId": "e5f6b044-57c5-4c81-a2a3-485fbc83b926"
   },
   "outputs": [],
   "source": [
    "X"
   ]
  },
  {
   "cell_type": "code",
   "execution_count": null,
   "metadata": {
    "colab": {
     "base_uri": "https://localhost:8080/"
    },
    "executionInfo": {
     "elapsed": 3448,
     "status": "ok",
     "timestamp": 1604725865416,
     "user": {
      "displayName": "paulo cesar da rocha correa",
      "photoUrl": "https://lh3.googleusercontent.com/a-/AOh14GhfjqjKkqi19BFvTCJLd1b2SJHjv7CE8jW8VKcHvg=s64",
      "userId": "02019520615414855207"
     },
     "user_tz": 240
    },
    "id": "L-bk26tTUvNE",
    "outputId": "4abb7a5f-fcbd-4091-fb14-dc34d0c0760b"
   },
   "outputs": [],
   "source": [
    "_X = np.array_str(X)\n",
    "print(_X)\n",
    "#_X.decode('unicode-escape')\n",
    "X.shape #Formato "
   ]
  },
  {
   "cell_type": "code",
   "execution_count": null,
   "metadata": {
    "colab": {
     "base_uri": "https://localhost:8080/"
    },
    "executionInfo": {
     "elapsed": 3441,
     "status": "ok",
     "timestamp": 1604725865422,
     "user": {
      "displayName": "paulo cesar da rocha correa",
      "photoUrl": "https://lh3.googleusercontent.com/a-/AOh14GhfjqjKkqi19BFvTCJLd1b2SJHjv7CE8jW8VKcHvg=s64",
      "userId": "02019520615414855207"
     },
     "user_tz": 240
    },
    "id": "V_1fOLeeUvNL",
    "outputId": "e1eee096-108d-49d4-ee7c-7bd990aa56ef"
   },
   "outputs": [],
   "source": [
    "type(X) # tipo do dado"
   ]
  },
  {
   "cell_type": "code",
   "execution_count": null,
   "metadata": {
    "colab": {
     "base_uri": "https://localhost:8080/",
     "height": 54
    },
    "executionInfo": {
     "elapsed": 3800,
     "status": "ok",
     "timestamp": 1604725865796,
     "user": {
      "displayName": "paulo cesar da rocha correa",
      "photoUrl": "https://lh3.googleusercontent.com/a-/AOh14GhfjqjKkqi19BFvTCJLd1b2SJHjv7CE8jW8VKcHvg=s64",
      "userId": "02019520615414855207"
     },
     "user_tz": 240
    },
    "id": "t0F6FmvXUvNV",
    "outputId": "6a3a3f63-ab35-460f-f4b8-b7619105af2a"
   },
   "outputs": [],
   "source": [
    "data_str = _X[0:10000]\n",
    "str(data_str).encode('unicode_escape').decode('unicode_escape')"
   ]
  },
  {
   "cell_type": "code",
   "execution_count": null,
   "metadata": {
    "id": "Wb-aUJwiUvNc"
   },
   "outputs": [],
   "source": [
    "def decodeUnicodeArray(_string):\n",
    "    espacoSeq = _string.group(0)\n",
    "    digito = espacoSeq[2:]\n",
    "    ordinal = int(digito, 16)\n",
    "    char = chr(ordinal)\n",
    "    return char\n",
    "    "
   ]
  },
  {
   "cell_type": "code",
   "execution_count": null,
   "metadata": {
    "colab": {
     "base_uri": "https://localhost:8080/",
     "height": 36
    },
    "executionInfo": {
     "elapsed": 3786,
     "status": "ok",
     "timestamp": 1604725865805,
     "user": {
      "displayName": "paulo cesar da rocha correa",
      "photoUrl": "https://lh3.googleusercontent.com/a-/AOh14GhfjqjKkqi19BFvTCJLd1b2SJHjv7CE8jW8VKcHvg=s64",
      "userId": "02019520615414855207"
     },
     "user_tz": 240
    },
    "id": "GDmR8qpWUvNk",
    "outputId": "6273c20f-a60a-48cc-ba44-329f00d41042"
   },
   "outputs": [],
   "source": [
    "re.sub(r'(\\\\u[09A-Fa-f]+)', decodeUnicodeArray, \"test\")"
   ]
  },
  {
   "cell_type": "code",
   "execution_count": null,
   "metadata": {
    "colab": {
     "base_uri": "https://localhost:8080/",
     "height": 300
    },
    "executionInfo": {
     "elapsed": 3777,
     "status": "ok",
     "timestamp": 1604725865808,
     "user": {
      "displayName": "paulo cesar da rocha correa",
      "photoUrl": "https://lh3.googleusercontent.com/a-/AOh14GhfjqjKkqi19BFvTCJLd1b2SJHjv7CE8jW8VKcHvg=s64",
      "userId": "02019520615414855207"
     },
     "user_tz": 240
    },
    "id": "kgri8ju-UvNs",
    "outputId": "1b207a55-2773-446f-85a5-5befb804ece8"
   },
   "outputs": [],
   "source": [
    "train_data.describe()"
   ]
  },
  {
   "cell_type": "code",
   "execution_count": null,
   "metadata": {
    "id": "XrUG1Rj4UvN0"
   },
   "outputs": [],
   "source": [
    "#data.drop(['title', 'restaurantId','author','reviewBody','language','userLocation','publicationDate','visitDate','ratingValue','itemReviewed','address','addressLocality','addressRegion','postalCode','country','website','email','phoneNumber','averageRating'], axis = 1, inplace=True)"
   ]
  },
  {
   "cell_type": "code",
   "execution_count": null,
   "metadata": {
    "id": "JGDh5FzFUvN9"
   },
   "outputs": [],
   "source": [
    "#train_data.mobileDevice.unique()"
   ]
  },
  {
   "cell_type": "code",
   "execution_count": null,
   "metadata": {
    "colab": {
     "base_uri": "https://localhost:8080/",
     "height": 337
    },
    "executionInfo": {
     "elapsed": 24384,
     "status": "ok",
     "timestamp": 1604762080389,
     "user": {
      "displayName": "paulo cesar da rocha correa",
      "photoUrl": "https://lh3.googleusercontent.com/a-/AOh14GhfjqjKkqi19BFvTCJLd1b2SJHjv7CE8jW8VKcHvg=s64",
      "userId": "02019520615414855207"
     },
     "user_tz": 240
    },
    "id": "3zA_8hhkUvOE",
    "outputId": "721ee675-23b6-46fe-caa3-d02f30c58a7f",
    "scrolled": true
   },
   "outputs": [],
   "source": [
    "sns.countplot(train_data.mobileDevice);"
   ]
  },
  {
   "cell_type": "code",
   "execution_count": null,
   "metadata": {
    "colab": {
     "base_uri": "https://localhost:8080/",
     "height": 401
    },
    "executionInfo": {
     "elapsed": 32689,
     "status": "ok",
     "timestamp": 1604762109263,
     "user": {
      "displayName": "paulo cesar da rocha correa",
      "photoUrl": "https://lh3.googleusercontent.com/a-/AOh14GhfjqjKkqi19BFvTCJLd1b2SJHjv7CE8jW8VKcHvg=s64",
      "userId": "02019520615414855207"
     },
     "user_tz": 240
    },
    "id": "QO4WgOMzUvOJ",
    "outputId": "038d4b6e-ebb0-41f2-a9c3-042a96e36d23"
   },
   "outputs": [],
   "source": [
    "sns.catplot(x=\"mobileDevice\", kind=\"count\", palette=\"ch:.25\", data=train_data)"
   ]
  },
  {
   "cell_type": "code",
   "execution_count": null,
   "metadata": {
    "colab": {
     "base_uri": "https://localhost:8080/",
     "height": 35
    },
    "executionInfo": {
     "elapsed": 829,
     "status": "ok",
     "timestamp": 1604759209282,
     "user": {
      "displayName": "paulo cesar da rocha correa",
      "photoUrl": "https://lh3.googleusercontent.com/a-/AOh14GhfjqjKkqi19BFvTCJLd1b2SJHjv7CE8jW8VKcHvg=s64",
      "userId": "02019520615414855207"
     },
     "user_tz": 240
    },
    "id": "ThGEN0-fUvOO",
    "outputId": "de0316b4-7f7f-409c-8969-dd69260335ba"
   },
   "outputs": [],
   "source": [
    "%pwd"
   ]
  },
  {
   "cell_type": "code",
   "execution_count": null,
   "metadata": {
    "executionInfo": {
     "elapsed": 1014,
     "status": "ok",
     "timestamp": 1604781539366,
     "user": {
      "displayName": "paulo cesar da rocha correa",
      "photoUrl": "https://lh3.googleusercontent.com/a-/AOh14GhfjqjKkqi19BFvTCJLd1b2SJHjv7CE8jW8VKcHvg=s64",
      "userId": "02019520615414855207"
     },
     "user_tz": 240
    },
    "id": "1RdwUC5hGig6"
   },
   "outputs": [],
   "source": [
    "f1 = (2*66.6*66.6)/(66.6+66.6)"
   ]
  },
  {
   "cell_type": "code",
   "execution_count": null,
   "metadata": {
    "colab": {
     "base_uri": "https://localhost:8080/"
    },
    "executionInfo": {
     "elapsed": 809,
     "status": "ok",
     "timestamp": 1604781540287,
     "user": {
      "displayName": "paulo cesar da rocha correa",
      "photoUrl": "https://lh3.googleusercontent.com/a-/AOh14GhfjqjKkqi19BFvTCJLd1b2SJHjv7CE8jW8VKcHvg=s64",
      "userId": "02019520615414855207"
     },
     "user_tz": 240
    },
    "id": "UQE1MRt0bhm-",
    "outputId": "cced780c-9849-42cb-bdc1-d0bf4add5e31"
   },
   "outputs": [],
   "source": [
    "f1"
   ]
  },
  {
   "cell_type": "code",
   "execution_count": null,
   "metadata": {
    "colab": {
     "base_uri": "https://localhost:8080/"
    },
    "executionInfo": {
     "elapsed": 819,
     "status": "ok",
     "timestamp": 1604782000978,
     "user": {
      "displayName": "paulo cesar da rocha correa",
      "photoUrl": "https://lh3.googleusercontent.com/a-/AOh14GhfjqjKkqi19BFvTCJLd1b2SJHjv7CE8jW8VKcHvg=s64",
      "userId": "02019520615414855207"
     },
     "user_tz": 240
    },
    "id": "Ku2pu49tbiW2",
    "outputId": "d46b8805-5f4d-49bd-9000-685f46409d0f"
   },
   "outputs": [],
   "source": [
    "f2 = (2*60*100)/(60+100)\n",
    "f2\n"
   ]
  },
  {
   "cell_type": "code",
   "execution_count": null,
   "metadata": {
    "colab": {
     "base_uri": "https://localhost:8080/"
    },
    "executionInfo": {
     "elapsed": 914,
     "status": "ok",
     "timestamp": 1604782282091,
     "user": {
      "displayName": "paulo cesar da rocha correa",
      "photoUrl": "https://lh3.googleusercontent.com/a-/AOh14GhfjqjKkqi19BFvTCJLd1b2SJHjv7CE8jW8VKcHvg=s64",
      "userId": "02019520615414855207"
     },
     "user_tz": 240
    },
    "id": "uU0mHKZbddUR",
    "outputId": "47a26920-558d-4ff1-f6b4-55e1c7589eda"
   },
   "outputs": [],
   "source": [
    "f1p = (2*50*50)/(50+50)\n",
    "f1p"
   ]
  },
  {
   "cell_type": "code",
   "execution_count": null,
   "metadata": {
    "colab": {
     "base_uri": "https://localhost:8080/"
    },
    "executionInfo": {
     "elapsed": 863,
     "status": "ok",
     "timestamp": 1604782533594,
     "user": {
      "displayName": "paulo cesar da rocha correa",
      "photoUrl": "https://lh3.googleusercontent.com/a-/AOh14GhfjqjKkqi19BFvTCJLd1b2SJHjv7CE8jW8VKcHvg=s64",
      "userId": "02019520615414855207"
     },
     "user_tz": 240
    },
    "id": "2XbtvPEDelEB",
    "outputId": "ebc48a8d-578a-44b7-df97-d3648dccc61c"
   },
   "outputs": [],
   "source": [
    "P = 4/4\n",
    "R = 4/4\n",
    "f2p = (2*P*R)/(P+R)\n",
    "f2p"
   ]
  },
  {
   "cell_type": "code",
   "execution_count": null,
   "metadata": {
    "id": "iTaSNLjJfify"
   },
   "outputs": [],
   "source": [
    "print('Conhe\\u00E7o e aprecio comida \\u00E1rabe desde muito pequena. Minha av\\u00F3 cozinhava divinamente. \\nRaras vezes degustei fora de casa sabores t\\u00E3o marcantes e harm\\u00F4nicos! O ambiente \\u00E9 familiar e iluminado. O novo espa\\u00E7o ficou incr\\u00EDvel. Frequento e Recomendo! \\u2764\\uFE0F\\nParab\\u00E9ns.  \\uD83D\\uDC4F\\uD83C\\uDFFB\\uD83D\\uDC4F\\uD83C\\uDFFB\\uD83D\\uDC4F\\uD83C\\uDFFB'.encode('utf-16', 'surrogatepass').decode('utf-16'))\n",
    "print(type('Conhe\\u00E7o e aprecio comida \\u00E1rabe desde muito pequena. Minha av\\u00F3 cozinhava divinamente. \\nRaras veze'))\n",
    "# import nltk\n",
    "# nltk.download('punkt')\n",
    "# from textblob import TextBlob\n",
    "#text = 'Conhe\\u00E7o e aprecio comida \\u00E1rabe desde muito pequena. Minha av\\u00F3 cozinhava divinamente. \\nRaras vezes degustei fora de casa sabores t\\u00E3o marcantes e harm\\u00F4nicos! O ambiente \\u00E9 familiar e iluminado. O novo espa\\u00E7o ficou incr\\u00EDvel. Frequento e Recomendo! \\u2764\\uFE0F\\nParab\\u00E9ns.  \\uD83D\\uDC4F\\uD83C\\uDFFB\\uD83D\\uDC4F\\uD83C\\uDFFB\\uD83D\\uDC4F\\uD83C\\uDFFB \\nFoi muito ruim demais! \\n Não irei voltar mais neste lugar'.encode('utf-16', 'surrogatepass').decode('utf-16')\n",
    "text = 'Sushiloko j\\u00E1 foi melhor e mais barato. claro que continua bom. mas os pre\\u00E7os dos combos j\\u00E1 n\\u00E3o est\\u00E3o mais em conta'.encode('utf-16', 'surrogatepass').decode('utf-16')\n",
    "comentario_blob = TextBlob(text)\n",
    "comentario_blob_us = comentario_blob.translate(to='us')\n",
    "\n",
    "for sentence_br, sentence in zip(comentario_blob.sentences, comentario_blob_us.sentences):\n",
    "    print(sentence_br, ':', sentence.sentiment.subjectivity)"
   ]
  },
  {
   "cell_type": "code",
   "execution_count": null,
   "metadata": {},
   "outputs": [],
   "source": [
    "for sentence_br, sentence in zip(comentario_blob.sentences, comentario_blob_us.sentences):\n",
    "    print(sentence_br, ':', sentence.sentiment.polarity)"
   ]
  },
  {
   "cell_type": "code",
   "execution_count": null,
   "metadata": {},
   "outputs": [],
   "source": []
  }
 ],
 "metadata": {
  "colab": {
   "collapsed_sections": [],
   "name": "piloto-2.ipynb",
   "provenance": []
  },
  "kernelspec": {
   "display_name": "Python 3.7.6 64-bit ('base': conda)",
   "language": "python",
   "name": "python37664bitbaseconda3bccb8464e544e1caf96114d9ca87004"
  },
  "language_info": {
   "codemirror_mode": {
    "name": "ipython",
    "version": 3
   },
   "file_extension": ".py",
   "mimetype": "text/x-python",
   "name": "python",
   "nbconvert_exporter": "python",
   "pygments_lexer": "ipython3",
   "version": "3.7.6"
  }
 },
 "nbformat": 4,
 "nbformat_minor": 1
}
