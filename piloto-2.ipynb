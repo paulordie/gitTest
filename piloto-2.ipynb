{
 "cells": [
  {
   "cell_type": "code",
   "execution_count": null,
   "metadata": {},
   "outputs": [],
   "source": [
    "# -*- coding: UTF-8 -*-"
   ]
  },
  {
   "cell_type": "code",
   "execution_count": 1,
   "metadata": {
    "executionInfo": {
     "elapsed": 2567,
     "status": "ok",
     "timestamp": 1604774783060,
     "user": {
      "displayName": "paulo cesar da rocha correa",
      "photoUrl": "https://lh3.googleusercontent.com/a-/AOh14GhfjqjKkqi19BFvTCJLd1b2SJHjv7CE8jW8VKcHvg=s64",
      "userId": "02019520615414855207"
     },
     "user_tz": 240
    },
    "id": "IrC3D24_UvLr"
   },
   "outputs": [
    {
     "name": "stderr",
     "output_type": "stream",
     "text": [
      "[nltk_data] Downloading package punkt to /home/pcorrea/nltk_data...\n",
      "[nltk_data]   Package punkt is already up-to-date!\n"
     ]
    }
   ],
   "source": [
    "import numpy as np\n",
    "import math\n",
    "import re\n",
    "import pandas as pd\n",
    "from bs4 import BeautifulSoup\n",
    "#from google.colab import drive\n",
    "#import zipfile\n",
    "#import seaborn as sns\n",
    "#import spacy as sp\n",
    "import string\n",
    "import random\n",
    "import matplotlib.pyplot as plt\n",
    "import nltk\n",
    "nltk.download('punkt')\n",
    "from textblob import TextBlob"
   ]
  },
  {
   "cell_type": "code",
   "execution_count": 2,
   "metadata": {
    "colab": {
     "base_uri": "https://localhost:8080/"
    },
    "executionInfo": {
     "elapsed": 31062,
     "status": "ok",
     "timestamp": 1604774846664,
     "user": {
      "displayName": "paulo cesar da rocha correa",
      "photoUrl": "https://lh3.googleusercontent.com/a-/AOh14GhfjqjKkqi19BFvTCJLd1b2SJHjv7CE8jW8VKcHvg=s64",
      "userId": "02019520615414855207"
     },
     "user_tz": 240
    },
    "id": "B7aqCIxWCPlN",
    "outputId": "193d27ea-9188-4201-8a12-1d505735b25a"
   },
   "outputs": [],
   "source": [
    "#.mount(\"/content/drive\")"
   ]
  },
  {
   "cell_type": "code",
   "execution_count": 7,
   "metadata": {
    "colab": {
     "base_uri": "https://localhost:8080/",
     "height": 532
    },
    "executionInfo": {
     "elapsed": 4152,
     "status": "ok",
     "timestamp": 1604774851637,
     "user": {
      "displayName": "paulo cesar da rocha correa",
      "photoUrl": "https://lh3.googleusercontent.com/a-/AOh14GhfjqjKkqi19BFvTCJLd1b2SJHjv7CE8jW8VKcHvg=s64",
      "userId": "02019520615414855207"
     },
     "user_tz": 240
    },
    "id": "dbEZUXS3UvL7",
    "outputId": "afc843e7-b7a6-4838-dcf8-4a255695b61e"
   },
   "outputs": [
    {
     "data": {
      "text/html": [
       "<div>\n",
       "<style scoped>\n",
       "    .dataframe tbody tr th:only-of-type {\n",
       "        vertical-align: middle;\n",
       "    }\n",
       "\n",
       "    .dataframe tbody tr th {\n",
       "        vertical-align: top;\n",
       "    }\n",
       "\n",
       "    .dataframe thead th {\n",
       "        text-align: right;\n",
       "    }\n",
       "</style>\n",
       "<table border=\"1\" class=\"dataframe\">\n",
       "  <thead>\n",
       "    <tr style=\"text-align: right;\">\n",
       "      <th></th>\n",
       "      <th>title</th>\n",
       "      <th>reviewId</th>\n",
       "      <th>restaurantId</th>\n",
       "      <th>author</th>\n",
       "      <th>reviewBody</th>\n",
       "      <th>language</th>\n",
       "      <th>mobileDevice</th>\n",
       "      <th>userLocation</th>\n",
       "      <th>publicationDate</th>\n",
       "      <th>visitDate</th>\n",
       "      <th>...</th>\n",
       "      <th>itemReviewed</th>\n",
       "      <th>address</th>\n",
       "      <th>addressLocality</th>\n",
       "      <th>addressRegion</th>\n",
       "      <th>postalCode</th>\n",
       "      <th>country</th>\n",
       "      <th>website</th>\n",
       "      <th>email</th>\n",
       "      <th>phoneNumber</th>\n",
       "      <th>averageRating</th>\n",
       "    </tr>\n",
       "  </thead>\n",
       "  <tbody>\n",
       "    <tr>\n",
       "      <th>count</th>\n",
       "      <td>100000</td>\n",
       "      <td>100000</td>\n",
       "      <td>99999</td>\n",
       "      <td>99999</td>\n",
       "      <td>99999</td>\n",
       "      <td>99983</td>\n",
       "      <td>100000</td>\n",
       "      <td>100000</td>\n",
       "      <td>100000</td>\n",
       "      <td>100000</td>\n",
       "      <td>...</td>\n",
       "      <td>100000</td>\n",
       "      <td>99938</td>\n",
       "      <td>86319</td>\n",
       "      <td>100000</td>\n",
       "      <td>95036</td>\n",
       "      <td>100000</td>\n",
       "      <td>100000</td>\n",
       "      <td>100000</td>\n",
       "      <td>100000</td>\n",
       "      <td>100000</td>\n",
       "    </tr>\n",
       "    <tr>\n",
       "      <th>unique</th>\n",
       "      <td>59592</td>\n",
       "      <td>100000</td>\n",
       "      <td>14981</td>\n",
       "      <td>67202</td>\n",
       "      <td>99996</td>\n",
       "      <td>9</td>\n",
       "      <td>2</td>\n",
       "      <td>4114</td>\n",
       "      <td>3106</td>\n",
       "      <td>118</td>\n",
       "      <td>...</td>\n",
       "      <td>13579</td>\n",
       "      <td>14724</td>\n",
       "      <td>23</td>\n",
       "      <td>27</td>\n",
       "      <td>8029</td>\n",
       "      <td>1</td>\n",
       "      <td>7169</td>\n",
       "      <td>3110</td>\n",
       "      <td>9868</td>\n",
       "      <td>9</td>\n",
       "    </tr>\n",
       "    <tr>\n",
       "      <th>top</th>\n",
       "      <td>Muito bom</td>\n",
       "      <td>261874950</td>\n",
       "      <td>1098021</td>\n",
       "      <td>None</td>\n",
       "      <td>Indico para o melhores amigos! \\u00E9 sem duvi...</td>\n",
       "      <td>pt</td>\n",
       "      <td>False</td>\n",
       "      <td>São Paulo. SP</td>\n",
       "      <td>30/07/2013</td>\n",
       "      <td>None</td>\n",
       "      <td>...</td>\n",
       "      <td>Coco Bambu Frutos do Mar</td>\n",
       "      <td>Av. Beira Mar. 3698 Bairro Mucuripe</td>\n",
       "      <td>S\\u00E3o Paulo</td>\n",
       "      <td>Estado de S\\u00E3o Paulo</td>\n",
       "      <td>59090-000</td>\n",
       "      <td>Brasil</td>\n",
       "      <td>None</td>\n",
       "      <td>None</td>\n",
       "      <td>None</td>\n",
       "      <td>4.5</td>\n",
       "    </tr>\n",
       "    <tr>\n",
       "      <th>freq</th>\n",
       "      <td>1803</td>\n",
       "      <td>1</td>\n",
       "      <td>1083</td>\n",
       "      <td>813</td>\n",
       "      <td>2</td>\n",
       "      <td>99013</td>\n",
       "      <td>57599</td>\n",
       "      <td>14707</td>\n",
       "      <td>200</td>\n",
       "      <td>4330</td>\n",
       "      <td>...</td>\n",
       "      <td>1083</td>\n",
       "      <td>1083</td>\n",
       "      <td>17455</td>\n",
       "      <td>17455</td>\n",
       "      <td>1418</td>\n",
       "      <td>100000</td>\n",
       "      <td>14473</td>\n",
       "      <td>51782</td>\n",
       "      <td>7655</td>\n",
       "      <td>48989</td>\n",
       "    </tr>\n",
       "  </tbody>\n",
       "</table>\n",
       "<p>4 rows × 21 columns</p>\n",
       "</div>"
      ],
      "text/plain": [
       "            title   reviewId restaurantId author  \\\n",
       "count      100000     100000        99999  99999   \n",
       "unique      59592     100000        14981  67202   \n",
       "top     Muito bom  261874950      1098021   None   \n",
       "freq         1803          1         1083    813   \n",
       "\n",
       "                                               reviewBody language  \\\n",
       "count                                               99999    99983   \n",
       "unique                                              99996        9   \n",
       "top     Indico para o melhores amigos! \\u00E9 sem duvi...       pt   \n",
       "freq                                                    2    99013   \n",
       "\n",
       "       mobileDevice   userLocation publicationDate visitDate  ...  \\\n",
       "count        100000         100000          100000    100000  ...   \n",
       "unique            2           4114            3106       118  ...   \n",
       "top           False  São Paulo. SP      30/07/2013      None  ...   \n",
       "freq          57599          14707             200      4330  ...   \n",
       "\n",
       "                    itemReviewed                              address  \\\n",
       "count                     100000                                99938   \n",
       "unique                     13579                                14724   \n",
       "top     Coco Bambu Frutos do Mar  Av. Beira Mar. 3698 Bairro Mucuripe   \n",
       "freq                        1083                                 1083   \n",
       "\n",
       "       addressLocality             addressRegion postalCode country website  \\\n",
       "count            86319                    100000      95036  100000  100000   \n",
       "unique              23                        27       8029       1    7169   \n",
       "top     S\\u00E3o Paulo  Estado de S\\u00E3o Paulo  59090-000  Brasil    None   \n",
       "freq             17455                     17455       1418  100000   14473   \n",
       "\n",
       "         email phoneNumber averageRating  \n",
       "count   100000      100000        100000  \n",
       "unique    3110        9868             9  \n",
       "top       None        None           4.5  \n",
       "freq     51782        7655         48989  \n",
       "\n",
       "[4 rows x 21 columns]"
      ]
     },
     "execution_count": 7,
     "metadata": {},
     "output_type": "execute_result"
    }
   ],
   "source": [
    "cols = ['title','reviewId', 'restaurantId','author','reviewBody','language','mobileDevice','userLocation','publicationDate','visitDate','ratingValue','itemReviewed','address','addressLocality','addressRegion','postalCode','country','website','email','phoneNumber','averageRating']\n",
    "train_data = pd.read_csv('pc-dataset-v2.dat', names= cols, engine = 'python', delimiter=',', skiprows=0, dtype=\"string\")\n",
    "train_data.describe()"
   ]
  },
  {
   "cell_type": "code",
   "execution_count": 6,
   "metadata": {},
   "outputs": [
    {
     "data": {
      "text/html": [
       "<div>\n",
       "<style scoped>\n",
       "    .dataframe tbody tr th:only-of-type {\n",
       "        vertical-align: middle;\n",
       "    }\n",
       "\n",
       "    .dataframe tbody tr th {\n",
       "        vertical-align: top;\n",
       "    }\n",
       "\n",
       "    .dataframe thead th {\n",
       "        text-align: right;\n",
       "    }\n",
       "</style>\n",
       "<table border=\"1\" class=\"dataframe\">\n",
       "  <thead>\n",
       "    <tr style=\"text-align: right;\">\n",
       "      <th></th>\n",
       "      <th>title</th>\n",
       "      <th>reviewId</th>\n",
       "      <th>restaurantId</th>\n",
       "      <th>author</th>\n",
       "      <th>reviewBody</th>\n",
       "      <th>language</th>\n",
       "      <th>mobileDevice</th>\n",
       "      <th>userLocation</th>\n",
       "      <th>publicationDate</th>\n",
       "      <th>visitDate</th>\n",
       "      <th>...</th>\n",
       "      <th>itemReviewed</th>\n",
       "      <th>address</th>\n",
       "      <th>addressLocality</th>\n",
       "      <th>addressRegion</th>\n",
       "      <th>postalCode</th>\n",
       "      <th>country</th>\n",
       "      <th>website</th>\n",
       "      <th>email</th>\n",
       "      <th>phoneNumber</th>\n",
       "      <th>averageRating</th>\n",
       "    </tr>\n",
       "  </thead>\n",
       "  <tbody>\n",
       "  </tbody>\n",
       "</table>\n",
       "<p>0 rows × 21 columns</p>\n",
       "</div>"
      ],
      "text/plain": [
       "Empty DataFrame\n",
       "Columns: [title, reviewId, restaurantId, author, reviewBody, language, mobileDevice, userLocation, publicationDate, visitDate, ratingValue, itemReviewed, address, addressLocality, addressRegion, postalCode, country, website, email, phoneNumber, averageRating]\n",
       "Index: []\n",
       "\n",
       "[0 rows x 21 columns]"
      ]
     },
     "execution_count": 6,
     "metadata": {},
     "output_type": "execute_result"
    }
   ],
   "source": [
    "train_data.loc[pd.isnull(train_data['phoneNumber'])]"
   ]
  },
  {
   "cell_type": "code",
   "execution_count": 8,
   "metadata": {},
   "outputs": [
    {
     "data": {
      "text/html": [
       "<div>\n",
       "<style scoped>\n",
       "    .dataframe tbody tr th:only-of-type {\n",
       "        vertical-align: middle;\n",
       "    }\n",
       "\n",
       "    .dataframe tbody tr th {\n",
       "        vertical-align: top;\n",
       "    }\n",
       "\n",
       "    .dataframe thead th {\n",
       "        text-align: right;\n",
       "    }\n",
       "</style>\n",
       "<table border=\"1\" class=\"dataframe\">\n",
       "  <thead>\n",
       "    <tr style=\"text-align: right;\">\n",
       "      <th></th>\n",
       "      <th>title</th>\n",
       "      <th>reviewId</th>\n",
       "      <th>restaurantId</th>\n",
       "      <th>author</th>\n",
       "      <th>reviewBody</th>\n",
       "      <th>language</th>\n",
       "      <th>mobileDevice</th>\n",
       "      <th>userLocation</th>\n",
       "      <th>publicationDate</th>\n",
       "      <th>visitDate</th>\n",
       "      <th>...</th>\n",
       "      <th>itemReviewed</th>\n",
       "      <th>address</th>\n",
       "      <th>addressLocality</th>\n",
       "      <th>addressRegion</th>\n",
       "      <th>postalCode</th>\n",
       "      <th>country</th>\n",
       "      <th>website</th>\n",
       "      <th>email</th>\n",
       "      <th>phoneNumber</th>\n",
       "      <th>averageRating</th>\n",
       "    </tr>\n",
       "  </thead>\n",
       "  <tbody>\n",
       "    <tr>\n",
       "      <th>0</th>\n",
       "      <td>Jantar</td>\n",
       "      <td>692856288</td>\n",
       "      <td>2344932</td>\n",
       "      <td>larinhavercosa222</td>\n",
       "      <td>Comida maravilhosa. lugar do verdadeiro chicle...</td>\n",
       "      <td>pt</td>\n",
       "      <td>True</td>\n",
       "      <td>São Carlos. SP</td>\n",
       "      <td>26/07/2019</td>\n",
       "      <td>07/2019</td>\n",
       "      <td>...</td>\n",
       "      <td>Imperador dos Camar\\u00F5es</td>\n",
       "      <td>Avenida Doutor Ant\\u00F4nio Gouveia</td>\n",
       "      <td>&lt;NA&gt;</td>\n",
       "      <td>Alagoas</td>\n",
       "      <td>57030-170</td>\n",
       "      <td>Brasil</td>\n",
       "      <td>http://www.imperadordoscamaroes.com.br</td>\n",
       "      <td>contato@imperadordoscamaroes.com.br</td>\n",
       "      <td>+55 82 3231-4134</td>\n",
       "      <td>4.5</td>\n",
       "    </tr>\n",
       "    <tr>\n",
       "      <th>1</th>\n",
       "      <td>Uma boa experi\\u00EAncia.</td>\n",
       "      <td>229208487</td>\n",
       "      <td>3720906</td>\n",
       "      <td>Pano P</td>\n",
       "      <td>Comida boa. drinks legais e um ambiente bem ac...</td>\n",
       "      <td>pt</td>\n",
       "      <td>True</td>\n",
       "      <td>Manaus. AM</td>\n",
       "      <td>16/09/2014</td>\n",
       "      <td>None</td>\n",
       "      <td>...</td>\n",
       "      <td>Guacamole Natal</td>\n",
       "      <td>Avenida Praia de Ponta Negra 9068 Ponta Negra</td>\n",
       "      <td>&lt;NA&gt;</td>\n",
       "      <td>Rio Grande do Norte</td>\n",
       "      <td>59092-100</td>\n",
       "      <td>Brasil</td>\n",
       "      <td>http://www.facebook.com/GuacamoleNatal</td>\n",
       "      <td>guacamolenatal@gmail.com</td>\n",
       "      <td>+55 84 3219-3646</td>\n",
       "      <td>4.5</td>\n",
       "    </tr>\n",
       "    <tr>\n",
       "      <th>2</th>\n",
       "      <td>Otimo self service</td>\n",
       "      <td>679002332</td>\n",
       "      <td>2248105</td>\n",
       "      <td>Magma100</td>\n",
       "      <td>Excelente pra ir com a fam\\u00EDlia! \\u00D3tim...</td>\n",
       "      <td>pt</td>\n",
       "      <td>True</td>\n",
       "      <td>Goiânia. GO</td>\n",
       "      <td>04/06/2019</td>\n",
       "      <td>07/2018</td>\n",
       "      <td>...</td>\n",
       "      <td>Chica Pitanga</td>\n",
       "      <td>Rua Petrolina 19</td>\n",
       "      <td>Recife</td>\n",
       "      <td>Pernambuco</td>\n",
       "      <td>51021-250</td>\n",
       "      <td>Brasil</td>\n",
       "      <td>http://www.chicapitanga.com.br</td>\n",
       "      <td>chicapitanga@chicapitanga.com.br</td>\n",
       "      <td>+55 81 3334-8260</td>\n",
       "      <td>4.5</td>\n",
       "    </tr>\n",
       "    <tr>\n",
       "      <th>3</th>\n",
       "      <td>O sorvete mais tradicional do estado</td>\n",
       "      <td>355671519</td>\n",
       "      <td>8168302</td>\n",
       "      <td>Yurie M</td>\n",
       "      <td>Tomo sorvete na Visabor faz mais de 30 anos. S...</td>\n",
       "      <td>pt</td>\n",
       "      <td>False</td>\n",
       "      <td>Aracaju. SE</td>\n",
       "      <td>15/03/2016</td>\n",
       "      <td>01/2016</td>\n",
       "      <td>...</td>\n",
       "      <td>Sorvetes Vi Sabor</td>\n",
       "      <td>Avenida Francisco Porto 59 Grageru</td>\n",
       "      <td>Aracaju</td>\n",
       "      <td>Sergipe</td>\n",
       "      <td>&lt;NA&gt;</td>\n",
       "      <td>Brasil</td>\n",
       "      <td>None</td>\n",
       "      <td>None</td>\n",
       "      <td>None</td>\n",
       "      <td>4.0</td>\n",
       "    </tr>\n",
       "    <tr>\n",
       "      <th>4</th>\n",
       "      <td>Melhor hamburger!</td>\n",
       "      <td>268741921</td>\n",
       "      <td>5395141</td>\n",
       "      <td>Debora_C85</td>\n",
       "      <td>O melhor hamburger que j\\u00E1 comi! Excelente...</td>\n",
       "      <td>pt</td>\n",
       "      <td>False</td>\n",
       "      <td>Rio de Janeiro. RJ</td>\n",
       "      <td>28/04/2015</td>\n",
       "      <td>04/2015</td>\n",
       "      <td>...</td>\n",
       "      <td>Z Deli Sandwich Shop</td>\n",
       "      <td>Rua Haddock Lobo 1386 Jardins</td>\n",
       "      <td>S\\u00E3o Paulo</td>\n",
       "      <td>Estado de S\\u00E3o Paulo</td>\n",
       "      <td>01414-002</td>\n",
       "      <td>Brasil</td>\n",
       "      <td>http://www.facebook.com/zdelisandwichshop/</td>\n",
       "      <td>None</td>\n",
       "      <td>551130830021</td>\n",
       "      <td>4.5</td>\n",
       "    </tr>\n",
       "  </tbody>\n",
       "</table>\n",
       "<p>5 rows × 21 columns</p>\n",
       "</div>"
      ],
      "text/plain": [
       "                                  title   reviewId restaurantId  \\\n",
       "0                               Jantar   692856288      2344932   \n",
       "1             Uma boa experi\\u00EAncia.  229208487      3720906   \n",
       "2                    Otimo self service  679002332      2248105   \n",
       "3  O sorvete mais tradicional do estado  355671519      8168302   \n",
       "4                     Melhor hamburger!  268741921      5395141   \n",
       "\n",
       "              author                                         reviewBody  \\\n",
       "0  larinhavercosa222  Comida maravilhosa. lugar do verdadeiro chicle...   \n",
       "1             Pano P  Comida boa. drinks legais e um ambiente bem ac...   \n",
       "2           Magma100  Excelente pra ir com a fam\\u00EDlia! \\u00D3tim...   \n",
       "3            Yurie M  Tomo sorvete na Visabor faz mais de 30 anos. S...   \n",
       "4         Debora_C85  O melhor hamburger que j\\u00E1 comi! Excelente...   \n",
       "\n",
       "  language mobileDevice        userLocation publicationDate visitDate  ...  \\\n",
       "0       pt         True      São Carlos. SP      26/07/2019   07/2019  ...   \n",
       "1       pt         True          Manaus. AM      16/09/2014      None  ...   \n",
       "2       pt         True         Goiânia. GO      04/06/2019   07/2018  ...   \n",
       "3       pt        False         Aracaju. SE      15/03/2016   01/2016  ...   \n",
       "4       pt        False  Rio de Janeiro. RJ      28/04/2015   04/2015  ...   \n",
       "\n",
       "                  itemReviewed                                        address  \\\n",
       "0  Imperador dos Camar\\u00F5es            Avenida Doutor Ant\\u00F4nio Gouveia   \n",
       "1              Guacamole Natal  Avenida Praia de Ponta Negra 9068 Ponta Negra   \n",
       "2                Chica Pitanga                               Rua Petrolina 19   \n",
       "3            Sorvetes Vi Sabor             Avenida Francisco Porto 59 Grageru   \n",
       "4         Z Deli Sandwich Shop                  Rua Haddock Lobo 1386 Jardins   \n",
       "\n",
       "  addressLocality             addressRegion postalCode country  \\\n",
       "0            <NA>                   Alagoas  57030-170  Brasil   \n",
       "1            <NA>       Rio Grande do Norte  59092-100  Brasil   \n",
       "2          Recife                Pernambuco  51021-250  Brasil   \n",
       "3         Aracaju                   Sergipe       <NA>  Brasil   \n",
       "4  S\\u00E3o Paulo  Estado de S\\u00E3o Paulo  01414-002  Brasil   \n",
       "\n",
       "                                      website  \\\n",
       "0      http://www.imperadordoscamaroes.com.br   \n",
       "1      http://www.facebook.com/GuacamoleNatal   \n",
       "2              http://www.chicapitanga.com.br   \n",
       "3                                        None   \n",
       "4  http://www.facebook.com/zdelisandwichshop/   \n",
       "\n",
       "                                 email       phoneNumber averageRating  \n",
       "0  contato@imperadordoscamaroes.com.br  +55 82 3231-4134           4.5  \n",
       "1             guacamolenatal@gmail.com  +55 84 3219-3646           4.5  \n",
       "2     chicapitanga@chicapitanga.com.br  +55 81 3334-8260           4.5  \n",
       "3                                 None              None           4.0  \n",
       "4                                 None      551130830021           4.5  \n",
       "\n",
       "[5 rows x 21 columns]"
      ]
     },
     "execution_count": 8,
     "metadata": {},
     "output_type": "execute_result"
    }
   ],
   "source": [
    "train_data.head()"
   ]
  },
  {
   "cell_type": "code",
   "execution_count": 9,
   "metadata": {
    "colab": {
     "base_uri": "https://localhost:8080/",
     "height": 429
    },
    "executionInfo": {
     "elapsed": 1219,
     "status": "ok",
     "timestamp": 1604774853692,
     "user": {
      "displayName": "paulo cesar da rocha correa",
      "photoUrl": "https://lh3.googleusercontent.com/a-/AOh14GhfjqjKkqi19BFvTCJLd1b2SJHjv7CE8jW8VKcHvg=s64",
      "userId": "02019520615414855207"
     },
     "user_tz": 240
    },
    "id": "ELZ9BfamUvMN",
    "outputId": "ca2ceb1e-a018-41af-e218-0f0413e2b0fa"
   },
   "outputs": [
    {
     "data": {
      "text/html": [
       "<div>\n",
       "<style scoped>\n",
       "    .dataframe tbody tr th:only-of-type {\n",
       "        vertical-align: middle;\n",
       "    }\n",
       "\n",
       "    .dataframe tbody tr th {\n",
       "        vertical-align: top;\n",
       "    }\n",
       "\n",
       "    .dataframe thead th {\n",
       "        text-align: right;\n",
       "    }\n",
       "</style>\n",
       "<table border=\"1\" class=\"dataframe\">\n",
       "  <thead>\n",
       "    <tr style=\"text-align: right;\">\n",
       "      <th></th>\n",
       "      <th>title</th>\n",
       "      <th>reviewId</th>\n",
       "      <th>restaurantId</th>\n",
       "      <th>author</th>\n",
       "      <th>reviewBody</th>\n",
       "      <th>language</th>\n",
       "      <th>mobileDevice</th>\n",
       "      <th>userLocation</th>\n",
       "      <th>publicationDate</th>\n",
       "      <th>visitDate</th>\n",
       "      <th>...</th>\n",
       "      <th>itemReviewed</th>\n",
       "      <th>address</th>\n",
       "      <th>addressLocality</th>\n",
       "      <th>addressRegion</th>\n",
       "      <th>postalCode</th>\n",
       "      <th>country</th>\n",
       "      <th>website</th>\n",
       "      <th>email</th>\n",
       "      <th>phoneNumber</th>\n",
       "      <th>averageRating</th>\n",
       "    </tr>\n",
       "  </thead>\n",
       "  <tbody>\n",
       "    <tr>\n",
       "      <th>99995</th>\n",
       "      <td>Nova op\\u00E7\\u00E3o no Paseo!!!</td>\n",
       "      <td>672210394</td>\n",
       "      <td>17424548</td>\n",
       "      <td>Fabiano B</td>\n",
       "      <td>Ainda n\\u00E3o inaugurado oficialmente. est\\u0...</td>\n",
       "      <td>pt</td>\n",
       "      <td>True</td>\n",
       "      <td>Porto Alegre. RS</td>\n",
       "      <td>07/05/2019</td>\n",
       "      <td>05/2019</td>\n",
       "      <td>...</td>\n",
       "      <td>Boteco Maestro</td>\n",
       "      <td>Avenida Wenceslau Escobar 1823</td>\n",
       "      <td>Porto Alegre</td>\n",
       "      <td>Rio Grande do Sul</td>\n",
       "      <td>91900-000</td>\n",
       "      <td>Brasil</td>\n",
       "      <td>http://www.facebook.com/botecomaestro</td>\n",
       "      <td>None</td>\n",
       "      <td>+55 51 99353-6602</td>\n",
       "      <td>4.0</td>\n",
       "    </tr>\n",
       "    <tr>\n",
       "      <th>99996</th>\n",
       "      <td>Bom</td>\n",
       "      <td>380904400</td>\n",
       "      <td>2440184</td>\n",
       "      <td>Chris L</td>\n",
       "      <td>Bom atendimento. lugar bonito. comida muito go...</td>\n",
       "      <td>pt</td>\n",
       "      <td>True</td>\n",
       "      <td>Cork. Irlanda</td>\n",
       "      <td>08/06/2016</td>\n",
       "      <td>01/2016</td>\n",
       "      <td>...</td>\n",
       "      <td>Casa do Marqu\\u00EAs</td>\n",
       "      <td>Rua Marques do Pombal. 1814 Higien\\u00F3polis</td>\n",
       "      <td>Porto Alegre</td>\n",
       "      <td>Rio Grande do Sul</td>\n",
       "      <td>90540-000</td>\n",
       "      <td>Brasil</td>\n",
       "      <td>http://galeteriacasadomarques.com.br/</td>\n",
       "      <td>galeteriacasadomarques@galeteriacasadomarques....</td>\n",
       "      <td>+55 51 3343-4303</td>\n",
       "      <td>4.5</td>\n",
       "    </tr>\n",
       "    <tr>\n",
       "      <th>99997</th>\n",
       "      <td>Bom bar</td>\n",
       "      <td>186111858</td>\n",
       "      <td>2392996</td>\n",
       "      <td>Guilherme P</td>\n",
       "      <td>O Rio Scenarium \\u00E9 uma das baladas mais fa...</td>\n",
       "      <td>pt</td>\n",
       "      <td>False</td>\n",
       "      <td>São Paulo. SP</td>\n",
       "      <td>27/11/2013</td>\n",
       "      <td>11/2013</td>\n",
       "      <td>...</td>\n",
       "      <td>Rio Scenarium</td>\n",
       "      <td>Rua do Lavradio 20 Centro</td>\n",
       "      <td>Rio de Janeiro</td>\n",
       "      <td>Estado do Rio de Janeiro</td>\n",
       "      <td>20230-070</td>\n",
       "      <td>Brasil</td>\n",
       "      <td>http://www.rioscenarium.art.br</td>\n",
       "      <td>None</td>\n",
       "      <td>+55 21-3147-9000</td>\n",
       "      <td>4.5</td>\n",
       "    </tr>\n",
       "    <tr>\n",
       "      <th>99998</th>\n",
       "      <td>Me senti enganada...</td>\n",
       "      <td>152745909</td>\n",
       "      <td>1062290</td>\n",
       "      <td>LisianeCohem</td>\n",
       "      <td>Fui por indica\\u00E7\\u00E3o e com boa expectat...</td>\n",
       "      <td>pt</td>\n",
       "      <td>True</td>\n",
       "      <td>Porto Alegre. RS</td>\n",
       "      <td>21/02/2013</td>\n",
       "      <td>None</td>\n",
       "      <td>...</td>\n",
       "      <td>Celeiro</td>\n",
       "      <td>Rua Dias Ferreira 199</td>\n",
       "      <td>Rio de Janeiro</td>\n",
       "      <td>Estado do Rio de Janeiro</td>\n",
       "      <td>22431-050</td>\n",
       "      <td>Brasil</td>\n",
       "      <td>http://www.celeiroculinaria.com.br</td>\n",
       "      <td>celeiro@celeiroculinaria.com.br</td>\n",
       "      <td>55 21 2274 7843</td>\n",
       "      <td>3.5</td>\n",
       "    </tr>\n",
       "    <tr>\n",
       "      <th>99999</th>\n",
       "      <td>Restaurante excelente</td>\n",
       "      <td>649755498</td>\n",
       "      <td>12433911</td>\n",
       "      <td>brunotulio</td>\n",
       "      <td>Experi\\u00EAncia fant\\u00E1stica com comida de...</td>\n",
       "      <td>pt</td>\n",
       "      <td>True</td>\n",
       "      <td>Manaus. AM</td>\n",
       "      <td>02/02/2019</td>\n",
       "      <td>02/2019</td>\n",
       "      <td>...</td>\n",
       "      <td>Coco Bambu Manaus</td>\n",
       "      <td>Avenida Coronel Teixeira. 5705 Ponta Negra. Sh...</td>\n",
       "      <td>Manaus</td>\n",
       "      <td>Rio Amazonas</td>\n",
       "      <td>69037-000</td>\n",
       "      <td>Brasil</td>\n",
       "      <td>http://www.facebook.com/cocobambumanausoficial/</td>\n",
       "      <td>rh.manaus@cocobambu.com</td>\n",
       "      <td>+55 92 3667-7430</td>\n",
       "      <td>5.0</td>\n",
       "    </tr>\n",
       "  </tbody>\n",
       "</table>\n",
       "<p>5 rows × 21 columns</p>\n",
       "</div>"
      ],
      "text/plain": [
       "                                  title   reviewId restaurantId        author  \\\n",
       "99995  Nova op\\u00E7\\u00E3o no Paseo!!!  672210394     17424548     Fabiano B   \n",
       "99996                               Bom  380904400      2440184       Chris L   \n",
       "99997                           Bom bar  186111858      2392996   Guilherme P   \n",
       "99998              Me senti enganada...  152745909      1062290  LisianeCohem   \n",
       "99999             Restaurante excelente  649755498     12433911    brunotulio   \n",
       "\n",
       "                                              reviewBody language  \\\n",
       "99995  Ainda n\\u00E3o inaugurado oficialmente. est\\u0...       pt   \n",
       "99996  Bom atendimento. lugar bonito. comida muito go...       pt   \n",
       "99997  O Rio Scenarium \\u00E9 uma das baladas mais fa...       pt   \n",
       "99998  Fui por indica\\u00E7\\u00E3o e com boa expectat...       pt   \n",
       "99999  Experi\\u00EAncia fant\\u00E1stica com comida de...       pt   \n",
       "\n",
       "      mobileDevice      userLocation publicationDate visitDate  ...  \\\n",
       "99995         True  Porto Alegre. RS      07/05/2019   05/2019  ...   \n",
       "99996         True     Cork. Irlanda      08/06/2016   01/2016  ...   \n",
       "99997        False     São Paulo. SP      27/11/2013   11/2013  ...   \n",
       "99998         True  Porto Alegre. RS      21/02/2013      None  ...   \n",
       "99999         True        Manaus. AM      02/02/2019   02/2019  ...   \n",
       "\n",
       "               itemReviewed  \\\n",
       "99995        Boteco Maestro   \n",
       "99996  Casa do Marqu\\u00EAs   \n",
       "99997         Rio Scenarium   \n",
       "99998               Celeiro   \n",
       "99999     Coco Bambu Manaus   \n",
       "\n",
       "                                                 address addressLocality  \\\n",
       "99995                     Avenida Wenceslau Escobar 1823    Porto Alegre   \n",
       "99996      Rua Marques do Pombal. 1814 Higien\\u00F3polis    Porto Alegre   \n",
       "99997                          Rua do Lavradio 20 Centro  Rio de Janeiro   \n",
       "99998                              Rua Dias Ferreira 199  Rio de Janeiro   \n",
       "99999  Avenida Coronel Teixeira. 5705 Ponta Negra. Sh...          Manaus   \n",
       "\n",
       "                  addressRegion postalCode country  \\\n",
       "99995         Rio Grande do Sul  91900-000  Brasil   \n",
       "99996         Rio Grande do Sul  90540-000  Brasil   \n",
       "99997  Estado do Rio de Janeiro  20230-070  Brasil   \n",
       "99998  Estado do Rio de Janeiro  22431-050  Brasil   \n",
       "99999              Rio Amazonas  69037-000  Brasil   \n",
       "\n",
       "                                               website  \\\n",
       "99995            http://www.facebook.com/botecomaestro   \n",
       "99996            http://galeteriacasadomarques.com.br/   \n",
       "99997                   http://www.rioscenarium.art.br   \n",
       "99998               http://www.celeiroculinaria.com.br   \n",
       "99999  http://www.facebook.com/cocobambumanausoficial/   \n",
       "\n",
       "                                                   email        phoneNumber  \\\n",
       "99995                                               None  +55 51 99353-6602   \n",
       "99996  galeteriacasadomarques@galeteriacasadomarques....   +55 51 3343-4303   \n",
       "99997                                               None   +55 21-3147-9000   \n",
       "99998                    celeiro@celeiroculinaria.com.br    55 21 2274 7843   \n",
       "99999                            rh.manaus@cocobambu.com   +55 92 3667-7430   \n",
       "\n",
       "      averageRating  \n",
       "99995           4.0  \n",
       "99996           4.5  \n",
       "99997           4.5  \n",
       "99998           3.5  \n",
       "99999           5.0  \n",
       "\n",
       "[5 rows x 21 columns]"
      ]
     },
     "execution_count": 9,
     "metadata": {},
     "output_type": "execute_result"
    }
   ],
   "source": [
    "train_data.tail()"
   ]
  },
  {
   "cell_type": "code",
   "execution_count": null,
   "metadata": {},
   "outputs": [],
   "source": [
    "_train_data = train_data.reviewBody.astype(\"string\")\n",
    "type(_train_data)\n",
    "_train_data"
   ]
  },
  {
   "cell_type": "code",
   "execution_count": null,
   "metadata": {},
   "outputs": [],
   "source": [
    "# _blob = TextBlob(_train_data))\n",
    "# print(_blob.translate(to='en'))"
   ]
  },
  {
   "cell_type": "code",
   "execution_count": null,
   "metadata": {
    "executionInfo": {
     "elapsed": 889,
     "status": "ok",
     "timestamp": 1604775144796,
     "user": {
      "displayName": "paulo cesar da rocha correa",
      "photoUrl": "https://lh3.googleusercontent.com/a-/AOh14GhfjqjKkqi19BFvTCJLd1b2SJHjv7CE8jW8VKcHvg=s64",
      "userId": "02019520615414855207"
     },
     "user_tz": 240
    },
    "id": "4DHNLWuYUvMa"
   },
   "outputs": [],
   "source": [
    "data = train_data\n",
    "X = data.iloc[:, 4].values # aqui pode ser selecionado a coluna"
   ]
  },
  {
   "cell_type": "code",
   "execution_count": null,
   "metadata": {},
   "outputs": [],
   "source": [
    "_X = X\n",
    "print(_X)"
   ]
  },
  {
   "cell_type": "code",
   "execution_count": null,
   "metadata": {},
   "outputs": [],
   "source": [
    "# test = np.array_str(X).encode('utf-16', 'surrogatepass').decode('utf-16')\n",
    "# serieTest = pd.Series(test)\n",
    "# print(serieTest)"
   ]
  },
  {
   "cell_type": "code",
   "execution_count": null,
   "metadata": {
    "colab": {
     "base_uri": "https://localhost:8080/"
    },
    "executionInfo": {
     "elapsed": 942,
     "status": "ok",
     "timestamp": 1604775146564,
     "user": {
      "displayName": "paulo cesar da rocha correa",
      "photoUrl": "https://lh3.googleusercontent.com/a-/AOh14GhfjqjKkqi19BFvTCJLd1b2SJHjv7CE8jW8VKcHvg=s64",
      "userId": "02019520615414855207"
     },
     "user_tz": 240
    },
    "id": "Tr8kx3ibBuD2",
    "outputId": "6806ba96-0eaa-4381-964f-a1fa578caea9"
   },
   "outputs": [],
   "source": [
    "serie =  pd.Series(np.array_str(X))\n",
    "serie"
   ]
  },
  {
   "cell_type": "code",
   "execution_count": null,
   "metadata": {},
   "outputs": [],
   "source": [
    "blob = TextBlob(serie[0])\n",
    "print(blob.translate(to='en'))"
   ]
  },
  {
   "cell_type": "code",
   "execution_count": null,
   "metadata": {
    "id": "ujFzSUHkHPBr"
   },
   "outputs": [],
   "source": [
    "dic2 = pd.DataFrame(train_data)\n",
    "dic2['reviewBody']\n",
    "count = 0\n",
    "for x in dic2['reviewBody']:\n",
    "    count = count + 1  \n",
    "    print(type(x))\n",
    "    print(x) #vai imprimir todos os reviews\n",
    "    blob = TextBlob(x)\n",
    "    print(blob.translate(to='en'))\n",
    "    if count == 5:\n",
    "        break"
   ]
  },
  {
   "cell_type": "code",
   "execution_count": null,
   "metadata": {
    "id": "T4iGsx_HERz6"
   },
   "outputs": [],
   "source": [
    "result = []\n",
    "x = []\n",
    "for _data in data:\n",
    "  print(type(_data), _data)\n",
    "  if _data == 'reviewBody':    \n",
    "    for x in _data:\n",
    "      print()\n",
    "    print(result)"
   ]
  },
  {
   "cell_type": "code",
   "execution_count": null,
   "metadata": {
    "id": "DvO5nFpwD8mf"
   },
   "outputs": [],
   "source": [
    "for x in serie:\n",
    "  print(x)\n",
    "  blob = TextBlob(x)\n",
    "  print(blob.translate(to='en'))"
   ]
  },
  {
   "cell_type": "code",
   "execution_count": null,
   "metadata": {
    "colab": {
     "base_uri": "https://localhost:8080/",
     "height": 947
    },
    "executionInfo": {
     "elapsed": 3456,
     "status": "ok",
     "timestamp": 1604725865390,
     "user": {
      "displayName": "paulo cesar da rocha correa",
      "photoUrl": "https://lh3.googleusercontent.com/a-/AOh14GhfjqjKkqi19BFvTCJLd1b2SJHjv7CE8jW8VKcHvg=s64",
      "userId": "02019520615414855207"
     },
     "user_tz": 240
    },
    "id": "mEE2DveKUvMj",
    "outputId": "4966a749-bcd9-4296-ada9-18f8d95071a9"
   },
   "outputs": [],
   "source": [
    "train_data"
   ]
  },
  {
   "cell_type": "code",
   "execution_count": null,
   "metadata": {
    "id": "I6wcIM3QUvMt"
   },
   "outputs": [],
   "source": [
    "def limparDados(text):\n",
    "    text = re.sub()\n",
    "    return text"
   ]
  },
  {
   "cell_type": "code",
   "execution_count": null,
   "metadata": {
    "colab": {
     "base_uri": "https://localhost:8080/"
    },
    "executionInfo": {
     "elapsed": 3454,
     "status": "ok",
     "timestamp": 1604725865410,
     "user": {
      "displayName": "paulo cesar da rocha correa",
      "photoUrl": "https://lh3.googleusercontent.com/a-/AOh14GhfjqjKkqi19BFvTCJLd1b2SJHjv7CE8jW8VKcHvg=s64",
      "userId": "02019520615414855207"
     },
     "user_tz": 240
    },
    "id": "WKc-qdnCUvM5",
    "outputId": "e5f6b044-57c5-4c81-a2a3-485fbc83b926"
   },
   "outputs": [],
   "source": [
    "X"
   ]
  },
  {
   "cell_type": "code",
   "execution_count": null,
   "metadata": {
    "colab": {
     "base_uri": "https://localhost:8080/"
    },
    "executionInfo": {
     "elapsed": 3448,
     "status": "ok",
     "timestamp": 1604725865416,
     "user": {
      "displayName": "paulo cesar da rocha correa",
      "photoUrl": "https://lh3.googleusercontent.com/a-/AOh14GhfjqjKkqi19BFvTCJLd1b2SJHjv7CE8jW8VKcHvg=s64",
      "userId": "02019520615414855207"
     },
     "user_tz": 240
    },
    "id": "L-bk26tTUvNE",
    "outputId": "4abb7a5f-fcbd-4091-fb14-dc34d0c0760b"
   },
   "outputs": [],
   "source": [
    "_X = np.array_str(X)\n",
    "print(_X)\n",
    "#_X.decode('unicode-escape')\n",
    "X.shape #Formato "
   ]
  },
  {
   "cell_type": "code",
   "execution_count": null,
   "metadata": {
    "colab": {
     "base_uri": "https://localhost:8080/"
    },
    "executionInfo": {
     "elapsed": 3441,
     "status": "ok",
     "timestamp": 1604725865422,
     "user": {
      "displayName": "paulo cesar da rocha correa",
      "photoUrl": "https://lh3.googleusercontent.com/a-/AOh14GhfjqjKkqi19BFvTCJLd1b2SJHjv7CE8jW8VKcHvg=s64",
      "userId": "02019520615414855207"
     },
     "user_tz": 240
    },
    "id": "V_1fOLeeUvNL",
    "outputId": "e1eee096-108d-49d4-ee7c-7bd990aa56ef"
   },
   "outputs": [],
   "source": [
    "type(X) # tipo do dado"
   ]
  },
  {
   "cell_type": "code",
   "execution_count": null,
   "metadata": {
    "colab": {
     "base_uri": "https://localhost:8080/",
     "height": 54
    },
    "executionInfo": {
     "elapsed": 3800,
     "status": "ok",
     "timestamp": 1604725865796,
     "user": {
      "displayName": "paulo cesar da rocha correa",
      "photoUrl": "https://lh3.googleusercontent.com/a-/AOh14GhfjqjKkqi19BFvTCJLd1b2SJHjv7CE8jW8VKcHvg=s64",
      "userId": "02019520615414855207"
     },
     "user_tz": 240
    },
    "id": "t0F6FmvXUvNV",
    "outputId": "6a3a3f63-ab35-460f-f4b8-b7619105af2a"
   },
   "outputs": [],
   "source": [
    "data_str = _X[0:10000]\n",
    "str(data_str).encode('unicode_escape').decode('unicode_escape')"
   ]
  },
  {
   "cell_type": "code",
   "execution_count": null,
   "metadata": {
    "id": "Wb-aUJwiUvNc"
   },
   "outputs": [],
   "source": [
    "def decodeUnicodeArray(_string):\n",
    "    espacoSeq = _string.group(0)\n",
    "    digito = espacoSeq[2:]\n",
    "    ordinal = int(digito, 16)\n",
    "    char = chr(ordinal)\n",
    "    return char\n",
    "    "
   ]
  },
  {
   "cell_type": "code",
   "execution_count": null,
   "metadata": {
    "colab": {
     "base_uri": "https://localhost:8080/",
     "height": 36
    },
    "executionInfo": {
     "elapsed": 3786,
     "status": "ok",
     "timestamp": 1604725865805,
     "user": {
      "displayName": "paulo cesar da rocha correa",
      "photoUrl": "https://lh3.googleusercontent.com/a-/AOh14GhfjqjKkqi19BFvTCJLd1b2SJHjv7CE8jW8VKcHvg=s64",
      "userId": "02019520615414855207"
     },
     "user_tz": 240
    },
    "id": "GDmR8qpWUvNk",
    "outputId": "6273c20f-a60a-48cc-ba44-329f00d41042"
   },
   "outputs": [],
   "source": [
    "re.sub(r'(\\\\u[09A-Fa-f]+)', decodeUnicodeArray, \"test\")"
   ]
  },
  {
   "cell_type": "code",
   "execution_count": null,
   "metadata": {
    "colab": {
     "base_uri": "https://localhost:8080/",
     "height": 300
    },
    "executionInfo": {
     "elapsed": 3777,
     "status": "ok",
     "timestamp": 1604725865808,
     "user": {
      "displayName": "paulo cesar da rocha correa",
      "photoUrl": "https://lh3.googleusercontent.com/a-/AOh14GhfjqjKkqi19BFvTCJLd1b2SJHjv7CE8jW8VKcHvg=s64",
      "userId": "02019520615414855207"
     },
     "user_tz": 240
    },
    "id": "kgri8ju-UvNs",
    "outputId": "1b207a55-2773-446f-85a5-5befb804ece8"
   },
   "outputs": [],
   "source": [
    "train_data.describe()"
   ]
  },
  {
   "cell_type": "code",
   "execution_count": null,
   "metadata": {
    "id": "XrUG1Rj4UvN0"
   },
   "outputs": [],
   "source": [
    "#data.drop(['title', 'restaurantId','author','reviewBody','language','userLocation','publicationDate','visitDate','ratingValue','itemReviewed','address','addressLocality','addressRegion','postalCode','country','website','email','phoneNumber','averageRating'], axis = 1, inplace=True)"
   ]
  },
  {
   "cell_type": "code",
   "execution_count": null,
   "metadata": {
    "id": "JGDh5FzFUvN9"
   },
   "outputs": [],
   "source": [
    "#train_data.mobileDevice.unique()"
   ]
  },
  {
   "cell_type": "code",
   "execution_count": null,
   "metadata": {
    "colab": {
     "base_uri": "https://localhost:8080/",
     "height": 337
    },
    "executionInfo": {
     "elapsed": 24384,
     "status": "ok",
     "timestamp": 1604762080389,
     "user": {
      "displayName": "paulo cesar da rocha correa",
      "photoUrl": "https://lh3.googleusercontent.com/a-/AOh14GhfjqjKkqi19BFvTCJLd1b2SJHjv7CE8jW8VKcHvg=s64",
      "userId": "02019520615414855207"
     },
     "user_tz": 240
    },
    "id": "3zA_8hhkUvOE",
    "outputId": "721ee675-23b6-46fe-caa3-d02f30c58a7f",
    "scrolled": true
   },
   "outputs": [],
   "source": [
    "sns.countplot(train_data.mobileDevice);"
   ]
  },
  {
   "cell_type": "code",
   "execution_count": null,
   "metadata": {
    "colab": {
     "base_uri": "https://localhost:8080/",
     "height": 401
    },
    "executionInfo": {
     "elapsed": 32689,
     "status": "ok",
     "timestamp": 1604762109263,
     "user": {
      "displayName": "paulo cesar da rocha correa",
      "photoUrl": "https://lh3.googleusercontent.com/a-/AOh14GhfjqjKkqi19BFvTCJLd1b2SJHjv7CE8jW8VKcHvg=s64",
      "userId": "02019520615414855207"
     },
     "user_tz": 240
    },
    "id": "QO4WgOMzUvOJ",
    "outputId": "038d4b6e-ebb0-41f2-a9c3-042a96e36d23"
   },
   "outputs": [],
   "source": [
    "sns.catplot(x=\"mobileDevice\", kind=\"count\", palette=\"ch:.25\", data=train_data)"
   ]
  },
  {
   "cell_type": "code",
   "execution_count": null,
   "metadata": {
    "colab": {
     "base_uri": "https://localhost:8080/",
     "height": 35
    },
    "executionInfo": {
     "elapsed": 829,
     "status": "ok",
     "timestamp": 1604759209282,
     "user": {
      "displayName": "paulo cesar da rocha correa",
      "photoUrl": "https://lh3.googleusercontent.com/a-/AOh14GhfjqjKkqi19BFvTCJLd1b2SJHjv7CE8jW8VKcHvg=s64",
      "userId": "02019520615414855207"
     },
     "user_tz": 240
    },
    "id": "ThGEN0-fUvOO",
    "outputId": "de0316b4-7f7f-409c-8969-dd69260335ba"
   },
   "outputs": [],
   "source": [
    "%pwd"
   ]
  },
  {
   "cell_type": "code",
   "execution_count": null,
   "metadata": {
    "executionInfo": {
     "elapsed": 1014,
     "status": "ok",
     "timestamp": 1604781539366,
     "user": {
      "displayName": "paulo cesar da rocha correa",
      "photoUrl": "https://lh3.googleusercontent.com/a-/AOh14GhfjqjKkqi19BFvTCJLd1b2SJHjv7CE8jW8VKcHvg=s64",
      "userId": "02019520615414855207"
     },
     "user_tz": 240
    },
    "id": "1RdwUC5hGig6"
   },
   "outputs": [],
   "source": [
    "f1 = (2*66.6*66.6)/(66.6+66.6)"
   ]
  },
  {
   "cell_type": "code",
   "execution_count": null,
   "metadata": {
    "colab": {
     "base_uri": "https://localhost:8080/"
    },
    "executionInfo": {
     "elapsed": 809,
     "status": "ok",
     "timestamp": 1604781540287,
     "user": {
      "displayName": "paulo cesar da rocha correa",
      "photoUrl": "https://lh3.googleusercontent.com/a-/AOh14GhfjqjKkqi19BFvTCJLd1b2SJHjv7CE8jW8VKcHvg=s64",
      "userId": "02019520615414855207"
     },
     "user_tz": 240
    },
    "id": "UQE1MRt0bhm-",
    "outputId": "cced780c-9849-42cb-bdc1-d0bf4add5e31"
   },
   "outputs": [],
   "source": [
    "f1"
   ]
  },
  {
   "cell_type": "code",
   "execution_count": null,
   "metadata": {
    "colab": {
     "base_uri": "https://localhost:8080/"
    },
    "executionInfo": {
     "elapsed": 819,
     "status": "ok",
     "timestamp": 1604782000978,
     "user": {
      "displayName": "paulo cesar da rocha correa",
      "photoUrl": "https://lh3.googleusercontent.com/a-/AOh14GhfjqjKkqi19BFvTCJLd1b2SJHjv7CE8jW8VKcHvg=s64",
      "userId": "02019520615414855207"
     },
     "user_tz": 240
    },
    "id": "Ku2pu49tbiW2",
    "outputId": "d46b8805-5f4d-49bd-9000-685f46409d0f"
   },
   "outputs": [],
   "source": [
    "f2 = (2*60*100)/(60+100)\n",
    "f2\n"
   ]
  },
  {
   "cell_type": "code",
   "execution_count": null,
   "metadata": {
    "colab": {
     "base_uri": "https://localhost:8080/"
    },
    "executionInfo": {
     "elapsed": 914,
     "status": "ok",
     "timestamp": 1604782282091,
     "user": {
      "displayName": "paulo cesar da rocha correa",
      "photoUrl": "https://lh3.googleusercontent.com/a-/AOh14GhfjqjKkqi19BFvTCJLd1b2SJHjv7CE8jW8VKcHvg=s64",
      "userId": "02019520615414855207"
     },
     "user_tz": 240
    },
    "id": "uU0mHKZbddUR",
    "outputId": "47a26920-558d-4ff1-f6b4-55e1c7589eda"
   },
   "outputs": [],
   "source": [
    "f1p = (2*50*50)/(50+50)\n",
    "f1p"
   ]
  },
  {
   "cell_type": "code",
   "execution_count": null,
   "metadata": {
    "colab": {
     "base_uri": "https://localhost:8080/"
    },
    "executionInfo": {
     "elapsed": 863,
     "status": "ok",
     "timestamp": 1604782533594,
     "user": {
      "displayName": "paulo cesar da rocha correa",
      "photoUrl": "https://lh3.googleusercontent.com/a-/AOh14GhfjqjKkqi19BFvTCJLd1b2SJHjv7CE8jW8VKcHvg=s64",
      "userId": "02019520615414855207"
     },
     "user_tz": 240
    },
    "id": "2XbtvPEDelEB",
    "outputId": "ebc48a8d-578a-44b7-df97-d3648dccc61c"
   },
   "outputs": [],
   "source": [
    "P = 4/4\n",
    "R = 4/4\n",
    "f2p = (2*P*R)/(P+R)\n",
    "f2p"
   ]
  },
  {
   "cell_type": "code",
   "execution_count": null,
   "metadata": {
    "id": "iTaSNLjJfify"
   },
   "outputs": [],
   "source": [
    "print('Conhe\\u00E7o e aprecio comida \\u00E1rabe desde muito pequena. Minha av\\u00F3 cozinhava divinamente. \\nRaras vezes degustei fora de casa sabores t\\u00E3o marcantes e harm\\u00F4nicos! O ambiente \\u00E9 familiar e iluminado. O novo espa\\u00E7o ficou incr\\u00EDvel. Frequento e Recomendo! \\u2764\\uFE0F\\nParab\\u00E9ns.  \\uD83D\\uDC4F\\uD83C\\uDFFB\\uD83D\\uDC4F\\uD83C\\uDFFB\\uD83D\\uDC4F\\uD83C\\uDFFB'.encode('utf-16', 'surrogatepass').decode('utf-16'))\n",
    "print(type('Conhe\\u00E7o e aprecio comida \\u00E1rabe desde muito pequena. Minha av\\u00F3 cozinhava divinamente. \\nRaras veze'))\n",
    "# import nltk\n",
    "# nltk.download('punkt')\n",
    "# from textblob import TextBlob\n",
    "#text = 'Conhe\\u00E7o e aprecio comida \\u00E1rabe desde muito pequena. Minha av\\u00F3 cozinhava divinamente. \\nRaras vezes degustei fora de casa sabores t\\u00E3o marcantes e harm\\u00F4nicos! O ambiente \\u00E9 familiar e iluminado. O novo espa\\u00E7o ficou incr\\u00EDvel. Frequento e Recomendo! \\u2764\\uFE0F\\nParab\\u00E9ns.  \\uD83D\\uDC4F\\uD83C\\uDFFB\\uD83D\\uDC4F\\uD83C\\uDFFB\\uD83D\\uDC4F\\uD83C\\uDFFB \\nFoi muito ruim demais! \\n Não irei voltar mais neste lugar'.encode('utf-16', 'surrogatepass').decode('utf-16')\n",
    "text = 'Sushiloko j\\u00E1 foi melhor e mais barato. claro que continua bom. mas os pre\\u00E7os dos combos j\\u00E1 n\\u00E3o est\\u00E3o mais em conta'.encode('utf-16', 'surrogatepass').decode('utf-16')\n",
    "comentario_blob = TextBlob(text)\n",
    "comentario_blob_us = comentario_blob.translate(to='us')\n",
    "\n",
    "for sentence_br, sentence in zip(comentario_blob.sentences, comentario_blob_us.sentences):\n",
    "    print(sentence_br, ':', sentence.sentiment.subjectivity)"
   ]
  },
  {
   "cell_type": "code",
   "execution_count": null,
   "metadata": {},
   "outputs": [],
   "source": [
    "for sentence_br, sentence in zip(comentario_blob.sentences, comentario_blob_us.sentences):\n",
    "    print(sentence_br, ':', sentence.sentiment.polarity)"
   ]
  },
  {
   "cell_type": "code",
   "execution_count": null,
   "metadata": {},
   "outputs": [],
   "source": []
  }
 ],
 "metadata": {
  "colab": {
   "collapsed_sections": [],
   "name": "piloto-2.ipynb",
   "provenance": []
  },
  "kernelspec": {
   "display_name": "Python 3.7.6 64-bit ('base': conda)",
   "language": "python",
   "name": "python37664bitbaseconda3bccb8464e544e1caf96114d9ca87004"
  },
  "language_info": {
   "codemirror_mode": {
    "name": "ipython",
    "version": 3
   },
   "file_extension": ".py",
   "mimetype": "text/x-python",
   "name": "python",
   "nbconvert_exporter": "python",
   "pygments_lexer": "ipython3",
   "version": "3.7.6"
  }
 },
 "nbformat": 4,
 "nbformat_minor": 1
}
